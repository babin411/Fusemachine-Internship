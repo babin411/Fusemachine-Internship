{
 "cells": [
  {
   "cell_type": "code",
   "execution_count": 1,
   "id": "0e0e4b50",
   "metadata": {},
   "outputs": [],
   "source": [
    "import os"
   ]
  },
  {
   "cell_type": "code",
   "execution_count": 2,
   "id": "06f9e953",
   "metadata": {},
   "outputs": [],
   "source": [
    "import numpy as np\n",
    "import pandas as pd\n",
    "import matplotlib.pyplot as plt\n",
    "import seaborn as sns\n",
    "\n",
    "%matplotlib inline"
   ]
  },
  {
   "cell_type": "code",
   "execution_count": 3,
   "id": "8a8cb05a",
   "metadata": {},
   "outputs": [],
   "source": [
    "import missingno as msno"
   ]
  },
  {
   "cell_type": "code",
   "execution_count": 4,
   "id": "234d19c0",
   "metadata": {},
   "outputs": [],
   "source": [
    "import os"
   ]
  },
  {
   "cell_type": "code",
   "execution_count": 5,
   "id": "4ec31b86",
   "metadata": {},
   "outputs": [
    {
     "data": {
      "text/plain": [
       "'E:\\\\PycharmProjects\\\\Practice Python\\\\KN'"
      ]
     },
     "execution_count": 5,
     "metadata": {},
     "output_type": "execute_result"
    }
   ],
   "source": [
    "os.getcwd()"
   ]
  },
  {
   "cell_type": "code",
   "execution_count": 6,
   "id": "d407b3b7",
   "metadata": {},
   "outputs": [
    {
     "data": {
      "text/html": [
       "<div>\n",
       "<style scoped>\n",
       "    .dataframe tbody tr th:only-of-type {\n",
       "        vertical-align: middle;\n",
       "    }\n",
       "\n",
       "    .dataframe tbody tr th {\n",
       "        vertical-align: top;\n",
       "    }\n",
       "\n",
       "    .dataframe thead th {\n",
       "        text-align: right;\n",
       "    }\n",
       "</style>\n",
       "<table border=\"1\" class=\"dataframe\">\n",
       "  <thead>\n",
       "    <tr style=\"text-align: right;\">\n",
       "      <th></th>\n",
       "      <th>pregnancies</th>\n",
       "      <th>glucose</th>\n",
       "      <th>diastolic</th>\n",
       "      <th>triceps</th>\n",
       "      <th>insulin</th>\n",
       "      <th>bmi</th>\n",
       "      <th>dpf</th>\n",
       "      <th>age</th>\n",
       "      <th>diabetes</th>\n",
       "    </tr>\n",
       "  </thead>\n",
       "  <tbody>\n",
       "    <tr>\n",
       "      <th>0</th>\n",
       "      <td>6</td>\n",
       "      <td>148</td>\n",
       "      <td>72</td>\n",
       "      <td>35</td>\n",
       "      <td>0</td>\n",
       "      <td>33.6</td>\n",
       "      <td>0.627</td>\n",
       "      <td>50</td>\n",
       "      <td>1</td>\n",
       "    </tr>\n",
       "    <tr>\n",
       "      <th>1</th>\n",
       "      <td>1</td>\n",
       "      <td>85</td>\n",
       "      <td>66</td>\n",
       "      <td>29</td>\n",
       "      <td>0</td>\n",
       "      <td>26.6</td>\n",
       "      <td>0.351</td>\n",
       "      <td>31</td>\n",
       "      <td>0</td>\n",
       "    </tr>\n",
       "    <tr>\n",
       "      <th>2</th>\n",
       "      <td>8</td>\n",
       "      <td>183</td>\n",
       "      <td>64</td>\n",
       "      <td>0</td>\n",
       "      <td>0</td>\n",
       "      <td>23.3</td>\n",
       "      <td>0.672</td>\n",
       "      <td>32</td>\n",
       "      <td>1</td>\n",
       "    </tr>\n",
       "    <tr>\n",
       "      <th>3</th>\n",
       "      <td>1</td>\n",
       "      <td>89</td>\n",
       "      <td>66</td>\n",
       "      <td>23</td>\n",
       "      <td>94</td>\n",
       "      <td>28.1</td>\n",
       "      <td>0.167</td>\n",
       "      <td>21</td>\n",
       "      <td>0</td>\n",
       "    </tr>\n",
       "    <tr>\n",
       "      <th>4</th>\n",
       "      <td>0</td>\n",
       "      <td>137</td>\n",
       "      <td>40</td>\n",
       "      <td>35</td>\n",
       "      <td>168</td>\n",
       "      <td>43.1</td>\n",
       "      <td>2.288</td>\n",
       "      <td>33</td>\n",
       "      <td>1</td>\n",
       "    </tr>\n",
       "    <tr>\n",
       "      <th>...</th>\n",
       "      <td>...</td>\n",
       "      <td>...</td>\n",
       "      <td>...</td>\n",
       "      <td>...</td>\n",
       "      <td>...</td>\n",
       "      <td>...</td>\n",
       "      <td>...</td>\n",
       "      <td>...</td>\n",
       "      <td>...</td>\n",
       "    </tr>\n",
       "    <tr>\n",
       "      <th>763</th>\n",
       "      <td>10</td>\n",
       "      <td>101</td>\n",
       "      <td>76</td>\n",
       "      <td>48</td>\n",
       "      <td>180</td>\n",
       "      <td>32.9</td>\n",
       "      <td>0.171</td>\n",
       "      <td>63</td>\n",
       "      <td>0</td>\n",
       "    </tr>\n",
       "    <tr>\n",
       "      <th>764</th>\n",
       "      <td>2</td>\n",
       "      <td>122</td>\n",
       "      <td>70</td>\n",
       "      <td>27</td>\n",
       "      <td>0</td>\n",
       "      <td>36.8</td>\n",
       "      <td>0.340</td>\n",
       "      <td>27</td>\n",
       "      <td>0</td>\n",
       "    </tr>\n",
       "    <tr>\n",
       "      <th>765</th>\n",
       "      <td>5</td>\n",
       "      <td>121</td>\n",
       "      <td>72</td>\n",
       "      <td>23</td>\n",
       "      <td>112</td>\n",
       "      <td>26.2</td>\n",
       "      <td>0.245</td>\n",
       "      <td>30</td>\n",
       "      <td>0</td>\n",
       "    </tr>\n",
       "    <tr>\n",
       "      <th>766</th>\n",
       "      <td>1</td>\n",
       "      <td>126</td>\n",
       "      <td>60</td>\n",
       "      <td>0</td>\n",
       "      <td>0</td>\n",
       "      <td>30.1</td>\n",
       "      <td>0.349</td>\n",
       "      <td>47</td>\n",
       "      <td>1</td>\n",
       "    </tr>\n",
       "    <tr>\n",
       "      <th>767</th>\n",
       "      <td>1</td>\n",
       "      <td>93</td>\n",
       "      <td>70</td>\n",
       "      <td>31</td>\n",
       "      <td>0</td>\n",
       "      <td>30.4</td>\n",
       "      <td>0.315</td>\n",
       "      <td>23</td>\n",
       "      <td>0</td>\n",
       "    </tr>\n",
       "  </tbody>\n",
       "</table>\n",
       "<p>768 rows × 9 columns</p>\n",
       "</div>"
      ],
      "text/plain": [
       "     pregnancies  glucose  diastolic  triceps  insulin   bmi    dpf  age  \\\n",
       "0              6      148         72       35        0  33.6  0.627   50   \n",
       "1              1       85         66       29        0  26.6  0.351   31   \n",
       "2              8      183         64        0        0  23.3  0.672   32   \n",
       "3              1       89         66       23       94  28.1  0.167   21   \n",
       "4              0      137         40       35      168  43.1  2.288   33   \n",
       "..           ...      ...        ...      ...      ...   ...    ...  ...   \n",
       "763           10      101         76       48      180  32.9  0.171   63   \n",
       "764            2      122         70       27        0  36.8  0.340   27   \n",
       "765            5      121         72       23      112  26.2  0.245   30   \n",
       "766            1      126         60        0        0  30.1  0.349   47   \n",
       "767            1       93         70       31        0  30.4  0.315   23   \n",
       "\n",
       "     diabetes  \n",
       "0           1  \n",
       "1           0  \n",
       "2           1  \n",
       "3           0  \n",
       "4           1  \n",
       "..        ...  \n",
       "763         0  \n",
       "764         0  \n",
       "765         0  \n",
       "766         1  \n",
       "767         0  \n",
       "\n",
       "[768 rows x 9 columns]"
      ]
     },
     "execution_count": 6,
     "metadata": {},
     "output_type": "execute_result"
    }
   ],
   "source": [
    "df = pd.read_csv('pima_diabetes.csv')\n",
    "df"
   ]
  },
  {
   "cell_type": "code",
   "execution_count": 7,
   "id": "92f1f964",
   "metadata": {},
   "outputs": [
    {
     "name": "stdout",
     "output_type": "stream",
     "text": [
      "<class 'pandas.core.frame.DataFrame'>\n",
      "RangeIndex: 768 entries, 0 to 767\n",
      "Data columns (total 9 columns):\n",
      " #   Column       Non-Null Count  Dtype  \n",
      "---  ------       --------------  -----  \n",
      " 0   pregnancies  768 non-null    int64  \n",
      " 1   glucose      768 non-null    int64  \n",
      " 2   diastolic    768 non-null    int64  \n",
      " 3   triceps      768 non-null    int64  \n",
      " 4   insulin      768 non-null    int64  \n",
      " 5   bmi          768 non-null    float64\n",
      " 6   dpf          768 non-null    float64\n",
      " 7   age          768 non-null    int64  \n",
      " 8   diabetes     768 non-null    int64  \n",
      "dtypes: float64(2), int64(7)\n",
      "memory usage: 54.1 KB\n"
     ]
    }
   ],
   "source": [
    "df.info()"
   ]
  },
  {
   "cell_type": "code",
   "execution_count": 8,
   "id": "b83d7205",
   "metadata": {},
   "outputs": [
    {
     "data": {
      "text/plain": [
       "<AxesSubplot:>"
      ]
     },
     "execution_count": 8,
     "metadata": {},
     "output_type": "execute_result"
    },
    {
     "data": {
      "image/png": "[encoded data removed]",
      "text/plain": [
       "<Figure size 1728x720 with 3 Axes>"
      ]
     },
     "metadata": {
      "needs_background": "light"
     },
     "output_type": "display_data"
    }
   ],
   "source": [
    "msno.bar(df)"
   ]
  },
  {
   "cell_type": "markdown",
   "id": "71d0cb42",
   "metadata": {},
   "source": [
    "From the above visualization for the null values, we can see that there are no null values present."
   ]
  },
  {
   "cell_type": "code",
   "execution_count": 9,
   "id": "9dfdf8fa",
   "metadata": {},
   "outputs": [
    {
     "data": {
      "text/html": [
       "<div>\n",
       "<style scoped>\n",
       "    .dataframe tbody tr th:only-of-type {\n",
       "        vertical-align: middle;\n",
       "    }\n",
       "\n",
       "    .dataframe tbody tr th {\n",
       "        vertical-align: top;\n",
       "    }\n",
       "\n",
       "    .dataframe thead th {\n",
       "        text-align: right;\n",
       "    }\n",
       "</style>\n",
       "<table border=\"1\" class=\"dataframe\">\n",
       "  <thead>\n",
       "    <tr style=\"text-align: right;\">\n",
       "      <th></th>\n",
       "      <th>pregnancies</th>\n",
       "      <th>glucose</th>\n",
       "      <th>diastolic</th>\n",
       "      <th>triceps</th>\n",
       "      <th>insulin</th>\n",
       "      <th>bmi</th>\n",
       "      <th>dpf</th>\n",
       "      <th>age</th>\n",
       "      <th>diabetes</th>\n",
       "    </tr>\n",
       "  </thead>\n",
       "  <tbody>\n",
       "    <tr>\n",
       "      <th>count</th>\n",
       "      <td>768.000000</td>\n",
       "      <td>768.000000</td>\n",
       "      <td>768.000000</td>\n",
       "      <td>768.000000</td>\n",
       "      <td>768.000000</td>\n",
       "      <td>768.000000</td>\n",
       "      <td>768.000000</td>\n",
       "      <td>768.000000</td>\n",
       "      <td>768.000000</td>\n",
       "    </tr>\n",
       "    <tr>\n",
       "      <th>mean</th>\n",
       "      <td>3.845052</td>\n",
       "      <td>120.894531</td>\n",
       "      <td>69.105469</td>\n",
       "      <td>20.536458</td>\n",
       "      <td>79.799479</td>\n",
       "      <td>31.992578</td>\n",
       "      <td>0.471876</td>\n",
       "      <td>33.240885</td>\n",
       "      <td>0.348958</td>\n",
       "    </tr>\n",
       "    <tr>\n",
       "      <th>std</th>\n",
       "      <td>3.369578</td>\n",
       "      <td>31.972618</td>\n",
       "      <td>19.355807</td>\n",
       "      <td>15.952218</td>\n",
       "      <td>115.244002</td>\n",
       "      <td>7.884160</td>\n",
       "      <td>0.331329</td>\n",
       "      <td>11.760232</td>\n",
       "      <td>0.476951</td>\n",
       "    </tr>\n",
       "    <tr>\n",
       "      <th>min</th>\n",
       "      <td>0.000000</td>\n",
       "      <td>0.000000</td>\n",
       "      <td>0.000000</td>\n",
       "      <td>0.000000</td>\n",
       "      <td>0.000000</td>\n",
       "      <td>0.000000</td>\n",
       "      <td>0.078000</td>\n",
       "      <td>21.000000</td>\n",
       "      <td>0.000000</td>\n",
       "    </tr>\n",
       "    <tr>\n",
       "      <th>25%</th>\n",
       "      <td>1.000000</td>\n",
       "      <td>99.000000</td>\n",
       "      <td>62.000000</td>\n",
       "      <td>0.000000</td>\n",
       "      <td>0.000000</td>\n",
       "      <td>27.300000</td>\n",
       "      <td>0.243750</td>\n",
       "      <td>24.000000</td>\n",
       "      <td>0.000000</td>\n",
       "    </tr>\n",
       "    <tr>\n",
       "      <th>50%</th>\n",
       "      <td>3.000000</td>\n",
       "      <td>117.000000</td>\n",
       "      <td>72.000000</td>\n",
       "      <td>23.000000</td>\n",
       "      <td>30.500000</td>\n",
       "      <td>32.000000</td>\n",
       "      <td>0.372500</td>\n",
       "      <td>29.000000</td>\n",
       "      <td>0.000000</td>\n",
       "    </tr>\n",
       "    <tr>\n",
       "      <th>75%</th>\n",
       "      <td>6.000000</td>\n",
       "      <td>140.250000</td>\n",
       "      <td>80.000000</td>\n",
       "      <td>32.000000</td>\n",
       "      <td>127.250000</td>\n",
       "      <td>36.600000</td>\n",
       "      <td>0.626250</td>\n",
       "      <td>41.000000</td>\n",
       "      <td>1.000000</td>\n",
       "    </tr>\n",
       "    <tr>\n",
       "      <th>max</th>\n",
       "      <td>17.000000</td>\n",
       "      <td>199.000000</td>\n",
       "      <td>122.000000</td>\n",
       "      <td>99.000000</td>\n",
       "      <td>846.000000</td>\n",
       "      <td>67.100000</td>\n",
       "      <td>2.420000</td>\n",
       "      <td>81.000000</td>\n",
       "      <td>1.000000</td>\n",
       "    </tr>\n",
       "  </tbody>\n",
       "</table>\n",
       "</div>"
      ],
      "text/plain": [
       "       pregnancies     glucose   diastolic     triceps     insulin  \\\n",
       "count   768.000000  768.000000  768.000000  768.000000  768.000000   \n",
       "mean      3.845052  120.894531   69.105469   20.536458   79.799479   \n",
       "std       3.369578   31.972618   19.355807   15.952218  115.244002   \n",
       "min       0.000000    0.000000    0.000000    0.000000    0.000000   \n",
       "25%       1.000000   99.000000   62.000000    0.000000    0.000000   \n",
       "50%       3.000000  117.000000   72.000000   23.000000   30.500000   \n",
       "75%       6.000000  140.250000   80.000000   32.000000  127.250000   \n",
       "max      17.000000  199.000000  122.000000   99.000000  846.000000   \n",
       "\n",
       "              bmi         dpf         age    diabetes  \n",
       "count  768.000000  768.000000  768.000000  768.000000  \n",
       "mean    31.992578    0.471876   33.240885    0.348958  \n",
       "std      7.884160    0.331329   11.760232    0.476951  \n",
       "min      0.000000    0.078000   21.000000    0.000000  \n",
       "25%     27.300000    0.243750   24.000000    0.000000  \n",
       "50%     32.000000    0.372500   29.000000    0.000000  \n",
       "75%     36.600000    0.626250   41.000000    1.000000  \n",
       "max     67.100000    2.420000   81.000000    1.000000  "
      ]
     },
     "execution_count": 9,
     "metadata": {},
     "output_type": "execute_result"
    }
   ],
   "source": [
    "df.describe()"
   ]
  },
  {
   "cell_type": "markdown",
   "id": "2fef3e87",
   "metadata": {},
   "source": [
    "But from the above statistics, it is clear that there are certain number of missing values and are just represented by zero. For example from common knowledge, it can be known that the bmi, glucose level and diastolic blood pressure cannot be zero. Hence, replacing all the 0 by nan"
   ]
  },
  {
   "cell_type": "code",
   "execution_count": 10,
   "id": "7d11def0",
   "metadata": {},
   "outputs": [],
   "source": [
    "df.insulin.replace(0,np.nan,inplace=True)\n",
    "df.triceps.replace(0,np.nan,inplace=True)\n",
    "df.bmi.replace(0,np.nan,inplace=True)"
   ]
  },
  {
   "cell_type": "code",
   "execution_count": 11,
   "id": "a1d8d39e",
   "metadata": {},
   "outputs": [],
   "source": [
    "df.glucose.replace(0,np.nan,inplace=True)\n",
    "df.diastolic.replace(0,np.nan,inplace=True)"
   ]
  },
  {
   "cell_type": "code",
   "execution_count": 12,
   "id": "2626c781",
   "metadata": {},
   "outputs": [
    {
     "data": {
      "text/html": [
       "<div>\n",
       "<style scoped>\n",
       "    .dataframe tbody tr th:only-of-type {\n",
       "        vertical-align: middle;\n",
       "    }\n",
       "\n",
       "    .dataframe tbody tr th {\n",
       "        vertical-align: top;\n",
       "    }\n",
       "\n",
       "    .dataframe thead th {\n",
       "        text-align: right;\n",
       "    }\n",
       "</style>\n",
       "<table border=\"1\" class=\"dataframe\">\n",
       "  <thead>\n",
       "    <tr style=\"text-align: right;\">\n",
       "      <th></th>\n",
       "      <th>pregnancies</th>\n",
       "      <th>glucose</th>\n",
       "      <th>diastolic</th>\n",
       "      <th>triceps</th>\n",
       "      <th>insulin</th>\n",
       "      <th>bmi</th>\n",
       "      <th>dpf</th>\n",
       "      <th>age</th>\n",
       "      <th>diabetes</th>\n",
       "    </tr>\n",
       "  </thead>\n",
       "  <tbody>\n",
       "    <tr>\n",
       "      <th>count</th>\n",
       "      <td>768.000000</td>\n",
       "      <td>763.000000</td>\n",
       "      <td>733.000000</td>\n",
       "      <td>541.000000</td>\n",
       "      <td>394.000000</td>\n",
       "      <td>757.000000</td>\n",
       "      <td>768.000000</td>\n",
       "      <td>768.000000</td>\n",
       "      <td>768.000000</td>\n",
       "    </tr>\n",
       "    <tr>\n",
       "      <th>mean</th>\n",
       "      <td>3.845052</td>\n",
       "      <td>121.686763</td>\n",
       "      <td>72.405184</td>\n",
       "      <td>29.153420</td>\n",
       "      <td>155.548223</td>\n",
       "      <td>32.457464</td>\n",
       "      <td>0.471876</td>\n",
       "      <td>33.240885</td>\n",
       "      <td>0.348958</td>\n",
       "    </tr>\n",
       "    <tr>\n",
       "      <th>std</th>\n",
       "      <td>3.369578</td>\n",
       "      <td>30.535641</td>\n",
       "      <td>12.382158</td>\n",
       "      <td>10.476982</td>\n",
       "      <td>118.775855</td>\n",
       "      <td>6.924988</td>\n",
       "      <td>0.331329</td>\n",
       "      <td>11.760232</td>\n",
       "      <td>0.476951</td>\n",
       "    </tr>\n",
       "    <tr>\n",
       "      <th>min</th>\n",
       "      <td>0.000000</td>\n",
       "      <td>44.000000</td>\n",
       "      <td>24.000000</td>\n",
       "      <td>7.000000</td>\n",
       "      <td>14.000000</td>\n",
       "      <td>18.200000</td>\n",
       "      <td>0.078000</td>\n",
       "      <td>21.000000</td>\n",
       "      <td>0.000000</td>\n",
       "    </tr>\n",
       "    <tr>\n",
       "      <th>25%</th>\n",
       "      <td>1.000000</td>\n",
       "      <td>99.000000</td>\n",
       "      <td>64.000000</td>\n",
       "      <td>22.000000</td>\n",
       "      <td>76.250000</td>\n",
       "      <td>27.500000</td>\n",
       "      <td>0.243750</td>\n",
       "      <td>24.000000</td>\n",
       "      <td>0.000000</td>\n",
       "    </tr>\n",
       "    <tr>\n",
       "      <th>50%</th>\n",
       "      <td>3.000000</td>\n",
       "      <td>117.000000</td>\n",
       "      <td>72.000000</td>\n",
       "      <td>29.000000</td>\n",
       "      <td>125.000000</td>\n",
       "      <td>32.300000</td>\n",
       "      <td>0.372500</td>\n",
       "      <td>29.000000</td>\n",
       "      <td>0.000000</td>\n",
       "    </tr>\n",
       "    <tr>\n",
       "      <th>75%</th>\n",
       "      <td>6.000000</td>\n",
       "      <td>141.000000</td>\n",
       "      <td>80.000000</td>\n",
       "      <td>36.000000</td>\n",
       "      <td>190.000000</td>\n",
       "      <td>36.600000</td>\n",
       "      <td>0.626250</td>\n",
       "      <td>41.000000</td>\n",
       "      <td>1.000000</td>\n",
       "    </tr>\n",
       "    <tr>\n",
       "      <th>max</th>\n",
       "      <td>17.000000</td>\n",
       "      <td>199.000000</td>\n",
       "      <td>122.000000</td>\n",
       "      <td>99.000000</td>\n",
       "      <td>846.000000</td>\n",
       "      <td>67.100000</td>\n",
       "      <td>2.420000</td>\n",
       "      <td>81.000000</td>\n",
       "      <td>1.000000</td>\n",
       "    </tr>\n",
       "  </tbody>\n",
       "</table>\n",
       "</div>"
      ],
      "text/plain": [
       "       pregnancies     glucose   diastolic     triceps     insulin  \\\n",
       "count   768.000000  763.000000  733.000000  541.000000  394.000000   \n",
       "mean      3.845052  121.686763   72.405184   29.153420  155.548223   \n",
       "std       3.369578   30.535641   12.382158   10.476982  118.775855   \n",
       "min       0.000000   44.000000   24.000000    7.000000   14.000000   \n",
       "25%       1.000000   99.000000   64.000000   22.000000   76.250000   \n",
       "50%       3.000000  117.000000   72.000000   29.000000  125.000000   \n",
       "75%       6.000000  141.000000   80.000000   36.000000  190.000000   \n",
       "max      17.000000  199.000000  122.000000   99.000000  846.000000   \n",
       "\n",
       "              bmi         dpf         age    diabetes  \n",
       "count  757.000000  768.000000  768.000000  768.000000  \n",
       "mean    32.457464    0.471876   33.240885    0.348958  \n",
       "std      6.924988    0.331329   11.760232    0.476951  \n",
       "min     18.200000    0.078000   21.000000    0.000000  \n",
       "25%     27.500000    0.243750   24.000000    0.000000  \n",
       "50%     32.300000    0.372500   29.000000    0.000000  \n",
       "75%     36.600000    0.626250   41.000000    1.000000  \n",
       "max     67.100000    2.420000   81.000000    1.000000  "
      ]
     },
     "execution_count": 12,
     "metadata": {},
     "output_type": "execute_result"
    }
   ],
   "source": [
    "df.describe()"
   ]
  },
  {
   "cell_type": "code",
   "execution_count": 13,
   "id": "58a33824",
   "metadata": {},
   "outputs": [
    {
     "data": {
      "text/plain": [
       "<AxesSubplot:>"
      ]
     },
     "execution_count": 13,
     "metadata": {},
     "output_type": "execute_result"
    },
    {
     "data": {
      "image/png": "[encoded data removed]",
      "text/plain": [
       "<Figure size 1728x720 with 3 Axes>"
      ]
     },
     "metadata": {
      "needs_background": "light"
     },
     "output_type": "display_data"
    }
   ],
   "source": [
    "msno.bar(df)"
   ]
  },
  {
   "cell_type": "code",
   "execution_count": 14,
   "id": "f12abf59",
   "metadata": {},
   "outputs": [
    {
     "data": {
      "text/plain": [
       "<AxesSubplot:>"
      ]
     },
     "execution_count": 14,
     "metadata": {},
     "output_type": "execute_result"
    },
    {
     "data": {
      "image/png": "[encoded data removed]",
      "text/plain": [
       "<Figure size 1800x720 with 2 Axes>"
      ]
     },
     "metadata": {
      "needs_background": "light"
     },
     "output_type": "display_data"
    }
   ],
   "source": [
    "msno.matrix(df)"
   ]
  },
  {
   "cell_type": "code",
   "execution_count": 15,
   "id": "71eb5f59",
   "metadata": {},
   "outputs": [
    {
     "data": {
      "text/plain": [
       "<AxesSubplot:xlabel='diabetes', ylabel='count'>"
      ]
     },
     "execution_count": 15,
     "metadata": {},
     "output_type": "execute_result"
    },
    {
     "data": {
      "image/png": "[encoded data removed]",
      "text/plain": [
       "<Figure size 432x288 with 1 Axes>"
      ]
     },
     "metadata": {
      "needs_background": "light"
     },
     "output_type": "display_data"
    }
   ],
   "source": [
    "sns.countplot(x='diabetes',data=df)"
   ]
  },
  {
   "cell_type": "markdown",
   "id": "6171f09a",
   "metadata": {},
   "source": [
    "# Logistic Regression"
   ]
  },
  {
   "cell_type": "markdown",
   "id": "64623ed1",
   "metadata": {},
   "source": [
    "Logistic regression is the appropriate regression analysis to conduct when the dependent variable is dichotomous (binary).  Like all regression analyses, the logistic regression is a predictive analysis.  Logistic regression is used to describe data and to explain the relationship between one dependent binary variable and one or more nominal, ordinal, interval or ratio-level independent variables."
   ]
  },
  {
   "cell_type": "markdown",
   "id": "f81295e7",
   "metadata": {},
   "source": [
    "<b> Note: Logistic regression, by default, is limited to two-class classification problems. Some extensions like one-vs-rest can allow logistic regression to be used for multi-class classification problems, although they require that the classification problem first be transformed into multiple binary classification problems. </b>"
   ]
  },
  {
   "cell_type": "markdown",
   "id": "7903bcc7",
   "metadata": {},
   "source": [
    "#### Asuumptions Made by Logistic Regression\n",
    "- The dependent variable should be dichotomous in nature (e.g., presence vs absent).\n",
    "- There should be no outliers in the data.\n",
    "- There should be no high correlations among the independent/predictor variables. "
   ]
  },
  {
   "cell_type": "code",
   "execution_count": 16,
   "id": "182b2870",
   "metadata": {},
   "outputs": [
    {
     "data": {
      "text/plain": [
       "<AxesSubplot:>"
      ]
     },
     "execution_count": 16,
     "metadata": {},
     "output_type": "execute_result"
    },
    {
     "data": {
      "image/png": "[encoded data removed]",
      "text/plain": [
       "<Figure size 1080x720 with 2 Axes>"
      ]
     },
     "metadata": {
      "needs_background": "light"
     },
     "output_type": "display_data"
    }
   ],
   "source": [
    "plt.figure(figsize=(15,10))\n",
    "sns.heatmap(df.corr(),annot=True,fmt='.2g')"
   ]
  },
  {
   "cell_type": "code",
   "execution_count": 17,
   "id": "eca7cb60",
   "metadata": {},
   "outputs": [
    {
     "name": "stdout",
     "output_type": "stream",
     "text": [
      "Parent Key: pregnancies\n",
      "Child Key: pregnancies\n",
      "Value: 1.0\n",
      "-------\n",
      "Parent Key: glucose\n",
      "Child Key: glucose\n",
      "Value: 1.0\n",
      "-------\n",
      "Parent Key: diastolic\n",
      "Child Key: diastolic\n",
      "Value: 1.0\n",
      "-------\n",
      "Parent Key: triceps\n",
      "Child Key: triceps\n",
      "Value: 1.0\n",
      "-------\n",
      "Parent Key: insulin\n",
      "Child Key: insulin\n",
      "Value: 1.0\n",
      "-------\n",
      "Parent Key: bmi\n",
      "Child Key: bmi\n",
      "Value: 1.0\n",
      "-------\n",
      "Parent Key: dpf\n",
      "Child Key: dpf\n",
      "Value: 1.0\n",
      "-------\n",
      "Parent Key: age\n",
      "Child Key: age\n",
      "Value: 1.0\n",
      "-------\n",
      "Parent Key: diabetes\n",
      "Child Key: diabetes\n",
      "Value: 1.0\n",
      "-------\n"
     ]
    }
   ],
   "source": [
    "for parent_key,parent_values in df.corr().to_dict().items():\n",
    "    for child_key,child_values in parent_values.items():\n",
    "        if (child_values > 0.9):\n",
    "            print(f'Parent Key: {parent_key}')\n",
    "            print(f'Child Key: {child_key}')\n",
    "            print(f'Value: {child_values}')\n",
    "            print('-------')"
   ]
  },
  {
   "cell_type": "markdown",
   "id": "79e8374b",
   "metadata": {},
   "source": [
    "Here, we can see that there are no highly correlated features."
   ]
  },
  {
   "cell_type": "markdown",
   "id": "b65afe32",
   "metadata": {},
   "source": [
    "### Imputing Missing Data with SimpleImputer and using Logistic Regression"
   ]
  },
  {
   "cell_type": "code",
   "execution_count": 18,
   "id": "250a01c0",
   "metadata": {},
   "outputs": [],
   "source": [
    "X = df.drop(['diabetes'],axis=1)\n",
    "y = df['diabetes']"
   ]
  },
  {
   "cell_type": "code",
   "execution_count": 19,
   "id": "083606c1",
   "metadata": {},
   "outputs": [],
   "source": [
    "from sklearn.linear_model import LogisticRegression"
   ]
  },
  {
   "cell_type": "code",
   "execution_count": 20,
   "id": "5290c73c",
   "metadata": {},
   "outputs": [],
   "source": [
    "from sklearn.model_selection import train_test_split"
   ]
  },
  {
   "cell_type": "code",
   "execution_count": 21,
   "id": "0701ae45",
   "metadata": {},
   "outputs": [
    {
     "name": "stdout",
     "output_type": "stream",
     "text": [
      "Score: 0.7359307359307359\n"
     ]
    },
    {
     "name": "stderr",
     "output_type": "stream",
     "text": [
      "C:\\Users\\Predator\\Envs\\kn_ml\\lib\\site-packages\\sklearn\\linear_model\\_logistic.py:763: ConvergenceWarning: lbfgs failed to converge (status=1):\n",
      "STOP: TOTAL NO. of ITERATIONS REACHED LIMIT.\n",
      "\n",
      "Increase the number of iterations (max_iter) or scale the data as shown in:\n",
      "    https://scikit-learn.org/stable/modules/preprocessing.html\n",
      "Please also refer to the documentation for alternative solver options:\n",
      "    https://scikit-learn.org/stable/modules/linear_model.html#logistic-regression\n",
      "  n_iter_i = _check_optimize_result(\n"
     ]
    }
   ],
   "source": [
    "from sklearn.pipeline import Pipeline\n",
    "from sklearn.impute import SimpleImputer\n",
    "\n",
    "imp = SimpleImputer(missing_values=np.nan, strategy='mean')\n",
    "logreg = LogisticRegression()\n",
    "steps = [('simple_imputer',imp),\n",
    "        ('logistic_regression', logreg)]\n",
    "\n",
    "pipeline = Pipeline(steps)\n",
    "#We use stratify parameter to preserve the proportion of the target\n",
    "#variable as in the original dataset, in the train and test datasets as well.\n",
    "X_train,X_test,y_train,y_test = train_test_split(X,y,test_size=0.3,\n",
    "                                                 random_state=42,\n",
    "                                                 stratify=y)\n",
    "\n",
    "pipeline.fit(X_train,y_train)\n",
    "predictions = pipeline.predict(X_test)\n",
    "print(f'Score: {pipeline.score(X_test,y_test)}')"
   ]
  },
  {
   "cell_type": "code",
   "execution_count": 22,
   "id": "8a7d90c4",
   "metadata": {},
   "outputs": [
    {
     "data": {
      "text/plain": [
       "array([0, 0, 1, 1, 0, 0, 1, 0, 0, 0, 0, 0, 0, 0, 1, 1, 1, 0, 1, 0, 0, 0,\n",
       "       0, 0, 1, 0, 0, 0, 0, 0, 1, 0, 0, 0, 0, 1, 0, 1, 0, 0, 0, 1, 0, 0,\n",
       "       0, 1, 0, 1, 0, 0, 0, 0, 1, 0, 1, 0, 0, 1, 0, 0, 0, 0, 0, 0, 0, 0,\n",
       "       0, 0, 0, 0, 1, 1, 0, 0, 0, 1, 0, 0, 0, 0, 0, 0, 0, 0, 0, 1, 0, 1,\n",
       "       1, 0, 1, 1, 0, 1, 0, 0, 0, 0, 0, 0, 0, 0, 0, 0, 1, 0, 0, 1, 0, 1,\n",
       "       0, 1, 0, 1, 1, 0, 0, 0, 0, 1, 0, 0, 1, 0, 0, 0, 1, 0, 1, 0, 0, 0,\n",
       "       0, 0, 0, 1, 0, 0, 0, 1, 0, 0, 0, 0, 1, 1, 0, 0, 0, 0, 1, 0, 0, 1,\n",
       "       0, 0, 0, 1, 0, 0, 1, 0, 0, 1, 0, 0, 0, 0, 1, 0, 0, 0, 0, 0, 0, 1,\n",
       "       0, 0, 0, 0, 1, 1, 0, 1, 1, 0, 0, 1, 0, 0, 0, 0, 0, 0, 0, 1, 1, 1,\n",
       "       0, 0, 0, 0, 0, 0, 0, 1, 0, 0, 1, 0, 0, 0, 1, 1, 0, 0, 1, 0, 0, 0,\n",
       "       1, 1, 0, 0, 0, 1, 0, 0, 0, 1, 0], dtype=int64)"
      ]
     },
     "execution_count": 22,
     "metadata": {},
     "output_type": "execute_result"
    }
   ],
   "source": [
    "predictions"
   ]
  },
  {
   "cell_type": "code",
   "execution_count": 23,
   "id": "efd9fce6",
   "metadata": {},
   "outputs": [
    {
     "data": {
      "text/plain": [
       "array([0.24592408, 0.24789818, 0.77417864, 0.66303889, 0.49830535,\n",
       "       0.07387432, 0.70852741, 0.10229944, 0.04099211, 0.39247699,\n",
       "       0.05513017, 0.07700654, 0.06087805, 0.44601355, 0.84273131,\n",
       "       0.95231904, 0.50226435, 0.36871144, 0.90037877, 0.23691604,\n",
       "       0.32175948, 0.20111113, 0.05163659, 0.04672776, 0.82331395,\n",
       "       0.35293307, 0.26046996, 0.33672084, 0.03110732, 0.11629283,\n",
       "       0.71489492, 0.35477449, 0.1798184 , 0.04914554, 0.14461604,\n",
       "       0.89705316, 0.12899884, 0.82850045, 0.24705604, 0.35126919,\n",
       "       0.06200101, 0.94012354, 0.03386964, 0.07239925, 0.07145691,\n",
       "       0.6528591 , 0.32144846, 0.72739015, 0.09063332, 0.05665439,\n",
       "       0.32724288, 0.19111256, 0.8790568 , 0.0325502 , 0.76283139,\n",
       "       0.17227598, 0.10086507, 0.70434526, 0.24600636, 0.30695182,\n",
       "       0.02995582, 0.1586819 , 0.39903919, 0.41980503, 0.01155749,\n",
       "       0.13397081, 0.11090844, 0.18446927, 0.19765827, 0.32107283,\n",
       "       0.9524143 , 0.56653777, 0.00876105, 0.05532116, 0.0867221 ,\n",
       "       0.5370268 , 0.26166473, 0.14789793, 0.12319464, 0.14389905,\n",
       "       0.05513806, 0.29979948, 0.05064815, 0.03366876, 0.07968193,\n",
       "       0.8600377 , 0.36035685, 0.91873297, 0.96961413, 0.11535742,\n",
       "       0.8918203 , 0.8950736 , 0.02778535, 0.76244187, 0.49604621,\n",
       "       0.16122204, 0.47532709, 0.03649006, 0.40108919, 0.25361408,\n",
       "       0.27362043, 0.31978324, 0.31895885, 0.15110285, 0.57199512,\n",
       "       0.03593584, 0.01158461, 0.84367628, 0.0497669 , 0.74081232,\n",
       "       0.2065236 , 0.7829208 , 0.4384796 , 0.64282489, 0.87852389,\n",
       "       0.11129777, 0.13278074, 0.05931849, 0.20450378, 0.91162644,\n",
       "       0.1005983 , 0.41337876, 0.77130945, 0.24486181, 0.36311367,\n",
       "       0.12694872, 0.7998676 , 0.10909668, 0.88078027, 0.3037788 ,\n",
       "       0.10195803, 0.21297106, 0.02494361, 0.29202147, 0.15358181,\n",
       "       0.9883275 , 0.03956203, 0.03717173, 0.0580615 , 0.62849942,\n",
       "       0.27483604, 0.44887856, 0.12483992, 0.4004989 , 0.725145  ,\n",
       "       0.59653957, 0.06952144, 0.02854864, 0.18423714, 0.07117503,\n",
       "       0.70957655, 0.21670592, 0.04702916, 0.55791572, 0.24321103,\n",
       "       0.12550454, 0.32262104, 0.64188739, 0.03561206, 0.18824321,\n",
       "       0.64697975, 0.13616067, 0.12878691, 0.59243246, 0.02993137,\n",
       "       0.16826394, 0.29315605, 0.36712849, 0.52494383, 0.18506025,\n",
       "       0.12792592, 0.35718494, 0.42022626, 0.10657886, 0.14968658,\n",
       "       0.67659001, 0.29743543, 0.09257729, 0.10306552, 0.11607865,\n",
       "       0.51823049, 0.50865925, 0.23453336, 0.8589055 , 0.86478431,\n",
       "       0.08824475, 0.10232197, 0.64693004, 0.06124783, 0.33938637,\n",
       "       0.33273681, 0.01135999, 0.13294183, 0.14143625, 0.01295059,\n",
       "       0.78805432, 0.74368491, 0.95804661, 0.13853254, 0.16876656,\n",
       "       0.15788847, 0.11298673, 0.06456534, 0.13402916, 0.48362108,\n",
       "       0.65094757, 0.39596283, 0.18029953, 0.53305789, 0.00918435,\n",
       "       0.16945857, 0.32104098, 0.83486472, 0.55067501, 0.08731045,\n",
       "       0.00858517, 0.90802013, 0.13718055, 0.08120928, 0.4032998 ,\n",
       "       0.54633014, 0.7700071 , 0.10152829, 0.06221694, 0.04699585,\n",
       "       0.88138093, 0.28251038, 0.47563753, 0.41487395, 0.62354448,\n",
       "       0.22024334])"
      ]
     },
     "execution_count": 23,
     "metadata": {},
     "output_type": "execute_result"
    }
   ],
   "source": [
    "predictions_prob = pipeline.predict_proba(X_test)[:,1]\n",
    "predictions_prob"
   ]
  },
  {
   "cell_type": "code",
   "execution_count": 24,
   "id": "eaf1d1ce",
   "metadata": {},
   "outputs": [],
   "source": [
    "from sklearn.metrics import roc_curve,roc_auc_score"
   ]
  },
  {
   "cell_type": "code",
   "execution_count": 25,
   "id": "2ad128cb",
   "metadata": {},
   "outputs": [
    {
     "data": {
      "image/png": "[encoded data removed]",
      "text/plain": [
       "<Figure size 432x288 with 1 Axes>"
      ]
     },
     "metadata": {
      "needs_background": "light"
     },
     "output_type": "display_data"
    }
   ],
   "source": [
    "fpr, tpr, thresholds = roc_curve(y_test, predictions_prob)\n",
    "plt.plot([0,1],[0,1],'k--')\n",
    "plt.plot(fpr, tpr, label='Logistric Regression')\n",
    "plt.xlabel('False Positive Rate')\n",
    "plt.ylabel('True Positive Rate')\n",
    "plt.title('Logistic Regression ROC Curve')\n",
    "plt.show()"
   ]
  },
  {
   "cell_type": "code",
   "execution_count": 26,
   "id": "0a70ae9f",
   "metadata": {},
   "outputs": [
    {
     "data": {
      "text/plain": [
       "0.8331687242798353"
      ]
     },
     "execution_count": 26,
     "metadata": {},
     "output_type": "execute_result"
    }
   ],
   "source": [
    "roc_auc_score(y_test, predictions_prob)"
   ]
  },
  {
   "cell_type": "markdown",
   "id": "f71bd7f5",
   "metadata": {},
   "source": [
    "### Using cross validation to see the performance of the model under different datasets"
   ]
  },
  {
   "cell_type": "code",
   "execution_count": 27,
   "id": "01445c18",
   "metadata": {},
   "outputs": [],
   "source": [
    "from sklearn.model_selection import cross_val_score"
   ]
  },
  {
   "cell_type": "code",
   "execution_count": 28,
   "id": "81487188",
   "metadata": {},
   "outputs": [
    {
     "name": "stderr",
     "output_type": "stream",
     "text": [
      "C:\\Users\\Predator\\Envs\\kn_ml\\lib\\site-packages\\sklearn\\linear_model\\_logistic.py:763: ConvergenceWarning: lbfgs failed to converge (status=1):\n",
      "STOP: TOTAL NO. of ITERATIONS REACHED LIMIT.\n",
      "\n",
      "Increase the number of iterations (max_iter) or scale the data as shown in:\n",
      "    https://scikit-learn.org/stable/modules/preprocessing.html\n",
      "Please also refer to the documentation for alternative solver options:\n",
      "    https://scikit-learn.org/stable/modules/linear_model.html#logistic-regression\n",
      "  n_iter_i = _check_optimize_result(\n",
      "C:\\Users\\Predator\\Envs\\kn_ml\\lib\\site-packages\\sklearn\\linear_model\\_logistic.py:763: ConvergenceWarning: lbfgs failed to converge (status=1):\n",
      "STOP: TOTAL NO. of ITERATIONS REACHED LIMIT.\n",
      "\n",
      "Increase the number of iterations (max_iter) or scale the data as shown in:\n",
      "    https://scikit-learn.org/stable/modules/preprocessing.html\n",
      "Please also refer to the documentation for alternative solver options:\n",
      "    https://scikit-learn.org/stable/modules/linear_model.html#logistic-regression\n",
      "  n_iter_i = _check_optimize_result(\n",
      "C:\\Users\\Predator\\Envs\\kn_ml\\lib\\site-packages\\sklearn\\linear_model\\_logistic.py:763: ConvergenceWarning: lbfgs failed to converge (status=1):\n",
      "STOP: TOTAL NO. of ITERATIONS REACHED LIMIT.\n",
      "\n",
      "Increase the number of iterations (max_iter) or scale the data as shown in:\n",
      "    https://scikit-learn.org/stable/modules/preprocessing.html\n",
      "Please also refer to the documentation for alternative solver options:\n",
      "    https://scikit-learn.org/stable/modules/linear_model.html#logistic-regression\n",
      "  n_iter_i = _check_optimize_result(\n",
      "C:\\Users\\Predator\\Envs\\kn_ml\\lib\\site-packages\\sklearn\\linear_model\\_logistic.py:763: ConvergenceWarning: lbfgs failed to converge (status=1):\n",
      "STOP: TOTAL NO. of ITERATIONS REACHED LIMIT.\n",
      "\n",
      "Increase the number of iterations (max_iter) or scale the data as shown in:\n",
      "    https://scikit-learn.org/stable/modules/preprocessing.html\n",
      "Please also refer to the documentation for alternative solver options:\n",
      "    https://scikit-learn.org/stable/modules/linear_model.html#logistic-regression\n",
      "  n_iter_i = _check_optimize_result(\n"
     ]
    },
    {
     "data": {
      "text/plain": [
       "array([0.87218045, 0.85864662, 0.80772201, 0.76640927, 0.77567568])"
      ]
     },
     "execution_count": 28,
     "metadata": {},
     "output_type": "execute_result"
    }
   ],
   "source": [
    "cv_scores = cross_val_score(pipeline, X_train,y_train,cv=5,scoring='roc_auc')\n",
    "cv_scores"
   ]
  },
  {
   "cell_type": "code",
   "execution_count": 29,
   "id": "923c786c",
   "metadata": {},
   "outputs": [
    {
     "data": {
      "text/plain": [
       "0.8161268034952247"
      ]
     },
     "execution_count": 29,
     "metadata": {},
     "output_type": "execute_result"
    }
   ],
   "source": [
    "cv_scores.mean()"
   ]
  },
  {
   "cell_type": "markdown",
   "id": "9bf45be1",
   "metadata": {},
   "source": [
    "### Imputing Missing with KNNImputer and using Logistic Regression"
   ]
  },
  {
   "cell_type": "code",
   "execution_count": 30,
   "id": "77f1335a",
   "metadata": {},
   "outputs": [
    {
     "name": "stdout",
     "output_type": "stream",
     "text": [
      "Score: 0.7402597402597403\n"
     ]
    },
    {
     "name": "stderr",
     "output_type": "stream",
     "text": [
      "C:\\Users\\Predator\\Envs\\kn_ml\\lib\\site-packages\\sklearn\\linear_model\\_logistic.py:763: ConvergenceWarning: lbfgs failed to converge (status=1):\n",
      "STOP: TOTAL NO. of ITERATIONS REACHED LIMIT.\n",
      "\n",
      "Increase the number of iterations (max_iter) or scale the data as shown in:\n",
      "    https://scikit-learn.org/stable/modules/preprocessing.html\n",
      "Please also refer to the documentation for alternative solver options:\n",
      "    https://scikit-learn.org/stable/modules/linear_model.html#logistic-regression\n",
      "  n_iter_i = _check_optimize_result(\n"
     ]
    }
   ],
   "source": [
    "from sklearn.pipeline import Pipeline\n",
    "from sklearn.impute import KNNImputer\n",
    "\n",
    "imp = KNNImputer(missing_values=np.nan, n_neighbors=10)\n",
    "logreg = LogisticRegression()\n",
    "steps = [('knn_imputer',imp),\n",
    "        ('logistic_regression', logreg)]\n",
    "\n",
    "pipeline = Pipeline(steps)\n",
    "#We use stratify parameter to preserve the proportion of the target\n",
    "#variable as in the original dataset, in the train and test datasets as well.\n",
    "X_train,X_test,y_train,y_test = train_test_split(X,y,test_size=0.3,\n",
    "                                                 random_state=42,\n",
    "                                                 stratify=y)\n",
    "\n",
    "pipeline.fit(X_train,y_train)\n",
    "predictions = pipeline.predict(X_test)\n",
    "print(f'Score: {pipeline.score(X_test,y_test)}')"
   ]
  },
  {
   "cell_type": "code",
   "execution_count": 31,
   "id": "94107e99",
   "metadata": {},
   "outputs": [
    {
     "data": {
      "text/plain": [
       "array([0, 0, 1, 1, 0, 0, 1, 0, 0, 0, 0, 0, 0, 0, 1, 1, 0, 0, 1, 0, 0, 0,\n",
       "       0, 0, 1, 0, 0, 0, 0, 0, 1, 0, 0, 0, 0, 1, 0, 1, 0, 0, 0, 1, 0, 0,\n",
       "       0, 1, 0, 1, 0, 0, 0, 0, 1, 0, 1, 0, 0, 1, 0, 0, 0, 0, 0, 0, 0, 0,\n",
       "       0, 0, 0, 0, 1, 1, 0, 0, 0, 1, 0, 0, 0, 0, 0, 0, 0, 0, 0, 1, 0, 1,\n",
       "       1, 0, 1, 1, 0, 1, 1, 0, 0, 0, 0, 0, 0, 0, 0, 0, 1, 0, 0, 1, 0, 1,\n",
       "       0, 1, 0, 1, 1, 0, 0, 0, 0, 1, 0, 0, 1, 0, 0, 0, 1, 0, 1, 0, 0, 0,\n",
       "       0, 0, 0, 1, 0, 0, 0, 1, 0, 0, 0, 0, 1, 1, 0, 0, 0, 0, 1, 0, 0, 1,\n",
       "       0, 0, 0, 1, 0, 0, 1, 0, 0, 1, 0, 0, 0, 0, 1, 0, 0, 0, 0, 0, 0, 1,\n",
       "       0, 0, 0, 0, 1, 0, 0, 1, 1, 0, 0, 1, 0, 0, 0, 0, 0, 0, 0, 1, 1, 1,\n",
       "       0, 0, 0, 0, 0, 0, 0, 1, 0, 0, 1, 0, 0, 0, 1, 1, 0, 0, 1, 0, 0, 0,\n",
       "       1, 1, 0, 0, 0, 1, 0, 0, 0, 1, 0], dtype=int64)"
      ]
     },
     "execution_count": 31,
     "metadata": {},
     "output_type": "execute_result"
    }
   ],
   "source": [
    "predictions"
   ]
  },
  {
   "cell_type": "code",
   "execution_count": 32,
   "id": "b4de9eb6",
   "metadata": {},
   "outputs": [
    {
     "data": {
      "text/plain": [
       "array([0.24059833, 0.30489562, 0.76206639, 0.64623671, 0.46033361,\n",
       "       0.07425192, 0.7087883 , 0.10907634, 0.03787859, 0.35852399,\n",
       "       0.04882379, 0.08818203, 0.06216524, 0.46001601, 0.83520799,\n",
       "       0.94932697, 0.4406186 , 0.37045438, 0.83597399, 0.23733689,\n",
       "       0.26892284, 0.21152954, 0.06112234, 0.04675664, 0.80572053,\n",
       "       0.32466624, 0.26158263, 0.32078606, 0.03464239, 0.12384254,\n",
       "       0.66071353, 0.3739588 , 0.19111189, 0.05553337, 0.11360486,\n",
       "       0.91475576, 0.11669729, 0.82109609, 0.20286488, 0.41081945,\n",
       "       0.06023775, 0.93969881, 0.04022297, 0.07050343, 0.06561477,\n",
       "       0.6222191 , 0.33461406, 0.68706847, 0.10044342, 0.05914868,\n",
       "       0.32081636, 0.17370067, 0.86597849, 0.03391413, 0.76065095,\n",
       "       0.17898492, 0.12912444, 0.84337349, 0.2765849 , 0.29122713,\n",
       "       0.02916528, 0.12699255, 0.39152127, 0.46224046, 0.01397158,\n",
       "       0.14705898, 0.13012841, 0.18214182, 0.24574889, 0.29370477,\n",
       "       0.94554944, 0.53019435, 0.01132807, 0.03713286, 0.08085362,\n",
       "       0.65539404, 0.26293837, 0.12584076, 0.13972451, 0.13184514,\n",
       "       0.05688587, 0.31971747, 0.04919755, 0.03469034, 0.08844216,\n",
       "       0.84927116, 0.34259958, 0.92055302, 0.9610736 , 0.12365228,\n",
       "       0.89921371, 0.87222886, 0.02883646, 0.69447097, 0.51187609,\n",
       "       0.16612914, 0.46389275, 0.04071495, 0.39586241, 0.21995628,\n",
       "       0.2371817 , 0.26834433, 0.30592301, 0.1516323 , 0.55636882,\n",
       "       0.03811263, 0.01112749, 0.8243391 , 0.04412979, 0.69889335,\n",
       "       0.23109108, 0.7930806 , 0.4603704 , 0.61492503, 0.88296902,\n",
       "       0.10345145, 0.13146537, 0.06175134, 0.20957172, 0.91949924,\n",
       "       0.04553024, 0.46033016, 0.73321357, 0.26058314, 0.41157836,\n",
       "       0.10689002, 0.7700631 , 0.10003556, 0.89450057, 0.28806019,\n",
       "       0.09187661, 0.19489635, 0.03150231, 0.30856472, 0.16418069,\n",
       "       0.99375677, 0.03429004, 0.03050369, 0.06439732, 0.64339158,\n",
       "       0.26580406, 0.41188419, 0.13512609, 0.34932891, 0.66369183,\n",
       "       0.59884555, 0.06395748, 0.03586563, 0.1809811 , 0.07615966,\n",
       "       0.65889929, 0.22230152, 0.04869758, 0.52503498, 0.24320911,\n",
       "       0.13710441, 0.33293751, 0.61031008, 0.03455861, 0.17925987,\n",
       "       0.58649485, 0.12733624, 0.11276651, 0.59998625, 0.0359238 ,\n",
       "       0.1805627 , 0.29827376, 0.33825289, 0.51330092, 0.18718706,\n",
       "       0.114981  , 0.33492604, 0.41626586, 0.10326644, 0.15568519,\n",
       "       0.66839506, 0.37023922, 0.08861473, 0.09052095, 0.10762   ,\n",
       "       0.51846943, 0.47700879, 0.2732405 , 0.8395071 , 0.89071459,\n",
       "       0.09936618, 0.11164503, 0.63000937, 0.06420094, 0.36540435,\n",
       "       0.34634151, 0.01181855, 0.14797711, 0.18843219, 0.01787143,\n",
       "       0.76405571, 0.7209556 , 0.96179973, 0.14117554, 0.19299913,\n",
       "       0.13500778, 0.12552689, 0.07632273, 0.15550125, 0.41260626,\n",
       "       0.63417398, 0.4570841 , 0.17116325, 0.54194586, 0.01024302,\n",
       "       0.15078515, 0.29515768, 0.82966497, 0.53598417, 0.10357051,\n",
       "       0.01223752, 0.88401764, 0.15710064, 0.07628843, 0.38613713,\n",
       "       0.52006542, 0.75967461, 0.11116814, 0.06004699, 0.05054728,\n",
       "       0.88065554, 0.28406536, 0.47984213, 0.46684723, 0.65028987,\n",
       "       0.22809765])"
      ]
     },
     "execution_count": 32,
     "metadata": {},
     "output_type": "execute_result"
    }
   ],
   "source": [
    "predictions_prob = pipeline.predict_proba(X_test)[:,1]\n",
    "predictions_prob"
   ]
  },
  {
   "cell_type": "code",
   "execution_count": 33,
   "id": "350eb434",
   "metadata": {},
   "outputs": [
    {
     "data": {
      "image/png": "[encoded data removed]",
      "text/plain": [
       "<Figure size 432x288 with 1 Axes>"
      ]
     },
     "metadata": {
      "needs_background": "light"
     },
     "output_type": "display_data"
    }
   ],
   "source": [
    "fpr, tpr, thresholds = roc_curve(y_test, predictions_prob)\n",
    "plt.plot([0,1],[0,1],'k--')\n",
    "plt.plot(fpr, tpr, label='Logistric Regression')\n",
    "plt.xlabel('False Positive Rate')\n",
    "plt.ylabel('True Positive Rate')\n",
    "plt.title('Logistic Regression ROC Curve')\n",
    "plt.show()"
   ]
  },
  {
   "cell_type": "code",
   "execution_count": 34,
   "id": "17337f53",
   "metadata": {},
   "outputs": [
    {
     "data": {
      "text/plain": [
       "0.8389300411522633"
      ]
     },
     "execution_count": 34,
     "metadata": {},
     "output_type": "execute_result"
    }
   ],
   "source": [
    "roc_auc_score(y_test, predictions_prob)"
   ]
  },
  {
   "cell_type": "code",
   "execution_count": 35,
   "id": "979eb3d3",
   "metadata": {},
   "outputs": [
    {
     "name": "stderr",
     "output_type": "stream",
     "text": [
      "C:\\Users\\Predator\\Envs\\kn_ml\\lib\\site-packages\\sklearn\\linear_model\\_logistic.py:763: ConvergenceWarning: lbfgs failed to converge (status=1):\n",
      "STOP: TOTAL NO. of ITERATIONS REACHED LIMIT.\n",
      "\n",
      "Increase the number of iterations (max_iter) or scale the data as shown in:\n",
      "    https://scikit-learn.org/stable/modules/preprocessing.html\n",
      "Please also refer to the documentation for alternative solver options:\n",
      "    https://scikit-learn.org/stable/modules/linear_model.html#logistic-regression\n",
      "  n_iter_i = _check_optimize_result(\n",
      "C:\\Users\\Predator\\Envs\\kn_ml\\lib\\site-packages\\sklearn\\linear_model\\_logistic.py:763: ConvergenceWarning: lbfgs failed to converge (status=1):\n",
      "STOP: TOTAL NO. of ITERATIONS REACHED LIMIT.\n",
      "\n",
      "Increase the number of iterations (max_iter) or scale the data as shown in:\n",
      "    https://scikit-learn.org/stable/modules/preprocessing.html\n",
      "Please also refer to the documentation for alternative solver options:\n",
      "    https://scikit-learn.org/stable/modules/linear_model.html#logistic-regression\n",
      "  n_iter_i = _check_optimize_result(\n",
      "C:\\Users\\Predator\\Envs\\kn_ml\\lib\\site-packages\\sklearn\\linear_model\\_logistic.py:763: ConvergenceWarning: lbfgs failed to converge (status=1):\n",
      "STOP: TOTAL NO. of ITERATIONS REACHED LIMIT.\n",
      "\n",
      "Increase the number of iterations (max_iter) or scale the data as shown in:\n",
      "    https://scikit-learn.org/stable/modules/preprocessing.html\n",
      "Please also refer to the documentation for alternative solver options:\n",
      "    https://scikit-learn.org/stable/modules/linear_model.html#logistic-regression\n",
      "  n_iter_i = _check_optimize_result(\n",
      "C:\\Users\\Predator\\Envs\\kn_ml\\lib\\site-packages\\sklearn\\linear_model\\_logistic.py:763: ConvergenceWarning: lbfgs failed to converge (status=1):\n",
      "STOP: TOTAL NO. of ITERATIONS REACHED LIMIT.\n",
      "\n",
      "Increase the number of iterations (max_iter) or scale the data as shown in:\n",
      "    https://scikit-learn.org/stable/modules/preprocessing.html\n",
      "Please also refer to the documentation for alternative solver options:\n",
      "    https://scikit-learn.org/stable/modules/linear_model.html#logistic-regression\n",
      "  n_iter_i = _check_optimize_result(\n",
      "C:\\Users\\Predator\\Envs\\kn_ml\\lib\\site-packages\\sklearn\\linear_model\\_logistic.py:763: ConvergenceWarning: lbfgs failed to converge (status=1):\n",
      "STOP: TOTAL NO. of ITERATIONS REACHED LIMIT.\n",
      "\n",
      "Increase the number of iterations (max_iter) or scale the data as shown in:\n",
      "    https://scikit-learn.org/stable/modules/preprocessing.html\n",
      "Please also refer to the documentation for alternative solver options:\n",
      "    https://scikit-learn.org/stable/modules/linear_model.html#logistic-regression\n",
      "  n_iter_i = _check_optimize_result(\n"
     ]
    },
    {
     "data": {
      "text/plain": [
       "array([0.86691729, 0.84887218, 0.80579151, 0.74942085, 0.7969112 ])"
      ]
     },
     "execution_count": 35,
     "metadata": {},
     "output_type": "execute_result"
    }
   ],
   "source": [
    "cv_scores = cross_val_score(pipeline, X_train,y_train,cv=5,scoring='roc_auc')\n",
    "cv_scores"
   ]
  },
  {
   "cell_type": "code",
   "execution_count": 36,
   "id": "8ff787b1",
   "metadata": {},
   "outputs": [
    {
     "data": {
      "text/plain": [
       "0.8135826051615526"
      ]
     },
     "execution_count": 36,
     "metadata": {},
     "output_type": "execute_result"
    }
   ],
   "source": [
    "cv_scores.mean()"
   ]
  },
  {
   "cell_type": "code",
   "execution_count": 38,
   "id": "9c83310c",
   "metadata": {},
   "outputs": [
    {
     "data": {
      "text/plain": [
       "{'memory': None,\n",
       " 'steps': [('knn_imputer', KNNImputer(n_neighbors=10)),\n",
       "  ('logistic_regression', LogisticRegression())],\n",
       " 'verbose': False,\n",
       " 'knn_imputer': KNNImputer(n_neighbors=10),\n",
       " 'logistic_regression': LogisticRegression(),\n",
       " 'knn_imputer__add_indicator': False,\n",
       " 'knn_imputer__copy': True,\n",
       " 'knn_imputer__metric': 'nan_euclidean',\n",
       " 'knn_imputer__missing_values': nan,\n",
       " 'knn_imputer__n_neighbors': 10,\n",
       " 'knn_imputer__weights': 'uniform',\n",
       " 'logistic_regression__C': 1.0,\n",
       " 'logistic_regression__class_weight': None,\n",
       " 'logistic_regression__dual': False,\n",
       " 'logistic_regression__fit_intercept': True,\n",
       " 'logistic_regression__intercept_scaling': 1,\n",
       " 'logistic_regression__l1_ratio': None,\n",
       " 'logistic_regression__max_iter': 100,\n",
       " 'logistic_regression__multi_class': 'auto',\n",
       " 'logistic_regression__n_jobs': None,\n",
       " 'logistic_regression__penalty': 'l2',\n",
       " 'logistic_regression__random_state': None,\n",
       " 'logistic_regression__solver': 'lbfgs',\n",
       " 'logistic_regression__tol': 0.0001,\n",
       " 'logistic_regression__verbose': 0,\n",
       " 'logistic_regression__warm_start': False}"
      ]
     },
     "execution_count": 38,
     "metadata": {},
     "output_type": "execute_result"
    }
   ],
   "source": [
    "pipeline.get_params()"
   ]
  },
  {
   "cell_type": "markdown",
   "id": "d33a3b55",
   "metadata": {},
   "source": [
    "### Using GridSearch to search for the best parameters for the Logistic Regression"
   ]
  },
  {
   "cell_type": "code",
   "execution_count": 39,
   "id": "fb6fdf88",
   "metadata": {},
   "outputs": [],
   "source": [
    "from sklearn.model_selection import GridSearchCV"
   ]
  },
  {
   "cell_type": "code",
   "execution_count": 48,
   "id": "8bbbc672",
   "metadata": {},
   "outputs": [
    {
     "data": {
      "text/plain": [
       "GridSearchCV(cv=5,\n",
       "             estimator=Pipeline(steps=[('imp', KNNImputer()),\n",
       "                                       ('logreg', LogisticRegression())]),\n",
       "             param_grid={'imp__n_neighbors': array([ 1,  2,  3,  4,  5,  6,  7,  8,  9, 10, 11, 12, 13, 14, 15, 16, 17,\n",
       "       18, 19, 20, 21, 22, 23, 24, 25]),\n",
       "                         'imp__weights': ['uniform', 'distance'],\n",
       "                         'logreg__solver': ['newton-cg', 'liblinear']})"
      ]
     },
     "execution_count": 48,
     "metadata": {},
     "output_type": "execute_result"
    }
   ],
   "source": [
    "steps = [\n",
    "    ('imp',KNNImputer()),\n",
    "    ('logreg',LogisticRegression())\n",
    "]\n",
    "pipeline = Pipeline(steps)\n",
    "\n",
    "parameters = {\n",
    "    'imp__n_neighbors': np.arange(1,26),\n",
    "    'imp__weights': ['uniform','distance'],\n",
    "    'logreg__solver': ['newton-cg','liblinear'],\n",
    "}\n",
    "\n",
    "X_train,X_test, y_train,y_test = train_test_split(X,y,test_size=0.3,random_state=101,stratify=y)\n",
    "cv = GridSearchCV(pipeline, param_grid=parameters,cv=5)\n",
    "cv.fit(X_train,y_train)"
   ]
  },
  {
   "cell_type": "code",
   "execution_count": 49,
   "id": "a03f5882",
   "metadata": {},
   "outputs": [
    {
     "data": {
      "text/plain": [
       "{'imp__n_neighbors': 4,\n",
       " 'imp__weights': 'uniform',\n",
       " 'logreg__solver': 'newton-cg'}"
      ]
     },
     "execution_count": 49,
     "metadata": {},
     "output_type": "execute_result"
    }
   ],
   "source": [
    "cv.best_params_"
   ]
  },
  {
   "cell_type": "code",
   "execution_count": 50,
   "id": "1c2c1fcf",
   "metadata": {},
   "outputs": [
    {
     "data": {
      "text/plain": [
       "0.7877639321564555"
      ]
     },
     "execution_count": 50,
     "metadata": {},
     "output_type": "execute_result"
    }
   ],
   "source": [
    "cv.best_score_"
   ]
  },
  {
   "cell_type": "code",
   "execution_count": 51,
   "id": "d9dea445",
   "metadata": {},
   "outputs": [
    {
     "data": {
      "text/plain": [
       "array([0, 0, 0, 1, 0, 1, 0, 0, 1, 0, 0, 0, 0, 0, 0, 1, 0, 0, 0, 0, 1, 1,\n",
       "       0, 0, 0, 1, 0, 0, 0, 0, 0, 0, 1, 1, 1, 1, 0, 0, 0, 1, 0, 0, 0, 0,\n",
       "       0, 0, 0, 0, 0, 0, 1, 1, 0, 0, 0, 0, 0, 0, 1, 0, 0, 0, 0, 0, 1, 0,\n",
       "       1, 0, 0, 0, 0, 0, 0, 1, 0, 0, 1, 0, 0, 1, 0, 0, 0, 0, 0, 0, 1, 0,\n",
       "       0, 0, 1, 0, 0, 0, 0, 1, 0, 1, 1, 0, 0, 0, 1, 1, 0, 0, 0, 0, 1, 0,\n",
       "       0, 0, 1, 1, 0, 1, 0, 1, 1, 1, 1, 1, 0, 0, 1, 1, 0, 0, 0, 0, 0, 0,\n",
       "       1, 0, 0, 0, 1, 0, 0, 0, 0, 0, 1, 0, 0, 0, 0, 0, 0, 1, 0, 0, 1, 0,\n",
       "       0, 0, 1, 0, 1, 1, 0, 0, 1, 1, 0, 1, 0, 0, 0, 0, 0, 1, 0, 0, 0, 0,\n",
       "       0, 0, 0, 0, 0, 1, 0, 0, 0, 1, 0, 0, 0, 0, 0, 0, 0, 0, 0, 0, 0, 0,\n",
       "       0, 1, 0, 1, 0, 0, 0, 1, 1, 0, 0, 0, 1, 1, 1, 0, 0, 0, 0, 0, 0, 0,\n",
       "       0, 0, 0, 0, 0, 0, 0, 0, 1, 0, 0], dtype=int64)"
      ]
     },
     "execution_count": 51,
     "metadata": {},
     "output_type": "execute_result"
    }
   ],
   "source": [
    "predictions = cv.predict(X_test)\n",
    "predictions"
   ]
  },
  {
   "cell_type": "code",
   "execution_count": 53,
   "id": "4e0cd62c",
   "metadata": {},
   "outputs": [
    {
     "data": {
      "text/plain": [
       "array([0.15080538, 0.1990532 , 0.34699223, 0.56829649, 0.09934918,\n",
       "       0.93431081, 0.34987221, 0.08661818, 0.88924245, 0.04329539,\n",
       "       0.48238869, 0.19485765, 0.05299102, 0.03408177, 0.20554026,\n",
       "       0.55823384, 0.03891575, 0.17178203, 0.14124469, 0.11562236,\n",
       "       0.69468597, 0.50932834, 0.26290432, 0.38541666, 0.08911319,\n",
       "       0.83988003, 0.44456109, 0.05705031, 0.32137689, 0.05710554,\n",
       "       0.37602223, 0.06756326, 0.85206561, 0.920509  , 0.67904753,\n",
       "       0.9938702 , 0.17165237, 0.04145009, 0.30808097, 0.7382601 ,\n",
       "       0.35341413, 0.3509568 , 0.12342155, 0.21036409, 0.06173163,\n",
       "       0.20867642, 0.30648147, 0.07719411, 0.13894083, 0.07549874,\n",
       "       0.53636891, 0.70261151, 0.37810592, 0.37006045, 0.07504848,\n",
       "       0.43056753, 0.16386668, 0.01173169, 0.57810896, 0.12387449,\n",
       "       0.07666861, 0.43053883, 0.20862684, 0.2145549 , 0.55758955,\n",
       "       0.18511916, 0.74036843, 0.21272293, 0.07620704, 0.25923013,\n",
       "       0.42933247, 0.35204969, 0.21451671, 0.76760284, 0.2009264 ,\n",
       "       0.03811798, 0.67578514, 0.26366661, 0.46819982, 0.71358514,\n",
       "       0.05620693, 0.15308555, 0.05430525, 0.4926394 , 0.10793983,\n",
       "       0.02969969, 0.58448933, 0.0542071 , 0.07844021, 0.47467719,\n",
       "       0.73723158, 0.19084669, 0.06786723, 0.03382251, 0.45221172,\n",
       "       0.61453716, 0.37765133, 0.63191646, 0.63394622, 0.34043522,\n",
       "       0.26299112, 0.1026491 , 0.81742758, 0.73955848, 0.21555917,\n",
       "       0.038664  , 0.2052114 , 0.25954905, 0.53503864, 0.03849043,\n",
       "       0.04511542, 0.36997866, 0.85489692, 0.64860839, 0.37377842,\n",
       "       0.77564606, 0.05423682, 0.90117789, 0.69477288, 0.7518193 ,\n",
       "       0.87044049, 0.62253531, 0.31199644, 0.46868326, 0.70112074,\n",
       "       0.67928124, 0.41616326, 0.17764621, 0.02817617, 0.15620309,\n",
       "       0.12585696, 0.1202271 , 0.86799741, 0.05749408, 0.10764731,\n",
       "       0.05497778, 0.87943922, 0.14212902, 0.13979949, 0.36078501,\n",
       "       0.17744611, 0.37319836, 0.5753741 , 0.04331618, 0.27390958,\n",
       "       0.04085401, 0.15185002, 0.22299919, 0.05603624, 0.76778584,\n",
       "       0.4232575 , 0.31202034, 0.96392274, 0.13980135, 0.03764288,\n",
       "       0.28697017, 0.71396146, 0.29018204, 0.64293519, 0.91491296,\n",
       "       0.11118519, 0.42028518, 0.91896346, 0.92353155, 0.38347249,\n",
       "       0.78435766, 0.03084049, 0.16213789, 0.18710634, 0.1010915 ,\n",
       "       0.28683775, 0.94831385, 0.28937243, 0.13864569, 0.417049  ,\n",
       "       0.182904  , 0.19972484, 0.46044822, 0.0784795 , 0.13684994,\n",
       "       0.06892719, 0.68072269, 0.11747187, 0.11265535, 0.11749915,\n",
       "       0.79821323, 0.13795634, 0.29281861, 0.04505197, 0.43175636,\n",
       "       0.30807277, 0.14635046, 0.02982248, 0.14053969, 0.14689733,\n",
       "       0.0841928 , 0.19430355, 0.07542562, 0.06190672, 0.78717808,\n",
       "       0.05879785, 0.76293835, 0.03232785, 0.25067085, 0.22415439,\n",
       "       0.62373858, 0.92237394, 0.09007725, 0.02543072, 0.36663854,\n",
       "       0.7395557 , 0.88829717, 0.54056656, 0.11414922, 0.35279408,\n",
       "       0.0861882 , 0.31071812, 0.15241334, 0.14392455, 0.27938291,\n",
       "       0.2062401 , 0.17344483, 0.36568965, 0.0570598 , 0.17100017,\n",
       "       0.21416703, 0.26371262, 0.07012345, 0.95736133, 0.05283315,\n",
       "       0.49983134])"
      ]
     },
     "execution_count": 53,
     "metadata": {},
     "output_type": "execute_result"
    }
   ],
   "source": [
    "predictions_prob = cv.predict_proba(X_test)[:,1]\n",
    "predictions_prob"
   ]
  },
  {
   "cell_type": "code",
   "execution_count": 56,
   "id": "f6b09cfc",
   "metadata": {},
   "outputs": [
    {
     "name": "stdout",
     "output_type": "stream",
     "text": [
      "              precision    recall  f1-score   support\n",
      "\n",
      "           0       0.77      0.87      0.82       150\n",
      "           1       0.68      0.51      0.58        81\n",
      "\n",
      "    accuracy                           0.74       231\n",
      "   macro avg       0.72      0.69      0.70       231\n",
      "weighted avg       0.74      0.74      0.73       231\n",
      "\n"
     ]
    }
   ],
   "source": [
    "from sklearn.metrics import classification_report\n",
    "\n",
    "print(classification_report(y_test,predictions))"
   ]
  },
  {
   "cell_type": "code",
   "execution_count": 60,
   "id": "4f00b74f",
   "metadata": {},
   "outputs": [
    {
     "data": {
      "image/png": "[encoded data removed]",
      "text/plain": [
       "<Figure size 432x288 with 1 Axes>"
      ]
     },
     "metadata": {
      "needs_background": "light"
     },
     "output_type": "display_data"
    }
   ],
   "source": [
    "fpr, tpr, thresholds = roc_curve(y_test, predictions_prob)\n",
    "plt.plot([0,1],[0,1],'k--')\n",
    "plt.plot(fpr, tpr, label='Logistric Regression')\n",
    "plt.xlabel('False Positive Rate')\n",
    "plt.ylabel('True Positive Rate')\n",
    "plt.title('Logistic Regression ROC Curve')\n",
    "plt.show()"
   ]
  },
  {
   "cell_type": "code",
   "execution_count": 61,
   "id": "fc34558f",
   "metadata": {},
   "outputs": [
    {
     "name": "stdout",
     "output_type": "stream",
     "text": [
      "ROC-AUC score: 0.8154732510288065\n"
     ]
    }
   ],
   "source": [
    "print(f'ROC-AUC score: {roc_auc_score(y_test, predictions_prob)}')"
   ]
  },
  {
   "cell_type": "code",
   "execution_count": null,
   "id": "1e6b1052",
   "metadata": {},
   "outputs": [],
   "source": []
  }
 ],
 "metadata": {
  "kernelspec": {
   "display_name": "Python 3 (ipykernel)",
   "language": "python",
   "name": "python3"
  },
  "language_info": {
   "codemirror_mode": {
    "name": "ipython",
    "version": 3
   },
   "file_extension": ".py",
   "mimetype": "text/x-python",
   "name": "python",
   "nbconvert_exporter": "python",
   "pygments_lexer": "ipython3",
   "version": "3.9.6"
  }
 },
 "nbformat": 4,
 "nbformat_minor": 5
}
