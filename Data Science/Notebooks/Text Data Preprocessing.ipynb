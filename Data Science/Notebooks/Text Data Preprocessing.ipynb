{
 "cells": [
  {
   "cell_type": "code",
   "execution_count": 1,
   "id": "1e42ce4e",
   "metadata": {},
   "outputs": [],
   "source": [
    "import os"
   ]
  },
  {
   "cell_type": "code",
   "execution_count": 2,
   "id": "0ba8b840",
   "metadata": {},
   "outputs": [],
   "source": [
    "import numpy as np\n",
    "import pandas as pd\n",
    "import matplotlib.pyplot as plt\n",
    "import seaborn as sns"
   ]
  },
  {
   "cell_type": "markdown",
   "id": "ef08cdc2",
   "metadata": {},
   "source": [
    "Data can be available in any forms be it numerical, boolean or even text form. In Natural Language Processing (NLP), we deal with the text data.\n",
    "Text data is one of the most unstructured forms of available data thereforebefore using this data for analysis or predictions,processing the data is very important."
   ]
  },
  {
   "cell_type": "markdown",
   "id": "e213e19d",
   "metadata": {},
   "source": [
    "In order to prepare our model on the text dataset we need to perform text prepocessing. Some of the steps in text preprocessing are: - \n",
    "- Removing punctuations\n",
    "- Removing stop words\n",
    "- Lower Casing\n",
    "- Tokenization\n",
    "- Stemming"
   ]
  },
  {
   "cell_type": "code",
   "execution_count": 5,
   "id": "656c838c",
   "metadata": {},
   "outputs": [],
   "source": [
    "df = pd.read_csv('spam.csv', encoding='ISO-8859-1')"
   ]
  },
  {
   "cell_type": "code",
   "execution_count": 9,
   "id": "0a612570",
   "metadata": {},
   "outputs": [
    {
     "name": "stderr",
     "output_type": "stream",
     "text": [
      "C:\\Users\\Predator\\AppData\\Local\\Temp/ipykernel_6028/3452657604.py:1: FutureWarning: Passing a negative integer is deprecated in version 1.0 and will not be supported in future version. Instead, use None to not limit the column width.\n",
      "  pd.set_option('display.max_colwidth',-1)\n"
     ]
    },
    {
     "data": {
      "text/html": [
       "<div>\n",
       "<style scoped>\n",
       "    .dataframe tbody tr th:only-of-type {\n",
       "        vertical-align: middle;\n",
       "    }\n",
       "\n",
       "    .dataframe tbody tr th {\n",
       "        vertical-align: top;\n",
       "    }\n",
       "\n",
       "    .dataframe thead th {\n",
       "        text-align: right;\n",
       "    }\n",
       "</style>\n",
       "<table border=\"1\" class=\"dataframe\">\n",
       "  <thead>\n",
       "    <tr style=\"text-align: right;\">\n",
       "      <th></th>\n",
       "      <th>v1</th>\n",
       "      <th>v2</th>\n",
       "    </tr>\n",
       "  </thead>\n",
       "  <tbody>\n",
       "    <tr>\n",
       "      <th>0</th>\n",
       "      <td>ham</td>\n",
       "      <td>Go until jurong point, crazy.. Available only in bugis n great world la e buffet... Cine there got amore wat...</td>\n",
       "    </tr>\n",
       "    <tr>\n",
       "      <th>1</th>\n",
       "      <td>ham</td>\n",
       "      <td>Ok lar... Joking wif u oni...</td>\n",
       "    </tr>\n",
       "    <tr>\n",
       "      <th>2</th>\n",
       "      <td>spam</td>\n",
       "      <td>Free entry in 2 a wkly comp to win FA Cup final tkts 21st May 2005. Text FA to 87121 to receive entry question(std txt rate)T&amp;C's apply 08452810075over18's</td>\n",
       "    </tr>\n",
       "    <tr>\n",
       "      <th>3</th>\n",
       "      <td>ham</td>\n",
       "      <td>U dun say so early hor... U c already then say...</td>\n",
       "    </tr>\n",
       "    <tr>\n",
       "      <th>4</th>\n",
       "      <td>ham</td>\n",
       "      <td>Nah I don't think he goes to usf, he lives around here though</td>\n",
       "    </tr>\n",
       "  </tbody>\n",
       "</table>\n",
       "</div>"
      ],
      "text/plain": [
       "     v1  \\\n",
       "0  ham    \n",
       "1  ham    \n",
       "2  spam   \n",
       "3  ham    \n",
       "4  ham    \n",
       "\n",
       "                                                                                                                                                            v2  \n",
       "0  Go until jurong point, crazy.. Available only in bugis n great world la e buffet... Cine there got amore wat...                                              \n",
       "1  Ok lar... Joking wif u oni...                                                                                                                                \n",
       "2  Free entry in 2 a wkly comp to win FA Cup final tkts 21st May 2005. Text FA to 87121 to receive entry question(std txt rate)T&C's apply 08452810075over18's  \n",
       "3  U dun say so early hor... U c already then say...                                                                                                            \n",
       "4  Nah I don't think he goes to usf, he lives around here though                                                                                                "
      ]
     },
     "execution_count": 9,
     "metadata": {},
     "output_type": "execute_result"
    }
   ],
   "source": [
    "pd.set_option('display.max_colwidth',-1)\n",
    "df = df[['v1','v2']]\n",
    "df.head()"
   ]
  },
  {
   "cell_type": "markdown",
   "id": "a9cc5a88",
   "metadata": {},
   "source": [
    "### Cleaning the data"
   ]
  },
  {
   "cell_type": "markdown",
   "id": "dd5f8395",
   "metadata": {},
   "source": [
    "Removing the puncutations from the text"
   ]
  },
  {
   "cell_type": "code",
   "execution_count": 10,
   "id": "c90faa17",
   "metadata": {},
   "outputs": [],
   "source": [
    "import string"
   ]
  },
  {
   "cell_type": "code",
   "execution_count": 11,
   "id": "f2e3d7d2",
   "metadata": {},
   "outputs": [
    {
     "data": {
      "text/plain": [
       "'!\"#$%&\\'()*+,-./:;<=>?@[\\\\]^_`{|}~'"
      ]
     },
     "execution_count": 11,
     "metadata": {},
     "output_type": "execute_result"
    }
   ],
   "source": [
    "string.punctuation"
   ]
  },
  {
   "cell_type": "code",
   "execution_count": 14,
   "id": "9d71682c",
   "metadata": {},
   "outputs": [
    {
     "data": {
      "text/plain": [
       "'Hello Babin Joshi'"
      ]
     },
     "execution_count": 14,
     "metadata": {},
     "output_type": "execute_result"
    }
   ],
   "source": [
    "\"\".join([i for i in \"Hello, Babin Joshi.\" if i not in string.punctuation])"
   ]
  },
  {
   "cell_type": "code",
   "execution_count": 18,
   "id": "e28906ea",
   "metadata": {},
   "outputs": [],
   "source": [
    "def remove_punctuation(text):\n",
    "    text = \"\".join([i for i in text if i not in string.punctuation])\n",
    "    return text"
   ]
  },
  {
   "cell_type": "code",
   "execution_count": 19,
   "id": "c6f3e4e9",
   "metadata": {},
   "outputs": [],
   "source": [
    "df['clean_msg'] = df['v2'].apply(lambda x: remove_punctuation(x))"
   ]
  },
  {
   "cell_type": "code",
   "execution_count": 20,
   "id": "99a763e6",
   "metadata": {},
   "outputs": [
    {
     "data": {
      "text/html": [
       "<div>\n",
       "<style scoped>\n",
       "    .dataframe tbody tr th:only-of-type {\n",
       "        vertical-align: middle;\n",
       "    }\n",
       "\n",
       "    .dataframe tbody tr th {\n",
       "        vertical-align: top;\n",
       "    }\n",
       "\n",
       "    .dataframe thead th {\n",
       "        text-align: right;\n",
       "    }\n",
       "</style>\n",
       "<table border=\"1\" class=\"dataframe\">\n",
       "  <thead>\n",
       "    <tr style=\"text-align: right;\">\n",
       "      <th></th>\n",
       "      <th>v1</th>\n",
       "      <th>v2</th>\n",
       "      <th>clean_msg</th>\n",
       "    </tr>\n",
       "  </thead>\n",
       "  <tbody>\n",
       "    <tr>\n",
       "      <th>0</th>\n",
       "      <td>ham</td>\n",
       "      <td>Go until jurong point, crazy.. Available only in bugis n great world la e buffet... Cine there got amore wat...</td>\n",
       "      <td>Go until jurong point crazy Available only in bugis n great world la e buffet Cine there got amore wat</td>\n",
       "    </tr>\n",
       "    <tr>\n",
       "      <th>1</th>\n",
       "      <td>ham</td>\n",
       "      <td>Ok lar... Joking wif u oni...</td>\n",
       "      <td>Ok lar Joking wif u oni</td>\n",
       "    </tr>\n",
       "    <tr>\n",
       "      <th>2</th>\n",
       "      <td>spam</td>\n",
       "      <td>Free entry in 2 a wkly comp to win FA Cup final tkts 21st May 2005. Text FA to 87121 to receive entry question(std txt rate)T&amp;C's apply 08452810075over18's</td>\n",
       "      <td>Free entry in 2 a wkly comp to win FA Cup final tkts 21st May 2005 Text FA to 87121 to receive entry questionstd txt rateTCs apply 08452810075over18s</td>\n",
       "    </tr>\n",
       "    <tr>\n",
       "      <th>3</th>\n",
       "      <td>ham</td>\n",
       "      <td>U dun say so early hor... U c already then say...</td>\n",
       "      <td>U dun say so early hor U c already then say</td>\n",
       "    </tr>\n",
       "    <tr>\n",
       "      <th>4</th>\n",
       "      <td>ham</td>\n",
       "      <td>Nah I don't think he goes to usf, he lives around here though</td>\n",
       "      <td>Nah I dont think he goes to usf he lives around here though</td>\n",
       "    </tr>\n",
       "    <tr>\n",
       "      <th>...</th>\n",
       "      <td>...</td>\n",
       "      <td>...</td>\n",
       "      <td>...</td>\n",
       "    </tr>\n",
       "    <tr>\n",
       "      <th>5567</th>\n",
       "      <td>spam</td>\n",
       "      <td>This is the 2nd time we have tried 2 contact u. U have won the å£750 Pound prize. 2 claim is easy, call 087187272008 NOW1! Only 10p per minute. BT-national-rate.</td>\n",
       "      <td>This is the 2nd time we have tried 2 contact u U have won the å£750 Pound prize 2 claim is easy call 087187272008 NOW1 Only 10p per minute BTnationalrate</td>\n",
       "    </tr>\n",
       "    <tr>\n",
       "      <th>5568</th>\n",
       "      <td>ham</td>\n",
       "      <td>Will Ì_ b going to esplanade fr home?</td>\n",
       "      <td>Will Ì b going to esplanade fr home</td>\n",
       "    </tr>\n",
       "    <tr>\n",
       "      <th>5569</th>\n",
       "      <td>ham</td>\n",
       "      <td>Pity, * was in mood for that. So...any other suggestions?</td>\n",
       "      <td>Pity  was in mood for that Soany other suggestions</td>\n",
       "    </tr>\n",
       "    <tr>\n",
       "      <th>5570</th>\n",
       "      <td>ham</td>\n",
       "      <td>The guy did some bitching but I acted like i'd be interested in buying something else next week and he gave it to us for free</td>\n",
       "      <td>The guy did some bitching but I acted like id be interested in buying something else next week and he gave it to us for free</td>\n",
       "    </tr>\n",
       "    <tr>\n",
       "      <th>5571</th>\n",
       "      <td>ham</td>\n",
       "      <td>Rofl. Its true to its name</td>\n",
       "      <td>Rofl Its true to its name</td>\n",
       "    </tr>\n",
       "  </tbody>\n",
       "</table>\n",
       "<p>5572 rows × 3 columns</p>\n",
       "</div>"
      ],
      "text/plain": [
       "        v1  \\\n",
       "0     ham    \n",
       "1     ham    \n",
       "2     spam   \n",
       "3     ham    \n",
       "4     ham    \n",
       "...   ...    \n",
       "5567  spam   \n",
       "5568  ham    \n",
       "5569  ham    \n",
       "5570  ham    \n",
       "5571  ham    \n",
       "\n",
       "                                                                                                                                                                     v2  \\\n",
       "0     Go until jurong point, crazy.. Available only in bugis n great world la e buffet... Cine there got amore wat...                                                     \n",
       "1     Ok lar... Joking wif u oni...                                                                                                                                       \n",
       "2     Free entry in 2 a wkly comp to win FA Cup final tkts 21st May 2005. Text FA to 87121 to receive entry question(std txt rate)T&C's apply 08452810075over18's         \n",
       "3     U dun say so early hor... U c already then say...                                                                                                                   \n",
       "4     Nah I don't think he goes to usf, he lives around here though                                                                                                       \n",
       "...                                                             ...                                                                                                       \n",
       "5567  This is the 2nd time we have tried 2 contact u. U have won the å£750 Pound prize. 2 claim is easy, call 087187272008 NOW1! Only 10p per minute. BT-national-rate.   \n",
       "5568  Will Ì_ b going to esplanade fr home?                                                                                                                               \n",
       "5569  Pity, * was in mood for that. So...any other suggestions?                                                                                                           \n",
       "5570  The guy did some bitching but I acted like i'd be interested in buying something else next week and he gave it to us for free                                       \n",
       "5571  Rofl. Its true to its name                                                                                                                                          \n",
       "\n",
       "                                                                                                                                                      clean_msg  \n",
       "0     Go until jurong point crazy Available only in bugis n great world la e buffet Cine there got amore wat                                                     \n",
       "1     Ok lar Joking wif u oni                                                                                                                                    \n",
       "2     Free entry in 2 a wkly comp to win FA Cup final tkts 21st May 2005 Text FA to 87121 to receive entry questionstd txt rateTCs apply 08452810075over18s      \n",
       "3     U dun say so early hor U c already then say                                                                                                                \n",
       "4     Nah I dont think he goes to usf he lives around here though                                                                                                \n",
       "...                                                           ...                                                                                                \n",
       "5567  This is the 2nd time we have tried 2 contact u U have won the å£750 Pound prize 2 claim is easy call 087187272008 NOW1 Only 10p per minute BTnationalrate  \n",
       "5568  Will Ì b going to esplanade fr home                                                                                                                        \n",
       "5569  Pity  was in mood for that Soany other suggestions                                                                                                         \n",
       "5570  The guy did some bitching but I acted like id be interested in buying something else next week and he gave it to us for free                               \n",
       "5571  Rofl Its true to its name                                                                                                                                  \n",
       "\n",
       "[5572 rows x 3 columns]"
      ]
     },
     "execution_count": 20,
     "metadata": {},
     "output_type": "execute_result"
    }
   ],
   "source": [
    "df"
   ]
  },
  {
   "cell_type": "code",
   "execution_count": 21,
   "id": "39bca7f2",
   "metadata": {},
   "outputs": [],
   "source": [
    "df = df.drop(['v2'],axis=1)"
   ]
  },
  {
   "cell_type": "code",
   "execution_count": 22,
   "id": "fd2bec04",
   "metadata": {},
   "outputs": [
    {
     "data": {
      "text/html": [
       "<div>\n",
       "<style scoped>\n",
       "    .dataframe tbody tr th:only-of-type {\n",
       "        vertical-align: middle;\n",
       "    }\n",
       "\n",
       "    .dataframe tbody tr th {\n",
       "        vertical-align: top;\n",
       "    }\n",
       "\n",
       "    .dataframe thead th {\n",
       "        text-align: right;\n",
       "    }\n",
       "</style>\n",
       "<table border=\"1\" class=\"dataframe\">\n",
       "  <thead>\n",
       "    <tr style=\"text-align: right;\">\n",
       "      <th></th>\n",
       "      <th>v1</th>\n",
       "      <th>clean_msg</th>\n",
       "    </tr>\n",
       "  </thead>\n",
       "  <tbody>\n",
       "    <tr>\n",
       "      <th>0</th>\n",
       "      <td>ham</td>\n",
       "      <td>Go until jurong point crazy Available only in bugis n great world la e buffet Cine there got amore wat</td>\n",
       "    </tr>\n",
       "    <tr>\n",
       "      <th>1</th>\n",
       "      <td>ham</td>\n",
       "      <td>Ok lar Joking wif u oni</td>\n",
       "    </tr>\n",
       "    <tr>\n",
       "      <th>2</th>\n",
       "      <td>spam</td>\n",
       "      <td>Free entry in 2 a wkly comp to win FA Cup final tkts 21st May 2005 Text FA to 87121 to receive entry questionstd txt rateTCs apply 08452810075over18s</td>\n",
       "    </tr>\n",
       "    <tr>\n",
       "      <th>3</th>\n",
       "      <td>ham</td>\n",
       "      <td>U dun say so early hor U c already then say</td>\n",
       "    </tr>\n",
       "    <tr>\n",
       "      <th>4</th>\n",
       "      <td>ham</td>\n",
       "      <td>Nah I dont think he goes to usf he lives around here though</td>\n",
       "    </tr>\n",
       "  </tbody>\n",
       "</table>\n",
       "</div>"
      ],
      "text/plain": [
       "     v1  \\\n",
       "0  ham    \n",
       "1  ham    \n",
       "2  spam   \n",
       "3  ham    \n",
       "4  ham    \n",
       "\n",
       "                                                                                                                                               clean_msg  \n",
       "0  Go until jurong point crazy Available only in bugis n great world la e buffet Cine there got amore wat                                                 \n",
       "1  Ok lar Joking wif u oni                                                                                                                                \n",
       "2  Free entry in 2 a wkly comp to win FA Cup final tkts 21st May 2005 Text FA to 87121 to receive entry questionstd txt rateTCs apply 08452810075over18s  \n",
       "3  U dun say so early hor U c already then say                                                                                                            \n",
       "4  Nah I dont think he goes to usf he lives around here though                                                                                            "
      ]
     },
     "execution_count": 22,
     "metadata": {},
     "output_type": "execute_result"
    }
   ],
   "source": [
    "df.head()"
   ]
  },
  {
   "cell_type": "markdown",
   "id": "97963723",
   "metadata": {},
   "source": [
    "### Lowering the text case"
   ]
  },
  {
   "cell_type": "code",
   "execution_count": 24,
   "id": "34a33fe9",
   "metadata": {},
   "outputs": [
    {
     "data": {
      "text/plain": [
       "'go until jurong point crazy available only in bugis n great world la e buffet cine there got amore wat'"
      ]
     },
     "execution_count": 24,
     "metadata": {},
     "output_type": "execute_result"
    }
   ],
   "source": [
    "df['clean_msg'][0].lower()"
   ]
  },
  {
   "cell_type": "code",
   "execution_count": 25,
   "id": "faeaf51a",
   "metadata": {},
   "outputs": [],
   "source": [
    "df['clean_msg'] = df['clean_msg'].apply(lambda x:x.lower())"
   ]
  },
  {
   "cell_type": "code",
   "execution_count": 26,
   "id": "a16054ed",
   "metadata": {},
   "outputs": [
    {
     "data": {
      "text/html": [
       "<div>\n",
       "<style scoped>\n",
       "    .dataframe tbody tr th:only-of-type {\n",
       "        vertical-align: middle;\n",
       "    }\n",
       "\n",
       "    .dataframe tbody tr th {\n",
       "        vertical-align: top;\n",
       "    }\n",
       "\n",
       "    .dataframe thead th {\n",
       "        text-align: right;\n",
       "    }\n",
       "</style>\n",
       "<table border=\"1\" class=\"dataframe\">\n",
       "  <thead>\n",
       "    <tr style=\"text-align: right;\">\n",
       "      <th></th>\n",
       "      <th>v1</th>\n",
       "      <th>clean_msg</th>\n",
       "    </tr>\n",
       "  </thead>\n",
       "  <tbody>\n",
       "    <tr>\n",
       "      <th>0</th>\n",
       "      <td>ham</td>\n",
       "      <td>go until jurong point crazy available only in bugis n great world la e buffet cine there got amore wat</td>\n",
       "    </tr>\n",
       "    <tr>\n",
       "      <th>1</th>\n",
       "      <td>ham</td>\n",
       "      <td>ok lar joking wif u oni</td>\n",
       "    </tr>\n",
       "    <tr>\n",
       "      <th>2</th>\n",
       "      <td>spam</td>\n",
       "      <td>free entry in 2 a wkly comp to win fa cup final tkts 21st may 2005 text fa to 87121 to receive entry questionstd txt ratetcs apply 08452810075over18s</td>\n",
       "    </tr>\n",
       "    <tr>\n",
       "      <th>3</th>\n",
       "      <td>ham</td>\n",
       "      <td>u dun say so early hor u c already then say</td>\n",
       "    </tr>\n",
       "    <tr>\n",
       "      <th>4</th>\n",
       "      <td>ham</td>\n",
       "      <td>nah i dont think he goes to usf he lives around here though</td>\n",
       "    </tr>\n",
       "  </tbody>\n",
       "</table>\n",
       "</div>"
      ],
      "text/plain": [
       "     v1  \\\n",
       "0  ham    \n",
       "1  ham    \n",
       "2  spam   \n",
       "3  ham    \n",
       "4  ham    \n",
       "\n",
       "                                                                                                                                               clean_msg  \n",
       "0  go until jurong point crazy available only in bugis n great world la e buffet cine there got amore wat                                                 \n",
       "1  ok lar joking wif u oni                                                                                                                                \n",
       "2  free entry in 2 a wkly comp to win fa cup final tkts 21st may 2005 text fa to 87121 to receive entry questionstd txt ratetcs apply 08452810075over18s  \n",
       "3  u dun say so early hor u c already then say                                                                                                            \n",
       "4  nah i dont think he goes to usf he lives around here though                                                                                            "
      ]
     },
     "execution_count": 26,
     "metadata": {},
     "output_type": "execute_result"
    }
   ],
   "source": [
    "df.head()"
   ]
  },
  {
   "cell_type": "markdown",
   "id": "57f53828",
   "metadata": {},
   "source": [
    "### Creating tokens from sentences"
   ]
  },
  {
   "cell_type": "code",
   "execution_count": 29,
   "id": "527248b0",
   "metadata": {},
   "outputs": [],
   "source": [
    "df['msg_tokenized'] = df['clean_msg'].str.split( )"
   ]
  },
  {
   "cell_type": "code",
   "execution_count": 30,
   "id": "b79b8555",
   "metadata": {},
   "outputs": [
    {
     "data": {
      "text/html": [
       "<div>\n",
       "<style scoped>\n",
       "    .dataframe tbody tr th:only-of-type {\n",
       "        vertical-align: middle;\n",
       "    }\n",
       "\n",
       "    .dataframe tbody tr th {\n",
       "        vertical-align: top;\n",
       "    }\n",
       "\n",
       "    .dataframe thead th {\n",
       "        text-align: right;\n",
       "    }\n",
       "</style>\n",
       "<table border=\"1\" class=\"dataframe\">\n",
       "  <thead>\n",
       "    <tr style=\"text-align: right;\">\n",
       "      <th></th>\n",
       "      <th>v1</th>\n",
       "      <th>clean_msg</th>\n",
       "      <th>msg_tokenized</th>\n",
       "    </tr>\n",
       "  </thead>\n",
       "  <tbody>\n",
       "    <tr>\n",
       "      <th>0</th>\n",
       "      <td>ham</td>\n",
       "      <td>go until jurong point crazy available only in bugis n great world la e buffet cine there got amore wat</td>\n",
       "      <td>[go, until, jurong, point, crazy, available, only, in, bugis, n, great, world, la, e, buffet, cine, there, got, amore, wat]</td>\n",
       "    </tr>\n",
       "    <tr>\n",
       "      <th>1</th>\n",
       "      <td>ham</td>\n",
       "      <td>ok lar joking wif u oni</td>\n",
       "      <td>[ok, lar, joking, wif, u, oni]</td>\n",
       "    </tr>\n",
       "    <tr>\n",
       "      <th>2</th>\n",
       "      <td>spam</td>\n",
       "      <td>free entry in 2 a wkly comp to win fa cup final tkts 21st may 2005 text fa to 87121 to receive entry questionstd txt ratetcs apply 08452810075over18s</td>\n",
       "      <td>[free, entry, in, 2, a, wkly, comp, to, win, fa, cup, final, tkts, 21st, may, 2005, text, fa, to, 87121, to, receive, entry, questionstd, txt, ratetcs, apply, 08452810075over18s]</td>\n",
       "    </tr>\n",
       "    <tr>\n",
       "      <th>3</th>\n",
       "      <td>ham</td>\n",
       "      <td>u dun say so early hor u c already then say</td>\n",
       "      <td>[u, dun, say, so, early, hor, u, c, already, then, say]</td>\n",
       "    </tr>\n",
       "    <tr>\n",
       "      <th>4</th>\n",
       "      <td>ham</td>\n",
       "      <td>nah i dont think he goes to usf he lives around here though</td>\n",
       "      <td>[nah, i, dont, think, he, goes, to, usf, he, lives, around, here, though]</td>\n",
       "    </tr>\n",
       "    <tr>\n",
       "      <th>...</th>\n",
       "      <td>...</td>\n",
       "      <td>...</td>\n",
       "      <td>...</td>\n",
       "    </tr>\n",
       "    <tr>\n",
       "      <th>5567</th>\n",
       "      <td>spam</td>\n",
       "      <td>this is the 2nd time we have tried 2 contact u u have won the å£750 pound prize 2 claim is easy call 087187272008 now1 only 10p per minute btnationalrate</td>\n",
       "      <td>[this, is, the, 2nd, time, we, have, tried, 2, contact, u, u, have, won, the, å£750, pound, prize, 2, claim, is, easy, call, 087187272008, now1, only, 10p, per, minute, btnationalrate]</td>\n",
       "    </tr>\n",
       "    <tr>\n",
       "      <th>5568</th>\n",
       "      <td>ham</td>\n",
       "      <td>will ì b going to esplanade fr home</td>\n",
       "      <td>[will, ì, b, going, to, esplanade, fr, home]</td>\n",
       "    </tr>\n",
       "    <tr>\n",
       "      <th>5569</th>\n",
       "      <td>ham</td>\n",
       "      <td>pity  was in mood for that soany other suggestions</td>\n",
       "      <td>[pity, was, in, mood, for, that, soany, other, suggestions]</td>\n",
       "    </tr>\n",
       "    <tr>\n",
       "      <th>5570</th>\n",
       "      <td>ham</td>\n",
       "      <td>the guy did some bitching but i acted like id be interested in buying something else next week and he gave it to us for free</td>\n",
       "      <td>[the, guy, did, some, bitching, but, i, acted, like, id, be, interested, in, buying, something, else, next, week, and, he, gave, it, to, us, for, free]</td>\n",
       "    </tr>\n",
       "    <tr>\n",
       "      <th>5571</th>\n",
       "      <td>ham</td>\n",
       "      <td>rofl its true to its name</td>\n",
       "      <td>[rofl, its, true, to, its, name]</td>\n",
       "    </tr>\n",
       "  </tbody>\n",
       "</table>\n",
       "<p>5572 rows × 3 columns</p>\n",
       "</div>"
      ],
      "text/plain": [
       "        v1  \\\n",
       "0     ham    \n",
       "1     ham    \n",
       "2     spam   \n",
       "3     ham    \n",
       "4     ham    \n",
       "...   ...    \n",
       "5567  spam   \n",
       "5568  ham    \n",
       "5569  ham    \n",
       "5570  ham    \n",
       "5571  ham    \n",
       "\n",
       "                                                                                                                                                      clean_msg  \\\n",
       "0     go until jurong point crazy available only in bugis n great world la e buffet cine there got amore wat                                                      \n",
       "1     ok lar joking wif u oni                                                                                                                                     \n",
       "2     free entry in 2 a wkly comp to win fa cup final tkts 21st may 2005 text fa to 87121 to receive entry questionstd txt ratetcs apply 08452810075over18s       \n",
       "3     u dun say so early hor u c already then say                                                                                                                 \n",
       "4     nah i dont think he goes to usf he lives around here though                                                                                                 \n",
       "...                                                           ...                                                                                                 \n",
       "5567  this is the 2nd time we have tried 2 contact u u have won the å£750 pound prize 2 claim is easy call 087187272008 now1 only 10p per minute btnationalrate   \n",
       "5568  will ì b going to esplanade fr home                                                                                                                         \n",
       "5569  pity  was in mood for that soany other suggestions                                                                                                          \n",
       "5570  the guy did some bitching but i acted like id be interested in buying something else next week and he gave it to us for free                                \n",
       "5571  rofl its true to its name                                                                                                                                   \n",
       "\n",
       "                                                                                                                                                                                 msg_tokenized  \n",
       "0     [go, until, jurong, point, crazy, available, only, in, bugis, n, great, world, la, e, buffet, cine, there, got, amore, wat]                                                               \n",
       "1     [ok, lar, joking, wif, u, oni]                                                                                                                                                            \n",
       "2     [free, entry, in, 2, a, wkly, comp, to, win, fa, cup, final, tkts, 21st, may, 2005, text, fa, to, 87121, to, receive, entry, questionstd, txt, ratetcs, apply, 08452810075over18s]        \n",
       "3     [u, dun, say, so, early, hor, u, c, already, then, say]                                                                                                                                   \n",
       "4     [nah, i, dont, think, he, goes, to, usf, he, lives, around, here, though]                                                                                                                 \n",
       "...                                                                         ...                                                                                                                 \n",
       "5567  [this, is, the, 2nd, time, we, have, tried, 2, contact, u, u, have, won, the, å£750, pound, prize, 2, claim, is, easy, call, 087187272008, now1, only, 10p, per, minute, btnationalrate]  \n",
       "5568  [will, ì, b, going, to, esplanade, fr, home]                                                                                                                                              \n",
       "5569  [pity, was, in, mood, for, that, soany, other, suggestions]                                                                                                                               \n",
       "5570  [the, guy, did, some, bitching, but, i, acted, like, id, be, interested, in, buying, something, else, next, week, and, he, gave, it, to, us, for, free]                                   \n",
       "5571  [rofl, its, true, to, its, name]                                                                                                                                                          \n",
       "\n",
       "[5572 rows x 3 columns]"
      ]
     },
     "execution_count": 30,
     "metadata": {},
     "output_type": "execute_result"
    }
   ],
   "source": [
    "df"
   ]
  },
  {
   "cell_type": "markdown",
   "id": "9cc9f95a",
   "metadata": {},
   "source": [
    "### Removing Stop Words"
   ]
  },
  {
   "cell_type": "markdown",
   "id": "831bd17e",
   "metadata": {},
   "source": [
    "Stop words are commonly used words which do not add any importance to the analysis. These words carry less or no meaning. "
   ]
  },
  {
   "cell_type": "code",
   "execution_count": 32,
   "id": "4dbead3a",
   "metadata": {},
   "outputs": [],
   "source": [
    "import nltk"
   ]
  },
  {
   "cell_type": "code",
   "execution_count": 36,
   "id": "34fb1c12",
   "metadata": {},
   "outputs": [
    {
     "name": "stderr",
     "output_type": "stream",
     "text": [
      "[nltk_data] Downloading package stopwords to\n",
      "[nltk_data]     C:\\Users\\Predator\\AppData\\Roaming\\nltk_data...\n",
      "[nltk_data]   Unzipping corpora\\stopwords.zip.\n"
     ]
    },
    {
     "data": {
      "text/plain": [
       "True"
      ]
     },
     "execution_count": 36,
     "metadata": {},
     "output_type": "execute_result"
    }
   ],
   "source": [
    "nltk.download('stopwords')"
   ]
  },
  {
   "cell_type": "markdown",
   "id": "dd5919a2",
   "metadata": {},
   "source": [
    "Some of the available stopwords present in the nltk library are:-"
   ]
  },
  {
   "cell_type": "code",
   "execution_count": 38,
   "id": "092f71dc",
   "metadata": {},
   "outputs": [
    {
     "data": {
      "text/plain": [
       "['i',\n",
       " 'me',\n",
       " 'my',\n",
       " 'myself',\n",
       " 'we',\n",
       " 'our',\n",
       " 'ours',\n",
       " 'ourselves',\n",
       " 'you',\n",
       " \"you're\",\n",
       " \"you've\",\n",
       " \"you'll\",\n",
       " \"you'd\",\n",
       " 'your',\n",
       " 'yours',\n",
       " 'yourself',\n",
       " 'yourselves',\n",
       " 'he',\n",
       " 'him',\n",
       " 'his',\n",
       " 'himself',\n",
       " 'she',\n",
       " \"she's\",\n",
       " 'her',\n",
       " 'hers',\n",
       " 'herself',\n",
       " 'it',\n",
       " \"it's\",\n",
       " 'its',\n",
       " 'itself',\n",
       " 'they',\n",
       " 'them',\n",
       " 'their',\n",
       " 'theirs',\n",
       " 'themselves',\n",
       " 'what',\n",
       " 'which',\n",
       " 'who',\n",
       " 'whom',\n",
       " 'this',\n",
       " 'that',\n",
       " \"that'll\",\n",
       " 'these',\n",
       " 'those',\n",
       " 'am',\n",
       " 'is',\n",
       " 'are',\n",
       " 'was',\n",
       " 'were',\n",
       " 'be',\n",
       " 'been',\n",
       " 'being',\n",
       " 'have',\n",
       " 'has',\n",
       " 'had',\n",
       " 'having',\n",
       " 'do',\n",
       " 'does',\n",
       " 'did',\n",
       " 'doing',\n",
       " 'a',\n",
       " 'an',\n",
       " 'the',\n",
       " 'and',\n",
       " 'but',\n",
       " 'if',\n",
       " 'or',\n",
       " 'because',\n",
       " 'as',\n",
       " 'until',\n",
       " 'while',\n",
       " 'of',\n",
       " 'at',\n",
       " 'by',\n",
       " 'for',\n",
       " 'with',\n",
       " 'about',\n",
       " 'against',\n",
       " 'between',\n",
       " 'into',\n",
       " 'through',\n",
       " 'during',\n",
       " 'before',\n",
       " 'after',\n",
       " 'above',\n",
       " 'below',\n",
       " 'to',\n",
       " 'from',\n",
       " 'up',\n",
       " 'down',\n",
       " 'in',\n",
       " 'out',\n",
       " 'on',\n",
       " 'off',\n",
       " 'over',\n",
       " 'under',\n",
       " 'again',\n",
       " 'further',\n",
       " 'then',\n",
       " 'once',\n",
       " 'here',\n",
       " 'there',\n",
       " 'when',\n",
       " 'where',\n",
       " 'why',\n",
       " 'how',\n",
       " 'all',\n",
       " 'any',\n",
       " 'both',\n",
       " 'each',\n",
       " 'few',\n",
       " 'more',\n",
       " 'most',\n",
       " 'other',\n",
       " 'some',\n",
       " 'such',\n",
       " 'no',\n",
       " 'nor',\n",
       " 'not',\n",
       " 'only',\n",
       " 'own',\n",
       " 'same',\n",
       " 'so',\n",
       " 'than',\n",
       " 'too',\n",
       " 'very',\n",
       " 's',\n",
       " 't',\n",
       " 'can',\n",
       " 'will',\n",
       " 'just',\n",
       " 'don',\n",
       " \"don't\",\n",
       " 'should',\n",
       " \"should've\",\n",
       " 'now',\n",
       " 'd',\n",
       " 'll',\n",
       " 'm',\n",
       " 'o',\n",
       " 're',\n",
       " 've',\n",
       " 'y',\n",
       " 'ain',\n",
       " 'aren',\n",
       " \"aren't\",\n",
       " 'couldn',\n",
       " \"couldn't\",\n",
       " 'didn',\n",
       " \"didn't\",\n",
       " 'doesn',\n",
       " \"doesn't\",\n",
       " 'hadn',\n",
       " \"hadn't\",\n",
       " 'hasn',\n",
       " \"hasn't\",\n",
       " 'haven',\n",
       " \"haven't\",\n",
       " 'isn',\n",
       " \"isn't\",\n",
       " 'ma',\n",
       " 'mightn',\n",
       " \"mightn't\",\n",
       " 'mustn',\n",
       " \"mustn't\",\n",
       " 'needn',\n",
       " \"needn't\",\n",
       " 'shan',\n",
       " \"shan't\",\n",
       " 'shouldn',\n",
       " \"shouldn't\",\n",
       " 'wasn',\n",
       " \"wasn't\",\n",
       " 'weren',\n",
       " \"weren't\",\n",
       " 'won',\n",
       " \"won't\",\n",
       " 'wouldn',\n",
       " \"wouldn't\"]"
      ]
     },
     "execution_count": 38,
     "metadata": {},
     "output_type": "execute_result"
    }
   ],
   "source": [
    "stopwords = nltk.corpus.stopwords.words('english')\n",
    "stopwords"
   ]
  },
  {
   "cell_type": "markdown",
   "id": "05678008",
   "metadata": {},
   "source": [
    "### Removing such stop words from the tokenized message"
   ]
  },
  {
   "cell_type": "code",
   "execution_count": 40,
   "id": "207d4638",
   "metadata": {},
   "outputs": [
    {
     "data": {
      "text/plain": [
       "['go',\n",
       " 'until',\n",
       " 'jurong',\n",
       " 'point',\n",
       " 'crazy',\n",
       " 'available',\n",
       " 'only',\n",
       " 'in',\n",
       " 'bugis',\n",
       " 'n',\n",
       " 'great',\n",
       " 'world',\n",
       " 'la',\n",
       " 'e',\n",
       " 'buffet',\n",
       " 'cine',\n",
       " 'there',\n",
       " 'got',\n",
       " 'amore',\n",
       " 'wat']"
      ]
     },
     "execution_count": 40,
     "metadata": {},
     "output_type": "execute_result"
    }
   ],
   "source": [
    "abc = ['go', 'until', 'jurong', 'point', 'crazy', 'available', 'only', 'in', 'bugis', 'n', 'great', 'world', 'la', 'e', 'buffet', 'cine', 'there', 'got', 'amore', 'wat']\n",
    "abc"
   ]
  },
  {
   "cell_type": "code",
   "execution_count": 42,
   "id": "49c60f85",
   "metadata": {},
   "outputs": [
    {
     "name": "stdout",
     "output_type": "stream",
     "text": [
      "go\n",
      "jurong\n",
      "point\n",
      "crazy\n",
      "available\n",
      "bugis\n",
      "n\n",
      "great\n",
      "world\n",
      "la\n",
      "e\n",
      "buffet\n",
      "cine\n",
      "got\n",
      "amore\n",
      "wat\n"
     ]
    }
   ],
   "source": [
    "for word in abc:\n",
    "    if word not in stopwords:\n",
    "        print(word)"
   ]
  },
  {
   "cell_type": "code",
   "execution_count": 44,
   "id": "5e4f9555",
   "metadata": {},
   "outputs": [
    {
     "data": {
      "text/plain": [
       "['go',\n",
       " 'until',\n",
       " 'jurong',\n",
       " 'point',\n",
       " 'crazy',\n",
       " 'available',\n",
       " 'only',\n",
       " 'in',\n",
       " 'bugis',\n",
       " 'n',\n",
       " 'great',\n",
       " 'world',\n",
       " 'la',\n",
       " 'e',\n",
       " 'buffet',\n",
       " 'cine',\n",
       " 'there',\n",
       " 'got',\n",
       " 'amore',\n",
       " 'wat']"
      ]
     },
     "execution_count": 44,
     "metadata": {},
     "output_type": "execute_result"
    }
   ],
   "source": [
    "df['msg_tokenized'][0]"
   ]
  },
  {
   "cell_type": "code",
   "execution_count": 46,
   "id": "73b0320b",
   "metadata": {},
   "outputs": [],
   "source": [
    "def remove_stop_words(msg_tokenized):\n",
    "    tokens = []\n",
    "    stopwords = nltk.corpus.stopwords.words('english')\n",
    "    for token in msg_tokenized:\n",
    "        if token not in stopwords:\n",
    "            tokens.append(token)\n",
    "    return tokens"
   ]
  },
  {
   "cell_type": "code",
   "execution_count": 48,
   "id": "502a19c3",
   "metadata": {},
   "outputs": [
    {
     "name": "stdout",
     "output_type": "stream",
     "text": [
      "['go', 'jurong', 'point', 'crazy', 'available', 'bugis', 'n', 'great', 'world', 'la', 'e', 'buffet', 'cine', 'got', 'amore', 'wat']\n"
     ]
    }
   ],
   "source": [
    "print(remove_stop_words(['go', 'until', 'jurong', 'point', 'crazy', 'available', 'only', 'in', 'bugis', 'n', 'great', 'world', 'la', 'e', 'buffet', 'cine', 'there', 'got', 'amore', 'wat']))"
   ]
  },
  {
   "cell_type": "code",
   "execution_count": 49,
   "id": "46875886",
   "metadata": {},
   "outputs": [],
   "source": [
    "df['msg_wo_stopwords'] = df['msg_tokenized'].apply(lambda x: remove_stop_words(x))"
   ]
  },
  {
   "cell_type": "code",
   "execution_count": 50,
   "id": "59dbe693",
   "metadata": {},
   "outputs": [
    {
     "data": {
      "text/html": [
       "<div>\n",
       "<style scoped>\n",
       "    .dataframe tbody tr th:only-of-type {\n",
       "        vertical-align: middle;\n",
       "    }\n",
       "\n",
       "    .dataframe tbody tr th {\n",
       "        vertical-align: top;\n",
       "    }\n",
       "\n",
       "    .dataframe thead th {\n",
       "        text-align: right;\n",
       "    }\n",
       "</style>\n",
       "<table border=\"1\" class=\"dataframe\">\n",
       "  <thead>\n",
       "    <tr style=\"text-align: right;\">\n",
       "      <th></th>\n",
       "      <th>v1</th>\n",
       "      <th>clean_msg</th>\n",
       "      <th>msg_tokenized</th>\n",
       "      <th>msg_wo_stopwords</th>\n",
       "    </tr>\n",
       "  </thead>\n",
       "  <tbody>\n",
       "    <tr>\n",
       "      <th>0</th>\n",
       "      <td>ham</td>\n",
       "      <td>go until jurong point crazy available only in bugis n great world la e buffet cine there got amore wat</td>\n",
       "      <td>[go, until, jurong, point, crazy, available, only, in, bugis, n, great, world, la, e, buffet, cine, there, got, amore, wat]</td>\n",
       "      <td>[go, jurong, point, crazy, available, bugis, n, great, world, la, e, buffet, cine, got, amore, wat]</td>\n",
       "    </tr>\n",
       "    <tr>\n",
       "      <th>1</th>\n",
       "      <td>ham</td>\n",
       "      <td>ok lar joking wif u oni</td>\n",
       "      <td>[ok, lar, joking, wif, u, oni]</td>\n",
       "      <td>[ok, lar, joking, wif, u, oni]</td>\n",
       "    </tr>\n",
       "    <tr>\n",
       "      <th>2</th>\n",
       "      <td>spam</td>\n",
       "      <td>free entry in 2 a wkly comp to win fa cup final tkts 21st may 2005 text fa to 87121 to receive entry questionstd txt ratetcs apply 08452810075over18s</td>\n",
       "      <td>[free, entry, in, 2, a, wkly, comp, to, win, fa, cup, final, tkts, 21st, may, 2005, text, fa, to, 87121, to, receive, entry, questionstd, txt, ratetcs, apply, 08452810075over18s]</td>\n",
       "      <td>[free, entry, 2, wkly, comp, win, fa, cup, final, tkts, 21st, may, 2005, text, fa, 87121, receive, entry, questionstd, txt, ratetcs, apply, 08452810075over18s]</td>\n",
       "    </tr>\n",
       "    <tr>\n",
       "      <th>3</th>\n",
       "      <td>ham</td>\n",
       "      <td>u dun say so early hor u c already then say</td>\n",
       "      <td>[u, dun, say, so, early, hor, u, c, already, then, say]</td>\n",
       "      <td>[u, dun, say, early, hor, u, c, already, say]</td>\n",
       "    </tr>\n",
       "    <tr>\n",
       "      <th>4</th>\n",
       "      <td>ham</td>\n",
       "      <td>nah i dont think he goes to usf he lives around here though</td>\n",
       "      <td>[nah, i, dont, think, he, goes, to, usf, he, lives, around, here, though]</td>\n",
       "      <td>[nah, dont, think, goes, usf, lives, around, though]</td>\n",
       "    </tr>\n",
       "    <tr>\n",
       "      <th>...</th>\n",
       "      <td>...</td>\n",
       "      <td>...</td>\n",
       "      <td>...</td>\n",
       "      <td>...</td>\n",
       "    </tr>\n",
       "    <tr>\n",
       "      <th>5567</th>\n",
       "      <td>spam</td>\n",
       "      <td>this is the 2nd time we have tried 2 contact u u have won the å£750 pound prize 2 claim is easy call 087187272008 now1 only 10p per minute btnationalrate</td>\n",
       "      <td>[this, is, the, 2nd, time, we, have, tried, 2, contact, u, u, have, won, the, å£750, pound, prize, 2, claim, is, easy, call, 087187272008, now1, only, 10p, per, minute, btnationalrate]</td>\n",
       "      <td>[2nd, time, tried, 2, contact, u, u, å£750, pound, prize, 2, claim, easy, call, 087187272008, now1, 10p, per, minute, btnationalrate]</td>\n",
       "    </tr>\n",
       "    <tr>\n",
       "      <th>5568</th>\n",
       "      <td>ham</td>\n",
       "      <td>will ì b going to esplanade fr home</td>\n",
       "      <td>[will, ì, b, going, to, esplanade, fr, home]</td>\n",
       "      <td>[ì, b, going, esplanade, fr, home]</td>\n",
       "    </tr>\n",
       "    <tr>\n",
       "      <th>5569</th>\n",
       "      <td>ham</td>\n",
       "      <td>pity  was in mood for that soany other suggestions</td>\n",
       "      <td>[pity, was, in, mood, for, that, soany, other, suggestions]</td>\n",
       "      <td>[pity, mood, soany, suggestions]</td>\n",
       "    </tr>\n",
       "    <tr>\n",
       "      <th>5570</th>\n",
       "      <td>ham</td>\n",
       "      <td>the guy did some bitching but i acted like id be interested in buying something else next week and he gave it to us for free</td>\n",
       "      <td>[the, guy, did, some, bitching, but, i, acted, like, id, be, interested, in, buying, something, else, next, week, and, he, gave, it, to, us, for, free]</td>\n",
       "      <td>[guy, bitching, acted, like, id, interested, buying, something, else, next, week, gave, us, free]</td>\n",
       "    </tr>\n",
       "    <tr>\n",
       "      <th>5571</th>\n",
       "      <td>ham</td>\n",
       "      <td>rofl its true to its name</td>\n",
       "      <td>[rofl, its, true, to, its, name]</td>\n",
       "      <td>[rofl, true, name]</td>\n",
       "    </tr>\n",
       "  </tbody>\n",
       "</table>\n",
       "<p>5572 rows × 4 columns</p>\n",
       "</div>"
      ],
      "text/plain": [
       "        v1  \\\n",
       "0     ham    \n",
       "1     ham    \n",
       "2     spam   \n",
       "3     ham    \n",
       "4     ham    \n",
       "...   ...    \n",
       "5567  spam   \n",
       "5568  ham    \n",
       "5569  ham    \n",
       "5570  ham    \n",
       "5571  ham    \n",
       "\n",
       "                                                                                                                                                      clean_msg  \\\n",
       "0     go until jurong point crazy available only in bugis n great world la e buffet cine there got amore wat                                                      \n",
       "1     ok lar joking wif u oni                                                                                                                                     \n",
       "2     free entry in 2 a wkly comp to win fa cup final tkts 21st may 2005 text fa to 87121 to receive entry questionstd txt ratetcs apply 08452810075over18s       \n",
       "3     u dun say so early hor u c already then say                                                                                                                 \n",
       "4     nah i dont think he goes to usf he lives around here though                                                                                                 \n",
       "...                                                           ...                                                                                                 \n",
       "5567  this is the 2nd time we have tried 2 contact u u have won the å£750 pound prize 2 claim is easy call 087187272008 now1 only 10p per minute btnationalrate   \n",
       "5568  will ì b going to esplanade fr home                                                                                                                         \n",
       "5569  pity  was in mood for that soany other suggestions                                                                                                          \n",
       "5570  the guy did some bitching but i acted like id be interested in buying something else next week and he gave it to us for free                                \n",
       "5571  rofl its true to its name                                                                                                                                   \n",
       "\n",
       "                                                                                                                                                                                 msg_tokenized  \\\n",
       "0     [go, until, jurong, point, crazy, available, only, in, bugis, n, great, world, la, e, buffet, cine, there, got, amore, wat]                                                                \n",
       "1     [ok, lar, joking, wif, u, oni]                                                                                                                                                             \n",
       "2     [free, entry, in, 2, a, wkly, comp, to, win, fa, cup, final, tkts, 21st, may, 2005, text, fa, to, 87121, to, receive, entry, questionstd, txt, ratetcs, apply, 08452810075over18s]         \n",
       "3     [u, dun, say, so, early, hor, u, c, already, then, say]                                                                                                                                    \n",
       "4     [nah, i, dont, think, he, goes, to, usf, he, lives, around, here, though]                                                                                                                  \n",
       "...                                                                         ...                                                                                                                  \n",
       "5567  [this, is, the, 2nd, time, we, have, tried, 2, contact, u, u, have, won, the, å£750, pound, prize, 2, claim, is, easy, call, 087187272008, now1, only, 10p, per, minute, btnationalrate]   \n",
       "5568  [will, ì, b, going, to, esplanade, fr, home]                                                                                                                                               \n",
       "5569  [pity, was, in, mood, for, that, soany, other, suggestions]                                                                                                                                \n",
       "5570  [the, guy, did, some, bitching, but, i, acted, like, id, be, interested, in, buying, something, else, next, week, and, he, gave, it, to, us, for, free]                                    \n",
       "5571  [rofl, its, true, to, its, name]                                                                                                                                                           \n",
       "\n",
       "                                                                                                                                                     msg_wo_stopwords  \n",
       "0     [go, jurong, point, crazy, available, bugis, n, great, world, la, e, buffet, cine, got, amore, wat]                                                              \n",
       "1     [ok, lar, joking, wif, u, oni]                                                                                                                                   \n",
       "2     [free, entry, 2, wkly, comp, win, fa, cup, final, tkts, 21st, may, 2005, text, fa, 87121, receive, entry, questionstd, txt, ratetcs, apply, 08452810075over18s]  \n",
       "3     [u, dun, say, early, hor, u, c, already, say]                                                                                                                    \n",
       "4     [nah, dont, think, goes, usf, lives, around, though]                                                                                                             \n",
       "...                                                    ...                                                                                                             \n",
       "5567  [2nd, time, tried, 2, contact, u, u, å£750, pound, prize, 2, claim, easy, call, 087187272008, now1, 10p, per, minute, btnationalrate]                            \n",
       "5568  [ì, b, going, esplanade, fr, home]                                                                                                                               \n",
       "5569  [pity, mood, soany, suggestions]                                                                                                                                 \n",
       "5570  [guy, bitching, acted, like, id, interested, buying, something, else, next, week, gave, us, free]                                                                \n",
       "5571  [rofl, true, name]                                                                                                                                               \n",
       "\n",
       "[5572 rows x 4 columns]"
      ]
     },
     "execution_count": 50,
     "metadata": {},
     "output_type": "execute_result"
    }
   ],
   "source": [
    "df"
   ]
  },
  {
   "cell_type": "markdown",
   "id": "577075d5",
   "metadata": {},
   "source": [
    "### Stemming"
   ]
  },
  {
   "cell_type": "markdown",
   "id": "b3e0241e",
   "metadata": {},
   "source": [
    "Sometimes, we have multiple words that have the same meaning but have slightly different spelling due to sentence context. It is also known as text standardization step where the words are stemmed or diminished into their rooot/base form. For example, words like 'love', 'loving', 'loved', 'lovely' all essentially means the same thing and hence are reduced to their base form 'eat'."
   ]
  },
  {
   "cell_type": "code",
   "execution_count": 51,
   "id": "cdf0c23f",
   "metadata": {},
   "outputs": [],
   "source": [
    "from nltk.stem.porter import PorterStemmer"
   ]
  },
  {
   "cell_type": "code",
   "execution_count": 74,
   "id": "fd63e368",
   "metadata": {},
   "outputs": [
    {
     "data": {
      "text/plain": [
       "'love'"
      ]
     },
     "execution_count": 74,
     "metadata": {},
     "output_type": "execute_result"
    }
   ],
   "source": [
    "porter_stemmer = PorterStemmer()\n",
    "porter_stemmer.stem('loved')"
   ]
  },
  {
   "cell_type": "code",
   "execution_count": 80,
   "id": "fc9210b7",
   "metadata": {},
   "outputs": [],
   "source": [
    "def stemming(tokens):\n",
    "    porter_stemmer = PorterStemmer()\n",
    "    stem_tokens = [porter_stemmer.stem(token) for token in tokens]\n",
    "    return stem_tokens    "
   ]
  },
  {
   "cell_type": "code",
   "execution_count": 81,
   "id": "52c772a7",
   "metadata": {},
   "outputs": [],
   "source": [
    "df['msg_stemmed'] = df['msg_wo_stopwords'].apply(lambda x: stemming(x))"
   ]
  },
  {
   "cell_type": "code",
   "execution_count": 82,
   "id": "07616872",
   "metadata": {},
   "outputs": [
    {
     "data": {
      "text/html": [
       "<div>\n",
       "<style scoped>\n",
       "    .dataframe tbody tr th:only-of-type {\n",
       "        vertical-align: middle;\n",
       "    }\n",
       "\n",
       "    .dataframe tbody tr th {\n",
       "        vertical-align: top;\n",
       "    }\n",
       "\n",
       "    .dataframe thead th {\n",
       "        text-align: right;\n",
       "    }\n",
       "</style>\n",
       "<table border=\"1\" class=\"dataframe\">\n",
       "  <thead>\n",
       "    <tr style=\"text-align: right;\">\n",
       "      <th></th>\n",
       "      <th>v1</th>\n",
       "      <th>clean_msg</th>\n",
       "      <th>msg_tokenized</th>\n",
       "      <th>msg_wo_stopwords</th>\n",
       "      <th>msg_stemmed</th>\n",
       "    </tr>\n",
       "  </thead>\n",
       "  <tbody>\n",
       "    <tr>\n",
       "      <th>0</th>\n",
       "      <td>ham</td>\n",
       "      <td>go until jurong point crazy available only in bugis n great world la e buffet cine there got amore wat</td>\n",
       "      <td>[go, until, jurong, point, crazy, available, only, in, bugis, n, great, world, la, e, buffet, cine, there, got, amore, wat]</td>\n",
       "      <td>[go, jurong, point, crazy, available, bugis, n, great, world, la, e, buffet, cine, got, amore, wat]</td>\n",
       "      <td>[go, jurong, point, crazi, avail, bugi, n, great, world, la, e, buffet, cine, got, amor, wat]</td>\n",
       "    </tr>\n",
       "    <tr>\n",
       "      <th>1</th>\n",
       "      <td>ham</td>\n",
       "      <td>ok lar joking wif u oni</td>\n",
       "      <td>[ok, lar, joking, wif, u, oni]</td>\n",
       "      <td>[ok, lar, joking, wif, u, oni]</td>\n",
       "      <td>[ok, lar, joke, wif, u, oni]</td>\n",
       "    </tr>\n",
       "    <tr>\n",
       "      <th>2</th>\n",
       "      <td>spam</td>\n",
       "      <td>free entry in 2 a wkly comp to win fa cup final tkts 21st may 2005 text fa to 87121 to receive entry questionstd txt ratetcs apply 08452810075over18s</td>\n",
       "      <td>[free, entry, in, 2, a, wkly, comp, to, win, fa, cup, final, tkts, 21st, may, 2005, text, fa, to, 87121, to, receive, entry, questionstd, txt, ratetcs, apply, 08452810075over18s]</td>\n",
       "      <td>[free, entry, 2, wkly, comp, win, fa, cup, final, tkts, 21st, may, 2005, text, fa, 87121, receive, entry, questionstd, txt, ratetcs, apply, 08452810075over18s]</td>\n",
       "      <td>[free, entri, 2, wkli, comp, win, fa, cup, final, tkt, 21st, may, 2005, text, fa, 87121, receiv, entri, questionstd, txt, ratetc, appli, 08452810075over18]</td>\n",
       "    </tr>\n",
       "    <tr>\n",
       "      <th>3</th>\n",
       "      <td>ham</td>\n",
       "      <td>u dun say so early hor u c already then say</td>\n",
       "      <td>[u, dun, say, so, early, hor, u, c, already, then, say]</td>\n",
       "      <td>[u, dun, say, early, hor, u, c, already, say]</td>\n",
       "      <td>[u, dun, say, earli, hor, u, c, alreadi, say]</td>\n",
       "    </tr>\n",
       "    <tr>\n",
       "      <th>4</th>\n",
       "      <td>ham</td>\n",
       "      <td>nah i dont think he goes to usf he lives around here though</td>\n",
       "      <td>[nah, i, dont, think, he, goes, to, usf, he, lives, around, here, though]</td>\n",
       "      <td>[nah, dont, think, goes, usf, lives, around, though]</td>\n",
       "      <td>[nah, dont, think, goe, usf, live, around, though]</td>\n",
       "    </tr>\n",
       "    <tr>\n",
       "      <th>...</th>\n",
       "      <td>...</td>\n",
       "      <td>...</td>\n",
       "      <td>...</td>\n",
       "      <td>...</td>\n",
       "      <td>...</td>\n",
       "    </tr>\n",
       "    <tr>\n",
       "      <th>5567</th>\n",
       "      <td>spam</td>\n",
       "      <td>this is the 2nd time we have tried 2 contact u u have won the å£750 pound prize 2 claim is easy call 087187272008 now1 only 10p per minute btnationalrate</td>\n",
       "      <td>[this, is, the, 2nd, time, we, have, tried, 2, contact, u, u, have, won, the, å£750, pound, prize, 2, claim, is, easy, call, 087187272008, now1, only, 10p, per, minute, btnationalrate]</td>\n",
       "      <td>[2nd, time, tried, 2, contact, u, u, å£750, pound, prize, 2, claim, easy, call, 087187272008, now1, 10p, per, minute, btnationalrate]</td>\n",
       "      <td>[2nd, time, tri, 2, contact, u, u, å£750, pound, prize, 2, claim, easi, call, 087187272008, now1, 10p, per, minut, btnationalr]</td>\n",
       "    </tr>\n",
       "    <tr>\n",
       "      <th>5568</th>\n",
       "      <td>ham</td>\n",
       "      <td>will ì b going to esplanade fr home</td>\n",
       "      <td>[will, ì, b, going, to, esplanade, fr, home]</td>\n",
       "      <td>[ì, b, going, esplanade, fr, home]</td>\n",
       "      <td>[ì, b, go, esplanad, fr, home]</td>\n",
       "    </tr>\n",
       "    <tr>\n",
       "      <th>5569</th>\n",
       "      <td>ham</td>\n",
       "      <td>pity  was in mood for that soany other suggestions</td>\n",
       "      <td>[pity, was, in, mood, for, that, soany, other, suggestions]</td>\n",
       "      <td>[pity, mood, soany, suggestions]</td>\n",
       "      <td>[piti, mood, soani, suggest]</td>\n",
       "    </tr>\n",
       "    <tr>\n",
       "      <th>5570</th>\n",
       "      <td>ham</td>\n",
       "      <td>the guy did some bitching but i acted like id be interested in buying something else next week and he gave it to us for free</td>\n",
       "      <td>[the, guy, did, some, bitching, but, i, acted, like, id, be, interested, in, buying, something, else, next, week, and, he, gave, it, to, us, for, free]</td>\n",
       "      <td>[guy, bitching, acted, like, id, interested, buying, something, else, next, week, gave, us, free]</td>\n",
       "      <td>[guy, bitch, act, like, id, interest, buy, someth, els, next, week, gave, us, free]</td>\n",
       "    </tr>\n",
       "    <tr>\n",
       "      <th>5571</th>\n",
       "      <td>ham</td>\n",
       "      <td>rofl its true to its name</td>\n",
       "      <td>[rofl, its, true, to, its, name]</td>\n",
       "      <td>[rofl, true, name]</td>\n",
       "      <td>[rofl, true, name]</td>\n",
       "    </tr>\n",
       "  </tbody>\n",
       "</table>\n",
       "<p>5572 rows × 5 columns</p>\n",
       "</div>"
      ],
      "text/plain": [
       "        v1  \\\n",
       "0     ham    \n",
       "1     ham    \n",
       "2     spam   \n",
       "3     ham    \n",
       "4     ham    \n",
       "...   ...    \n",
       "5567  spam   \n",
       "5568  ham    \n",
       "5569  ham    \n",
       "5570  ham    \n",
       "5571  ham    \n",
       "\n",
       "                                                                                                                                                      clean_msg  \\\n",
       "0     go until jurong point crazy available only in bugis n great world la e buffet cine there got amore wat                                                      \n",
       "1     ok lar joking wif u oni                                                                                                                                     \n",
       "2     free entry in 2 a wkly comp to win fa cup final tkts 21st may 2005 text fa to 87121 to receive entry questionstd txt ratetcs apply 08452810075over18s       \n",
       "3     u dun say so early hor u c already then say                                                                                                                 \n",
       "4     nah i dont think he goes to usf he lives around here though                                                                                                 \n",
       "...                                                           ...                                                                                                 \n",
       "5567  this is the 2nd time we have tried 2 contact u u have won the å£750 pound prize 2 claim is easy call 087187272008 now1 only 10p per minute btnationalrate   \n",
       "5568  will ì b going to esplanade fr home                                                                                                                         \n",
       "5569  pity  was in mood for that soany other suggestions                                                                                                          \n",
       "5570  the guy did some bitching but i acted like id be interested in buying something else next week and he gave it to us for free                                \n",
       "5571  rofl its true to its name                                                                                                                                   \n",
       "\n",
       "                                                                                                                                                                                 msg_tokenized  \\\n",
       "0     [go, until, jurong, point, crazy, available, only, in, bugis, n, great, world, la, e, buffet, cine, there, got, amore, wat]                                                                \n",
       "1     [ok, lar, joking, wif, u, oni]                                                                                                                                                             \n",
       "2     [free, entry, in, 2, a, wkly, comp, to, win, fa, cup, final, tkts, 21st, may, 2005, text, fa, to, 87121, to, receive, entry, questionstd, txt, ratetcs, apply, 08452810075over18s]         \n",
       "3     [u, dun, say, so, early, hor, u, c, already, then, say]                                                                                                                                    \n",
       "4     [nah, i, dont, think, he, goes, to, usf, he, lives, around, here, though]                                                                                                                  \n",
       "...                                                                         ...                                                                                                                  \n",
       "5567  [this, is, the, 2nd, time, we, have, tried, 2, contact, u, u, have, won, the, å£750, pound, prize, 2, claim, is, easy, call, 087187272008, now1, only, 10p, per, minute, btnationalrate]   \n",
       "5568  [will, ì, b, going, to, esplanade, fr, home]                                                                                                                                               \n",
       "5569  [pity, was, in, mood, for, that, soany, other, suggestions]                                                                                                                                \n",
       "5570  [the, guy, did, some, bitching, but, i, acted, like, id, be, interested, in, buying, something, else, next, week, and, he, gave, it, to, us, for, free]                                    \n",
       "5571  [rofl, its, true, to, its, name]                                                                                                                                                           \n",
       "\n",
       "                                                                                                                                                     msg_wo_stopwords  \\\n",
       "0     [go, jurong, point, crazy, available, bugis, n, great, world, la, e, buffet, cine, got, amore, wat]                                                               \n",
       "1     [ok, lar, joking, wif, u, oni]                                                                                                                                    \n",
       "2     [free, entry, 2, wkly, comp, win, fa, cup, final, tkts, 21st, may, 2005, text, fa, 87121, receive, entry, questionstd, txt, ratetcs, apply, 08452810075over18s]   \n",
       "3     [u, dun, say, early, hor, u, c, already, say]                                                                                                                     \n",
       "4     [nah, dont, think, goes, usf, lives, around, though]                                                                                                              \n",
       "...                                                    ...                                                                                                              \n",
       "5567  [2nd, time, tried, 2, contact, u, u, å£750, pound, prize, 2, claim, easy, call, 087187272008, now1, 10p, per, minute, btnationalrate]                             \n",
       "5568  [ì, b, going, esplanade, fr, home]                                                                                                                                \n",
       "5569  [pity, mood, soany, suggestions]                                                                                                                                  \n",
       "5570  [guy, bitching, acted, like, id, interested, buying, something, else, next, week, gave, us, free]                                                                 \n",
       "5571  [rofl, true, name]                                                                                                                                                \n",
       "\n",
       "                                                                                                                                                      msg_stemmed  \n",
       "0     [go, jurong, point, crazi, avail, bugi, n, great, world, la, e, buffet, cine, got, amor, wat]                                                                \n",
       "1     [ok, lar, joke, wif, u, oni]                                                                                                                                 \n",
       "2     [free, entri, 2, wkli, comp, win, fa, cup, final, tkt, 21st, may, 2005, text, fa, 87121, receiv, entri, questionstd, txt, ratetc, appli, 08452810075over18]  \n",
       "3     [u, dun, say, earli, hor, u, c, alreadi, say]                                                                                                                \n",
       "4     [nah, dont, think, goe, usf, live, around, though]                                                                                                           \n",
       "...                                                  ...                                                                                                           \n",
       "5567  [2nd, time, tri, 2, contact, u, u, å£750, pound, prize, 2, claim, easi, call, 087187272008, now1, 10p, per, minut, btnationalr]                              \n",
       "5568  [ì, b, go, esplanad, fr, home]                                                                                                                               \n",
       "5569  [piti, mood, soani, suggest]                                                                                                                                 \n",
       "5570  [guy, bitch, act, like, id, interest, buy, someth, els, next, week, gave, us, free]                                                                          \n",
       "5571  [rofl, true, name]                                                                                                                                           \n",
       "\n",
       "[5572 rows x 5 columns]"
      ]
     },
     "execution_count": 82,
     "metadata": {},
     "output_type": "execute_result"
    }
   ],
   "source": [
    "df"
   ]
  },
  {
   "cell_type": "markdown",
   "id": "b7baab90",
   "metadata": {},
   "source": [
    "### Lemmatization"
   ]
  },
  {
   "cell_type": "markdown",
   "id": "5a1ad2a4",
   "metadata": {},
   "source": [
    "It stems the word but makes sure that it does not lose its meaning. It has a predefined dictionary that stores the context of words and checks the word in the dictionary while diminishing."
   ]
  },
  {
   "cell_type": "code",
   "execution_count": 83,
   "id": "f4421f13",
   "metadata": {},
   "outputs": [],
   "source": [
    "from nltk.stem import WordNetLemmatizer"
   ]
  },
  {
   "cell_type": "code",
   "execution_count": 84,
   "id": "553f0f22",
   "metadata": {},
   "outputs": [],
   "source": [
    "wordnet_lemmatizer = WordNetLemmatizer()"
   ]
  },
  {
   "cell_type": "code",
   "execution_count": 97,
   "id": "fda48703",
   "metadata": {},
   "outputs": [],
   "source": [
    "def lemmatizer(tokens):\n",
    "    lemmatized_tokens = [wordnet_lemmatizer.lemmatize(word) for token in tokens]\n",
    "    return lemmatized_tokens"
   ]
  },
  {
   "cell_type": "code",
   "execution_count": 98,
   "id": "deb9031d",
   "metadata": {},
   "outputs": [],
   "source": [
    "df['msg_lemmatized'] = df['msg_wo_stopwords'].apply(lambda x: lemmatizer(x))"
   ]
  },
  {
   "cell_type": "code",
   "execution_count": 99,
   "id": "8d1ff2b2",
   "metadata": {},
   "outputs": [
    {
     "data": {
      "text/html": [
       "<div>\n",
       "<style scoped>\n",
       "    .dataframe tbody tr th:only-of-type {\n",
       "        vertical-align: middle;\n",
       "    }\n",
       "\n",
       "    .dataframe tbody tr th {\n",
       "        vertical-align: top;\n",
       "    }\n",
       "\n",
       "    .dataframe thead th {\n",
       "        text-align: right;\n",
       "    }\n",
       "</style>\n",
       "<table border=\"1\" class=\"dataframe\">\n",
       "  <thead>\n",
       "    <tr style=\"text-align: right;\">\n",
       "      <th></th>\n",
       "      <th>v1</th>\n",
       "      <th>clean_msg</th>\n",
       "      <th>msg_tokenized</th>\n",
       "      <th>msg_wo_stopwords</th>\n",
       "      <th>msg_stemmed</th>\n",
       "      <th>msg_lemmatized</th>\n",
       "    </tr>\n",
       "  </thead>\n",
       "  <tbody>\n",
       "    <tr>\n",
       "      <th>0</th>\n",
       "      <td>ham</td>\n",
       "      <td>go until jurong point crazy available only in bugis n great world la e buffet cine there got amore wat</td>\n",
       "      <td>[go, until, jurong, point, crazy, available, only, in, bugis, n, great, world, la, e, buffet, cine, there, got, amore, wat]</td>\n",
       "      <td>[go, jurong, point, crazy, available, bugis, n, great, world, la, e, buffet, cine, got, amore, wat]</td>\n",
       "      <td>[go, jurong, point, crazi, avail, bugi, n, great, world, la, e, buffet, cine, got, amor, wat]</td>\n",
       "      <td>[wat, wat, wat, wat, wat, wat, wat, wat, wat, wat, wat, wat, wat, wat, wat, wat]</td>\n",
       "    </tr>\n",
       "    <tr>\n",
       "      <th>1</th>\n",
       "      <td>ham</td>\n",
       "      <td>ok lar joking wif u oni</td>\n",
       "      <td>[ok, lar, joking, wif, u, oni]</td>\n",
       "      <td>[ok, lar, joking, wif, u, oni]</td>\n",
       "      <td>[ok, lar, joke, wif, u, oni]</td>\n",
       "      <td>[wat, wat, wat, wat, wat, wat]</td>\n",
       "    </tr>\n",
       "    <tr>\n",
       "      <th>2</th>\n",
       "      <td>spam</td>\n",
       "      <td>free entry in 2 a wkly comp to win fa cup final tkts 21st may 2005 text fa to 87121 to receive entry questionstd txt ratetcs apply 08452810075over18s</td>\n",
       "      <td>[free, entry, in, 2, a, wkly, comp, to, win, fa, cup, final, tkts, 21st, may, 2005, text, fa, to, 87121, to, receive, entry, questionstd, txt, ratetcs, apply, 08452810075over18s]</td>\n",
       "      <td>[free, entry, 2, wkly, comp, win, fa, cup, final, tkts, 21st, may, 2005, text, fa, 87121, receive, entry, questionstd, txt, ratetcs, apply, 08452810075over18s]</td>\n",
       "      <td>[free, entri, 2, wkli, comp, win, fa, cup, final, tkt, 21st, may, 2005, text, fa, 87121, receiv, entri, questionstd, txt, ratetc, appli, 08452810075over18]</td>\n",
       "      <td>[wat, wat, wat, wat, wat, wat, wat, wat, wat, wat, wat, wat, wat, wat, wat, wat, wat, wat, wat, wat, wat, wat, wat]</td>\n",
       "    </tr>\n",
       "    <tr>\n",
       "      <th>3</th>\n",
       "      <td>ham</td>\n",
       "      <td>u dun say so early hor u c already then say</td>\n",
       "      <td>[u, dun, say, so, early, hor, u, c, already, then, say]</td>\n",
       "      <td>[u, dun, say, early, hor, u, c, already, say]</td>\n",
       "      <td>[u, dun, say, earli, hor, u, c, alreadi, say]</td>\n",
       "      <td>[wat, wat, wat, wat, wat, wat, wat, wat, wat]</td>\n",
       "    </tr>\n",
       "    <tr>\n",
       "      <th>4</th>\n",
       "      <td>ham</td>\n",
       "      <td>nah i dont think he goes to usf he lives around here though</td>\n",
       "      <td>[nah, i, dont, think, he, goes, to, usf, he, lives, around, here, though]</td>\n",
       "      <td>[nah, dont, think, goes, usf, lives, around, though]</td>\n",
       "      <td>[nah, dont, think, goe, usf, live, around, though]</td>\n",
       "      <td>[wat, wat, wat, wat, wat, wat, wat, wat]</td>\n",
       "    </tr>\n",
       "    <tr>\n",
       "      <th>...</th>\n",
       "      <td>...</td>\n",
       "      <td>...</td>\n",
       "      <td>...</td>\n",
       "      <td>...</td>\n",
       "      <td>...</td>\n",
       "      <td>...</td>\n",
       "    </tr>\n",
       "    <tr>\n",
       "      <th>5567</th>\n",
       "      <td>spam</td>\n",
       "      <td>this is the 2nd time we have tried 2 contact u u have won the å£750 pound prize 2 claim is easy call 087187272008 now1 only 10p per minute btnationalrate</td>\n",
       "      <td>[this, is, the, 2nd, time, we, have, tried, 2, contact, u, u, have, won, the, å£750, pound, prize, 2, claim, is, easy, call, 087187272008, now1, only, 10p, per, minute, btnationalrate]</td>\n",
       "      <td>[2nd, time, tried, 2, contact, u, u, å£750, pound, prize, 2, claim, easy, call, 087187272008, now1, 10p, per, minute, btnationalrate]</td>\n",
       "      <td>[2nd, time, tri, 2, contact, u, u, å£750, pound, prize, 2, claim, easi, call, 087187272008, now1, 10p, per, minut, btnationalr]</td>\n",
       "      <td>[wat, wat, wat, wat, wat, wat, wat, wat, wat, wat, wat, wat, wat, wat, wat, wat, wat, wat, wat, wat]</td>\n",
       "    </tr>\n",
       "    <tr>\n",
       "      <th>5568</th>\n",
       "      <td>ham</td>\n",
       "      <td>will ì b going to esplanade fr home</td>\n",
       "      <td>[will, ì, b, going, to, esplanade, fr, home]</td>\n",
       "      <td>[ì, b, going, esplanade, fr, home]</td>\n",
       "      <td>[ì, b, go, esplanad, fr, home]</td>\n",
       "      <td>[wat, wat, wat, wat, wat, wat]</td>\n",
       "    </tr>\n",
       "    <tr>\n",
       "      <th>5569</th>\n",
       "      <td>ham</td>\n",
       "      <td>pity  was in mood for that soany other suggestions</td>\n",
       "      <td>[pity, was, in, mood, for, that, soany, other, suggestions]</td>\n",
       "      <td>[pity, mood, soany, suggestions]</td>\n",
       "      <td>[piti, mood, soani, suggest]</td>\n",
       "      <td>[wat, wat, wat, wat]</td>\n",
       "    </tr>\n",
       "    <tr>\n",
       "      <th>5570</th>\n",
       "      <td>ham</td>\n",
       "      <td>the guy did some bitching but i acted like id be interested in buying something else next week and he gave it to us for free</td>\n",
       "      <td>[the, guy, did, some, bitching, but, i, acted, like, id, be, interested, in, buying, something, else, next, week, and, he, gave, it, to, us, for, free]</td>\n",
       "      <td>[guy, bitching, acted, like, id, interested, buying, something, else, next, week, gave, us, free]</td>\n",
       "      <td>[guy, bitch, act, like, id, interest, buy, someth, els, next, week, gave, us, free]</td>\n",
       "      <td>[wat, wat, wat, wat, wat, wat, wat, wat, wat, wat, wat, wat, wat, wat]</td>\n",
       "    </tr>\n",
       "    <tr>\n",
       "      <th>5571</th>\n",
       "      <td>ham</td>\n",
       "      <td>rofl its true to its name</td>\n",
       "      <td>[rofl, its, true, to, its, name]</td>\n",
       "      <td>[rofl, true, name]</td>\n",
       "      <td>[rofl, true, name]</td>\n",
       "      <td>[wat, wat, wat]</td>\n",
       "    </tr>\n",
       "  </tbody>\n",
       "</table>\n",
       "<p>5572 rows × 6 columns</p>\n",
       "</div>"
      ],
      "text/plain": [
       "        v1  \\\n",
       "0     ham    \n",
       "1     ham    \n",
       "2     spam   \n",
       "3     ham    \n",
       "4     ham    \n",
       "...   ...    \n",
       "5567  spam   \n",
       "5568  ham    \n",
       "5569  ham    \n",
       "5570  ham    \n",
       "5571  ham    \n",
       "\n",
       "                                                                                                                                                      clean_msg  \\\n",
       "0     go until jurong point crazy available only in bugis n great world la e buffet cine there got amore wat                                                      \n",
       "1     ok lar joking wif u oni                                                                                                                                     \n",
       "2     free entry in 2 a wkly comp to win fa cup final tkts 21st may 2005 text fa to 87121 to receive entry questionstd txt ratetcs apply 08452810075over18s       \n",
       "3     u dun say so early hor u c already then say                                                                                                                 \n",
       "4     nah i dont think he goes to usf he lives around here though                                                                                                 \n",
       "...                                                           ...                                                                                                 \n",
       "5567  this is the 2nd time we have tried 2 contact u u have won the å£750 pound prize 2 claim is easy call 087187272008 now1 only 10p per minute btnationalrate   \n",
       "5568  will ì b going to esplanade fr home                                                                                                                         \n",
       "5569  pity  was in mood for that soany other suggestions                                                                                                          \n",
       "5570  the guy did some bitching but i acted like id be interested in buying something else next week and he gave it to us for free                                \n",
       "5571  rofl its true to its name                                                                                                                                   \n",
       "\n",
       "                                                                                                                                                                                 msg_tokenized  \\\n",
       "0     [go, until, jurong, point, crazy, available, only, in, bugis, n, great, world, la, e, buffet, cine, there, got, amore, wat]                                                                \n",
       "1     [ok, lar, joking, wif, u, oni]                                                                                                                                                             \n",
       "2     [free, entry, in, 2, a, wkly, comp, to, win, fa, cup, final, tkts, 21st, may, 2005, text, fa, to, 87121, to, receive, entry, questionstd, txt, ratetcs, apply, 08452810075over18s]         \n",
       "3     [u, dun, say, so, early, hor, u, c, already, then, say]                                                                                                                                    \n",
       "4     [nah, i, dont, think, he, goes, to, usf, he, lives, around, here, though]                                                                                                                  \n",
       "...                                                                         ...                                                                                                                  \n",
       "5567  [this, is, the, 2nd, time, we, have, tried, 2, contact, u, u, have, won, the, å£750, pound, prize, 2, claim, is, easy, call, 087187272008, now1, only, 10p, per, minute, btnationalrate]   \n",
       "5568  [will, ì, b, going, to, esplanade, fr, home]                                                                                                                                               \n",
       "5569  [pity, was, in, mood, for, that, soany, other, suggestions]                                                                                                                                \n",
       "5570  [the, guy, did, some, bitching, but, i, acted, like, id, be, interested, in, buying, something, else, next, week, and, he, gave, it, to, us, for, free]                                    \n",
       "5571  [rofl, its, true, to, its, name]                                                                                                                                                           \n",
       "\n",
       "                                                                                                                                                     msg_wo_stopwords  \\\n",
       "0     [go, jurong, point, crazy, available, bugis, n, great, world, la, e, buffet, cine, got, amore, wat]                                                               \n",
       "1     [ok, lar, joking, wif, u, oni]                                                                                                                                    \n",
       "2     [free, entry, 2, wkly, comp, win, fa, cup, final, tkts, 21st, may, 2005, text, fa, 87121, receive, entry, questionstd, txt, ratetcs, apply, 08452810075over18s]   \n",
       "3     [u, dun, say, early, hor, u, c, already, say]                                                                                                                     \n",
       "4     [nah, dont, think, goes, usf, lives, around, though]                                                                                                              \n",
       "...                                                    ...                                                                                                              \n",
       "5567  [2nd, time, tried, 2, contact, u, u, å£750, pound, prize, 2, claim, easy, call, 087187272008, now1, 10p, per, minute, btnationalrate]                             \n",
       "5568  [ì, b, going, esplanade, fr, home]                                                                                                                                \n",
       "5569  [pity, mood, soany, suggestions]                                                                                                                                  \n",
       "5570  [guy, bitching, acted, like, id, interested, buying, something, else, next, week, gave, us, free]                                                                 \n",
       "5571  [rofl, true, name]                                                                                                                                                \n",
       "\n",
       "                                                                                                                                                      msg_stemmed  \\\n",
       "0     [go, jurong, point, crazi, avail, bugi, n, great, world, la, e, buffet, cine, got, amor, wat]                                                                 \n",
       "1     [ok, lar, joke, wif, u, oni]                                                                                                                                  \n",
       "2     [free, entri, 2, wkli, comp, win, fa, cup, final, tkt, 21st, may, 2005, text, fa, 87121, receiv, entri, questionstd, txt, ratetc, appli, 08452810075over18]   \n",
       "3     [u, dun, say, earli, hor, u, c, alreadi, say]                                                                                                                 \n",
       "4     [nah, dont, think, goe, usf, live, around, though]                                                                                                            \n",
       "...                                                  ...                                                                                                            \n",
       "5567  [2nd, time, tri, 2, contact, u, u, å£750, pound, prize, 2, claim, easi, call, 087187272008, now1, 10p, per, minut, btnationalr]                               \n",
       "5568  [ì, b, go, esplanad, fr, home]                                                                                                                                \n",
       "5569  [piti, mood, soani, suggest]                                                                                                                                  \n",
       "5570  [guy, bitch, act, like, id, interest, buy, someth, els, next, week, gave, us, free]                                                                           \n",
       "5571  [rofl, true, name]                                                                                                                                            \n",
       "\n",
       "                                                                                                           msg_lemmatized  \n",
       "0     [wat, wat, wat, wat, wat, wat, wat, wat, wat, wat, wat, wat, wat, wat, wat, wat]                                     \n",
       "1     [wat, wat, wat, wat, wat, wat]                                                                                       \n",
       "2     [wat, wat, wat, wat, wat, wat, wat, wat, wat, wat, wat, wat, wat, wat, wat, wat, wat, wat, wat, wat, wat, wat, wat]  \n",
       "3     [wat, wat, wat, wat, wat, wat, wat, wat, wat]                                                                        \n",
       "4     [wat, wat, wat, wat, wat, wat, wat, wat]                                                                             \n",
       "...                                        ...                                                                             \n",
       "5567  [wat, wat, wat, wat, wat, wat, wat, wat, wat, wat, wat, wat, wat, wat, wat, wat, wat, wat, wat, wat]                 \n",
       "5568  [wat, wat, wat, wat, wat, wat]                                                                                       \n",
       "5569  [wat, wat, wat, wat]                                                                                                 \n",
       "5570  [wat, wat, wat, wat, wat, wat, wat, wat, wat, wat, wat, wat, wat, wat]                                               \n",
       "5571  [wat, wat, wat]                                                                                                      \n",
       "\n",
       "[5572 rows x 6 columns]"
      ]
     },
     "execution_count": 99,
     "metadata": {},
     "output_type": "execute_result"
    }
   ],
   "source": [
    "df"
   ]
  },
  {
   "cell_type": "markdown",
   "id": "80385c46",
   "metadata": {},
   "source": [
    "### After all the text preprocessing steps are performed, the final acquired data are converted to the numeric form using Bag of Words or Tf-idf."
   ]
  },
  {
   "cell_type": "markdown",
   "id": "c8a7e280",
   "metadata": {},
   "source": [
    "## Bag of Words"
   ]
  },
  {
   "cell_type": "markdown",
   "id": "254be569",
   "metadata": {},
   "source": [
    "Bag of words helps convert the text into numerical representation such that the same can be used to train models using machine learning algorithms. The key steps of fitting a bag-of-words model are:-\n",
    "- Create a vocabulary indices of words or tokens from the entire set of documents. The vocabulary indices can be created in alphabetical order.\n",
    "- Construct the numerical feature vector for each document that represents how frequent each word appears in different documents. The feature vector representing each will be sparse in nature as the words in each document will represent only a small subset of words out of all words (bag-of-words) present in entire set of documents.\n",
    "\n",
    "Bag of Words differs form One hot encoding in a way that, instead of vector of boolean values, it uses a vector of word frequencies. But Bag of words approach totally ignores the order of wrods and simply usese word counts as their basis. For each word in the post, its occurence is counted and noted in a vector. Not surprisingly, this step is also called vectorization. The vector is typicallly huge as it contains many elements as words occur in the whole dataset."
   ]
  },
  {
   "cell_type": "markdown",
   "id": "8249c448",
   "metadata": {},
   "source": [
    "### Creating Bag of Words using sklearn"
   ]
  },
  {
   "cell_type": "code",
   "execution_count": 113,
   "id": "47309fc5",
   "metadata": {},
   "outputs": [],
   "source": [
    "from sklearn.feature_extraction.text import CountVectorizer"
   ]
  },
  {
   "cell_type": "markdown",
   "id": "cb556e18",
   "metadata": {},
   "source": [
    "The CountVectorizer converts the collection of text documents to a matrix of token counts."
   ]
  },
  {
   "cell_type": "code",
   "execution_count": 116,
   "id": "c3cadd63",
   "metadata": {},
   "outputs": [],
   "source": [
    "count_vectorizer = CountVectorizer(lowercase=True,stop_words='english')\n",
    "content = [\n",
    "    'How to format my hard disk',\n",
    "    'Hard disk format problems',\n",
    "    'My hard disk is not working',\n",
    "    'I forgot my external hard disk'\n",
    "]\n",
    "X = count_vectorizer.fit_transform(content)"
   ]
  },
  {
   "cell_type": "code",
   "execution_count": 117,
   "id": "1b2ce2aa",
   "metadata": {},
   "outputs": [
    {
     "data": {
      "text/plain": [
       "['disk', 'external', 'forgot', 'format', 'hard', 'problems', 'working']"
      ]
     },
     "execution_count": 117,
     "metadata": {},
     "output_type": "execute_result"
    }
   ],
   "source": [
    "count_vectorizer.get_feature_names()"
   ]
  },
  {
   "cell_type": "code",
   "execution_count": 118,
   "id": "f0059060",
   "metadata": {},
   "outputs": [
    {
     "data": {
      "text/plain": [
       "array([[1, 0, 0, 1, 1, 0, 0],\n",
       "       [1, 0, 0, 1, 1, 1, 0],\n",
       "       [1, 0, 0, 0, 1, 0, 1],\n",
       "       [1, 1, 1, 0, 1, 0, 0]], dtype=int64)"
      ]
     },
     "execution_count": 118,
     "metadata": {},
     "output_type": "execute_result"
    }
   ],
   "source": [
    "X.toarray()"
   ]
  },
  {
   "cell_type": "code",
   "execution_count": 121,
   "id": "64491c8d",
   "metadata": {},
   "outputs": [
    {
     "data": {
      "text/html": [
       "<div>\n",
       "<style scoped>\n",
       "    .dataframe tbody tr th:only-of-type {\n",
       "        vertical-align: middle;\n",
       "    }\n",
       "\n",
       "    .dataframe tbody tr th {\n",
       "        vertical-align: top;\n",
       "    }\n",
       "\n",
       "    .dataframe thead th {\n",
       "        text-align: right;\n",
       "    }\n",
       "</style>\n",
       "<table border=\"1\" class=\"dataframe\">\n",
       "  <thead>\n",
       "    <tr style=\"text-align: right;\">\n",
       "      <th></th>\n",
       "      <th>disk</th>\n",
       "      <th>external</th>\n",
       "      <th>forgot</th>\n",
       "      <th>format</th>\n",
       "      <th>hard</th>\n",
       "      <th>problems</th>\n",
       "      <th>working</th>\n",
       "    </tr>\n",
       "  </thead>\n",
       "  <tbody>\n",
       "    <tr>\n",
       "      <th>How to format my hard disk</th>\n",
       "      <td>1</td>\n",
       "      <td>0</td>\n",
       "      <td>0</td>\n",
       "      <td>1</td>\n",
       "      <td>1</td>\n",
       "      <td>0</td>\n",
       "      <td>0</td>\n",
       "    </tr>\n",
       "    <tr>\n",
       "      <th>Hard disk format problems</th>\n",
       "      <td>1</td>\n",
       "      <td>0</td>\n",
       "      <td>0</td>\n",
       "      <td>1</td>\n",
       "      <td>1</td>\n",
       "      <td>1</td>\n",
       "      <td>0</td>\n",
       "    </tr>\n",
       "    <tr>\n",
       "      <th>My hard disk is not working</th>\n",
       "      <td>1</td>\n",
       "      <td>0</td>\n",
       "      <td>0</td>\n",
       "      <td>0</td>\n",
       "      <td>1</td>\n",
       "      <td>0</td>\n",
       "      <td>1</td>\n",
       "    </tr>\n",
       "    <tr>\n",
       "      <th>I forgot my external hard disk</th>\n",
       "      <td>1</td>\n",
       "      <td>1</td>\n",
       "      <td>1</td>\n",
       "      <td>0</td>\n",
       "      <td>1</td>\n",
       "      <td>0</td>\n",
       "      <td>0</td>\n",
       "    </tr>\n",
       "  </tbody>\n",
       "</table>\n",
       "</div>"
      ],
      "text/plain": [
       "                                disk  external  forgot  format  hard  \\\n",
       "How to format my hard disk      1     0         0       1       1      \n",
       "Hard disk format problems       1     0         0       1       1      \n",
       "My hard disk is not working     1     0         0       0       1      \n",
       "I forgot my external hard disk  1     1         1       0       1      \n",
       "\n",
       "                                problems  working  \n",
       "How to format my hard disk      0         0        \n",
       "Hard disk format problems       1         0        \n",
       "My hard disk is not working     0         1        \n",
       "I forgot my external hard disk  0         0        "
      ]
     },
     "execution_count": 121,
     "metadata": {},
     "output_type": "execute_result"
    }
   ],
   "source": [
    "pd.DataFrame(X.toarray(), columns = count_vectorizer.get_feature_names(), index=content)"
   ]
  },
  {
   "cell_type": "markdown",
   "id": "a6d8f124",
   "metadata": {},
   "source": [
    "### Bag of n-grams"
   ]
  },
  {
   "cell_type": "markdown",
   "id": "14267d53",
   "metadata": {},
   "source": [
    "The bag of n-grams is a natural extension of bag of words. N-grams are continuous sequences of words or symbols or tokens in a document. In technical terms, they can be defined as the neighbouring sequences of items in a document. \n",
    "\n",
    "<b>n-grams</b> can be classified into following types, depending on the value that 'n' takes."
   ]
  },
  {
   "attachments": {
    "image.png": {
     "image/png": "[encoded data removed]"
    }
   },
   "cell_type": "markdown",
   "id": "ddd6f7f0",
   "metadata": {},
   "source": [
    "![image.png](attachment:image.png)"
   ]
  },
  {
   "cell_type": "markdown",
   "id": "3391a1f4",
   "metadata": {},
   "source": [
    "### Bigram"
   ]
  },
  {
   "cell_type": "code",
   "execution_count": 145,
   "id": "b1db5110",
   "metadata": {},
   "outputs": [],
   "source": [
    "vectorizer = CountVectorizer(lowercase=True,stop_words='english',\n",
    "                                   ngram_range=(2,2))\n",
    "content = [\n",
    "    'How to format my hard disk',\n",
    "    'Hard disk format problems',\n",
    "    'My hard disk is not working',\n",
    "    'I forgot my external hard disk'\n",
    "]\n",
    "X = vectorizer.fit_transform(content)"
   ]
  },
  {
   "cell_type": "code",
   "execution_count": 146,
   "id": "aef51617",
   "metadata": {},
   "outputs": [
    {
     "data": {
      "text/plain": [
       "['disk format',\n",
       " 'disk working',\n",
       " 'external hard',\n",
       " 'forgot external',\n",
       " 'format hard',\n",
       " 'format problems',\n",
       " 'hard disk']"
      ]
     },
     "execution_count": 146,
     "metadata": {},
     "output_type": "execute_result"
    }
   ],
   "source": [
    "vectorizer.get_feature_names()"
   ]
  },
  {
   "cell_type": "code",
   "execution_count": 149,
   "id": "2e4bd5ab",
   "metadata": {},
   "outputs": [
    {
     "data": {
      "text/plain": [
       "array([[0, 0, 0, 0, 1, 0, 1],\n",
       "       [1, 0, 0, 0, 0, 1, 1],\n",
       "       [0, 1, 0, 0, 0, 0, 1],\n",
       "       [0, 0, 1, 1, 0, 0, 1]], dtype=int64)"
      ]
     },
     "execution_count": 149,
     "metadata": {},
     "output_type": "execute_result"
    }
   ],
   "source": [
    "X.toarray()"
   ]
  },
  {
   "cell_type": "code",
   "execution_count": 150,
   "id": "0ba5be4a",
   "metadata": {},
   "outputs": [
    {
     "data": {
      "text/html": [
       "<div>\n",
       "<style scoped>\n",
       "    .dataframe tbody tr th:only-of-type {\n",
       "        vertical-align: middle;\n",
       "    }\n",
       "\n",
       "    .dataframe tbody tr th {\n",
       "        vertical-align: top;\n",
       "    }\n",
       "\n",
       "    .dataframe thead th {\n",
       "        text-align: right;\n",
       "    }\n",
       "</style>\n",
       "<table border=\"1\" class=\"dataframe\">\n",
       "  <thead>\n",
       "    <tr style=\"text-align: right;\">\n",
       "      <th></th>\n",
       "      <th>disk format</th>\n",
       "      <th>disk working</th>\n",
       "      <th>external hard</th>\n",
       "      <th>forgot external</th>\n",
       "      <th>format hard</th>\n",
       "      <th>format problems</th>\n",
       "      <th>hard disk</th>\n",
       "    </tr>\n",
       "  </thead>\n",
       "  <tbody>\n",
       "    <tr>\n",
       "      <th>How to format my hard disk</th>\n",
       "      <td>0</td>\n",
       "      <td>0</td>\n",
       "      <td>0</td>\n",
       "      <td>0</td>\n",
       "      <td>1</td>\n",
       "      <td>0</td>\n",
       "      <td>1</td>\n",
       "    </tr>\n",
       "    <tr>\n",
       "      <th>Hard disk format problems</th>\n",
       "      <td>1</td>\n",
       "      <td>0</td>\n",
       "      <td>0</td>\n",
       "      <td>0</td>\n",
       "      <td>0</td>\n",
       "      <td>1</td>\n",
       "      <td>1</td>\n",
       "    </tr>\n",
       "    <tr>\n",
       "      <th>My hard disk is not working</th>\n",
       "      <td>0</td>\n",
       "      <td>1</td>\n",
       "      <td>0</td>\n",
       "      <td>0</td>\n",
       "      <td>0</td>\n",
       "      <td>0</td>\n",
       "      <td>1</td>\n",
       "    </tr>\n",
       "    <tr>\n",
       "      <th>I forgot my external hard disk</th>\n",
       "      <td>0</td>\n",
       "      <td>0</td>\n",
       "      <td>1</td>\n",
       "      <td>1</td>\n",
       "      <td>0</td>\n",
       "      <td>0</td>\n",
       "      <td>1</td>\n",
       "    </tr>\n",
       "  </tbody>\n",
       "</table>\n",
       "</div>"
      ],
      "text/plain": [
       "                                disk format  disk working  external hard  \\\n",
       "How to format my hard disk      0            0             0               \n",
       "Hard disk format problems       1            0             0               \n",
       "My hard disk is not working     0            1             0               \n",
       "I forgot my external hard disk  0            0             1               \n",
       "\n",
       "                                forgot external  format hard  format problems  \\\n",
       "How to format my hard disk      0                1            0                 \n",
       "Hard disk format problems       0                0            1                 \n",
       "My hard disk is not working     0                0            0                 \n",
       "I forgot my external hard disk  1                0            0                 \n",
       "\n",
       "                                hard disk  \n",
       "How to format my hard disk      1          \n",
       "Hard disk format problems       1          \n",
       "My hard disk is not working     1          \n",
       "I forgot my external hard disk  1          "
      ]
     },
     "execution_count": 150,
     "metadata": {},
     "output_type": "execute_result"
    }
   ],
   "source": [
    "pd.DataFrame(data=X.toarray(), index=content, columns = vectorizer.get_feature_names())"
   ]
  },
  {
   "cell_type": "markdown",
   "id": "9e7f5041",
   "metadata": {},
   "source": [
    "### Trigrams"
   ]
  },
  {
   "cell_type": "code",
   "execution_count": 151,
   "id": "f6873710",
   "metadata": {},
   "outputs": [],
   "source": [
    "vectorizer = CountVectorizer(lowercase=True,stop_words='english',\n",
    "                                   ngram_range=(3,3))\n",
    "content = [\n",
    "    'How to format my hard disk',\n",
    "    'Hard disk format problems',\n",
    "    'My hard disk is not working',\n",
    "    'I forgot my external hard disk'\n",
    "]\n",
    "X = vectorizer.fit_transform(content)"
   ]
  },
  {
   "cell_type": "code",
   "execution_count": 152,
   "id": "0a33764a",
   "metadata": {},
   "outputs": [
    {
     "data": {
      "text/plain": [
       "['disk format problems',\n",
       " 'external hard disk',\n",
       " 'forgot external hard',\n",
       " 'format hard disk',\n",
       " 'hard disk format',\n",
       " 'hard disk working']"
      ]
     },
     "execution_count": 152,
     "metadata": {},
     "output_type": "execute_result"
    }
   ],
   "source": [
    "vectorizer.get_feature_names()"
   ]
  },
  {
   "cell_type": "code",
   "execution_count": 153,
   "id": "5dcec9aa",
   "metadata": {},
   "outputs": [
    {
     "data": {
      "text/plain": [
       "array([[0, 0, 0, 1, 0, 0],\n",
       "       [1, 0, 0, 0, 1, 0],\n",
       "       [0, 0, 0, 0, 0, 1],\n",
       "       [0, 1, 1, 0, 0, 0]], dtype=int64)"
      ]
     },
     "execution_count": 153,
     "metadata": {},
     "output_type": "execute_result"
    }
   ],
   "source": [
    "X.toarray()"
   ]
  },
  {
   "cell_type": "code",
   "execution_count": 154,
   "id": "b0b15d4f",
   "metadata": {},
   "outputs": [
    {
     "data": {
      "text/html": [
       "<div>\n",
       "<style scoped>\n",
       "    .dataframe tbody tr th:only-of-type {\n",
       "        vertical-align: middle;\n",
       "    }\n",
       "\n",
       "    .dataframe tbody tr th {\n",
       "        vertical-align: top;\n",
       "    }\n",
       "\n",
       "    .dataframe thead th {\n",
       "        text-align: right;\n",
       "    }\n",
       "</style>\n",
       "<table border=\"1\" class=\"dataframe\">\n",
       "  <thead>\n",
       "    <tr style=\"text-align: right;\">\n",
       "      <th></th>\n",
       "      <th>disk format problems</th>\n",
       "      <th>external hard disk</th>\n",
       "      <th>forgot external hard</th>\n",
       "      <th>format hard disk</th>\n",
       "      <th>hard disk format</th>\n",
       "      <th>hard disk working</th>\n",
       "    </tr>\n",
       "  </thead>\n",
       "  <tbody>\n",
       "    <tr>\n",
       "      <th>How to format my hard disk</th>\n",
       "      <td>0</td>\n",
       "      <td>0</td>\n",
       "      <td>0</td>\n",
       "      <td>1</td>\n",
       "      <td>0</td>\n",
       "      <td>0</td>\n",
       "    </tr>\n",
       "    <tr>\n",
       "      <th>Hard disk format problems</th>\n",
       "      <td>1</td>\n",
       "      <td>0</td>\n",
       "      <td>0</td>\n",
       "      <td>0</td>\n",
       "      <td>1</td>\n",
       "      <td>0</td>\n",
       "    </tr>\n",
       "    <tr>\n",
       "      <th>My hard disk is not working</th>\n",
       "      <td>0</td>\n",
       "      <td>0</td>\n",
       "      <td>0</td>\n",
       "      <td>0</td>\n",
       "      <td>0</td>\n",
       "      <td>1</td>\n",
       "    </tr>\n",
       "    <tr>\n",
       "      <th>I forgot my external hard disk</th>\n",
       "      <td>0</td>\n",
       "      <td>1</td>\n",
       "      <td>1</td>\n",
       "      <td>0</td>\n",
       "      <td>0</td>\n",
       "      <td>0</td>\n",
       "    </tr>\n",
       "  </tbody>\n",
       "</table>\n",
       "</div>"
      ],
      "text/plain": [
       "                                disk format problems  external hard disk  \\\n",
       "How to format my hard disk      0                     0                    \n",
       "Hard disk format problems       1                     0                    \n",
       "My hard disk is not working     0                     0                    \n",
       "I forgot my external hard disk  0                     1                    \n",
       "\n",
       "                                forgot external hard  format hard disk  \\\n",
       "How to format my hard disk      0                     1                  \n",
       "Hard disk format problems       0                     0                  \n",
       "My hard disk is not working     0                     0                  \n",
       "I forgot my external hard disk  1                     0                  \n",
       "\n",
       "                                hard disk format  hard disk working  \n",
       "How to format my hard disk      0                 0                  \n",
       "Hard disk format problems       1                 0                  \n",
       "My hard disk is not working     0                 1                  \n",
       "I forgot my external hard disk  0                 0                  "
      ]
     },
     "execution_count": 154,
     "metadata": {},
     "output_type": "execute_result"
    }
   ],
   "source": [
    "pd.DataFrame(data=X.toarray(), index=content, columns = vectorizer.get_feature_names())"
   ]
  },
  {
   "cell_type": "markdown",
   "id": "7759b978",
   "metadata": {},
   "source": [
    "## TF-IDF"
   ]
  },
  {
   "cell_type": "markdown",
   "id": "8c1c4df6",
   "metadata": {},
   "source": [
    "<b>TF = Term Frequency and IDF = Inverse Document Frequency</b>\n",
    "\n",
    "TF-Idf counts term frequencies for every post and in addition discount those that appear in many posts. In other words, we want a high value for a given term in a given value, if that term occurs often in that particular post and very seldom anywhere else. In short, TF-IDF computes the weight of a word in a specific document, taking into account the overall distribution of words."
   ]
  },
  {
   "cell_type": "markdown",
   "id": "d261d8ce",
   "metadata": {},
   "source": [
    "### How to Compute:"
   ]
  },
  {
   "cell_type": "markdown",
   "id": "3907102e",
   "metadata": {},
   "source": [
    "Typically, the tf-idf weight is composed by two terms: the first computes the normalized Term Frequency (TF), aka. the number of times a word appears in a document, divided by the total number of words in that document; the second term is the Inverse Document Frequency (IDF), computed as the logarithm of the number of the documents in the corpus divided by the number of documents where the specific term appears."
   ]
  },
  {
   "cell_type": "markdown",
   "id": "b36a833a",
   "metadata": {},
   "source": [
    "#### TF\n",
    "Term Frequency, which measures how frequently a term occurs in a document. Since every document is different in length, it is possible that a term would appear much more times in long documents than shorter ones. Thus, the term frequency is often divided by the document length (aka. the total number of terms in the document) as a way of normalization:\n",
    "\n",
    "- $$TF(t) = \\frac{Number\\;of\\;times\\;term\\;t\\;appears\\;in\\;a\\;document}{Total\\;number\\;of\\;terms\\;in\\;the\\;document}$$\n"
   ]
  },
  {
   "cell_type": "markdown",
   "id": "1b3b7f2a",
   "metadata": {},
   "source": [
    "#### IDF\n",
    "\n",
    "Inverse Document Frequency, which measures how important a term is. While computing TF, all terms are considered equally important. However it is known that certain terms, such as “is”, “of”, and “that”, may appear a lot of times but have little importance. Thus we need to weigh down the frequent terms while scale up the rare ones, by computing the following:\n",
    "\n",
    "- $$IDF(t) = log\\left( \\frac{Total\\;number\\;of\\;documents}{Number\\;of\\;documents\\;where\\;the\\;term\\;appears} \\right)$$"
   ]
  },
  {
   "cell_type": "markdown",
   "id": "bac5d517",
   "metadata": {},
   "source": [
    "#### Example: \n",
    "\n",
    "Consider a document containing 100 words wherein the word cat appears 3 times. The term frequency (i.e., tf) for cat is then (3 / 100) = 0.03. Now, assume we have 10 million documents and the word cat appears in one thousand of these. Then, the inverse document frequency (i.e., idf) is calculated as log(10,000,000 / 1,000) = 4. Thus, the Tf-idf weight is the product of these quantities: 0.03 * 4 = 0.12."
   ]
  },
  {
   "cell_type": "markdown",
   "id": "bcab586e",
   "metadata": {},
   "source": [
    "### Using TfidfTransformer to computed the tf-idf weighted document-term matrix"
   ]
  },
  {
   "cell_type": "markdown",
   "id": "ce236c8b",
   "metadata": {},
   "source": [
    "The <b>TfidfTransformer</b> transforms a count matrix to a normalized tf or tf-idf representation. The goal of using tf-idf instead of the raw frequencies of occurrence of a token in a given document is to scale down the impact of tokens that occur very frequently in a given corpus and that are hence empirically less informative than features that occur in a small fraction of the training corpus."
   ]
  },
  {
   "cell_type": "code",
   "execution_count": 155,
   "id": "f1c32554",
   "metadata": {},
   "outputs": [],
   "source": [
    "from sklearn.feature_extraction.text import TfidfTransformer\n",
    "from sklearn.feature_extraction.text import CountVectorizer\n",
    "from sklearn.pipeline import Pipeline"
   ]
  },
  {
   "cell_type": "code",
   "execution_count": 157,
   "id": "66c79e99",
   "metadata": {},
   "outputs": [],
   "source": [
    "content = [\n",
    "    'How to format my hard disk',\n",
    "    'Hard disk format problems',\n",
    "    'My hard disk is not working',\n",
    "    'I forgot my external hard disk'\n",
    "]"
   ]
  },
  {
   "cell_type": "code",
   "execution_count": 203,
   "id": "947c3c06",
   "metadata": {},
   "outputs": [],
   "source": [
    "count_vectorizer = CountVectorizer(lowercase=True, stop_words='english')\n",
    "word_count_vector = count_vectorizer.fit_transform(content)"
   ]
  },
  {
   "cell_type": "code",
   "execution_count": 204,
   "id": "60fc04ea",
   "metadata": {},
   "outputs": [
    {
     "data": {
      "text/plain": [
       "array([[1, 0, 0, 1, 1, 0, 0],\n",
       "       [1, 0, 0, 1, 1, 1, 0],\n",
       "       [1, 0, 0, 0, 1, 0, 1],\n",
       "       [1, 1, 1, 0, 1, 0, 0]], dtype=int64)"
      ]
     },
     "execution_count": 204,
     "metadata": {},
     "output_type": "execute_result"
    }
   ],
   "source": [
    "word_count_vector.toarray()"
   ]
  },
  {
   "cell_type": "code",
   "execution_count": 195,
   "id": "08207277",
   "metadata": {},
   "outputs": [
    {
     "data": {
      "text/plain": [
       "array([1.        , 1.91629073, 1.91629073, 1.51082562, 1.        ,\n",
       "       1.91629073, 1.91629073])"
      ]
     },
     "execution_count": 195,
     "metadata": {},
     "output_type": "execute_result"
    }
   ],
   "source": [
    "pipeline['tfidf'].idf_"
   ]
  },
  {
   "cell_type": "code",
   "execution_count": 199,
   "id": "a9712538",
   "metadata": {},
   "outputs": [
    {
     "data": {
      "text/html": [
       "<div>\n",
       "<style scoped>\n",
       "    .dataframe tbody tr th:only-of-type {\n",
       "        vertical-align: middle;\n",
       "    }\n",
       "\n",
       "    .dataframe tbody tr th {\n",
       "        vertical-align: top;\n",
       "    }\n",
       "\n",
       "    .dataframe thead th {\n",
       "        text-align: right;\n",
       "    }\n",
       "</style>\n",
       "<table border=\"1\" class=\"dataframe\">\n",
       "  <thead>\n",
       "    <tr style=\"text-align: right;\">\n",
       "      <th></th>\n",
       "      <th>idf_weights</th>\n",
       "    </tr>\n",
       "  </thead>\n",
       "  <tbody>\n",
       "    <tr>\n",
       "      <th>disk</th>\n",
       "      <td>1.000000</td>\n",
       "    </tr>\n",
       "    <tr>\n",
       "      <th>external</th>\n",
       "      <td>1.916291</td>\n",
       "    </tr>\n",
       "    <tr>\n",
       "      <th>forgot</th>\n",
       "      <td>1.916291</td>\n",
       "    </tr>\n",
       "    <tr>\n",
       "      <th>format</th>\n",
       "      <td>1.510826</td>\n",
       "    </tr>\n",
       "    <tr>\n",
       "      <th>hard</th>\n",
       "      <td>1.000000</td>\n",
       "    </tr>\n",
       "    <tr>\n",
       "      <th>problems</th>\n",
       "      <td>1.916291</td>\n",
       "    </tr>\n",
       "    <tr>\n",
       "      <th>working</th>\n",
       "      <td>1.916291</td>\n",
       "    </tr>\n",
       "  </tbody>\n",
       "</table>\n",
       "</div>"
      ],
      "text/plain": [
       "          idf_weights\n",
       "disk      1.000000   \n",
       "external  1.916291   \n",
       "forgot    1.916291   \n",
       "format    1.510826   \n",
       "hard      1.000000   \n",
       "problems  1.916291   \n",
       "working   1.916291   "
      ]
     },
     "execution_count": 199,
     "metadata": {},
     "output_type": "execute_result"
    }
   ],
   "source": [
    "pd.DataFrame(pipeline['tfidf'].idf_, index=pipeline['count_vectorizer'].get_feature_names(), columns = ['idf_weights'])"
   ]
  },
  {
   "cell_type": "code",
   "execution_count": 209,
   "id": "6561ff5a",
   "metadata": {},
   "outputs": [
    {
     "data": {
      "text/html": [
       "<div>\n",
       "<style scoped>\n",
       "    .dataframe tbody tr th:only-of-type {\n",
       "        vertical-align: middle;\n",
       "    }\n",
       "\n",
       "    .dataframe tbody tr th {\n",
       "        vertical-align: top;\n",
       "    }\n",
       "\n",
       "    .dataframe thead th {\n",
       "        text-align: right;\n",
       "    }\n",
       "</style>\n",
       "<table border=\"1\" class=\"dataframe\">\n",
       "  <thead>\n",
       "    <tr style=\"text-align: right;\">\n",
       "      <th></th>\n",
       "      <th>disk</th>\n",
       "      <th>external</th>\n",
       "      <th>forgot</th>\n",
       "      <th>format</th>\n",
       "      <th>hard</th>\n",
       "      <th>problems</th>\n",
       "      <th>working</th>\n",
       "    </tr>\n",
       "  </thead>\n",
       "  <tbody>\n",
       "    <tr>\n",
       "      <th>How to format my hard disk</th>\n",
       "      <td>1</td>\n",
       "      <td>0</td>\n",
       "      <td>0</td>\n",
       "      <td>1</td>\n",
       "      <td>1</td>\n",
       "      <td>0</td>\n",
       "      <td>0</td>\n",
       "    </tr>\n",
       "    <tr>\n",
       "      <th>Hard disk format problems</th>\n",
       "      <td>1</td>\n",
       "      <td>0</td>\n",
       "      <td>0</td>\n",
       "      <td>1</td>\n",
       "      <td>1</td>\n",
       "      <td>1</td>\n",
       "      <td>0</td>\n",
       "    </tr>\n",
       "    <tr>\n",
       "      <th>My hard disk is not working</th>\n",
       "      <td>1</td>\n",
       "      <td>0</td>\n",
       "      <td>0</td>\n",
       "      <td>0</td>\n",
       "      <td>1</td>\n",
       "      <td>0</td>\n",
       "      <td>1</td>\n",
       "    </tr>\n",
       "    <tr>\n",
       "      <th>I forgot my external hard disk</th>\n",
       "      <td>1</td>\n",
       "      <td>1</td>\n",
       "      <td>1</td>\n",
       "      <td>0</td>\n",
       "      <td>1</td>\n",
       "      <td>0</td>\n",
       "      <td>0</td>\n",
       "    </tr>\n",
       "  </tbody>\n",
       "</table>\n",
       "</div>"
      ],
      "text/plain": [
       "                                disk  external  forgot  format  hard  \\\n",
       "How to format my hard disk      1     0         0       1       1      \n",
       "Hard disk format problems       1     0         0       1       1      \n",
       "My hard disk is not working     1     0         0       0       1      \n",
       "I forgot my external hard disk  1     1         1       0       1      \n",
       "\n",
       "                                problems  working  \n",
       "How to format my hard disk      0         0        \n",
       "Hard disk format problems       1         0        \n",
       "My hard disk is not working     0         1        \n",
       "I forgot my external hard disk  0         0        "
      ]
     },
     "execution_count": 209,
     "metadata": {},
     "output_type": "execute_result"
    }
   ],
   "source": [
    "df_cv = pd.DataFrame(word_count_vector.toarray(), index=content, columns=count_vectorizer.get_feature_names())\n",
    "df_cv"
   ]
  },
  {
   "cell_type": "markdown",
   "id": "76017435",
   "metadata": {},
   "source": [
    "### Computing the idf values"
   ]
  },
  {
   "cell_type": "code",
   "execution_count": 210,
   "id": "18578fd7",
   "metadata": {},
   "outputs": [
    {
     "data": {
      "text/plain": [
       "TfidfTransformer()"
      ]
     },
     "execution_count": 210,
     "metadata": {},
     "output_type": "execute_result"
    }
   ],
   "source": [
    "tfidf = TfidfTransformer()\n",
    "tfidf.fit(word_count_vector)"
   ]
  },
  {
   "cell_type": "code",
   "execution_count": 211,
   "id": "b96a6f8a",
   "metadata": {},
   "outputs": [
    {
     "data": {
      "text/html": [
       "<div>\n",
       "<style scoped>\n",
       "    .dataframe tbody tr th:only-of-type {\n",
       "        vertical-align: middle;\n",
       "    }\n",
       "\n",
       "    .dataframe tbody tr th {\n",
       "        vertical-align: top;\n",
       "    }\n",
       "\n",
       "    .dataframe thead th {\n",
       "        text-align: right;\n",
       "    }\n",
       "</style>\n",
       "<table border=\"1\" class=\"dataframe\">\n",
       "  <thead>\n",
       "    <tr style=\"text-align: right;\">\n",
       "      <th></th>\n",
       "      <th>0</th>\n",
       "    </tr>\n",
       "  </thead>\n",
       "  <tbody>\n",
       "    <tr>\n",
       "      <th>disk</th>\n",
       "      <td>1.000000</td>\n",
       "    </tr>\n",
       "    <tr>\n",
       "      <th>external</th>\n",
       "      <td>1.916291</td>\n",
       "    </tr>\n",
       "    <tr>\n",
       "      <th>forgot</th>\n",
       "      <td>1.916291</td>\n",
       "    </tr>\n",
       "    <tr>\n",
       "      <th>format</th>\n",
       "      <td>1.510826</td>\n",
       "    </tr>\n",
       "    <tr>\n",
       "      <th>hard</th>\n",
       "      <td>1.000000</td>\n",
       "    </tr>\n",
       "    <tr>\n",
       "      <th>problems</th>\n",
       "      <td>1.916291</td>\n",
       "    </tr>\n",
       "    <tr>\n",
       "      <th>working</th>\n",
       "      <td>1.916291</td>\n",
       "    </tr>\n",
       "  </tbody>\n",
       "</table>\n",
       "</div>"
      ],
      "text/plain": [
       "                 0\n",
       "disk      1.000000\n",
       "external  1.916291\n",
       "forgot    1.916291\n",
       "format    1.510826\n",
       "hard      1.000000\n",
       "problems  1.916291\n",
       "working   1.916291"
      ]
     },
     "execution_count": 211,
     "metadata": {},
     "output_type": "execute_result"
    }
   ],
   "source": [
    "df_idf = pd.DataFrame(tfidf.idf_, index=count_vectorizer.get_feature_names())\n",
    "df_idf"
   ]
  },
  {
   "cell_type": "markdown",
   "id": "f9d29754",
   "metadata": {},
   "source": [
    "Here, notice that the words 'disk' and 'hard' appears to have the lowest idf values. This is expected as these words appear in each and every document in our collection. The lower the IDF value of a word, the less unique it is to any particular document. "
   ]
  },
  {
   "cell_type": "markdown",
   "id": "f4a4ad7c",
   "metadata": {},
   "source": [
    "#### Computing the Tf-idf score for our documents"
   ]
  },
  {
   "cell_type": "code",
   "execution_count": 224,
   "id": "3765e1f9",
   "metadata": {},
   "outputs": [
    {
     "data": {
      "text/plain": [
       "array([[1, 0, 0, 1, 1, 0, 0],\n",
       "       [1, 0, 0, 1, 1, 1, 0],\n",
       "       [1, 0, 0, 0, 1, 0, 1],\n",
       "       [1, 1, 1, 0, 1, 0, 0]], dtype=int64)"
      ]
     },
     "execution_count": 224,
     "metadata": {},
     "output_type": "execute_result"
    }
   ],
   "source": [
    "word_count_vector.toarray()"
   ]
  },
  {
   "cell_type": "code",
   "execution_count": 225,
   "id": "3d4611e6",
   "metadata": {},
   "outputs": [],
   "source": [
    "tf_idf_vector = tfidf.transform(word_count_vector)"
   ]
  },
  {
   "cell_type": "code",
   "execution_count": 226,
   "id": "5def718a",
   "metadata": {},
   "outputs": [
    {
     "data": {
      "text/plain": [
       "array([[0.48322183, 0.        , 0.        , 0.73006392, 0.48322183,\n",
       "        0.        , 0.        ],\n",
       "       [0.35455723, 0.        , 0.        , 0.53567415, 0.35455723,\n",
       "        0.67943473, 0.        ],\n",
       "       [0.41988018, 0.        , 0.        , 0.        , 0.41988018,\n",
       "        0.        , 0.8046125 ],\n",
       "       [0.32713399, 0.62688384, 0.62688384, 0.        , 0.32713399,\n",
       "        0.        , 0.        ]])"
      ]
     },
     "execution_count": 226,
     "metadata": {},
     "output_type": "execute_result"
    }
   ],
   "source": [
    "tf_idf_vector.toarray()"
   ]
  },
  {
   "cell_type": "code",
   "execution_count": 227,
   "id": "9da72c4d",
   "metadata": {},
   "outputs": [
    {
     "data": {
      "text/plain": [
       "['disk', 'external', 'forgot', 'format', 'hard', 'problems', 'working']"
      ]
     },
     "execution_count": 227,
     "metadata": {},
     "output_type": "execute_result"
    }
   ],
   "source": [
    "feature_names = count_vectorizer.get_feature_names()\n",
    "feature_names"
   ]
  },
  {
   "cell_type": "code",
   "execution_count": 236,
   "id": "55ff3d04",
   "metadata": {},
   "outputs": [
    {
     "data": {
      "text/plain": [
       "'How to format my hard disk'"
      ]
     },
     "execution_count": 236,
     "metadata": {},
     "output_type": "execute_result"
    }
   ],
   "source": [
    "content[0]"
   ]
  },
  {
   "cell_type": "code",
   "execution_count": 229,
   "id": "b0ce3103",
   "metadata": {},
   "outputs": [
    {
     "data": {
      "text/plain": [
       "array([[0.48322183, 0.        , 0.        , 0.73006392, 0.48322183,\n",
       "        0.        , 0.        ]])"
      ]
     },
     "execution_count": 229,
     "metadata": {},
     "output_type": "execute_result"
    }
   ],
   "source": [
    "first_document_vector = tf_idf_vector[0]\n",
    "first_document_vector.toarray()"
   ]
  },
  {
   "cell_type": "code",
   "execution_count": 235,
   "id": "dcd380de",
   "metadata": {},
   "outputs": [
    {
     "data": {
      "text/html": [
       "<div>\n",
       "<style scoped>\n",
       "    .dataframe tbody tr th:only-of-type {\n",
       "        vertical-align: middle;\n",
       "    }\n",
       "\n",
       "    .dataframe tbody tr th {\n",
       "        vertical-align: top;\n",
       "    }\n",
       "\n",
       "    .dataframe thead th {\n",
       "        text-align: right;\n",
       "    }\n",
       "</style>\n",
       "<table border=\"1\" class=\"dataframe\">\n",
       "  <thead>\n",
       "    <tr style=\"text-align: right;\">\n",
       "      <th></th>\n",
       "      <th>0</th>\n",
       "    </tr>\n",
       "  </thead>\n",
       "  <tbody>\n",
       "    <tr>\n",
       "      <th>disk</th>\n",
       "      <td>0.483222</td>\n",
       "    </tr>\n",
       "    <tr>\n",
       "      <th>external</th>\n",
       "      <td>0.000000</td>\n",
       "    </tr>\n",
       "    <tr>\n",
       "      <th>forgot</th>\n",
       "      <td>0.000000</td>\n",
       "    </tr>\n",
       "    <tr>\n",
       "      <th>format</th>\n",
       "      <td>0.730064</td>\n",
       "    </tr>\n",
       "    <tr>\n",
       "      <th>hard</th>\n",
       "      <td>0.483222</td>\n",
       "    </tr>\n",
       "    <tr>\n",
       "      <th>problems</th>\n",
       "      <td>0.000000</td>\n",
       "    </tr>\n",
       "    <tr>\n",
       "      <th>working</th>\n",
       "      <td>0.000000</td>\n",
       "    </tr>\n",
       "  </tbody>\n",
       "</table>\n",
       "</div>"
      ],
      "text/plain": [
       "                 0\n",
       "disk      0.483222\n",
       "external  0.000000\n",
       "forgot    0.000000\n",
       "format    0.730064\n",
       "hard      0.483222\n",
       "problems  0.000000\n",
       "working   0.000000"
      ]
     },
     "execution_count": 235,
     "metadata": {},
     "output_type": "execute_result"
    }
   ],
   "source": [
    "pd.DataFrame(first_document_vector.T.todense(),index=feature_names)"
   ]
  },
  {
   "cell_type": "markdown",
   "id": "bb78900e",
   "metadata": {},
   "source": [
    "The above dataframe, shows the Tf-idf scores of the first document."
   ]
  },
  {
   "cell_type": "markdown",
   "id": "a5401893",
   "metadata": {},
   "source": [
    "Notice that only disk, format and hard have scores. This is because our first document is 'How to format my hard disk'. All the words in this document have a tf-idf score and everything else shows up as zeroes. "
   ]
  },
  {
   "cell_type": "markdown",
   "id": "5922eeeb",
   "metadata": {},
   "source": [
    "The scores above make sense. The more common the word across documents, the lower its score and the more unique a word is to our first document (e.g:- 'format') the higher the score."
   ]
  },
  {
   "cell_type": "markdown",
   "id": "6dcb0917",
   "metadata": {},
   "source": [
    "## Using TfidfVectorizer"
   ]
  },
  {
   "cell_type": "markdown",
   "id": "fd0c3d23",
   "metadata": {},
   "source": [
    "<b>Note: TfidfVectorizer = CountVectorizer + TfidfTransformer </b>"
   ]
  },
  {
   "cell_type": "code",
   "execution_count": 237,
   "id": "cb71b522",
   "metadata": {},
   "outputs": [],
   "source": [
    "from sklearn.feature_extraction.text import TfidfVectorizer"
   ]
  },
  {
   "cell_type": "code",
   "execution_count": 238,
   "id": "040103f5",
   "metadata": {},
   "outputs": [
    {
     "data": {
      "text/plain": [
       "['How to format my hard disk',\n",
       " 'Hard disk format problems',\n",
       " 'My hard disk is not working',\n",
       " 'I forgot my external hard disk']"
      ]
     },
     "execution_count": 238,
     "metadata": {},
     "output_type": "execute_result"
    }
   ],
   "source": [
    "content"
   ]
  },
  {
   "cell_type": "code",
   "execution_count": 244,
   "id": "bcc8f3fc",
   "metadata": {},
   "outputs": [],
   "source": [
    "vectorizer = TfidfVectorizer(lowercase=True, stop_words='english')"
   ]
  },
  {
   "cell_type": "code",
   "execution_count": 245,
   "id": "89f2c231",
   "metadata": {},
   "outputs": [],
   "source": [
    "X = vectorizer.fit_transform(content)"
   ]
  },
  {
   "cell_type": "code",
   "execution_count": 246,
   "id": "d4e053fc",
   "metadata": {},
   "outputs": [
    {
     "data": {
      "text/plain": [
       "array([[0.48322183, 0.        , 0.        , 0.73006392, 0.48322183,\n",
       "        0.        , 0.        ],\n",
       "       [0.35455723, 0.        , 0.        , 0.53567415, 0.35455723,\n",
       "        0.67943473, 0.        ],\n",
       "       [0.41988018, 0.        , 0.        , 0.        , 0.41988018,\n",
       "        0.        , 0.8046125 ],\n",
       "       [0.32713399, 0.62688384, 0.62688384, 0.        , 0.32713399,\n",
       "        0.        , 0.        ]])"
      ]
     },
     "execution_count": 246,
     "metadata": {},
     "output_type": "execute_result"
    }
   ],
   "source": [
    "X.toarray()"
   ]
  },
  {
   "cell_type": "code",
   "execution_count": 247,
   "id": "387902ee",
   "metadata": {},
   "outputs": [
    {
     "data": {
      "text/plain": [
       "['disk', 'external', 'forgot', 'format', 'hard', 'problems', 'working']"
      ]
     },
     "execution_count": 247,
     "metadata": {},
     "output_type": "execute_result"
    }
   ],
   "source": [
    "vectorizer.get_feature_names()"
   ]
  },
  {
   "cell_type": "code",
   "execution_count": 248,
   "id": "348f66e6",
   "metadata": {},
   "outputs": [
    {
     "data": {
      "text/html": [
       "<div>\n",
       "<style scoped>\n",
       "    .dataframe tbody tr th:only-of-type {\n",
       "        vertical-align: middle;\n",
       "    }\n",
       "\n",
       "    .dataframe tbody tr th {\n",
       "        vertical-align: top;\n",
       "    }\n",
       "\n",
       "    .dataframe thead th {\n",
       "        text-align: right;\n",
       "    }\n",
       "</style>\n",
       "<table border=\"1\" class=\"dataframe\">\n",
       "  <thead>\n",
       "    <tr style=\"text-align: right;\">\n",
       "      <th></th>\n",
       "      <th>disk</th>\n",
       "      <th>external</th>\n",
       "      <th>forgot</th>\n",
       "      <th>format</th>\n",
       "      <th>hard</th>\n",
       "      <th>problems</th>\n",
       "      <th>working</th>\n",
       "    </tr>\n",
       "  </thead>\n",
       "  <tbody>\n",
       "    <tr>\n",
       "      <th>How to format my hard disk</th>\n",
       "      <td>0.483222</td>\n",
       "      <td>0.000000</td>\n",
       "      <td>0.000000</td>\n",
       "      <td>0.730064</td>\n",
       "      <td>0.483222</td>\n",
       "      <td>0.000000</td>\n",
       "      <td>0.000000</td>\n",
       "    </tr>\n",
       "    <tr>\n",
       "      <th>Hard disk format problems</th>\n",
       "      <td>0.354557</td>\n",
       "      <td>0.000000</td>\n",
       "      <td>0.000000</td>\n",
       "      <td>0.535674</td>\n",
       "      <td>0.354557</td>\n",
       "      <td>0.679435</td>\n",
       "      <td>0.000000</td>\n",
       "    </tr>\n",
       "    <tr>\n",
       "      <th>My hard disk is not working</th>\n",
       "      <td>0.419880</td>\n",
       "      <td>0.000000</td>\n",
       "      <td>0.000000</td>\n",
       "      <td>0.000000</td>\n",
       "      <td>0.419880</td>\n",
       "      <td>0.000000</td>\n",
       "      <td>0.804612</td>\n",
       "    </tr>\n",
       "    <tr>\n",
       "      <th>I forgot my external hard disk</th>\n",
       "      <td>0.327134</td>\n",
       "      <td>0.626884</td>\n",
       "      <td>0.626884</td>\n",
       "      <td>0.000000</td>\n",
       "      <td>0.327134</td>\n",
       "      <td>0.000000</td>\n",
       "      <td>0.000000</td>\n",
       "    </tr>\n",
       "  </tbody>\n",
       "</table>\n",
       "</div>"
      ],
      "text/plain": [
       "                                    disk  external    forgot    format  \\\n",
       "How to format my hard disk      0.483222  0.000000  0.000000  0.730064   \n",
       "Hard disk format problems       0.354557  0.000000  0.000000  0.535674   \n",
       "My hard disk is not working     0.419880  0.000000  0.000000  0.000000   \n",
       "I forgot my external hard disk  0.327134  0.626884  0.626884  0.000000   \n",
       "\n",
       "                                    hard  problems   working  \n",
       "How to format my hard disk      0.483222  0.000000  0.000000  \n",
       "Hard disk format problems       0.354557  0.679435  0.000000  \n",
       "My hard disk is not working     0.419880  0.000000  0.804612  \n",
       "I forgot my external hard disk  0.327134  0.000000  0.000000  "
      ]
     },
     "execution_count": 248,
     "metadata": {},
     "output_type": "execute_result"
    }
   ],
   "source": [
    "pd.DataFrame(X.toarray(), index=content, columns=vectorizer.get_feature_names())"
   ]
  },
  {
   "cell_type": "code",
   "execution_count": null,
   "id": "530d99cf",
   "metadata": {},
   "outputs": [],
   "source": []
  }
 ],
 "metadata": {
  "kernelspec": {
   "display_name": "Python 3 (ipykernel)",
   "language": "python",
   "name": "python3"
  },
  "language_info": {
   "codemirror_mode": {
    "name": "ipython",
    "version": 3
   },
   "file_extension": ".py",
   "mimetype": "text/x-python",
   "name": "python",
   "nbconvert_exporter": "python",
   "pygments_lexer": "ipython3",
   "version": "3.9.6"
  }
 },
 "nbformat": 4,
 "nbformat_minor": 5
}
