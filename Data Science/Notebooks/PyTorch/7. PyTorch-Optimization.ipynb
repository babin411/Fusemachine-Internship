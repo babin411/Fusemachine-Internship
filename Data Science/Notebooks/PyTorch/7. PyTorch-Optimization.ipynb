{
 "cells": [
  {
   "cell_type": "markdown",
   "id": "057b877e",
   "metadata": {},
   "source": [
    "## Optimizing Model Parameters"
   ]
  },
  {
   "cell_type": "markdown",
   "id": "f2f2812f",
   "metadata": {},
   "source": [
    "Now that we have a model and data it’s time to train, validate and test our model by optimizing its parameters on our data. Training a model is an iterative process; in each iteration (called an epoch) the model makes a guess about the output, calculates the error in its guess (loss), collects the derivatives of the error with respect to its parameters (as we saw in the previous section), and optimizes these parameters using gradient descent."
   ]
  },
  {
   "cell_type": "markdown",
   "id": "a43d9674",
   "metadata": {},
   "source": [
    "## Prerequisite Code"
   ]
  },
  {
   "cell_type": "code",
   "execution_count": 1,
   "id": "8eab4b29",
   "metadata": {},
   "outputs": [
    {
     "name": "stderr",
     "output_type": "stream",
     "text": [
      "C:\\Users\\Predator\\Envs\\kn_ml\\lib\\site-packages\\torchvision\\io\\image.py:11: UserWarning: Failed to load image Python extension: Could not find module 'C:\\Users\\Predator\\Envs\\kn_ml\\Lib\\site-packages\\torchvision\\image.pyd' (or one of its dependencies). Try using the full path with constructor syntax.\n",
      "  warn(f\"Failed to load image Python extension: {e}\")\n"
     ]
    }
   ],
   "source": [
    "import torch\n",
    "from torch import nn\n",
    "from torch.utils.data import DataLoader\n",
    "from torchvision import datasets\n",
    "from torchvision.transforms import ToTensor, Lambda\n",
    "\n",
    "training_data = datasets.FashionMNIST(\n",
    "    root=\"data\",\n",
    "    train=True,\n",
    "    download=True,\n",
    "    transform=ToTensor()\n",
    ")\n",
    "\n",
    "test_data = datasets.FashionMNIST(\n",
    "    root=\"data\",\n",
    "    train=False,\n",
    "    download=True,\n",
    "    transform=ToTensor()\n",
    ")\n",
    "\n",
    "train_dataloader = DataLoader(training_data, batch_size=64)\n",
    "test_dataloader = DataLoader(test_data, batch_size=64)\n",
    "\n",
    "class NeuralNetwork(nn.Module):\n",
    "    def __init__(self):\n",
    "        super(NeuralNetwork, self).__init__()\n",
    "        self.flatten = nn.Flatten()\n",
    "        self.linear_relu_stack = nn.Sequential(\n",
    "            nn.Linear(28*28, 512),\n",
    "            nn.ReLU(),\n",
    "            nn.Linear(512, 512),\n",
    "            nn.ReLU(),\n",
    "            nn.Linear(512, 10),\n",
    "        )\n",
    "\n",
    "    def forward(self, x):\n",
    "        x = self.flatten(x)\n",
    "        logits = self.linear_relu_stack(x)\n",
    "        return logits\n",
    "\n",
    "model = NeuralNetwork()"
   ]
  },
  {
   "cell_type": "markdown",
   "id": "bcc8b6c4",
   "metadata": {},
   "source": [
    "## Hyperparameters"
   ]
  },
  {
   "cell_type": "markdown",
   "id": "d8f327ce",
   "metadata": {},
   "source": [
    "Hyperparameters are adjustable parameters that let you control the model optimization process. Different hyperparameter values can impact model training and convergence rates.\n",
    "\n",
    "We define the following hyperparameters for training:\n",
    "\n",
    "- Number of Epochs: the number times to iterate over the dataset\n",
    "- Batch Size: the number of data samples propagated through the network before the parameters are updated\n",
    "- Learning Rate: how much to update models parameters at each batch/epoch. Smaller values yield slow learning speed, while large values may result in unpredictable behavior during training.\n",
    "\n"
   ]
  },
  {
   "cell_type": "code",
   "execution_count": 2,
   "id": "b9455899",
   "metadata": {},
   "outputs": [],
   "source": [
    "learning_rate = 1e-3\n",
    "batch_size = 64\n",
    "epochs = 5"
   ]
  },
  {
   "cell_type": "markdown",
   "id": "4fdbfda1",
   "metadata": {},
   "source": [
    "## Optimization Loop\n",
    "Once we set our hyperparameters, we can then train and optimize our model with an optimization loop. Each iteration of the optimization loop is called an epoch.\n",
    "\n",
    "Each epoch consists of two main parts:\n",
    "- The Train Loop - iterate over the training dataset and try to converge to optimal parameters.\n",
    "- The Validation/Test Loop - iterate over the test dataset to check if model performance is improving.\n",
    "\n"
   ]
  },
  {
   "cell_type": "markdown",
   "id": "743a7905",
   "metadata": {},
   "source": [
    "Let’s briefly familiarize ourselves with some of the concepts used in the training loop."
   ]
  },
  {
   "cell_type": "markdown",
   "id": "340d1877",
   "metadata": {},
   "source": [
    "## Loss Function"
   ]
  },
  {
   "cell_type": "markdown",
   "id": "77a34cfe",
   "metadata": {},
   "source": [
    "When presented with some training data, our untrained network is likely not to give the correct answer. Loss function measures the degree of dissimilarity of obtained result to the target value, and it is the loss function that we want to minimize during training. To calculate the loss we make a prediction using the inputs of our given data sample and compare it against the true data label value.\n",
    "\n",
    "Common loss functions include `nn.MSELoss (Mean Square Error)` for regression tasks, and n`n.NLLLoss (Negative Log Likelihood)` for classification. `nn.CrossEntropyLoss` combines `nn.LogSoftmax` and `nn.NLLLoss`.\n",
    "\n",
    "We pass our model’s output logits to `nn.CrossEntropyLoss`, which will normalize the logits and compute the prediction error."
   ]
  },
  {
   "cell_type": "code",
   "execution_count": 3,
   "id": "2733d07d",
   "metadata": {},
   "outputs": [],
   "source": [
    "# Initialize the loss function\n",
    "loss_fn = nn.CrossEntropyLoss()"
   ]
  },
  {
   "cell_type": "markdown",
   "id": "684991d8",
   "metadata": {},
   "source": [
    "## Optimizer\n",
    "Optimization is the process of adjusting model parameters to reduce model error in each training step. **Optimization algorithms** define how this process is performed (in this example we use Stochastic Gradient Descent). All optimization logic is encapsulated in the optimizer object. Here, we use the SGD optimizer; additionally, there are many **different optimizers** available in PyTorch such as ADAM and RMSProp, that work better for different kinds of models and data.\n",
    "\n",
    "We initialize the optimizer by registering the model’s parameters that need to be trained, and passing in the learning rate hyperparameter."
   ]
  },
  {
   "cell_type": "code",
   "execution_count": 4,
   "id": "a155a5b6",
   "metadata": {},
   "outputs": [],
   "source": [
    "optimizer = torch.optim.SGD(model.parameters(), lr=learning_rate)"
   ]
  },
  {
   "cell_type": "markdown",
   "id": "a00b11a1",
   "metadata": {},
   "source": [
    "Inside the training loop, optimization happens in three steps:\n",
    "- Call `optimizer.zero_grad()` to reset the gradients of model parameters. Gradients by default add up; to prevent double-counting, we explicitly zero them at each iteration.\n",
    "- Backpropagate the prediction loss with a call to `loss.backward()`. PyTorch deposits the gradients of the loss w.r.t. each parameter.\n",
    "- Once we have our gradients, we call `optimizer.step()` to adjust the parameters by the gradients collected in the backward pass."
   ]
  },
  {
   "cell_type": "markdown",
   "id": "581e1fd5",
   "metadata": {},
   "source": [
    "## Full Implementation"
   ]
  },
  {
   "cell_type": "markdown",
   "id": "dbd58f6a",
   "metadata": {},
   "source": [
    "We define train_loop that loops over our optimization code, and test_loop that evaluates the model’s performance against our test data."
   ]
  },
  {
   "cell_type": "code",
   "execution_count": 5,
   "id": "58d0b48d",
   "metadata": {},
   "outputs": [],
   "source": [
    "def train_loop(dataloader, model, loss_fn, optimizer):\n",
    "    size = len(dataloader.dataset)\n",
    "    for batch, (X, y) in enumerate(dataloader):\n",
    "        # Compute prediction and loss\n",
    "        pred = model(X)\n",
    "        loss = loss_fn(pred, y)\n",
    "\n",
    "        # Backpropagation\n",
    "        optimizer.zero_grad()\n",
    "        loss.backward()\n",
    "        optimizer.step()\n",
    "\n",
    "        if batch % 100 == 0:\n",
    "            loss, current = loss.item(), batch * len(X)\n",
    "            print(f\"loss: {loss:>7f}  [{current:>5d}/{size:>5d}]\")\n",
    "\n",
    "\n",
    "def test_loop(dataloader, model, loss_fn):\n",
    "    size = len(dataloader.dataset)\n",
    "    num_batches = len(dataloader)\n",
    "    test_loss, correct = 0, 0\n",
    "\n",
    "    with torch.no_grad():\n",
    "        for X, y in dataloader:\n",
    "            pred = model(X)\n",
    "            test_loss += loss_fn(pred, y).item()\n",
    "            correct += (pred.argmax(1) == y).type(torch.float).sum().item()\n",
    "\n",
    "    test_loss /= num_batches\n",
    "    correct /= size\n",
    "    print(f\"Test Error: \\n Accuracy: {(100*correct):>0.1f}%, Avg loss: {test_loss:>8f} \\n\")"
   ]
  },
  {
   "cell_type": "markdown",
   "id": "0be8762c",
   "metadata": {},
   "source": [
    "We initialize the loss function and optimizer, and pass it to `train_loop` and `test_loop`. Feel free to increase the number of epochs to track the model’s improving performance."
   ]
  },
  {
   "cell_type": "code",
   "execution_count": 6,
   "id": "65ba8abd",
   "metadata": {},
   "outputs": [
    {
     "name": "stdout",
     "output_type": "stream",
     "text": [
      "Epoch 1\n",
      "-------------------------------\n",
      "loss: 2.304966  [    0/60000]\n",
      "loss: 2.296275  [ 6400/60000]\n",
      "loss: 2.287859  [12800/60000]\n",
      "loss: 2.291177  [19200/60000]\n",
      "loss: 2.265440  [25600/60000]\n",
      "loss: 2.238974  [32000/60000]\n",
      "loss: 2.240335  [38400/60000]\n",
      "loss: 2.216924  [44800/60000]\n",
      "loss: 2.210180  [51200/60000]\n",
      "loss: 2.195593  [57600/60000]\n",
      "Test Error: \n",
      " Accuracy: 36.9%, Avg loss: 2.185365 \n",
      "\n",
      "Epoch 2\n",
      "-------------------------------\n",
      "loss: 2.184592  [    0/60000]\n",
      "loss: 2.177044  [ 6400/60000]\n",
      "loss: 2.135685  [12800/60000]\n",
      "loss: 2.160929  [19200/60000]\n",
      "loss: 2.115091  [25600/60000]\n",
      "loss: 2.058794  [32000/60000]\n",
      "loss: 2.081820  [38400/60000]\n",
      "loss: 2.021538  [44800/60000]\n",
      "loss: 2.010417  [51200/60000]\n",
      "loss: 1.973027  [57600/60000]\n",
      "Test Error: \n",
      " Accuracy: 54.2%, Avg loss: 1.960211 \n",
      "\n",
      "Epoch 3\n",
      "-------------------------------\n",
      "loss: 1.975238  [    0/60000]\n",
      "loss: 1.952092  [ 6400/60000]\n",
      "loss: 1.852140  [12800/60000]\n",
      "loss: 1.901042  [19200/60000]\n",
      "loss: 1.796798  [25600/60000]\n",
      "loss: 1.740172  [32000/60000]\n",
      "loss: 1.754933  [38400/60000]\n",
      "loss: 1.668577  [44800/60000]\n",
      "loss: 1.675048  [51200/60000]\n",
      "loss: 1.592299  [57600/60000]\n",
      "Test Error: \n",
      " Accuracy: 62.8%, Avg loss: 1.595772 \n",
      "\n",
      "Epoch 4\n",
      "-------------------------------\n",
      "loss: 1.648766  [    0/60000]\n",
      "loss: 1.612854  [ 6400/60000]\n",
      "loss: 1.466920  [12800/60000]\n",
      "loss: 1.547338  [19200/60000]\n",
      "loss: 1.421544  [25600/60000]\n",
      "loss: 1.406796  [32000/60000]\n",
      "loss: 1.410061  [38400/60000]\n",
      "loss: 1.347473  [44800/60000]\n",
      "loss: 1.373345  [51200/60000]\n",
      "loss: 1.280221  [57600/60000]\n",
      "Test Error: \n",
      " Accuracy: 63.6%, Avg loss: 1.300956 \n",
      "\n",
      "Epoch 5\n",
      "-------------------------------\n",
      "loss: 1.379414  [    0/60000]\n",
      "loss: 1.351990  [ 6400/60000]\n",
      "loss: 1.188089  [12800/60000]\n",
      "loss: 1.300340  [19200/60000]\n",
      "loss: 1.172611  [25600/60000]\n",
      "loss: 1.187584  [32000/60000]\n",
      "loss: 1.195351  [38400/60000]\n",
      "loss: 1.148345  [44800/60000]\n",
      "loss: 1.181557  [51200/60000]\n",
      "loss: 1.100294  [57600/60000]\n",
      "Test Error: \n",
      " Accuracy: 64.7%, Avg loss: 1.118505 \n",
      "\n",
      "Epoch 6\n",
      "-------------------------------\n",
      "loss: 1.198735  [    0/60000]\n",
      "loss: 1.188195  [ 6400/60000]\n",
      "loss: 1.007282  [12800/60000]\n",
      "loss: 1.149300  [19200/60000]\n",
      "loss: 1.018052  [25600/60000]\n",
      "loss: 1.042162  [32000/60000]\n",
      "loss: 1.066458  [38400/60000]\n",
      "loss: 1.023296  [44800/60000]\n",
      "loss: 1.057520  [51200/60000]\n",
      "loss: 0.991227  [57600/60000]\n",
      "Test Error: \n",
      " Accuracy: 65.9%, Avg loss: 1.002199 \n",
      "\n",
      "Epoch 7\n",
      "-------------------------------\n",
      "loss: 1.073293  [    0/60000]\n",
      "loss: 1.083247  [ 6400/60000]\n",
      "loss: 0.884388  [12800/60000]\n",
      "loss: 1.050983  [19200/60000]\n",
      "loss: 0.920355  [25600/60000]\n",
      "loss: 0.939730  [32000/60000]\n",
      "loss: 0.984196  [38400/60000]\n",
      "loss: 0.941792  [44800/60000]\n",
      "loss: 0.972235  [51200/60000]\n",
      "loss: 0.918863  [57600/60000]\n",
      "Test Error: \n",
      " Accuracy: 67.5%, Avg loss: 0.923352 \n",
      "\n",
      "Epoch 8\n",
      "-------------------------------\n",
      "loss: 0.980884  [    0/60000]\n",
      "loss: 1.010937  [ 6400/60000]\n",
      "loss: 0.796097  [12800/60000]\n",
      "loss: 0.982172  [19200/60000]\n",
      "loss: 0.854979  [25600/60000]\n",
      "loss: 0.864737  [32000/60000]\n",
      "loss: 0.927309  [38400/60000]\n",
      "loss: 0.887162  [44800/60000]\n",
      "loss: 0.910626  [51200/60000]\n",
      "loss: 0.866522  [57600/60000]\n",
      "Test Error: \n",
      " Accuracy: 68.4%, Avg loss: 0.866779 \n",
      "\n",
      "Epoch 9\n",
      "-------------------------------\n",
      "loss: 0.909693  [    0/60000]\n",
      "loss: 0.956850  [ 6400/60000]\n",
      "loss: 0.730205  [12800/60000]\n",
      "loss: 0.931119  [19200/60000]\n",
      "loss: 0.808291  [25600/60000]\n",
      "loss: 0.808640  [32000/60000]\n",
      "loss: 0.885194  [38400/60000]\n",
      "loss: 0.849359  [44800/60000]\n",
      "loss: 0.864423  [51200/60000]\n",
      "loss: 0.826100  [57600/60000]\n",
      "Test Error: \n",
      " Accuracy: 69.7%, Avg loss: 0.824191 \n",
      "\n",
      "Epoch 10\n",
      "-------------------------------\n",
      "loss: 0.852584  [    0/60000]\n",
      "loss: 0.913702  [ 6400/60000]\n",
      "loss: 0.679413  [12800/60000]\n",
      "loss: 0.891420  [19200/60000]\n",
      "loss: 0.773050  [25600/60000]\n",
      "loss: 0.766088  [32000/60000]\n",
      "loss: 0.851667  [38400/60000]\n",
      "loss: 0.821764  [44800/60000]\n",
      "loss: 0.828515  [51200/60000]\n",
      "loss: 0.793394  [57600/60000]\n",
      "Test Error: \n",
      " Accuracy: 71.1%, Avg loss: 0.790743 \n",
      "\n",
      "Done!\n"
     ]
    }
   ],
   "source": [
    "loss_fn = nn.CrossEntropyLoss()\n",
    "optimizer = torch.optim.SGD(model.parameters(), lr=learning_rate)\n",
    "\n",
    "epochs = 10\n",
    "for t in range(epochs):\n",
    "    print(f\"Epoch {t+1}\\n-------------------------------\")\n",
    "    train_loop(train_dataloader, model, loss_fn, optimizer)\n",
    "    test_loop(test_dataloader, model, loss_fn)\n",
    "print(\"Done!\")"
   ]
  },
  {
   "cell_type": "code",
   "execution_count": null,
   "id": "ad48c21e",
   "metadata": {},
   "outputs": [],
   "source": []
  }
 ],
 "metadata": {
  "kernelspec": {
   "display_name": "Python 3 (ipykernel)",
   "language": "python",
   "name": "python3"
  },
  "language_info": {
   "codemirror_mode": {
    "name": "ipython",
    "version": 3
   },
   "file_extension": ".py",
   "mimetype": "text/x-python",
   "name": "python",
   "nbconvert_exporter": "python",
   "pygments_lexer": "ipython3",
   "version": "3.9.6"
  }
 },
 "nbformat": 4,
 "nbformat_minor": 5
}
