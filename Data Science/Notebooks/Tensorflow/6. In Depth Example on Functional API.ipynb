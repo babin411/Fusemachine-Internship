{
 "cells": [
  {
   "cell_type": "code",
   "execution_count": 1,
   "id": "5e22d904",
   "metadata": {},
   "outputs": [],
   "source": [
    "import os\n",
    "import numpy as np\n",
    "import tensorflow as tf\n",
    "from tensorflow import keras"
   ]
  },
  {
   "cell_type": "code",
   "execution_count": 2,
   "id": "b390eaf0",
   "metadata": {},
   "outputs": [],
   "source": [
    "import pandas as pd"
   ]
  },
  {
   "cell_type": "code",
   "execution_count": 3,
   "id": "e3f39605",
   "metadata": {},
   "outputs": [
    {
     "data": {
      "text/plain": [
       "'E:\\\\PycharmProjects\\\\Practice Python\\\\KN\\\\Tensorflow'"
      ]
     },
     "execution_count": 3,
     "metadata": {},
     "output_type": "execute_result"
    }
   ],
   "source": [
    "os.getcwd()"
   ]
  },
  {
   "cell_type": "code",
   "execution_count": 4,
   "id": "d7237ebe",
   "metadata": {},
   "outputs": [
    {
     "data": {
      "text/plain": [
       "['.ipynb_checkpoints',\n",
       " '1. Tensor Basics.ipynb',\n",
       " '2. Neural Networks .ipynb',\n",
       " '3. Convolutional Neural Networks with Sequential and Functional API.ipynb',\n",
       " '4. Adding Regularization and Dropout.ipynb',\n",
       " '5_RNNs,_GRUs,_LSTMS_and_Biidirectionality.ipynb',\n",
       " 'In Depth Example on Functional API.ipynb',\n",
       " 'Multi Mnist',\n",
       " 'Untitled.ipynb']"
      ]
     },
     "execution_count": 4,
     "metadata": {},
     "output_type": "execute_result"
    }
   ],
   "source": [
    "os.listdir()"
   ]
  },
  {
   "cell_type": "code",
   "execution_count": 5,
   "id": "4a89e4c8",
   "metadata": {},
   "outputs": [
    {
     "data": {
      "text/plain": [
       "['archive.zip',\n",
       " 'kaggle.json',\n",
       " 'test.csv',\n",
       " 'test_images',\n",
       " 'train.csv',\n",
       " 'train_images']"
      ]
     },
     "execution_count": 5,
     "metadata": {},
     "output_type": "execute_result"
    }
   ],
   "source": [
    "os.listdir(os.getcwd()+'\\Multi Mnist')"
   ]
  },
  {
   "cell_type": "code",
   "execution_count": 6,
   "id": "1cfce385",
   "metadata": {},
   "outputs": [
    {
     "data": {
      "text/plain": [
       "'E:\\\\PycharmProjects\\\\Practice Python\\\\KN\\\\Tensorflow\\\\Multi Mnist\\train.csv'"
      ]
     },
     "execution_count": 6,
     "metadata": {},
     "output_type": "execute_result"
    }
   ],
   "source": [
    "os.path.join(os.getcwd(), 'Multi Mnist\\train.csv')"
   ]
  },
  {
   "cell_type": "code",
   "execution_count": 13,
   "id": "45f794bd",
   "metadata": {},
   "outputs": [],
   "source": [
    "train_df = pd.read_csv(os.path.join(os.getcwd(), 'Multi Mnist\\\\train.csv'))\n",
    "test_df = pd.read_csv(os.path.join(os.getcwd(), 'Multi Mnist\\\\test.csv'))\n",
    "train_images = os.getcwd() + \"\\\\Multi Mnist\\\\train_images\\\\\" + train_df.iloc[:, 0].values\n",
    "test_images = os.getcwd() + \"\\\\Multi Mnist\\\\test_images\\\\\" + test_df.iloc[:, 0].values\n",
    "train_labels = train_df.iloc[:, 1:].values\n",
    "test_labels = test_df.iloc[:, 1:].values"
   ]
  },
  {
   "cell_type": "code",
   "execution_count": 14,
   "id": "caada772",
   "metadata": {},
   "outputs": [],
   "source": [
    "def read_image(image_path, label):\n",
    "    print(image_path)\n",
    "    image = tf.io.read_file(image_path)\n",
    "    image = tf.image.decode_image(image, channels=1, dtype=tf.float32)\n",
    "\n",
    "    # In older versions you need to set shape in order to avoid error\n",
    "    # on newer (2.3.0+) the following 3 lines can safely be removed\n",
    "    image.set_shape((64, 64, 1))\n",
    "    label[0].set_shape([])\n",
    "    label[1].set_shape([])\n",
    "\n",
    "    labels = {\"first_num\": label[0], \"second_num\": label[1]}\n",
    "    return image, labels"
   ]
  },
  {
   "cell_type": "code",
   "execution_count": 15,
   "id": "5c7eb678",
   "metadata": {},
   "outputs": [
    {
     "name": "stdout",
     "output_type": "stream",
     "text": [
      "Tensor(\"args_0:0\", shape=(), dtype=string)\n",
      "Tensor(\"args_0:0\", shape=(), dtype=string)\n"
     ]
    }
   ],
   "source": [
    "# HYPERPARAMETERS\n",
    "BATCH_SIZE = 64\n",
    "WEIGHT_DECAY = 0.001\n",
    "LEARNING_RATE = 0.001\n",
    "\n",
    "AUTOTUNE = tf.data.experimental.AUTOTUNE\n",
    "train_dataset = tf.data.Dataset.from_tensor_slices((train_images, train_labels))\n",
    "train_dataset = (\n",
    "    train_dataset.shuffle(buffer_size=len(train_labels))\n",
    "    .map(read_image)\n",
    "    .batch(batch_size=BATCH_SIZE)\n",
    "    .prefetch(buffer_size=AUTOTUNE)\n",
    ")\n",
    "\n",
    "test_dataset = tf.data.Dataset.from_tensor_slices((test_images, test_labels))\n",
    "test_dataset = (\n",
    "    test_dataset.map(read_image)\n",
    "    .batch(batch_size=BATCH_SIZE)\n",
    "    .prefetch(buffer_size=AUTOTUNE)\n",
    ")"
   ]
  },
  {
   "cell_type": "code",
   "execution_count": null,
   "id": "a33eeb82",
   "metadata": {},
   "outputs": [],
   "source": [
    "###### Here we cannot use the sequential model becasue sequential model can only map only one input to one output\n",
    "# But here we have two output.\n",
    "\n",
    "inputs = keras.Input(shape=(64,64,1))\n",
    "x = keras.layers.Conv2D(\n",
    "    filters = 32,\n",
    "    kernel_size=3,\n",
    "    padding='same',\n",
    "    kernel_regularizer = keras.regularizers.l2(WEIGHT_DECAY),\n",
    ")(inputs)\n",
    "x = keras.layers.BatchNormalization()(x)\n",
    "x = keras.activations.relu(x)\n",
    "\n",
    "x = keras.layers.Conv2D(\n",
    "    64, 3, kernel_regularizer = keras.regularizers.l2(WEIGHT_DECAY),\n",
    ")(x)\n",
    "x = keras.layers.BatchNormalization()(x)\n",
    "x = keras.activations.relu(x)\n",
    "x = keras.layers.MaxPool2D()(x)\n",
    "\n",
    "x = keras.layers.Conv2D(\n",
    "    64, 3, activation='relu', kernel_regularizer = keras.regularizers.l2(WEIGHT_DECAY),\n",
    ")(x)\n",
    "\n",
    "x = keras.layers.Conv2D(\n",
    "    128, 3, activation='relu')(x)\n",
    "x = keras.layers.MaxPool2D()(x)\n",
    "x = keras.layers.Flatten()(x)\n",
    "x = keras.layers.Dense(128, activation='relu')(x)\n",
    "x = keras.layers.Dropout(0.5)(x)\n",
    "x = keras.layers.Dense(64, activation='relu')(x)\n",
    "\n",
    "output1 = keras.layers.Dense(10, activation='softmax',name='first_num')(x)\n",
    "output2 = keras.layers.Dense(10,  activation='softmax',name='second_num')(x)\n",
    "\n",
    "model = keras.Model(inputs=inputs, outputs = [output1, output2])\n",
    "\n",
    "model.compile(\n",
    "    optimizer = keras.optimizers.Adam(LEARNING_RATE),\n",
    "    loss = [\n",
    "        keras.losses.SparseCategoricalCrossentropy(), \n",
    "        keras.losses.SparseCategoricalCrossentropy(),\n",
    "    ],\n",
    "    metrics=['accuracy'],\n",
    ")\n",
    "\n",
    "model.fit(train_dataset, epochs = 5)\n",
    "model.evaluate(test_dataset)"
   ]
  },
  {
   "cell_type": "code",
   "execution_count": null,
   "id": "839f6df9",
   "metadata": {},
   "outputs": [],
   "source": []
  }
 ],
 "metadata": {
  "kernelspec": {
   "display_name": "Python 3 (ipykernel)",
   "language": "python",
   "name": "python3"
  },
  "language_info": {
   "codemirror_mode": {
    "name": "ipython",
    "version": 3
   },
   "file_extension": ".py",
   "mimetype": "text/x-python",
   "name": "python",
   "nbconvert_exporter": "python",
   "pygments_lexer": "ipython3",
   "version": "3.9.6"
  }
 },
 "nbformat": 4,
 "nbformat_minor": 5
}
