{
 "cells": [
  {
   "cell_type": "code",
   "execution_count": 16,
   "id": "a25808ee",
   "metadata": {},
   "outputs": [],
   "source": [
    "import numpy as np\n",
    "import tensorflow as tf\n",
    "from tensorflow import keras\n",
    "from tensorflow.keras import layers"
   ]
  },
  {
   "cell_type": "code",
   "execution_count": 2,
   "id": "e211cb87",
   "metadata": {},
   "outputs": [],
   "source": [
    "from tensorflow.keras.datasets import cifar10"
   ]
  },
  {
   "cell_type": "code",
   "execution_count": 3,
   "id": "5cbb28fe",
   "metadata": {},
   "outputs": [],
   "source": [
    "import ssl\n",
    "ssl._create_default_https_context = ssl._create_unverified_context"
   ]
  },
  {
   "cell_type": "code",
   "execution_count": 4,
   "id": "d85be8a9",
   "metadata": {},
   "outputs": [],
   "source": [
    "#load the data\n",
    "(x_train,y_train), (x_test, y_test) = cifar10.load_data()"
   ]
  },
  {
   "cell_type": "code",
   "execution_count": 5,
   "id": "1b155620",
   "metadata": {},
   "outputs": [],
   "source": [
    "x_train = x_train.astype('float32')/255.0\n",
    "x_test = x_test.astype('float32')/255.0"
   ]
  },
  {
   "cell_type": "code",
   "execution_count": 6,
   "id": "616b387e",
   "metadata": {},
   "outputs": [
    {
     "data": {
      "text/plain": [
       "(32, 32, 3)"
      ]
     },
     "execution_count": 6,
     "metadata": {},
     "output_type": "execute_result"
    }
   ],
   "source": [
    "x_train[0].shape"
   ]
  },
  {
   "cell_type": "code",
   "execution_count": 7,
   "id": "0b81b14c",
   "metadata": {},
   "outputs": [
    {
     "data": {
      "text/plain": [
       "array([6], dtype=uint8)"
      ]
     },
     "execution_count": 7,
     "metadata": {},
     "output_type": "execute_result"
    }
   ],
   "source": [
    "y_train[0]"
   ]
  },
  {
   "cell_type": "code",
   "execution_count": 8,
   "id": "8d6b7d9b",
   "metadata": {},
   "outputs": [],
   "source": [
    "model = keras.Sequential([\n",
    "    keras.Input(shape=(32,32,3)),\n",
    "    keras.layers.Conv2D(32,(3,3),padding='valid',activation='relu',),\n",
    "    keras.layers.MaxPool2D(pool_size=(2,2)),\n",
    "    \n",
    "    keras.layers.Conv2D(64,(3,3),padding='valid',activation='relu',),\n",
    "    keras.layers.MaxPool2D(pool_size=(2,2)),\n",
    "    \n",
    "    keras.layers.Conv2D(128,(3,3),padding='valid',activation='relu',),\n",
    "    \n",
    "    keras.layers.Flatten(),\n",
    "    keras.layers.Dense(64, activation='relu'),\n",
    "    keras.layers.Dense(10, activation='softmax')\n",
    "])\n",
    "\n",
    "model.compile(loss=keras.losses.SparseCategoricalCrossentropy(),\n",
    "             optimizer = keras.optimizers.Adam(learning_rate=3e-4),\n",
    "             metrics=['accuracy'])"
   ]
  },
  {
   "cell_type": "code",
   "execution_count": 9,
   "id": "d591a7af",
   "metadata": {},
   "outputs": [
    {
     "name": "stdout",
     "output_type": "stream",
     "text": [
      "Model: \"sequential\"\n",
      "_________________________________________________________________\n",
      " Layer (type)                Output Shape              Param #   \n",
      "=================================================================\n",
      " conv2d (Conv2D)             (None, 30, 30, 32)        896       \n",
      "                                                                 \n",
      " max_pooling2d (MaxPooling2D  (None, 15, 15, 32)       0         \n",
      " )                                                               \n",
      "                                                                 \n",
      " conv2d_1 (Conv2D)           (None, 13, 13, 64)        18496     \n",
      "                                                                 \n",
      " max_pooling2d_1 (MaxPooling  (None, 6, 6, 64)         0         \n",
      " 2D)                                                             \n",
      "                                                                 \n",
      " conv2d_2 (Conv2D)           (None, 4, 4, 128)         73856     \n",
      "                                                                 \n",
      " flatten (Flatten)           (None, 2048)              0         \n",
      "                                                                 \n",
      " dense (Dense)               (None, 64)                131136    \n",
      "                                                                 \n",
      " dense_1 (Dense)             (None, 10)                650       \n",
      "                                                                 \n",
      "=================================================================\n",
      "Total params: 225,034\n",
      "Trainable params: 225,034\n",
      "Non-trainable params: 0\n",
      "_________________________________________________________________\n"
     ]
    }
   ],
   "source": [
    "model.summary()"
   ]
  },
  {
   "cell_type": "code",
   "execution_count": 10,
   "id": "ed130a76",
   "metadata": {},
   "outputs": [
    {
     "name": "stdout",
     "output_type": "stream",
     "text": [
      "Epoch 1/10\n",
      "782/782 [==============================] - 31s 39ms/step - loss: 1.6513 - accuracy: 0.4011\n",
      "Epoch 2/10\n",
      "782/782 [==============================] - 31s 39ms/step - loss: 1.3291 - accuracy: 0.5255\n",
      "Epoch 3/10\n",
      "782/782 [==============================] - 32s 41ms/step - loss: 1.1953 - accuracy: 0.5790\n",
      "Epoch 4/10\n",
      "782/782 [==============================] - 30s 38ms/step - loss: 1.1031 - accuracy: 0.6123\n",
      "Epoch 5/10\n",
      "782/782 [==============================] - 31s 40ms/step - loss: 1.0235 - accuracy: 0.6418\n",
      "Epoch 6/10\n",
      "782/782 [==============================] - 30s 38ms/step - loss: 0.9647 - accuracy: 0.6638\n",
      "Epoch 7/10\n",
      "782/782 [==============================] - 29s 37ms/step - loss: 0.9118 - accuracy: 0.6808\n",
      "Epoch 8/10\n",
      "782/782 [==============================] - 34s 43ms/step - loss: 0.8696 - accuracy: 0.6969\n",
      "Epoch 9/10\n",
      "782/782 [==============================] - 29s 38ms/step - loss: 0.8245 - accuracy: 0.7156\n",
      "Epoch 10/10\n",
      "782/782 [==============================] - 34s 43ms/step - loss: 0.7862 - accuracy: 0.7281\n"
     ]
    },
    {
     "data": {
      "text/plain": [
       "<keras.callbacks.History at 0x22bda332b20>"
      ]
     },
     "execution_count": 10,
     "metadata": {},
     "output_type": "execute_result"
    }
   ],
   "source": [
    "model.fit(x_train,y_train, batch_size=64, epochs=10)"
   ]
  },
  {
   "cell_type": "code",
   "execution_count": 11,
   "id": "af9f68ee",
   "metadata": {},
   "outputs": [
    {
     "name": "stdout",
     "output_type": "stream",
     "text": [
      "157/157 [==============================] - 8s 12ms/step - loss: 0.8676 - accuracy: 0.7026\n"
     ]
    },
    {
     "data": {
      "text/plain": [
       "[0.867612898349762, 0.7026000022888184]"
      ]
     },
     "execution_count": 11,
     "metadata": {},
     "output_type": "execute_result"
    }
   ],
   "source": [
    "model.evaluate(x_test,y_test,batch_size=64)"
   ]
  },
  {
   "cell_type": "markdown",
   "id": "a45cb4d0",
   "metadata": {},
   "source": [
    "# Using Functional API to create a CNN with BatchNormalization"
   ]
  },
  {
   "cell_type": "code",
   "execution_count": 18,
   "id": "66a81470",
   "metadata": {},
   "outputs": [
    {
     "name": "stdout",
     "output_type": "stream",
     "text": [
      "Epoch 1/10\n",
      "782/782 - 45s - loss: 1.3156 - accuracy: 0.5311 - 45s/epoch - 58ms/step\n",
      "Epoch 2/10\n",
      "782/782 - 42s - loss: 0.9485 - accuracy: 0.6675 - 42s/epoch - 53ms/step\n",
      "Epoch 3/10\n",
      "782/782 - 43s - loss: 0.7917 - accuracy: 0.7255 - 43s/epoch - 54ms/step\n",
      "Epoch 4/10\n",
      "782/782 - 40s - loss: 0.6913 - accuracy: 0.7605 - 40s/epoch - 51ms/step\n",
      "Epoch 5/10\n",
      "782/782 - 41s - loss: 0.6091 - accuracy: 0.7883 - 41s/epoch - 52ms/step\n",
      "Epoch 6/10\n",
      "782/782 - 42s - loss: 0.5383 - accuracy: 0.8144 - 42s/epoch - 53ms/step\n",
      "Epoch 7/10\n",
      "782/782 - 42s - loss: 0.4744 - accuracy: 0.8385 - 42s/epoch - 54ms/step\n",
      "Epoch 8/10\n",
      "782/782 - 42s - loss: 0.4198 - accuracy: 0.8567 - 42s/epoch - 54ms/step\n",
      "Epoch 9/10\n",
      "782/782 - 41s - loss: 0.3682 - accuracy: 0.8767 - 41s/epoch - 53ms/step\n",
      "Epoch 10/10\n",
      "782/782 - 42s - loss: 0.3205 - accuracy: 0.8923 - 42s/epoch - 54ms/step\n",
      "157/157 - 2s - loss: 1.0263 - accuracy: 0.6929 - 2s/epoch - 16ms/step\n"
     ]
    },
    {
     "data": {
      "text/plain": [
       "[1.0263375043869019, 0.6929000020027161]"
      ]
     },
     "execution_count": 18,
     "metadata": {},
     "output_type": "execute_result"
    }
   ],
   "source": [
    "def my_model():\n",
    "    inputs = keras.Input(shape=(32, 32, 3))\n",
    "    x = layers.Conv2D(32, 3)(inputs)\n",
    "    x = layers.BatchNormalization()(x)\n",
    "    x = keras.activations.relu(x)\n",
    "    x = layers.MaxPooling2D()(x)\n",
    "    x = layers.Conv2D(64, 3)(x)\n",
    "    x = layers.BatchNormalization()(x)\n",
    "    x = keras.activations.relu(x)\n",
    "    x = layers.MaxPooling2D()(x)\n",
    "    x = layers.Conv2D(128, 3)(x)\n",
    "    x = layers.BatchNormalization()(x)\n",
    "    x = keras.activations.relu(x)\n",
    "    x = layers.Flatten()(x)\n",
    "    x = layers.Dense(64, activation=\"relu\")(x)\n",
    "    outputs = layers.Dense(10)(x)\n",
    "    model = keras.Model(inputs=inputs, outputs=outputs)\n",
    "    return model\n",
    "\n",
    "\n",
    "model = my_model()\n",
    "model.compile(\n",
    "    loss=keras.losses.SparseCategoricalCrossentropy(from_logits=True),\n",
    "    optimizer=keras.optimizers.Adam(learning_rate=3e-4),\n",
    "    metrics=[\"accuracy\"],\n",
    ")\n",
    "\n",
    "model.fit(x_train, y_train, batch_size=64, epochs=10, verbose=2)\n",
    "model.evaluate(x_test, y_test, batch_size=64, verbose=2)"
   ]
  },
  {
   "cell_type": "code",
   "execution_count": 19,
   "id": "d90c45f8",
   "metadata": {},
   "outputs": [
    {
     "name": "stdout",
     "output_type": "stream",
     "text": [
      "157/157 [==============================] - 3s 15ms/step - loss: 1.0263 - accuracy: 0.6929\n"
     ]
    },
    {
     "data": {
      "text/plain": [
       "[1.0263375043869019, 0.6929000020027161]"
      ]
     },
     "execution_count": 19,
     "metadata": {},
     "output_type": "execute_result"
    }
   ],
   "source": [
    "model.evaluate(x_test,y_test,batch_size=64)"
   ]
  },
  {
   "cell_type": "code",
   "execution_count": null,
   "id": "13a7c392",
   "metadata": {},
   "outputs": [],
   "source": []
  }
 ],
 "metadata": {
  "kernelspec": {
   "display_name": "Python 3 (ipykernel)",
   "language": "python",
   "name": "python3"
  },
  "language_info": {
   "codemirror_mode": {
    "name": "ipython",
    "version": 3
   },
   "file_extension": ".py",
   "mimetype": "text/x-python",
   "name": "python",
   "nbconvert_exporter": "python",
   "pygments_lexer": "ipython3",
   "version": "3.9.6"
  }
 },
 "nbformat": 4,
 "nbformat_minor": 5
}
