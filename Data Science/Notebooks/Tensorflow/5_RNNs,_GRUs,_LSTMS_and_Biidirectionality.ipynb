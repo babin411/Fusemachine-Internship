{
  "nbformat": 4,
  "nbformat_minor": 0,
  "metadata": {
    "colab": {
      "name": "5. RNNs, GRUs, LSTMS and Biidirectionality.ipynb",
      "provenance": [],
      "collapsed_sections": []
    },
    "kernelspec": {
      "name": "python3",
      "display_name": "Python 3"
    },
    "language_info": {
      "name": "python"
    },
    "accelerator": "GPU"
  },
  "cells": [
    {
      "cell_type": "code",
      "execution_count": 11,
      "metadata": {
        "id": "Is3Pcvayxd24"
      },
      "outputs": [],
      "source": [
        "import os\n",
        "import tensorflow as tf\n",
        "from tensorflow import keras\n",
        "from tensorflow.keras.datasets import mnist"
      ]
    },
    {
      "cell_type": "code",
      "source": [
        "(x_train,y_train), (x_test, y_test) = mnist.load_data()\n",
        "x_train = x_train.astype('float32')/255.0\n",
        "x_test = x_test.astype('float32')/255.0"
      ],
      "metadata": {
        "id": "OhAmnA8qxgJD"
      },
      "execution_count": 12,
      "outputs": []
    },
    {
      "cell_type": "code",
      "source": [
        "x_train.shape ,x_test.shape"
      ],
      "metadata": {
        "colab": {
          "base_uri": "https://localhost:8080/"
        },
        "id": "09SE5jjlxiAz",
        "outputId": "a22ef60e-deeb-47eb-bd19-e24215e7f792"
      },
      "execution_count": 13,
      "outputs": [
        {
          "output_type": "execute_result",
          "data": {
            "text/plain": [
              "((60000, 28, 28), (10000, 28, 28))"
            ]
          },
          "metadata": {},
          "execution_count": 13
        }
      ]
    },
    {
      "cell_type": "code",
      "source": [
        "y_train.shape, y_test.shape"
      ],
      "metadata": {
        "colab": {
          "base_uri": "https://localhost:8080/"
        },
        "id": "5c7poQCsxkCP",
        "outputId": "f757fb00-cf29-43a3-e603-14528873d4f8"
      },
      "execution_count": 14,
      "outputs": [
        {
          "output_type": "execute_result",
          "data": {
            "text/plain": [
              "((60000,), (10000,))"
            ]
          },
          "metadata": {},
          "execution_count": 14
        }
      ]
    },
    {
      "cell_type": "code",
      "source": [
        "x_train[0].shape, y_train[0].shape"
      ],
      "metadata": {
        "colab": {
          "base_uri": "https://localhost:8080/"
        },
        "id": "GexV3CaHxl2D",
        "outputId": "10f62fde-2117-4c28-cc64-33e11581bf6b"
      },
      "execution_count": 15,
      "outputs": [
        {
          "output_type": "execute_result",
          "data": {
            "text/plain": [
              "((28, 28), ())"
            ]
          },
          "metadata": {},
          "execution_count": 15
        }
      ]
    },
    {
      "cell_type": "markdown",
      "source": [
        "# RNN"
      ],
      "metadata": {
        "id": "61jIKkgjBUNO"
      }
    },
    {
      "cell_type": "code",
      "source": [
        "model = keras.Sequential()\n",
        "model.add(keras.Input(shape=(None,28)))\n",
        "model.add(\n",
        "            keras.layers.SimpleRNN(512, return_sequences=True, activation='relu')\n",
        "         )\n",
        "model.add(\n",
        "            keras.layers.SimpleRNN(512, activation='relu')\n",
        "         )\n",
        "model.add(\n",
        "            keras.layers.Dense(10)\n",
        "        )\n"
      ],
      "metadata": {
        "id": "VDfjgsGkxncy"
      },
      "execution_count": 16,
      "outputs": []
    },
    {
      "cell_type": "code",
      "source": [
        "model.summary()"
      ],
      "metadata": {
        "colab": {
          "base_uri": "https://localhost:8080/"
        },
        "id": "c8e9eIMHxo83",
        "outputId": "24928b4e-64b5-4cb4-ed10-1d1cb8d28403"
      },
      "execution_count": 17,
      "outputs": [
        {
          "output_type": "stream",
          "name": "stdout",
          "text": [
            "Model: \"sequential_1\"\n",
            "_________________________________________________________________\n",
            " Layer (type)                Output Shape              Param #   \n",
            "=================================================================\n",
            " simple_rnn_2 (SimpleRNN)    (None, None, 512)         276992    \n",
            "                                                                 \n",
            " simple_rnn_3 (SimpleRNN)    (None, 512)               524800    \n",
            "                                                                 \n",
            " dense_1 (Dense)             (None, 10)                5130      \n",
            "                                                                 \n",
            "=================================================================\n",
            "Total params: 806,922\n",
            "Trainable params: 806,922\n",
            "Non-trainable params: 0\n",
            "_________________________________________________________________\n"
          ]
        }
      ]
    },
    {
      "cell_type": "code",
      "source": [
        "model.compile(\n",
        "    loss = keras.losses.SparseCategoricalCrossentropy(from_logits=True),\n",
        "    optimizer = keras.optimizers.Adam(learning_rate=0.001),\n",
        "    metrics=['accuracy']\n",
        ")"
      ],
      "metadata": {
        "id": "Whrga8Sbxt-7"
      },
      "execution_count": 18,
      "outputs": []
    },
    {
      "cell_type": "code",
      "source": [
        "model.fit(x_train,y_train, batch_size=64,  epochs=10)"
      ],
      "metadata": {
        "colab": {
          "base_uri": "https://localhost:8080/"
        },
        "id": "b0kcTN6jx5S2",
        "outputId": "8da38f30-6267-431e-9567-e227c290828a"
      },
      "execution_count": 19,
      "outputs": [
        {
          "output_type": "stream",
          "name": "stdout",
          "text": [
            "Epoch 1/10\n",
            "938/938 [==============================] - 84s 88ms/step - loss: 0.3157 - accuracy: 0.9033\n",
            "Epoch 2/10\n",
            "938/938 [==============================] - 71s 76ms/step - loss: 0.1353 - accuracy: 0.9629\n",
            "Epoch 3/10\n",
            "938/938 [==============================] - 72s 76ms/step - loss: 0.1081 - accuracy: 0.9703\n",
            "Epoch 4/10\n",
            "938/938 [==============================] - 73s 78ms/step - loss: 0.1034 - accuracy: 0.9720\n",
            "Epoch 5/10\n",
            "938/938 [==============================] - 72s 77ms/step - loss: 0.1044 - accuracy: 0.9731\n",
            "Epoch 6/10\n",
            "938/938 [==============================] - 72s 76ms/step - loss: 0.0834 - accuracy: 0.9774\n",
            "Epoch 7/10\n",
            "938/938 [==============================] - 72s 77ms/step - loss: 0.0731 - accuracy: 0.9811\n",
            "Epoch 8/10\n",
            "938/938 [==============================] - 72s 76ms/step - loss: 0.0702 - accuracy: 0.9811\n",
            "Epoch 9/10\n",
            "938/938 [==============================] - 74s 79ms/step - loss: 0.0679 - accuracy: 0.9813\n",
            "Epoch 10/10\n",
            "938/938 [==============================] - 71s 76ms/step - loss: 0.0685 - accuracy: 0.9817\n"
          ]
        },
        {
          "output_type": "execute_result",
          "data": {
            "text/plain": [
              "<keras.callbacks.History at 0x7f05f74df0d0>"
            ]
          },
          "metadata": {},
          "execution_count": 19
        }
      ]
    },
    {
      "cell_type": "code",
      "source": [
        "model.evaluate(x_test,y_test,batch_size=64)"
      ],
      "metadata": {
        "colab": {
          "base_uri": "https://localhost:8080/"
        },
        "id": "SytJdQTaxzKK",
        "outputId": "8513fca1-3452-460c-f7ef-29dded82c548"
      },
      "execution_count": 20,
      "outputs": [
        {
          "output_type": "stream",
          "name": "stdout",
          "text": [
            "157/157 [==============================] - 2s 12ms/step - loss: 0.0772 - accuracy: 0.9795\n"
          ]
        },
        {
          "output_type": "execute_result",
          "data": {
            "text/plain": [
              "[0.07719925791025162, 0.9794999957084656]"
            ]
          },
          "metadata": {},
          "execution_count": 20
        }
      ]
    },
    {
      "cell_type": "markdown",
      "source": [
        "# GRU"
      ],
      "metadata": {
        "id": "jwTIKFo4CUC1"
      }
    },
    {
      "cell_type": "code",
      "source": [
        "model = keras.Sequential()\n",
        "model.add(keras.Input(shape=(None,28)))\n",
        "model.add(\n",
        "            keras.layers.GRU(512, return_sequences=True, activation='tanh')\n",
        "         )\n",
        "model.add(\n",
        "            keras.layers.GRU(512, activation='tanh')\n",
        "         )\n",
        "model.add(\n",
        "            keras.layers.Dense(10)\n",
        "        )\n",
        "\n",
        "model.compile(\n",
        "    loss = keras.losses.SparseCategoricalCrossentropy(from_logits=True),\n",
        "    optimizer = keras.optimizers.Adam(learning_rate=0.001),\n",
        "    metrics=['accuracy']\n",
        ")"
      ],
      "metadata": {
        "id": "8Tcubb8oCWFB"
      },
      "execution_count": 23,
      "outputs": []
    },
    {
      "cell_type": "code",
      "source": [
        "model.fit(x_train,y_train, batch_size=64,  epochs=10)"
      ],
      "metadata": {
        "colab": {
          "base_uri": "https://localhost:8080/"
        },
        "id": "8TOqUv4JCkC5",
        "outputId": "f797b720-e582-4f87-881b-5a72748bbc76"
      },
      "execution_count": 24,
      "outputs": [
        {
          "output_type": "stream",
          "name": "stdout",
          "text": [
            "Epoch 1/10\n",
            "938/938 [==============================] - 36s 33ms/step - loss: 0.2349 - accuracy: 0.9228\n",
            "Epoch 2/10\n",
            "938/938 [==============================] - 31s 33ms/step - loss: 0.0624 - accuracy: 0.9813\n",
            "Epoch 3/10\n",
            "938/938 [==============================] - 31s 33ms/step - loss: 0.0452 - accuracy: 0.9859\n",
            "Epoch 4/10\n",
            "938/938 [==============================] - 31s 33ms/step - loss: 0.0370 - accuracy: 0.9886\n",
            "Epoch 5/10\n",
            "938/938 [==============================] - 31s 33ms/step - loss: 0.0300 - accuracy: 0.9909\n",
            "Epoch 6/10\n",
            "938/938 [==============================] - 31s 33ms/step - loss: 0.0257 - accuracy: 0.9925\n",
            "Epoch 7/10\n",
            "938/938 [==============================] - 31s 33ms/step - loss: 0.0245 - accuracy: 0.9923\n",
            "Epoch 8/10\n",
            "938/938 [==============================] - 31s 33ms/step - loss: 0.0191 - accuracy: 0.9942\n",
            "Epoch 9/10\n",
            "938/938 [==============================] - 31s 33ms/step - loss: 0.0167 - accuracy: 0.9949\n",
            "Epoch 10/10\n",
            "938/938 [==============================] - 31s 33ms/step - loss: 0.0160 - accuracy: 0.9949\n"
          ]
        },
        {
          "output_type": "execute_result",
          "data": {
            "text/plain": [
              "<keras.callbacks.History at 0x7f05f2ade890>"
            ]
          },
          "metadata": {},
          "execution_count": 24
        }
      ]
    },
    {
      "cell_type": "code",
      "source": [
        "model.evaluate(x_test,y_test,batch_size=64)"
      ],
      "metadata": {
        "colab": {
          "base_uri": "https://localhost:8080/"
        },
        "id": "GgKZ-yYWC13L",
        "outputId": "3198d4ef-b360-4b56-d6c7-b08677075142"
      },
      "execution_count": 25,
      "outputs": [
        {
          "output_type": "stream",
          "name": "stdout",
          "text": [
            "157/157 [==============================] - 3s 14ms/step - loss: 0.0410 - accuracy: 0.9898\n"
          ]
        },
        {
          "output_type": "execute_result",
          "data": {
            "text/plain": [
              "[0.04102746397256851, 0.989799976348877]"
            ]
          },
          "metadata": {},
          "execution_count": 25
        }
      ]
    },
    {
      "cell_type": "markdown",
      "source": [
        "# LSTM"
      ],
      "metadata": {
        "id": "ZIyW9gxiEBkq"
      }
    },
    {
      "cell_type": "code",
      "source": [
        "model = keras.Sequential()\n",
        "model.add(keras.Input(shape=(None,28)))\n",
        "model.add(\n",
        "            keras.layers.LSTM(512, return_sequences=True, activation='tanh')\n",
        "         )\n",
        "model.add(\n",
        "            keras.layers.LSTM(512, activation='tanh')\n",
        "         )\n",
        "model.add(\n",
        "            keras.layers.Dense(10)\n",
        "        )\n",
        "\n",
        "model.compile(\n",
        "    loss = keras.losses.SparseCategoricalCrossentropy(from_logits=True),\n",
        "    optimizer = keras.optimizers.Adam(learning_rate=0.001),\n",
        "    metrics=['accuracy']\n",
        ")"
      ],
      "metadata": {
        "id": "hWCTcfkHEF0i"
      },
      "execution_count": 26,
      "outputs": []
    },
    {
      "cell_type": "code",
      "source": [
        "model.fit(x_train,y_train, batch_size=64,  epochs=10)"
      ],
      "metadata": {
        "colab": {
          "base_uri": "https://localhost:8080/"
        },
        "id": "xiywUXOsEOAN",
        "outputId": "aa13c102-1203-4e84-c8b3-dda446cf4346"
      },
      "execution_count": 27,
      "outputs": [
        {
          "output_type": "stream",
          "name": "stdout",
          "text": [
            "Epoch 1/10\n",
            "938/938 [==============================] - 40s 39ms/step - loss: 0.2782 - accuracy: 0.9093\n",
            "Epoch 2/10\n",
            "938/938 [==============================] - 38s 41ms/step - loss: 0.0820 - accuracy: 0.9751\n",
            "Epoch 3/10\n",
            "938/938 [==============================] - 37s 40ms/step - loss: 0.0565 - accuracy: 0.9828\n",
            "Epoch 4/10\n",
            "938/938 [==============================] - 37s 39ms/step - loss: 0.0418 - accuracy: 0.9871\n",
            "Epoch 5/10\n",
            "938/938 [==============================] - 37s 39ms/step - loss: 0.0369 - accuracy: 0.9885\n",
            "Epoch 6/10\n",
            "938/938 [==============================] - 36s 39ms/step - loss: 0.0303 - accuracy: 0.9908\n",
            "Epoch 7/10\n",
            "938/938 [==============================] - 37s 39ms/step - loss: 0.0258 - accuracy: 0.9918\n",
            "Epoch 8/10\n",
            "938/938 [==============================] - 37s 40ms/step - loss: 0.0228 - accuracy: 0.9928\n",
            "Epoch 9/10\n",
            "938/938 [==============================] - 37s 39ms/step - loss: 0.0184 - accuracy: 0.9944\n",
            "Epoch 10/10\n",
            "938/938 [==============================] - 37s 39ms/step - loss: 0.0185 - accuracy: 0.9941\n"
          ]
        },
        {
          "output_type": "execute_result",
          "data": {
            "text/plain": [
              "<keras.callbacks.History at 0x7f05f2602e10>"
            ]
          },
          "metadata": {},
          "execution_count": 27
        }
      ]
    },
    {
      "cell_type": "code",
      "source": [
        "model.evaluate(x_test,y_test,batch_size=64)"
      ],
      "metadata": {
        "colab": {
          "base_uri": "https://localhost:8080/"
        },
        "id": "_SH5ibArEQhT",
        "outputId": "03515335-aa60-467b-b0dc-ffe5932357cd"
      },
      "execution_count": 28,
      "outputs": [
        {
          "output_type": "stream",
          "name": "stdout",
          "text": [
            "157/157 [==============================] - 3s 15ms/step - loss: 0.0377 - accuracy: 0.9893\n"
          ]
        },
        {
          "output_type": "execute_result",
          "data": {
            "text/plain": [
              "[0.0376899316906929, 0.989300012588501]"
            ]
          },
          "metadata": {},
          "execution_count": 28
        }
      ]
    },
    {
      "cell_type": "markdown",
      "source": [
        "# Bidirectional LSTM"
      ],
      "metadata": {
        "id": "I6YLyzBGEUzO"
      }
    },
    {
      "cell_type": "code",
      "source": [
        "model = keras.Sequential()\n",
        "model.add(keras.Input(shape=(None,28)))\n",
        "model.add(\n",
        "            keras.layers.Bidirectional(\n",
        "                keras.layers.LSTM(512, return_sequences=True, activation='tanh')\n",
        "            )\n",
        "         )\n",
        "model.add(\n",
        "            keras.layers.Bidirectional(\n",
        "                keras.layers.LSTM(512, activation='tanh')\n",
        "            )\n",
        "         )\n",
        "model.add(\n",
        "            keras.layers.Dense(10)\n",
        "        )\n",
        "\n",
        "model.compile(\n",
        "    loss = keras.losses.SparseCategoricalCrossentropy(from_logits=True),\n",
        "    optimizer = keras.optimizers.Adam(learning_rate=0.001),\n",
        "    metrics=['accuracy']\n",
        ")"
      ],
      "metadata": {
        "id": "E1Ck7-BDEXwR"
      },
      "execution_count": 31,
      "outputs": []
    },
    {
      "cell_type": "code",
      "source": [
        "model.summary()"
      ],
      "metadata": {
        "colab": {
          "base_uri": "https://localhost:8080/"
        },
        "id": "X6MLSIrDFS2v",
        "outputId": "0e0331f1-2876-41c7-f3ed-40afed904616"
      },
      "execution_count": 32,
      "outputs": [
        {
          "output_type": "stream",
          "name": "stdout",
          "text": [
            "Model: \"sequential_6\"\n",
            "_________________________________________________________________\n",
            " Layer (type)                Output Shape              Param #   \n",
            "=================================================================\n",
            " bidirectional_1 (Bidirectio  (None, None, 1024)       2215936   \n",
            " nal)                                                            \n",
            "                                                                 \n",
            " bidirectional_2 (Bidirectio  (None, 1024)             6295552   \n",
            " nal)                                                            \n",
            "                                                                 \n",
            " dense_6 (Dense)             (None, 10)                10250     \n",
            "                                                                 \n",
            "=================================================================\n",
            "Total params: 8,521,738\n",
            "Trainable params: 8,521,738\n",
            "Non-trainable params: 0\n",
            "_________________________________________________________________\n"
          ]
        }
      ]
    },
    {
      "cell_type": "code",
      "source": [
        "model.compile(\n",
        "    loss = keras.losses.SparseCategoricalCrossentropy(from_logits=True),\n",
        "    optimizer = keras.optimizers.Adam(learning_rate=0.001),\n",
        "    metrics=['accuracy']\n",
        ")"
      ],
      "metadata": {
        "id": "5LnbZ8U5FUDz"
      },
      "execution_count": 33,
      "outputs": []
    },
    {
      "cell_type": "code",
      "source": [
        "model.fit(x_train,y_train, batch_size=64,  epochs=10)"
      ],
      "metadata": {
        "colab": {
          "base_uri": "https://localhost:8080/"
        },
        "id": "0OtsPMvnGEpl",
        "outputId": "ef01d96a-ec09-4158-b298-b365c9f8f39a"
      },
      "execution_count": 34,
      "outputs": [
        {
          "output_type": "stream",
          "name": "stdout",
          "text": [
            "Epoch 1/10\n",
            "938/938 [==============================] - 88s 87ms/step - loss: 0.2451 - accuracy: 0.9195\n",
            "Epoch 2/10\n",
            "938/938 [==============================] - 81s 87ms/step - loss: 0.0730 - accuracy: 0.9772\n",
            "Epoch 3/10\n",
            "938/938 [==============================] - 81s 87ms/step - loss: 0.0508 - accuracy: 0.9841\n",
            "Epoch 4/10\n",
            "938/938 [==============================] - 82s 87ms/step - loss: 0.0379 - accuracy: 0.9885\n",
            "Epoch 5/10\n",
            "938/938 [==============================] - 82s 87ms/step - loss: 0.0325 - accuracy: 0.9900\n",
            "Epoch 6/10\n",
            "938/938 [==============================] - 81s 87ms/step - loss: 0.0283 - accuracy: 0.9912\n",
            "Epoch 7/10\n",
            "938/938 [==============================] - 81s 86ms/step - loss: 0.0226 - accuracy: 0.9928\n",
            "Epoch 8/10\n",
            "938/938 [==============================] - 81s 86ms/step - loss: 0.0199 - accuracy: 0.9936\n",
            "Epoch 9/10\n",
            "938/938 [==============================] - 81s 86ms/step - loss: 0.0172 - accuracy: 0.9943\n",
            "Epoch 10/10\n",
            "938/938 [==============================] - 81s 86ms/step - loss: 0.0150 - accuracy: 0.9950\n"
          ]
        },
        {
          "output_type": "execute_result",
          "data": {
            "text/plain": [
              "<keras.callbacks.History at 0x7f05c917d9d0>"
            ]
          },
          "metadata": {},
          "execution_count": 34
        }
      ]
    },
    {
      "cell_type": "code",
      "source": [
        "model.evaluate(x_test,y_test,batch_size=64)"
      ],
      "metadata": {
        "colab": {
          "base_uri": "https://localhost:8080/"
        },
        "id": "MeALRNf5GH_c",
        "outputId": "77727a70-3c0a-4595-8d31-01230b8d3634"
      },
      "execution_count": 35,
      "outputs": [
        {
          "output_type": "stream",
          "name": "stdout",
          "text": [
            "157/157 [==============================] - 7s 32ms/step - loss: 0.0364 - accuracy: 0.9906\n"
          ]
        },
        {
          "output_type": "execute_result",
          "data": {
            "text/plain": [
              "[0.03642655536532402, 0.9905999898910522]"
            ]
          },
          "metadata": {},
          "execution_count": 35
        }
      ]
    },
    {
      "cell_type": "code",
      "source": [
        ""
      ],
      "metadata": {
        "id": "RYXOucLsI4wk"
      },
      "execution_count": null,
      "outputs": []
    }
  ]
}