{
 "cells": [
  {
   "cell_type": "code",
   "execution_count": 1,
   "id": "a25808ee",
   "metadata": {},
   "outputs": [],
   "source": [
    "import numpy as np\n",
    "import tensorflow as tf\n",
    "from tensorflow import keras\n",
    "from tensorflow.keras import layers, regularizers"
   ]
  },
  {
   "cell_type": "code",
   "execution_count": 2,
   "id": "e211cb87",
   "metadata": {},
   "outputs": [],
   "source": [
    "from tensorflow.keras.datasets import cifar10"
   ]
  },
  {
   "cell_type": "code",
   "execution_count": 3,
   "id": "5cbb28fe",
   "metadata": {},
   "outputs": [],
   "source": [
    "import ssl\n",
    "ssl._create_default_https_context = ssl._create_unverified_context"
   ]
  },
  {
   "cell_type": "code",
   "execution_count": 4,
   "id": "d85be8a9",
   "metadata": {},
   "outputs": [],
   "source": [
    "#load the data\n",
    "(x_train,y_train), (x_test, y_test) = cifar10.load_data()"
   ]
  },
  {
   "cell_type": "code",
   "execution_count": 5,
   "id": "1b155620",
   "metadata": {},
   "outputs": [],
   "source": [
    "x_train = x_train.astype('float32')/255.0\n",
    "x_test = x_test.astype('float32')/255.0"
   ]
  },
  {
   "cell_type": "code",
   "execution_count": 6,
   "id": "616b387e",
   "metadata": {},
   "outputs": [
    {
     "data": {
      "text/plain": [
       "(32, 32, 3)"
      ]
     },
     "execution_count": 6,
     "metadata": {},
     "output_type": "execute_result"
    }
   ],
   "source": [
    "x_train[0].shape"
   ]
  },
  {
   "cell_type": "code",
   "execution_count": 7,
   "id": "0b81b14c",
   "metadata": {},
   "outputs": [
    {
     "data": {
      "text/plain": [
       "array([6], dtype=uint8)"
      ]
     },
     "execution_count": 7,
     "metadata": {},
     "output_type": "execute_result"
    }
   ],
   "source": [
    "y_train[0]"
   ]
  },
  {
   "cell_type": "code",
   "execution_count": 8,
   "id": "32381762",
   "metadata": {},
   "outputs": [
    {
     "data": {
      "text/plain": [
       "((50000, 32, 32, 3), (50000, 1))"
      ]
     },
     "execution_count": 8,
     "metadata": {},
     "output_type": "execute_result"
    }
   ],
   "source": [
    "x_train.shape, y_train.shape"
   ]
  },
  {
   "cell_type": "markdown",
   "id": "a45cb4d0",
   "metadata": {},
   "source": [
    "# Using Functional API to create a CNN with BatchNormalization"
   ]
  },
  {
   "cell_type": "code",
   "execution_count": 9,
   "id": "66a81470",
   "metadata": {},
   "outputs": [
    {
     "name": "stdout",
     "output_type": "stream",
     "text": [
      "Epoch 1/150\n",
      "782/782 [==============================] - 125s 155ms/step - loss: 3.2274 - accuracy: 0.4127\n",
      "Epoch 2/150\n",
      "782/782 [==============================] - 118s 151ms/step - loss: 1.9259 - accuracy: 0.5597\n",
      "Epoch 3/150\n",
      "782/782 [==============================] - 115s 147ms/step - loss: 1.5256 - accuracy: 0.6139\n",
      "Epoch 4/150\n",
      "782/782 [==============================] - 118s 150ms/step - loss: 1.3499 - accuracy: 0.6454\n",
      "Epoch 5/150\n",
      "782/782 [==============================] - 114s 146ms/step - loss: 1.2590 - accuracy: 0.6629\n",
      "Epoch 6/150\n",
      "782/782 [==============================] - 113s 145ms/step - loss: 1.1994 - accuracy: 0.6791\n",
      "Epoch 7/150\n",
      "782/782 [==============================] - 111s 142ms/step - loss: 1.1654 - accuracy: 0.6904\n",
      "Epoch 8/150\n",
      "782/782 [==============================] - 109s 139ms/step - loss: 1.1250 - accuracy: 0.7035\n",
      "Epoch 9/150\n",
      "782/782 [==============================] - 128s 164ms/step - loss: 1.1097 - accuracy: 0.7094\n",
      "Epoch 10/150\n",
      "782/782 [==============================] - 137s 175ms/step - loss: 1.0835 - accuracy: 0.7180\n",
      "Epoch 11/150\n",
      "782/782 [==============================] - 141s 180ms/step - loss: 1.0722 - accuracy: 0.7224\n",
      "Epoch 12/150\n",
      "782/782 [==============================] - 138s 177ms/step - loss: 1.0482 - accuracy: 0.7311\n",
      "Epoch 13/150\n",
      "782/782 [==============================] - 118s 151ms/step - loss: 1.0378 - accuracy: 0.7344\n",
      "Epoch 14/150\n",
      "782/782 [==============================] - 111s 142ms/step - loss: 1.0229 - accuracy: 0.7420\n",
      "Epoch 15/150\n",
      "782/782 [==============================] - 133s 170ms/step - loss: 1.0129 - accuracy: 0.7472\n",
      "Epoch 16/150\n",
      "782/782 [==============================] - 126s 161ms/step - loss: 1.0031 - accuracy: 0.7522\n",
      "Epoch 17/150\n",
      "782/782 [==============================] - 104s 133ms/step - loss: 0.9884 - accuracy: 0.7551\n",
      "Epoch 18/150\n",
      "782/782 [==============================] - 110s 140ms/step - loss: 0.9816 - accuracy: 0.7567\n",
      "Epoch 19/150\n",
      "782/782 [==============================] - 121s 155ms/step - loss: 0.9688 - accuracy: 0.7633\n",
      "Epoch 20/150\n",
      "782/782 [==============================] - 70s 90ms/step - loss: 0.9614 - accuracy: 0.7672\n",
      "Epoch 21/150\n",
      "782/782 [==============================] - 61s 78ms/step - loss: 0.9548 - accuracy: 0.7708\n",
      "Epoch 22/150\n",
      "782/782 [==============================] - 81s 104ms/step - loss: 0.9495 - accuracy: 0.7715\n",
      "Epoch 23/150\n",
      "782/782 [==============================] - 68s 87ms/step - loss: 0.9391 - accuracy: 0.7764\n",
      "Epoch 24/150\n",
      "782/782 [==============================] - 97s 124ms/step - loss: 0.9338 - accuracy: 0.7792\n",
      "Epoch 25/150\n",
      "782/782 [==============================] - 88s 113ms/step - loss: 0.9282 - accuracy: 0.7813\n",
      "Epoch 26/150\n",
      "782/782 [==============================] - 72s 92ms/step - loss: 0.9158 - accuracy: 0.7871\n",
      "Epoch 27/150\n",
      "782/782 [==============================] - 70s 90ms/step - loss: 0.9153 - accuracy: 0.7869\n",
      "Epoch 28/150\n",
      "782/782 [==============================] - 82s 105ms/step - loss: 0.9094 - accuracy: 0.7898\n",
      "Epoch 29/150\n",
      "782/782 [==============================] - 67s 86ms/step - loss: 0.9020 - accuracy: 0.7935\n",
      "Epoch 30/150\n",
      "782/782 [==============================] - 73s 93ms/step - loss: 0.8915 - accuracy: 0.7982\n",
      "Epoch 31/150\n",
      "782/782 [==============================] - 86s 110ms/step - loss: 0.8913 - accuracy: 0.7987\n",
      "Epoch 32/150\n",
      "782/782 [==============================] - 96s 123ms/step - loss: 0.8878 - accuracy: 0.7989\n",
      "Epoch 33/150\n",
      "782/782 [==============================] - 89s 113ms/step - loss: 0.8839 - accuracy: 0.7987\n",
      "Epoch 34/150\n",
      "782/782 [==============================] - 57s 73ms/step - loss: 0.8725 - accuracy: 0.8049\n",
      "Epoch 35/150\n",
      "782/782 [==============================] - 56s 72ms/step - loss: 0.8755 - accuracy: 0.8029\n",
      "Epoch 36/150\n",
      "782/782 [==============================] - 57s 72ms/step - loss: 0.8691 - accuracy: 0.8059\n",
      "Epoch 37/150\n",
      "782/782 [==============================] - 55s 71ms/step - loss: 0.8615 - accuracy: 0.8105\n",
      "Epoch 38/150\n",
      "782/782 [==============================] - 56s 71ms/step - loss: 0.8674 - accuracy: 0.8082\n",
      "Epoch 39/150\n",
      "782/782 [==============================] - 55s 71ms/step - loss: 0.8608 - accuracy: 0.8119\n",
      "Epoch 40/150\n",
      "782/782 [==============================] - 55s 71ms/step - loss: 0.8562 - accuracy: 0.8144\n",
      "Epoch 41/150\n",
      "782/782 [==============================] - 55s 71ms/step - loss: 0.8522 - accuracy: 0.8157\n",
      "Epoch 42/150\n",
      "782/782 [==============================] - 55s 71ms/step - loss: 0.8455 - accuracy: 0.8181\n",
      "Epoch 43/150\n",
      "782/782 [==============================] - 55s 70ms/step - loss: 0.8401 - accuracy: 0.8192\n",
      "Epoch 44/150\n",
      "782/782 [==============================] - 56s 72ms/step - loss: 0.8407 - accuracy: 0.8193\n",
      "Epoch 45/150\n",
      "782/782 [==============================] - 55s 71ms/step - loss: 0.8396 - accuracy: 0.8218\n",
      "Epoch 46/150\n",
      "782/782 [==============================] - 55s 70ms/step - loss: 0.8338 - accuracy: 0.8231\n",
      "Epoch 47/150\n",
      "782/782 [==============================] - 55s 70ms/step - loss: 0.8370 - accuracy: 0.8241\n",
      "Epoch 48/150\n",
      "782/782 [==============================] - 55s 70ms/step - loss: 0.8280 - accuracy: 0.8281\n",
      "Epoch 49/150\n",
      "782/782 [==============================] - 55s 70ms/step - loss: 0.8285 - accuracy: 0.8268\n",
      "Epoch 50/150\n",
      "782/782 [==============================] - 56s 72ms/step - loss: 0.8232 - accuracy: 0.8298\n",
      "Epoch 51/150\n",
      "782/782 [==============================] - 86s 110ms/step - loss: 0.8253 - accuracy: 0.8269\n",
      "Epoch 52/150\n",
      "782/782 [==============================] - 113s 145ms/step - loss: 0.8147 - accuracy: 0.8319\n",
      "Epoch 53/150\n",
      "782/782 [==============================] - 84s 108ms/step - loss: 0.8163 - accuracy: 0.8317\n",
      "Epoch 54/150\n",
      "782/782 [==============================] - 93s 118ms/step - loss: 0.8109 - accuracy: 0.8333\n",
      "Epoch 55/150\n",
      "782/782 [==============================] - 85s 109ms/step - loss: 0.8111 - accuracy: 0.8332\n",
      "Epoch 56/150\n",
      "782/782 [==============================] - 82s 105ms/step - loss: 0.8090 - accuracy: 0.8348\n",
      "Epoch 57/150\n",
      "782/782 [==============================] - 85s 108ms/step - loss: 0.8052 - accuracy: 0.8385\n",
      "Epoch 58/150\n",
      "782/782 [==============================] - 89s 114ms/step - loss: 0.8051 - accuracy: 0.8370\n",
      "Epoch 59/150\n",
      "782/782 [==============================] - 79s 101ms/step - loss: 0.8079 - accuracy: 0.8371\n",
      "Epoch 60/150\n",
      "782/782 [==============================] - 79s 101ms/step - loss: 0.8034 - accuracy: 0.8394\n",
      "Epoch 61/150\n",
      "782/782 [==============================] - 86s 111ms/step - loss: 0.7982 - accuracy: 0.8405\n",
      "Epoch 62/150\n",
      "782/782 [==============================] - 80s 103ms/step - loss: 0.7926 - accuracy: 0.8419\n",
      "Epoch 63/150\n",
      "782/782 [==============================] - 85s 109ms/step - loss: 0.7972 - accuracy: 0.8401\n",
      "Epoch 64/150\n",
      "782/782 [==============================] - 105s 134ms/step - loss: 0.7921 - accuracy: 0.8440\n",
      "Epoch 65/150\n",
      "782/782 [==============================] - 89s 114ms/step - loss: 0.7911 - accuracy: 0.8449\n",
      "Epoch 66/150\n",
      "782/782 [==============================] - 56s 72ms/step - loss: 0.7909 - accuracy: 0.8436\n",
      "Epoch 67/150\n",
      "782/782 [==============================] - 55s 71ms/step - loss: 0.7820 - accuracy: 0.8479\n",
      "Epoch 68/150\n",
      "782/782 [==============================] - 56s 71ms/step - loss: 0.7840 - accuracy: 0.8473\n",
      "Epoch 69/150\n",
      "782/782 [==============================] - 55s 71ms/step - loss: 0.7919 - accuracy: 0.8445\n",
      "Epoch 70/150\n",
      "782/782 [==============================] - 74s 95ms/step - loss: 0.7822 - accuracy: 0.8483\n",
      "Epoch 71/150\n",
      "782/782 [==============================] - 98s 125ms/step - loss: 0.7813 - accuracy: 0.8493\n",
      "Epoch 72/150\n",
      "782/782 [==============================] - 91s 116ms/step - loss: 0.7839 - accuracy: 0.8501\n",
      "Epoch 73/150\n",
      "782/782 [==============================] - 99s 126ms/step - loss: 0.7810 - accuracy: 0.8489\n",
      "Epoch 74/150\n",
      "782/782 [==============================] - 97s 125ms/step - loss: 0.7729 - accuracy: 0.8522\n",
      "Epoch 75/150\n",
      "782/782 [==============================] - 75s 96ms/step - loss: 0.7732 - accuracy: 0.8524\n",
      "Epoch 76/150\n",
      "782/782 [==============================] - 100s 128ms/step - loss: 0.7763 - accuracy: 0.8524\n",
      "Epoch 77/150\n",
      "782/782 [==============================] - 99s 126ms/step - loss: 0.7722 - accuracy: 0.8535\n",
      "Epoch 78/150\n",
      "782/782 [==============================] - 101s 129ms/step - loss: 0.7678 - accuracy: 0.8554\n",
      "Epoch 79/150\n"
     ]
    },
    {
     "name": "stdout",
     "output_type": "stream",
     "text": [
      "782/782 [==============================] - 104s 133ms/step - loss: 0.7709 - accuracy: 0.8552\n",
      "Epoch 80/150\n",
      "782/782 [==============================] - 104s 133ms/step - loss: 0.7713 - accuracy: 0.8549\n",
      "Epoch 81/150\n",
      "782/782 [==============================] - 99s 127ms/step - loss: 0.7598 - accuracy: 0.8585\n",
      "Epoch 82/150\n",
      "782/782 [==============================] - 115s 148ms/step - loss: 0.7666 - accuracy: 0.8553\n",
      "Epoch 83/150\n",
      "782/782 [==============================] - 74s 95ms/step - loss: 0.7631 - accuracy: 0.8578\n",
      "Epoch 84/150\n",
      "782/782 [==============================] - 74s 95ms/step - loss: 0.7649 - accuracy: 0.8568\n",
      "Epoch 85/150\n",
      "782/782 [==============================] - 80s 102ms/step - loss: 0.7702 - accuracy: 0.8554\n",
      "Epoch 86/150\n",
      "782/782 [==============================] - 86s 110ms/step - loss: 0.7682 - accuracy: 0.8557\n",
      "Epoch 87/150\n",
      "782/782 [==============================] - 90s 115ms/step - loss: 0.7563 - accuracy: 0.8607\n",
      "Epoch 88/150\n",
      "782/782 [==============================] - 101s 129ms/step - loss: 0.7632 - accuracy: 0.8591\n",
      "Epoch 89/150\n",
      "782/782 [==============================] - 85s 108ms/step - loss: 0.7546 - accuracy: 0.8620\n",
      "Epoch 90/150\n",
      "782/782 [==============================] - 94s 120ms/step - loss: 0.7612 - accuracy: 0.8598\n",
      "Epoch 91/150\n",
      "782/782 [==============================] - 90s 116ms/step - loss: 0.7546 - accuracy: 0.8631\n",
      "Epoch 92/150\n",
      "782/782 [==============================] - 91s 116ms/step - loss: 0.7549 - accuracy: 0.8613\n",
      "Epoch 93/150\n",
      "782/782 [==============================] - 89s 113ms/step - loss: 0.7503 - accuracy: 0.8625\n",
      "Epoch 94/150\n",
      "782/782 [==============================] - 89s 113ms/step - loss: 0.7583 - accuracy: 0.8613\n",
      "Epoch 95/150\n",
      "782/782 [==============================] - 100s 128ms/step - loss: 0.7494 - accuracy: 0.8654\n",
      "Epoch 96/150\n",
      "782/782 [==============================] - 88s 112ms/step - loss: 0.7522 - accuracy: 0.8642\n",
      "Epoch 97/150\n",
      "782/782 [==============================] - 82s 104ms/step - loss: 0.7477 - accuracy: 0.8650\n",
      "Epoch 98/150\n",
      "782/782 [==============================] - 94s 121ms/step - loss: 0.7525 - accuracy: 0.8636\n",
      "Epoch 99/150\n",
      "782/782 [==============================] - 73s 93ms/step - loss: 0.7549 - accuracy: 0.8625\n",
      "Epoch 100/150\n",
      "782/782 [==============================] - 80s 102ms/step - loss: 0.7492 - accuracy: 0.8654\n",
      "Epoch 101/150\n",
      "782/782 [==============================] - 85s 109ms/step - loss: 0.7447 - accuracy: 0.8663\n",
      "Epoch 102/150\n",
      "782/782 [==============================] - 86s 110ms/step - loss: 0.7557 - accuracy: 0.8643\n",
      "Epoch 103/150\n",
      "782/782 [==============================] - 81s 104ms/step - loss: 0.7482 - accuracy: 0.8665\n",
      "Epoch 104/150\n",
      "782/782 [==============================] - 72s 92ms/step - loss: 0.7439 - accuracy: 0.8685\n",
      "Epoch 105/150\n",
      "782/782 [==============================] - 73s 94ms/step - loss: 0.7557 - accuracy: 0.8647\n",
      "Epoch 106/150\n",
      "782/782 [==============================] - 74s 94ms/step - loss: 0.7435 - accuracy: 0.8676\n",
      "Epoch 107/150\n",
      "782/782 [==============================] - 73s 94ms/step - loss: 0.7448 - accuracy: 0.8681\n",
      "Epoch 108/150\n",
      "782/782 [==============================] - 74s 94ms/step - loss: 0.7414 - accuracy: 0.8685\n",
      "Epoch 109/150\n",
      "782/782 [==============================] - 74s 94ms/step - loss: 0.7404 - accuracy: 0.8691\n",
      "Epoch 110/150\n",
      "782/782 [==============================] - 96s 123ms/step - loss: 0.7467 - accuracy: 0.8668\n",
      "Epoch 111/150\n",
      "782/782 [==============================] - 87s 111ms/step - loss: 0.7457 - accuracy: 0.8687\n",
      "Epoch 112/150\n",
      "782/782 [==============================] - 81s 103ms/step - loss: 0.7443 - accuracy: 0.8679\n",
      "Epoch 113/150\n",
      "782/782 [==============================] - 65s 83ms/step - loss: 0.7440 - accuracy: 0.8698\n",
      "Epoch 114/150\n",
      "782/782 [==============================] - 81s 104ms/step - loss: 0.7347 - accuracy: 0.8727\n",
      "Epoch 115/150\n",
      "782/782 [==============================] - 75s 95ms/step - loss: 0.7430 - accuracy: 0.8696\n",
      "Epoch 116/150\n",
      "782/782 [==============================] - 88s 113ms/step - loss: 0.7405 - accuracy: 0.8701\n",
      "Epoch 117/150\n",
      "782/782 [==============================] - 83s 106ms/step - loss: 0.7335 - accuracy: 0.8737\n",
      "Epoch 118/150\n",
      "782/782 [==============================] - 95s 122ms/step - loss: 0.7399 - accuracy: 0.8715\n",
      "Epoch 119/150\n",
      "782/782 [==============================] - 82s 105ms/step - loss: 0.7381 - accuracy: 0.8707\n",
      "Epoch 120/150\n",
      "782/782 [==============================] - 83s 106ms/step - loss: 0.7425 - accuracy: 0.8694\n",
      "Epoch 121/150\n",
      "782/782 [==============================] - 96s 122ms/step - loss: 0.7374 - accuracy: 0.8718\n",
      "Epoch 122/150\n",
      "782/782 [==============================] - 86s 109ms/step - loss: 0.7401 - accuracy: 0.8712\n",
      "Epoch 123/150\n",
      "782/782 [==============================] - 87s 112ms/step - loss: 0.7359 - accuracy: 0.8734\n",
      "Epoch 124/150\n",
      "782/782 [==============================] - 86s 110ms/step - loss: 0.7395 - accuracy: 0.8711\n",
      "Epoch 125/150\n",
      "782/782 [==============================] - 91s 116ms/step - loss: 0.7341 - accuracy: 0.8732\n",
      "Epoch 126/150\n",
      "782/782 [==============================] - 74s 95ms/step - loss: 0.7368 - accuracy: 0.8736\n",
      "Epoch 127/150\n",
      "782/782 [==============================] - 79s 101ms/step - loss: 0.7298 - accuracy: 0.8747\n",
      "Epoch 128/150\n",
      "782/782 [==============================] - 72s 92ms/step - loss: 0.7325 - accuracy: 0.8749\n",
      "Epoch 129/150\n",
      "782/782 [==============================] - 72s 92ms/step - loss: 0.7428 - accuracy: 0.8720\n",
      "Epoch 130/150\n",
      "782/782 [==============================] - 66s 84ms/step - loss: 0.7345 - accuracy: 0.8732\n",
      "Epoch 131/150\n",
      "782/782 [==============================] - 66s 84ms/step - loss: 0.7296 - accuracy: 0.8763\n",
      "Epoch 132/150\n",
      "782/782 [==============================] - 69s 88ms/step - loss: 0.7386 - accuracy: 0.8727\n",
      "Epoch 133/150\n",
      "782/782 [==============================] - 85s 108ms/step - loss: 0.7361 - accuracy: 0.8748\n",
      "Epoch 134/150\n",
      "782/782 [==============================] - 72s 92ms/step - loss: 0.7333 - accuracy: 0.8739\n",
      "Epoch 135/150\n",
      "782/782 [==============================] - 84s 107ms/step - loss: 0.7312 - accuracy: 0.8758\n",
      "Epoch 136/150\n",
      "782/782 [==============================] - 61s 78ms/step - loss: 0.7372 - accuracy: 0.8743\n",
      "Epoch 137/150\n",
      "782/782 [==============================] - 68s 87ms/step - loss: 0.7273 - accuracy: 0.8758\n",
      "Epoch 138/150\n",
      "782/782 [==============================] - 72s 92ms/step - loss: 0.7313 - accuracy: 0.8759\n",
      "Epoch 139/150\n",
      "782/782 [==============================] - 85s 109ms/step - loss: 0.7326 - accuracy: 0.8753\n",
      "Epoch 140/150\n",
      "782/782 [==============================] - 87s 111ms/step - loss: 0.7318 - accuracy: 0.8760\n",
      "Epoch 141/150\n",
      "782/782 [==============================] - 84s 107ms/step - loss: 0.7303 - accuracy: 0.8771\n",
      "Epoch 142/150\n",
      "782/782 [==============================] - 93s 119ms/step - loss: 0.7261 - accuracy: 0.8776\n",
      "Epoch 143/150\n",
      "782/782 [==============================] - 92s 118ms/step - loss: 0.7244 - accuracy: 0.8768\n",
      "Epoch 144/150\n",
      "782/782 [==============================] - 91s 116ms/step - loss: 0.7332 - accuracy: 0.8757\n",
      "Epoch 145/150\n",
      "782/782 [==============================] - 91s 116ms/step - loss: 0.7321 - accuracy: 0.8768\n",
      "Epoch 146/150\n",
      "782/782 [==============================] - 92s 118ms/step - loss: 0.7293 - accuracy: 0.8779\n",
      "Epoch 147/150\n",
      "782/782 [==============================] - 91s 116ms/step - loss: 0.7270 - accuracy: 0.8779\n",
      "Epoch 148/150\n",
      "782/782 [==============================] - 91s 116ms/step - loss: 0.7292 - accuracy: 0.8774\n",
      "Epoch 149/150\n",
      "782/782 [==============================] - 79s 102ms/step - loss: 0.7221 - accuracy: 0.8795\n",
      "Epoch 150/150\n",
      "782/782 [==============================] - 71s 91ms/step - loss: 0.7317 - accuracy: 0.8741\n",
      "157/157 [==============================] - 6s 23ms/step - loss: 1.1297 - accuracy: 0.7670\n"
     ]
    },
    {
     "data": {
      "text/plain": [
       "[1.129715085029602, 0.7670000195503235]"
      ]
     },
     "execution_count": 9,
     "metadata": {},
     "output_type": "execute_result"
    }
   ],
   "source": [
    "def my_model():\n",
    "    inputs = keras.Input(shape=(32, 32, 3))\n",
    "    x = layers.Conv2D(32, 3, padding='same', kernel_regularizer = regularizers.l2(0.01))(inputs)\n",
    "    x = layers.BatchNormalization()(x)\n",
    "    x = keras.activations.relu(x)\n",
    "    x = layers.MaxPooling2D()(x)\n",
    "    \n",
    "    x = layers.Conv2D(64, 3, kernel_regularizer = regularizers.l2(0.01))(x)\n",
    "    x = layers.BatchNormalization()(x)\n",
    "    x = keras.activations.relu(x)\n",
    "    x = layers.MaxPooling2D()(x)\n",
    "    \n",
    "    x = layers.Conv2D(128, 3, kernel_regularizer = regularizers.l2(0.01))(x)\n",
    "    x = layers.BatchNormalization()(x)\n",
    "    x = keras.activations.relu(x)\n",
    "    \n",
    "    x = layers.Flatten()(x)\n",
    "    x = layers.Dense(64, activation=\"relu\", kernel_regularizer = regularizers.l2(0.01))(x)\n",
    "    x = layers.Dropout(0.5)(x)\n",
    "    outputs = layers.Dense(10)(x)\n",
    "    model = keras.Model(inputs=inputs, outputs=outputs)\n",
    "    return model\n",
    "\n",
    "\n",
    "model = my_model()\n",
    "model.compile(\n",
    "    loss=keras.losses.SparseCategoricalCrossentropy(from_logits=True),\n",
    "    optimizer=keras.optimizers.Adam(learning_rate=3e-4),\n",
    "    metrics=[\"accuracy\"],\n",
    ")\n",
    "\n",
    "model.fit(x_train, y_train, batch_size=64, epochs=150)\n",
    "model.evaluate(x_test, y_test, batch_size=64)"
   ]
  },
  {
   "cell_type": "code",
   "execution_count": 10,
   "id": "d90c45f8",
   "metadata": {},
   "outputs": [
    {
     "name": "stdout",
     "output_type": "stream",
     "text": [
      "157/157 [==============================] - 4s 25ms/step - loss: 1.1297 - accuracy: 0.7670\n"
     ]
    },
    {
     "data": {
      "text/plain": [
       "[1.129715085029602, 0.7670000195503235]"
      ]
     },
     "execution_count": 10,
     "metadata": {},
     "output_type": "execute_result"
    }
   ],
   "source": [
    "model.evaluate(x_test,y_test,batch_size=64)"
   ]
  },
  {
   "cell_type": "code",
   "execution_count": null,
   "id": "13a7c392",
   "metadata": {},
   "outputs": [],
   "source": []
  },
  {
   "cell_type": "code",
   "execution_count": null,
   "id": "e59c0b99",
   "metadata": {},
   "outputs": [],
   "source": []
  }
 ],
 "metadata": {
  "kernelspec": {
   "display_name": "Python 3 (ipykernel)",
   "language": "python",
   "name": "python3"
  },
  "language_info": {
   "codemirror_mode": {
    "name": "ipython",
    "version": 3
   },
   "file_extension": ".py",
   "mimetype": "text/x-python",
   "name": "python",
   "nbconvert_exporter": "python",
   "pygments_lexer": "ipython3",
   "version": "3.9.6"
  }
 },
 "nbformat": 4,
 "nbformat_minor": 5
}
