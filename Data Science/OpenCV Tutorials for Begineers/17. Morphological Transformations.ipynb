{
 "cells": [
  {
   "cell_type": "code",
   "execution_count": 1,
   "id": "e7999e5e",
   "metadata": {},
   "outputs": [],
   "source": [
    "import cv2\n",
    "import numpy as np\n",
    "import matplotlib.pyplot as plt\n",
    "%matplotlib inline"
   ]
  },
  {
   "cell_type": "markdown",
   "id": "22aae3f6",
   "metadata": {},
   "source": [
    "### Morphological transformations are some simple operations based on the image shape. They are normally performed on binary images. Whenn we perform morphological transformations two things are required:\n",
    "<ul>\n",
    "    <li>Original Image</li>\n",
    "    <li>Kernel - which tells us how to change the value of any \n",
    "        given pixel by combining it with different amounts of the\n",
    "        neighboring pixels.</li>\n",
    "</ul>"
   ]
  },
  {
   "cell_type": "code",
   "execution_count": 2,
   "id": "3b0ed668",
   "metadata": {},
   "outputs": [
    {
     "name": "stdout",
     "output_type": "stream",
     "text": [
      "IMREAD_ANYCOLOR\n",
      "IMREAD_ANYDEPTH\n",
      "IMREAD_COLOR\n",
      "IMREAD_GRAYSCALE\n",
      "IMREAD_IGNORE_ORIENTATION\n",
      "IMREAD_LOAD_GDAL\n",
      "IMREAD_REDUCED_COLOR_2\n",
      "IMREAD_REDUCED_COLOR_4\n",
      "IMREAD_REDUCED_COLOR_8\n",
      "IMREAD_REDUCED_GRAYSCALE_2\n",
      "IMREAD_REDUCED_GRAYSCALE_4\n",
      "IMREAD_REDUCED_GRAYSCALE_8\n",
      "IMREAD_UNCHANGED\n"
     ]
    }
   ],
   "source": [
    "for attribute in dir(cv2):\n",
    "    if 'IMREAD' in attribute:\n",
    "        print(attribute)"
   ]
  },
  {
   "cell_type": "code",
   "execution_count": 3,
   "id": "9fe2d22f",
   "metadata": {},
   "outputs": [],
   "source": [
    "img = cv2.imread('data/smarties.png', cv2.IMREAD_GRAYSCALE)"
   ]
  },
  {
   "cell_type": "code",
   "execution_count": 4,
   "id": "1cb78bf6",
   "metadata": {},
   "outputs": [],
   "source": [
    "img = cv2.imread('data/j2.jpg')"
   ]
  },
  {
   "cell_type": "code",
   "execution_count": 5,
   "id": "843d4101",
   "metadata": {},
   "outputs": [],
   "source": [
    "_, mask = cv2.threshold(img,220,255,cv2.THRESH_BINARY_INV)"
   ]
  },
  {
   "cell_type": "markdown",
   "id": "f07e6589",
   "metadata": {},
   "source": [
    "### Dilation - "
   ]
  },
  {
   "cell_type": "code",
   "execution_count": 6,
   "id": "5951b922",
   "metadata": {},
   "outputs": [],
   "source": [
    "kernel = np.ones((5,5),np.uint8)"
   ]
  },
  {
   "cell_type": "code",
   "execution_count": 7,
   "id": "443a63d7",
   "metadata": {},
   "outputs": [],
   "source": [
    "dilation = cv2.dilate(mask,kernel,iterations = 2)"
   ]
  },
  {
   "cell_type": "markdown",
   "id": "4f9a8e60",
   "metadata": {},
   "source": [
    "### Erosion - "
   ]
  },
  {
   "cell_type": "code",
   "execution_count": 8,
   "id": "e02a3208",
   "metadata": {},
   "outputs": [],
   "source": [
    "erosion = cv2.erode(mask,kernel, iterations = 1)"
   ]
  },
  {
   "cell_type": "markdown",
   "id": "750ea629",
   "metadata": {},
   "source": [
    "### Opening -  here the morphological transformation erosion and dilation both are performed. First erosion happens which is then followd by dilation"
   ]
  },
  {
   "cell_type": "code",
   "execution_count": 9,
   "id": "0f142ddc",
   "metadata": {},
   "outputs": [],
   "source": [
    "opening = cv2.morphologyEx(mask,cv2.MORPH_OPEN,kernel)"
   ]
  },
  {
   "cell_type": "markdown",
   "id": "1da33c26",
   "metadata": {},
   "source": [
    "### Closing - here the morphological transformation erosion and dilation both are performed. First dilation happens which is then followd by erosion"
   ]
  },
  {
   "cell_type": "code",
   "execution_count": 10,
   "id": "ecad55b8",
   "metadata": {},
   "outputs": [],
   "source": [
    "closing = cv2.morphologyEx(mask, cv2.MORPH_CLOSE, kernel)"
   ]
  },
  {
   "cell_type": "code",
   "execution_count": 11,
   "id": "b75f265e",
   "metadata": {},
   "outputs": [],
   "source": [
    "#MORPH_GRADIENT is the difference between the dilation and erosion\n",
    "#of an image.\n",
    "mg = cv2.morphologyEx(mask, cv2.MORPH_GRADIENT, kernel)\n",
    "th = cv2.morphologyEx(mask, cv2.MORPH_TOPHAT, kernel)"
   ]
  },
  {
   "cell_type": "code",
   "execution_count": 12,
   "id": "15004058",
   "metadata": {},
   "outputs": [],
   "source": [
    "titles = ['image', 'mask', 'dilation', 'erosion', 'opening', 'closing',\n",
    "         'morph gradient', 'TopHat']\n",
    "images = [img, mask, dilation, erosion, opening, closing, mg, th]"
   ]
  },
  {
   "cell_type": "code",
   "execution_count": 13,
   "id": "a1f23383",
   "metadata": {},
   "outputs": [
    {
     "data": {
      "image/png": "[encoded data removed]",
      "text/plain": [
       "<Figure size 720x720 with 8 Axes>"
      ]
     },
     "metadata": {},
     "output_type": "display_data"
    }
   ],
   "source": [
    "plt.figure(figsize=(10,10))\n",
    "for i in range(len(images)):\n",
    "    plt.subplot(3,3,i+1)\n",
    "    plt.imshow(images[i], 'gray')\n",
    "    plt.title(titles[i])\n",
    "    plt.xticks([])\n",
    "    plt.yticks([])\n",
    "plt.show()"
   ]
  },
  {
   "cell_type": "code",
   "execution_count": null,
   "id": "7d85ce51",
   "metadata": {},
   "outputs": [],
   "source": []
  },
  {
   "cell_type": "code",
   "execution_count": null,
   "id": "d5575273",
   "metadata": {},
   "outputs": [],
   "source": []
  },
  {
   "cell_type": "code",
   "execution_count": null,
   "id": "b9eb5717",
   "metadata": {},
   "outputs": [],
   "source": []
  },
  {
   "cell_type": "code",
   "execution_count": null,
   "id": "9c6a95fe",
   "metadata": {},
   "outputs": [],
   "source": []
  }
 ],
 "metadata": {
  "kernelspec": {
   "display_name": "Python 3 (ipykernel)",
   "language": "python",
   "name": "python3"
  },
  "language_info": {
   "codemirror_mode": {
    "name": "ipython",
    "version": 3
   },
   "file_extension": ".py",
   "mimetype": "text/x-python",
   "name": "python",
   "nbconvert_exporter": "python",
   "pygments_lexer": "ipython3",
   "version": "3.9.6"
  }
 },
 "nbformat": 4,
 "nbformat_minor": 5
}
