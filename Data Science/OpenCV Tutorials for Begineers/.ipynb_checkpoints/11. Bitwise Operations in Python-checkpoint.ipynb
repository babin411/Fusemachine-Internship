{
 "cells": [
  {
   "cell_type": "code",
   "execution_count": 1,
   "metadata": {},
   "outputs": [],
   "source": [
    "import cv2\n",
    "import numpy as np"
   ]
  },
  {
   "cell_type": "code",
   "execution_count": 2,
   "metadata": {},
   "outputs": [],
   "source": [
    "img1 = np.zeros((250,500,3),np.uint8)\n",
    "img1 = cv2.rectangle(img1, (200,0),(300,100),(255,255,255),-1)\n",
    "img2 = np.full((250, 500, 3), 255, dtype=np.uint8)\n",
    "\n",
    "img2 = cv2.rectangle(img2, (0, 0), (250, 250), (0, 0, 0), -1)"
   ]
  },
  {
   "cell_type": "code",
   "execution_count": 3,
   "metadata": {},
   "outputs": [
    {
     "name": "stdout",
     "output_type": "stream",
     "text": [
      "375000\n",
      "375000\n"
     ]
    }
   ],
   "source": [
    "print(img1.size)\n",
    "print(img2.size)"
   ]
  },
  {
   "cell_type": "code",
   "execution_count": 4,
   "metadata": {},
   "outputs": [],
   "source": [
    "bitAnd = cv2.bitwise_and(img2,img1)\n",
    "bitOr = cv2.bitwise_or(img2,img1)\n",
    "bitXOr = cv2.bitwise_xor(img2, img1)\n",
    "bitNot = cv2.bitwise_not(img2)"
   ]
  },
  {
   "cell_type": "code",
   "execution_count": 6,
   "metadata": {},
   "outputs": [],
   "source": [
    "cv2.imshow('img1', img1)\n",
    "cv2.imshow('img2', img2)\n",
    "cv2.imshow('bitand', bitAnd)\n",
    "cv2.imshow('bitor', bitOr)\n",
    "cv2.imshow('bitXOr', bitXOr)\n",
    "cv2.imshow('bitNot', bitNot)\n",
    "cv2.waitKey()\n",
    "cv2.destroyAllWindows()"
   ]
  },
  {
   "cell_type": "code",
   "execution_count": null,
   "metadata": {},
   "outputs": [],
   "source": []
  },
  {
   "cell_type": "code",
   "execution_count": null,
   "metadata": {},
   "outputs": [],
   "source": []
  }
 ],
 "metadata": {
  "kernelspec": {
   "display_name": "Python 3",
   "language": "python",
   "name": "python3"
  },
  "language_info": {
   "codemirror_mode": {
    "name": "ipython",
    "version": 3
   },
   "file_extension": ".py",
   "mimetype": "text/x-python",
   "name": "python",
   "nbconvert_exporter": "python",
   "pygments_lexer": "ipython3",
   "version": "3.7.5"
  }
 },
 "nbformat": 4,
 "nbformat_minor": 5
}
