{
 "cells": [
  {
   "cell_type": "code",
   "execution_count": 8,
   "id": "impressive-armenia",
   "metadata": {},
   "outputs": [],
   "source": [
    "def student(name, age, *marks):\n",
    "    print(\"name\", name)\n",
    "    print(\"age\", age)\n",
    "    print(\"marks\", marks)"
   ]
  },
  {
   "cell_type": "code",
   "execution_count": 9,
   "id": "radical-pillow",
   "metadata": {},
   "outputs": [
    {
     "name": "stdout",
     "output_type": "stream",
     "text": [
      "name Babin\n",
      "age 23\n",
      "marks (99, 98, 97, 96)\n"
     ]
    }
   ],
   "source": [
    "student('Babin', 23,99,98,97,96)"
   ]
  },
  {
   "cell_type": "code",
   "execution_count": 10,
   "id": "thirty-smooth",
   "metadata": {},
   "outputs": [],
   "source": [
    "class Student():\n",
    "    def __init__(self,  name, age, **marks):\n",
    "        self.name = name\n",
    "        self.age = age\n",
    "        self.marks = marks"
   ]
  },
  {
   "cell_type": "code",
   "execution_count": 11,
   "id": "going-armenia",
   "metadata": {},
   "outputs": [],
   "source": [
    "stud1 = Student('Babin',23,english = 95, math = 99, physics=98)"
   ]
  },
  {
   "cell_type": "code",
   "execution_count": 13,
   "id": "ultimate-treasurer",
   "metadata": {},
   "outputs": [
    {
     "data": {
      "text/plain": [
       "'Babin'"
      ]
     },
     "execution_count": 13,
     "metadata": {},
     "output_type": "execute_result"
    }
   ],
   "source": [
    "stud1.name"
   ]
  },
  {
   "cell_type": "code",
   "execution_count": null,
   "id": "defensive-indie",
   "metadata": {},
   "outputs": [],
   "source": []
  }
 ],
 "metadata": {
  "kernelspec": {
   "display_name": "Python 3",
   "language": "python",
   "name": "python3"
  },
  "language_info": {
   "codemirror_mode": {
    "name": "ipython",
    "version": 3
   },
   "file_extension": ".py",
   "mimetype": "text/x-python",
   "name": "python",
   "nbconvert_exporter": "python",
   "pygments_lexer": "ipython3",
   "version": "3.9.2"
  }
 },
 "nbformat": 4,
 "nbformat_minor": 5
}
