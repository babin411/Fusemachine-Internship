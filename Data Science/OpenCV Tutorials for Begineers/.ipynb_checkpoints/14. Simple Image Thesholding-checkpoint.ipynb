{
 "cells": [
  {
   "cell_type": "markdown",
   "metadata": {},
   "source": [
    "# Thresholding is a very popular segmentation technique used to separate object from its background.\n",
    "The process of threshold involves comparing each pixel of an image with a predefined threshold value and this type of comparision of each pixel of an image to a threshold values divides all the pixels of the input image into two groups. So the first groups involves pixels having intensity value lower than the threshold value and the second groups involves pixels having intensity value greather than the threshold value"
   ]
  },
  {
   "cell_type": "code",
   "execution_count": 1,
   "metadata": {},
   "outputs": [],
   "source": [
    "import numpy as np\n",
    "import cv2"
   ]
  },
  {
   "cell_type": "code",
   "execution_count": 5,
   "metadata": {},
   "outputs": [],
   "source": [
    "img = cv2.imread('data/gradient.png',0)\n",
    "'''\n",
    "    - IN THERSH_TRUNC the pixel values until the threshold value \n",
    "    in this case 127 remains the same, but any pixel values greater\n",
    "    than 127 gets converted to 127.\n",
    "    \n",
    "    - IN THRESH_TO_ZERO, the pixel values less than the threshold value\n",
    "    gets converted to zero and the remaining values remains the same\n",
    "'''\n",
    "_, th1 = cv2.threshold(img,127,255,cv2.THRESH_BINARY)\n",
    "_, th2 = cv2.threshold(img,127,255,cv2.THRESH_BINARY_INV)\n",
    "_, th3 = cv2.threshold(img,127,255,cv2.THRESH_TRUNC)\n",
    "_, th4 = cv2.threshold(img,127,255,cv2.THRESH_TOZERO)\n",
    "_, th5 = cv2.threshold(img,127,255,cv2.THRESH_TOZERO_INV)\n",
    "\n"
   ]
  },
  {
   "cell_type": "code",
   "execution_count": 8,
   "metadata": {},
   "outputs": [],
   "source": [
    "cv2.imshow(\"Image\", img)\n",
    "# cv2.imshow(\"Thres Binary\", th1)\n",
    "# cv2.imshow(\"THres BInary Inverse\", th2)\n",
    "# cv2.imshow(\"THRESH TRUNC\", th3)\n",
    "cv2.imshow(\"THRESH2ZERO\", th4)\n",
    "cv2.imshow(\"THESH2ZEROINV\", th5)\n",
    "# cv2.imshow(\"ImageGray\", imgGray)\n",
    "if cv2.waitKey(0) & 0xff==ord('q'):\n",
    "    cv2.destroyAllWindows()"
   ]
  },
  {
   "cell_type": "code",
   "execution_count": null,
   "metadata": {},
   "outputs": [],
   "source": []
  }
 ],
 "metadata": {
  "kernelspec": {
   "display_name": "Python 3",
   "language": "python",
   "name": "python3"
  },
  "language_info": {
   "codemirror_mode": {
    "name": "ipython",
    "version": 3
   },
   "file_extension": ".py",
   "mimetype": "text/x-python",
   "name": "python",
   "nbconvert_exporter": "python",
   "pygments_lexer": "ipython3",
   "version": "3.7.5"
  }
 },
 "nbformat": 4,
 "nbformat_minor": 5
}
