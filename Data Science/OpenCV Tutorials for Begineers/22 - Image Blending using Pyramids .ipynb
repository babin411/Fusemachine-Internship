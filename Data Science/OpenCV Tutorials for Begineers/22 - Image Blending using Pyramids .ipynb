{
 "cells": [
  {
   "cell_type": "code",
   "execution_count": 1,
   "id": "7ff87c97",
   "metadata": {},
   "outputs": [],
   "source": [
    "import cv2\n",
    "import numpy as np\n",
    "import matplotlib.pyplot as plt"
   ]
  },
  {
   "cell_type": "code",
   "execution_count": 2,
   "id": "9d5c47e3",
   "metadata": {},
   "outputs": [],
   "source": [
    "apple = cv2.imread('data/apple.jpg')\n",
    "orange = cv2.imread('data/orange.jpg')"
   ]
  },
  {
   "cell_type": "code",
   "execution_count": 3,
   "id": "c336822d",
   "metadata": {},
   "outputs": [
    {
     "name": "stdout",
     "output_type": "stream",
     "text": [
      "(512, 512, 3)\n",
      "(512, 512, 3)\n"
     ]
    }
   ],
   "source": [
    "print(f\"{apple.shape}\")\n",
    "print(f\"{orange.shape}\")"
   ]
  },
  {
   "cell_type": "code",
   "execution_count": 4,
   "id": "abce278c",
   "metadata": {},
   "outputs": [
    {
     "data": {
      "text/plain": [
       "array([[[ 91, 126, 122],\n",
       "        [ 82, 119, 115],\n",
       "        [ 87, 124, 120],\n",
       "        ...,\n",
       "        [103, 168, 153],\n",
       "        [103, 168, 153],\n",
       "        [105, 170, 155]],\n",
       "\n",
       "       [[ 87, 122, 118],\n",
       "        [ 77, 114, 110],\n",
       "        [ 80, 117, 113],\n",
       "        ...,\n",
       "        [114, 181, 166],\n",
       "        [116, 183, 168],\n",
       "        [118, 185, 170]],\n",
       "\n",
       "       [[ 82, 117, 113],\n",
       "        [ 74, 111, 107],\n",
       "        [ 78, 115, 111],\n",
       "        ...,\n",
       "        [108, 178, 161],\n",
       "        [109, 180, 163],\n",
       "        [111, 182, 165]],\n",
       "\n",
       "       ...,\n",
       "\n",
       "       [[113, 157, 116],\n",
       "        [115, 160, 117],\n",
       "        [120, 163, 120],\n",
       "        ...,\n",
       "        [109, 139,  98],\n",
       "        [109, 141, 100],\n",
       "        [111, 144, 100]],\n",
       "\n",
       "       [[107, 151, 112],\n",
       "        [109, 153, 112],\n",
       "        [112, 155, 112],\n",
       "        ...,\n",
       "        [112, 143,  98],\n",
       "        [111, 144,  99],\n",
       "        [111, 144,  99]],\n",
       "\n",
       "       [[113, 157, 118],\n",
       "        [113, 157, 116],\n",
       "        [117, 157, 116],\n",
       "        ...,\n",
       "        [125, 156, 111],\n",
       "        [120, 154, 107],\n",
       "        [118, 152, 105]]], dtype=uint8)"
      ]
     },
     "execution_count": 4,
     "metadata": {},
     "output_type": "execute_result"
    }
   ],
   "source": [
    "apple"
   ]
  },
  {
   "cell_type": "code",
   "execution_count": 5,
   "id": "cdafea9b",
   "metadata": {},
   "outputs": [
    {
     "data": {
      "text/plain": [
       "array([[[104, 174, 137],\n",
       "        [105, 178, 140],\n",
       "        [108, 181, 143],\n",
       "        ...,\n",
       "        [255, 254, 243],\n",
       "        [253, 252, 242],\n",
       "        [251, 250, 240]],\n",
       "\n",
       "       [[ 96, 166, 129],\n",
       "        [ 99, 169, 132],\n",
       "        [100, 173, 135],\n",
       "        ...,\n",
       "        [252, 255, 240],\n",
       "        [247, 251, 239],\n",
       "        [244, 248, 236]],\n",
       "\n",
       "       [[103, 172, 135],\n",
       "        [103, 173, 136],\n",
       "        [104, 177, 139],\n",
       "        ...,\n",
       "        [191, 203, 185],\n",
       "        [188, 201, 185],\n",
       "        [186, 199, 183]],\n",
       "\n",
       "       ...,\n",
       "\n",
       "       [[105, 107, 117],\n",
       "        [105, 107, 117],\n",
       "        [100, 105, 114],\n",
       "        ...,\n",
       "        [ 70,  68,  68],\n",
       "        [ 72,  67,  68],\n",
       "        [ 70,  68,  68]],\n",
       "\n",
       "       [[203, 209, 222],\n",
       "        [203, 209, 222],\n",
       "        [198, 206, 219],\n",
       "        ...,\n",
       "        [ 72,  67,  68],\n",
       "        [ 72,  66,  67],\n",
       "        [ 73,  68,  69]],\n",
       "\n",
       "       [[231, 238, 253],\n",
       "        [232, 239, 254],\n",
       "        [231, 240, 254],\n",
       "        ...,\n",
       "        [ 71,  65,  66],\n",
       "        [ 71,  65,  66],\n",
       "        [ 74,  68,  69]]], dtype=uint8)"
      ]
     },
     "execution_count": 5,
     "metadata": {},
     "output_type": "execute_result"
    }
   ],
   "source": [
    "orange"
   ]
  },
  {
   "cell_type": "code",
   "execution_count": 6,
   "id": "b8680af2",
   "metadata": {},
   "outputs": [],
   "source": [
    "apple_orange = np.hstack((apple[:,:256], orange[:,256:]))"
   ]
  },
  {
   "cell_type": "code",
   "execution_count": 7,
   "id": "5d5e0f6a",
   "metadata": {},
   "outputs": [
    {
     "data": {
      "text/plain": [
       "array([[[ 91, 126, 122],\n",
       "        [ 82, 119, 115],\n",
       "        [ 87, 124, 120],\n",
       "        ...,\n",
       "        [255, 254, 243],\n",
       "        [253, 252, 242],\n",
       "        [251, 250, 240]],\n",
       "\n",
       "       [[ 87, 122, 118],\n",
       "        [ 77, 114, 110],\n",
       "        [ 80, 117, 113],\n",
       "        ...,\n",
       "        [252, 255, 240],\n",
       "        [247, 251, 239],\n",
       "        [244, 248, 236]],\n",
       "\n",
       "       [[ 82, 117, 113],\n",
       "        [ 74, 111, 107],\n",
       "        [ 78, 115, 111],\n",
       "        ...,\n",
       "        [191, 203, 185],\n",
       "        [188, 201, 185],\n",
       "        [186, 199, 183]],\n",
       "\n",
       "       ...,\n",
       "\n",
       "       [[113, 157, 116],\n",
       "        [115, 160, 117],\n",
       "        [120, 163, 120],\n",
       "        ...,\n",
       "        [ 70,  68,  68],\n",
       "        [ 72,  67,  68],\n",
       "        [ 70,  68,  68]],\n",
       "\n",
       "       [[107, 151, 112],\n",
       "        [109, 153, 112],\n",
       "        [112, 155, 112],\n",
       "        ...,\n",
       "        [ 72,  67,  68],\n",
       "        [ 72,  66,  67],\n",
       "        [ 73,  68,  69]],\n",
       "\n",
       "       [[113, 157, 118],\n",
       "        [113, 157, 116],\n",
       "        [117, 157, 116],\n",
       "        ...,\n",
       "        [ 71,  65,  66],\n",
       "        [ 71,  65,  66],\n",
       "        [ 74,  68,  69]]], dtype=uint8)"
      ]
     },
     "execution_count": 7,
     "metadata": {},
     "output_type": "execute_result"
    }
   ],
   "source": [
    "apple_orange"
   ]
  },
  {
   "cell_type": "code",
   "execution_count": null,
   "id": "d4e945f7",
   "metadata": {},
   "outputs": [],
   "source": [
    "cv2.imshow(\"Apple\", apple)\n",
    "cv2.imshow(\"Orange\", orange)\n",
    "cv2.imshow(\"AppleOrange\", apple_orange)\n",
    "\n",
    "if cv2.waitKey(0) & 0xFF == ord('q'):\n",
    "    cv2.destroyAllWindows()"
   ]
  },
  {
   "cell_type": "code",
   "execution_count": 10,
   "id": "a04ae381",
   "metadata": {},
   "outputs": [],
   "source": [
    "#generate Gaussian pyramid for apple\n",
    "apple_copy = apple.copy()\n",
    "gp_apple = [apple_copy]\n",
    "for i in range(6):\n",
    "    apple_copy = cv2.pyrDown(apple_copy)\n",
    "    gp_apple.append(apple_copy)\n",
    "    \n",
    "    \n",
    "#generate Gaussian pyramid for orange\n",
    "orange_copy = orange.copy()\n",
    "gp_orange = [orange_copy]\n",
    "for i in range(6):\n",
    "    orange_copy = cv2.pyrDown(orange_copy)\n",
    "    gp_orange.append(orange_copy)"
   ]
  },
  {
   "cell_type": "code",
   "execution_count": 11,
   "id": "b77e836f",
   "metadata": {},
   "outputs": [],
   "source": [
    "#generate Laplacian pyramid for apple\n",
    "apple_copy = gp_apple[5]\n",
    "lp_apple = [apple_copy]\n",
    "for i in range(5,0,-1):\n",
    "    gaussian_extended = cv2.pyrUp(gp_apple[i])\n",
    "    laplacian = cv2.subtract(gp_apple[i-1],gaussian_extended)\n",
    "    lp_apple.append(laplacian)\n",
    "    \n",
    "#generate Laplacian pyramid for orange\n",
    "orange_copy = gp_orange[5]\n",
    "lp_orange = [orange_copy]\n",
    "for i in range(5,0,-1):\n",
    "    gaussian_extended = cv2.pyrUp(gp_orange[i])\n",
    "    laplacian = cv2.subtract(gp_orange[i-1],gaussian_extended)\n",
    "    lp_orange.append(laplacian)\n",
    "        "
   ]
  },
  {
   "cell_type": "code",
   "execution_count": 12,
   "id": "a3ed5400",
   "metadata": {},
   "outputs": [],
   "source": [
    "#Now add left and right halves of images in each level\n",
    "apple_orange_pyramid = []\n",
    "n = 0\n",
    "for apple_lap, orange_lap in zip(lp_apple, lp_orange):\n",
    "    n+=1\n",
    "    cols, rows, channels = apple_lap.shape\n",
    "    laplacian = np.hstack((apple_lap[:,0:int(cols/2)], \n",
    "                         orange_lap[:, int(cols/2):]))\n",
    "    apple_orange_pyramid.append(laplacian)\n",
    "\n",
    "    \n",
    "#new reconstruct\n",
    "apple_orange_reconstruct = apple_orange_pyramid[0]\n",
    "for i in range(1,6):\n",
    "    apple_orange_reconstruct = cv2.pyrUp(apple_orange_reconstruct)\n",
    "    apple_orange_reconstuct = cv2.add(apple_orange_pyramid[i], apple_orange_reconstruct)\n",
    "    "
   ]
  },
  {
   "cell_type": "code",
   "execution_count": 13,
   "id": "5baa56ae",
   "metadata": {},
   "outputs": [],
   "source": [
    "cv2.imshow(\"Apple\", apple)\n",
    "cv2.imshow(\"Orange\", orange)\n",
    "cv2.imshow(\"Apple Orange\", apple_orange)\n",
    "cv2.imshow(\"Apple Orange Reconstructed\", apple_orange_reconstruct)\n",
    "\n",
    "if cv2.waitKey(0) & 0xFF == ord('q'):\n",
    "    cv2.destroyAllWindows()"
   ]
  },
  {
   "cell_type": "code",
   "execution_count": null,
   "id": "c05a070e",
   "metadata": {},
   "outputs": [],
   "source": []
  }
 ],
 "metadata": {
  "kernelspec": {
   "display_name": "Python 3 (ipykernel)",
   "language": "python",
   "name": "python3"
  },
  "language_info": {
   "codemirror_mode": {
    "name": "ipython",
    "version": 3
   },
   "file_extension": ".py",
   "mimetype": "text/x-python",
   "name": "python",
   "nbconvert_exporter": "python",
   "pygments_lexer": "ipython3",
   "version": "3.9.6"
  }
 },
 "nbformat": 4,
 "nbformat_minor": 5
}
