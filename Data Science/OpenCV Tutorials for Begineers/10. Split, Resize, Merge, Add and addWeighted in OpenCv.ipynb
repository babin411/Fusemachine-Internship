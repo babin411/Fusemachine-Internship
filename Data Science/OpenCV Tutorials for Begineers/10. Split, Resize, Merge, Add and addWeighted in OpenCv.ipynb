{
 "cells": [
  {
   "cell_type": "code",
   "execution_count": 1,
   "id": "f4bab393",
   "metadata": {},
   "outputs": [],
   "source": [
    "import os\n",
    "import cv2\n",
    "import numpy as np"
   ]
  },
  {
   "cell_type": "code",
   "execution_count": 2,
   "id": "0db54424",
   "metadata": {},
   "outputs": [
    {
     "data": {
      "text/plain": [
       "'E:\\\\PycharmProjects\\\\Practice Python\\\\OpenCv\\\\OpenCV Tutorials for Begineers\\\\data'"
      ]
     },
     "execution_count": 2,
     "metadata": {},
     "output_type": "execute_result"
    }
   ],
   "source": [
    "path = os.getcwd()\n",
    "path = os.path.join(path,'data')\n",
    "path"
   ]
  },
  {
   "cell_type": "code",
   "execution_count": 3,
   "id": "9649b649",
   "metadata": {},
   "outputs": [],
   "source": [
    "img = cv2.imread(os.path.join(path,'messi5.jpg'))\n",
    "img2 = cv2.imread(os.path.join(path,'opencv-logo.png'))"
   ]
  },
  {
   "cell_type": "code",
   "execution_count": 4,
   "id": "fcd59e0a",
   "metadata": {},
   "outputs": [],
   "source": [
    "cv2.imshow('img', img)\n",
    "cv2.imshow('img2', img2)\n",
    "if cv2.waitKey() & 0xFF==ord('q'):\n",
    "    cv2.destroyAllWindows()"
   ]
  },
  {
   "cell_type": "code",
   "execution_count": 5,
   "id": "370dfc0e",
   "metadata": {},
   "outputs": [
    {
     "name": "stdout",
     "output_type": "stream",
     "text": [
      "(342, 548, 3)\n",
      "562248\n",
      "uint8\n"
     ]
    }
   ],
   "source": [
    "print(img.shape)\n",
    "print(img.size)\n",
    "print(img.dtype)"
   ]
  },
  {
   "cell_type": "code",
   "execution_count": 6,
   "id": "884a47e9",
   "metadata": {},
   "outputs": [
    {
     "name": "stdout",
     "output_type": "stream",
     "text": [
      "(794, 600, 3)\n",
      "1429200\n",
      "uint8\n"
     ]
    }
   ],
   "source": [
    "print(img2.shape)\n",
    "print(img2.size)\n",
    "print(img2.dtype)"
   ]
  },
  {
   "cell_type": "code",
   "execution_count": 7,
   "id": "a5a79770",
   "metadata": {},
   "outputs": [],
   "source": [
    "ball_coord = img[280:340,330:390]\n",
    "img[273:333,100:160] = ball_coord"
   ]
  },
  {
   "cell_type": "code",
   "execution_count": 8,
   "id": "12d4ae3b",
   "metadata": {},
   "outputs": [
    {
     "name": "stdout",
     "output_type": "stream",
     "text": [
      "786432\n",
      "786432\n"
     ]
    }
   ],
   "source": [
    "img = cv2.resize(img,(512,512))\n",
    "img2 = cv2.resize(img2,(512,512))\n",
    "print(img.size)\n",
    "print(img2.size)"
   ]
  },
  {
   "cell_type": "code",
   "execution_count": 9,
   "id": "02473ea8",
   "metadata": {},
   "outputs": [],
   "source": [
    "blue,green,red = cv2.split(img)\n",
    "img = cv2.merge((blue,green,red))"
   ]
  },
  {
   "cell_type": "code",
   "execution_count": 10,
   "id": "41b71687",
   "metadata": {},
   "outputs": [],
   "source": [
    "dst = cv2.add(img, img2)\n",
    "dst2 = cv2.addWeighted(img,0.5,img2,0.5,0)"
   ]
  },
  {
   "cell_type": "code",
   "execution_count": 12,
   "id": "81dcd9b9",
   "metadata": {},
   "outputs": [],
   "source": [
    "# cv2.imshow('Image', img)\n",
    "# cv2.imshow('Image2', img2)\n",
    "cv2.imshow('Destination', dst2)\n",
    "# cv2.imshow('Ball', ball_coord)\n",
    "cv2.waitKey(0)\n",
    "cv2.destroyAllWindows()"
   ]
  },
  {
   "cell_type": "code",
   "execution_count": null,
   "id": "1752f1f2",
   "metadata": {},
   "outputs": [],
   "source": []
  },
  {
   "cell_type": "code",
   "execution_count": null,
   "id": "3576b59e",
   "metadata": {},
   "outputs": [],
   "source": []
  }
 ],
 "metadata": {
  "kernelspec": {
   "display_name": "Python 3 (ipykernel)",
   "language": "python",
   "name": "python3"
  },
  "language_info": {
   "codemirror_mode": {
    "name": "ipython",
    "version": 3
   },
   "file_extension": ".py",
   "mimetype": "text/x-python",
   "name": "python",
   "nbconvert_exporter": "python",
   "pygments_lexer": "ipython3",
   "version": "3.9.6"
  }
 },
 "nbformat": 4,
 "nbformat_minor": 5
}
