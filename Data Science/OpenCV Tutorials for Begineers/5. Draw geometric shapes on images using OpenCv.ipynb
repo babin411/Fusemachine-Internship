{
 "cells": [
  {
   "cell_type": "code",
   "execution_count": 1,
   "id": "1b45d07a",
   "metadata": {},
   "outputs": [],
   "source": [
    "import os\n",
    "import cv2\n",
    "import numpy as np"
   ]
  },
  {
   "cell_type": "code",
   "execution_count": 2,
   "id": "bea20990",
   "metadata": {},
   "outputs": [
    {
     "data": {
      "text/plain": [
       "'E:\\\\PycharmProjects\\\\Practice Python\\\\OpenCv\\\\OpenCV Tutorials for Begineers\\\\data\\\\lena.jpg'"
      ]
     },
     "execution_count": 2,
     "metadata": {},
     "output_type": "execute_result"
    }
   ],
   "source": [
    "path = os.getcwd()\n",
    "path = os.path.join(path,'data\\\\lena.jpg')\n",
    "path"
   ]
  },
  {
   "cell_type": "code",
   "execution_count": 3,
   "id": "45513841",
   "metadata": {},
   "outputs": [],
   "source": [
    "# img = cv2.imread(path)\n",
    "img = np.zeros([512,512,3],np.uint8)"
   ]
  },
  {
   "cell_type": "code",
   "execution_count": 4,
   "id": "47875b86",
   "metadata": {},
   "outputs": [
    {
     "data": {
      "text/plain": [
       "(512, 512, 3)"
      ]
     },
     "execution_count": 4,
     "metadata": {},
     "output_type": "execute_result"
    }
   ],
   "source": [
    "img.shape"
   ]
  },
  {
   "cell_type": "code",
   "execution_count": 5,
   "id": "9cc789a5",
   "metadata": {},
   "outputs": [],
   "source": [
    "img = cv2.line(img,(0,0),(255,255),(255,0,0),3)\n",
    "img = cv2.arrowedLine(img,(0,255),(255,255),(255,0,0),10)"
   ]
  },
  {
   "cell_type": "code",
   "execution_count": 6,
   "id": "35331fc1",
   "metadata": {},
   "outputs": [],
   "source": [
    "img = cv2.rectangle(img,(255,0),(412,255),(0,255,0),cv2.FILLED)"
   ]
  },
  {
   "cell_type": "code",
   "execution_count": 7,
   "id": "4f9bd4fb",
   "metadata": {},
   "outputs": [],
   "source": [
    "img = cv2.circle(img,(447,63),63,(0,0,255),cv2.FILLED)"
   ]
  },
  {
   "cell_type": "code",
   "execution_count": 8,
   "id": "8ad27fb2",
   "metadata": {},
   "outputs": [],
   "source": [
    "img = cv2.putText(img,'OpenCv',(0,500),cv2.FONT_HERSHEY_COMPLEX,\n",
    "                  4,(255,255,255),10,cv2.LINE_AA)"
   ]
  },
  {
   "cell_type": "code",
   "execution_count": 9,
   "id": "45ae10b4",
   "metadata": {},
   "outputs": [],
   "source": [
    "cv2.imshow('Image', img)\n",
    "cv2.waitKey(0)\n",
    "cv2.destroyAllWindows()"
   ]
  },
  {
   "cell_type": "code",
   "execution_count": null,
   "id": "77ab9ef2",
   "metadata": {},
   "outputs": [],
   "source": []
  }
 ],
 "metadata": {
  "kernelspec": {
   "display_name": "Python 3 (ipykernel)",
   "language": "python",
   "name": "python3"
  },
  "language_info": {
   "codemirror_mode": {
    "name": "ipython",
    "version": 3
   },
   "file_extension": ".py",
   "mimetype": "text/x-python",
   "name": "python",
   "nbconvert_exporter": "python",
   "pygments_lexer": "ipython3",
   "version": "3.9.6"
  }
 },
 "nbformat": 4,
 "nbformat_minor": 5
}
