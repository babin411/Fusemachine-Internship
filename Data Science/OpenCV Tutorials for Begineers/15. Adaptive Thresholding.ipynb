{
 "cells": [
  {
   "cell_type": "markdown",
   "id": "9669c7d1",
   "metadata": {},
   "source": [
    "# Adaptive Thresholding\n",
    "\n",
    "Adaptive Thresholding is a method where the threshold value is calculated\n",
    "for the smaller region so the threshold is not global for every pixel\n",
    "but it is calculated for a smaller region and therefore there will be\n",
    "different threshold value for different regions."
   ]
  },
  {
   "cell_type": "markdown",
   "id": "b3604625",
   "metadata": {},
   "source": [
    "The method <b>cv2.adaptiveThreshold</b> takes three input parameters:-\n",
    "\n",
    "1) The <b>adaptiveMethod</b> decides how the threshold value is calculated:\n",
    " - <b>cv.ADAPTIVE_THRESH_MEAN_C:</b> The threshold value is the mean of the neighbourhood area minus the constant C.\n",
    " - <b>cv.ADAPTIVE_THRESH_GAUSSIAN_C:</b> The threshold value is a gaussian-weighted sum of the neighbourhood values minus the constant C.\n",
    " \n",
    "2) The <b>blockSize</b> determines the size of the neighbourhood area.\n",
    "\n",
    "3) <b> C </b> is a constant that is subtracted from the mean or weighted sum of the neighborhood pixels.\n"
   ]
  },
  {
   "cell_type": "code",
   "execution_count": 1,
   "id": "c64ef156",
   "metadata": {},
   "outputs": [],
   "source": [
    "import cv2\n",
    "import numpy as np"
   ]
  },
  {
   "cell_type": "code",
   "execution_count": 2,
   "id": "18688bab",
   "metadata": {},
   "outputs": [],
   "source": [
    "img = cv2.imread('data/sudoku.png',0)"
   ]
  },
  {
   "cell_type": "code",
   "execution_count": 3,
   "id": "960c5e91",
   "metadata": {},
   "outputs": [
    {
     "name": "stdout",
     "output_type": "stream",
     "text": [
      "ADAPTIVE_THRESH_GAUSSIAN_C\n",
      "ADAPTIVE_THRESH_MEAN_C\n",
      "CALIB_CB_ADAPTIVE_THRESH\n"
     ]
    }
   ],
   "source": [
    "for attribute in dir(cv2):\n",
    "    if 'ADAPTIVE' in attribute:\n",
    "        print(attribute)"
   ]
  },
  {
   "cell_type": "code",
   "execution_count": 8,
   "id": "abfb4376",
   "metadata": {},
   "outputs": [],
   "source": [
    "_, th1 = cv2.threshold(img,127,255,cv2.THRESH_BINARY)\n",
    "th2 = cv2.adaptiveThreshold(img,255,\n",
    "                            cv2.ADAPTIVE_THRESH_MEAN_C,\n",
    "                           cv2.THRESH_BINARY,11,7)\n",
    "th3 = cv2.adaptiveThreshold(img,255,cv2.ADAPTIVE_THRESH_GAUSSIAN_C,\n",
    "                           cv2.THRESH_BINARY,11,7)\n",
    "th4 = cv2.adaptiveThreshold(img,255,cv2.CALIB_CB_ADAPTIVE_THRESH,cv2.THRESH_BINARY, \n",
    "                           11,7)"
   ]
  },
  {
   "cell_type": "code",
   "execution_count": 9,
   "id": "e3587968",
   "metadata": {},
   "outputs": [],
   "source": [
    "cv2.imshow(\"Image\", img)\n",
    "cv2.imshow(\"THRESH_BINARY\", th1)\n",
    "cv2.imshow(\"ADAPTIVE THRESHOLDING\", th2)\n",
    "cv2.imshow(\"ADAPTIVE THRESHOLDING GAUSSAIN\", th3)\n",
    "cv2.imshow(\"ADAPTIVE THRESHOLDING CALIB\", th4)\n",
    "if cv2.waitKey(0) & 0xFF==ord('q'):\n",
    "    cv2.destroyAllWindows()"
   ]
  },
  {
   "cell_type": "markdown",
   "id": "48d3bba9",
   "metadata": {},
   "source": [
    "## Otsu's Binarization"
   ]
  },
  {
   "cell_type": "markdown",
   "id": "3cdc08df",
   "metadata": {},
   "source": [
    "In global thresholding, we used an arbitrary chosen value as a threshold. In contrast, Otsu's method avoids having to choose a value and determines it automatically.\n",
    "\n",
    "Consider an image with only two distinct image values (bimodal image), where the histogram would only consist of two peaks. A good threshold would be in the middle of those two values. Similarly, Otsu's method determines an optimal global threshold value from the image histogram."
   ]
  },
  {
   "cell_type": "code",
   "execution_count": 10,
   "id": "8e028dfc",
   "metadata": {},
   "outputs": [
    {
     "name": "stdout",
     "output_type": "stream",
     "text": [
      "ADAPTIVE_THRESH_GAUSSIAN_C\n",
      "ADAPTIVE_THRESH_MEAN_C\n",
      "AGAST_FEATURE_DETECTOR_THRESHOLD\n",
      "AgastFeatureDetector_THRESHOLD\n",
      "CALIB_CB_ADAPTIVE_THRESH\n",
      "CAP_PROP_INTELPERC_DEPTH_CONFIDENCE_THRESHOLD\n",
      "FAST_FEATURE_DETECTOR_THRESHOLD\n",
      "FastFeatureDetector_THRESHOLD\n",
      "THRESH_BINARY\n",
      "THRESH_BINARY_INV\n",
      "THRESH_MASK\n",
      "THRESH_OTSU\n",
      "THRESH_TOZERO\n",
      "THRESH_TOZERO_INV\n",
      "THRESH_TRIANGLE\n",
      "THRESH_TRUNC\n"
     ]
    }
   ],
   "source": [
    "for attribute in dir(cv2):\n",
    "    if 'THRESH' in attribute:\n",
    "        print(attribute)"
   ]
  },
  {
   "cell_type": "code",
   "execution_count": null,
   "id": "235c9ac5",
   "metadata": {},
   "outputs": [],
   "source": []
  }
 ],
 "metadata": {
  "kernelspec": {
   "display_name": "Python 3 (ipykernel)",
   "language": "python",
   "name": "python3"
  },
  "language_info": {
   "codemirror_mode": {
    "name": "ipython",
    "version": 3
   },
   "file_extension": ".py",
   "mimetype": "text/x-python",
   "name": "python",
   "nbconvert_exporter": "python",
   "pygments_lexer": "ipython3",
   "version": "3.9.6"
  }
 },
 "nbformat": 4,
 "nbformat_minor": 5
}
