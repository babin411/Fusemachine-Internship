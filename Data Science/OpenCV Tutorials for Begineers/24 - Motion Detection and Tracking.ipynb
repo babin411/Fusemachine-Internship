{
 "cells": [
  {
   "cell_type": "code",
   "execution_count": 1,
   "id": "d510e5f3",
   "metadata": {},
   "outputs": [],
   "source": [
    "import cv2\n",
    "import numpy as np\n",
    "import matplotlib.pyplot as plt"
   ]
  },
  {
   "cell_type": "code",
   "execution_count": 2,
   "id": "5c1eaeb9",
   "metadata": {},
   "outputs": [],
   "source": [
    "cap = cv2.VideoCapture('data/vtest.avi')\n",
    "ret, frame1 = cap.read()\n",
    "ret, frame2 = cap.read()"
   ]
  },
  {
   "cell_type": "code",
   "execution_count": 3,
   "id": "f57c7194",
   "metadata": {},
   "outputs": [],
   "source": [
    "while cap.isOpened():\n",
    "    diff = cv2.absdiff(frame1, frame2)\n",
    "    gray = cv2.cvtColor(diff, cv2.COLOR_BGR2GRAY)\n",
    "    blur = cv2.GaussianBlur(gray,(5,5),0)\n",
    "    _ , thresh = cv2.threshold(blur,20,255,cv2.THRESH_BINARY)\n",
    "    dilated = cv2.dilate(thresh,None,iterations = 3)\n",
    "    contours, _ = cv2.findContours(dilated,cv2.RETR_TREE,\n",
    "                                  cv2.CHAIN_APPROX_SIMPLE)\n",
    "#     cv2.drawContours(frame1,contours,-1,(0,255,0),2)\n",
    "    for contour in contours:\n",
    "        (x,y,w,h) = cv2.boundingRect(contour)\n",
    "#         print(f'x: {x}, y: {y}, w: {w}, h: {h}')\n",
    "        if cv2.contourArea(contour) < 900:\n",
    "            continue\n",
    "        cv2.rectangle(frame1,(x,y),(x+w,y+h),(0,255,0),2)\n",
    "        cv2.putText(frame1,\"Status: {}\".format('Movement') , (10,20),\n",
    "                   cv2.FONT_HERSHEY_SIMPLEX,1,(0,0,255),3)\n",
    "    cv2.imshow('Feed', frame1)\n",
    "    frame1 = frame2\n",
    "    ret, frame2 = cap.read()\n",
    "    \n",
    "    if cv2.waitKey(40) & 0xFF==ord('q'):\n",
    "        break\n",
    "cv2.destroyAllWindows()\n",
    "cap.release()"
   ]
  },
  {
   "cell_type": "code",
   "execution_count": null,
   "id": "982c7606",
   "metadata": {},
   "outputs": [],
   "source": []
  }
 ],
 "metadata": {
  "kernelspec": {
   "display_name": "Python 3 (ipykernel)",
   "language": "python",
   "name": "python3"
  },
  "language_info": {
   "codemirror_mode": {
    "name": "ipython",
    "version": 3
   },
   "file_extension": ".py",
   "mimetype": "text/x-python",
   "name": "python",
   "nbconvert_exporter": "python",
   "pygments_lexer": "ipython3",
   "version": "3.9.6"
  }
 },
 "nbformat": 4,
 "nbformat_minor": 5
}
