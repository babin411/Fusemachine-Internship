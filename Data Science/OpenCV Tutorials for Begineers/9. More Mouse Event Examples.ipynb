{
 "cells": [
  {
   "cell_type": "code",
   "execution_count": 1,
   "id": "2a1da958",
   "metadata": {},
   "outputs": [],
   "source": [
    "import os\n",
    "import cv2\n",
    "import numpy as np"
   ]
  },
  {
   "cell_type": "code",
   "execution_count": 2,
   "id": "3133dc4d",
   "metadata": {},
   "outputs": [
    {
     "data": {
      "text/plain": [
       "'E:\\\\PycharmProjects\\\\Practice Python\\\\OpenCv\\\\OpenCV Tutorials for Begineers\\\\data\\\\lena.jpg'"
      ]
     },
     "execution_count": 2,
     "metadata": {},
     "output_type": "execute_result"
    }
   ],
   "source": [
    "path = os.getcwd()\n",
    "path = os.path.join(path, 'data\\\\lena.jpg')\n",
    "path"
   ]
  },
  {
   "cell_type": "code",
   "execution_count": 3,
   "id": "f40a2be4",
   "metadata": {},
   "outputs": [],
   "source": [
    "def click_event(event,x,y, flags, param):\n",
    "    if event == cv2.EVENT_LBUTTONDOWN:\n",
    "        cv2.circle(img,(x,y),3,(0,0,255),cv2.FILLED)\n",
    "        points.append((x,y))\n",
    "        if len(points) >=2:\n",
    "            cv2.line(img,points[-1], points[-2],(255,0,0),2,cv2.LINE_AA)\n",
    "        cv2.imshow('Image', img)\n",
    "        \n",
    "        "
   ]
  },
  {
   "cell_type": "code",
   "execution_count": 4,
   "id": "502e75ad",
   "metadata": {},
   "outputs": [],
   "source": [
    "def click_event2(event,x,y,flags,param):\n",
    "    if event == cv2.EVENT_LBUTTONDOWN:\n",
    "        blue = img[x,y,0]\n",
    "        green = img[x,y,1]\n",
    "        red = img[x,y,2]\n",
    "        cv2.circle(img,(x,y),3,(0,0,255),-1)\n",
    "        mycolorImage = np.zeros((512,512,3), np.uint8)\n",
    "        mycolorImage[:] = [blue,green,red]\n",
    "        cv2.imshow('Image', img)\n",
    "        cv2.imshow('MyColorImage', mycolorImage)"
   ]
  },
  {
   "cell_type": "code",
   "execution_count": 5,
   "id": "c2c64294",
   "metadata": {},
   "outputs": [],
   "source": [
    "# img = np.zeros((512,512,3),np.uint8)\n",
    "points = []\n",
    "img = cv2.imread(path)"
   ]
  },
  {
   "cell_type": "code",
   "execution_count": 7,
   "id": "de04e92f",
   "metadata": {},
   "outputs": [],
   "source": [
    "cv2.imshow('Image', img)\n",
    "cv2.setMouseCallback('Image',click_event)\n",
    "cv2.waitKey(0)\n",
    "cv2.destroyAllWindows()"
   ]
  },
  {
   "cell_type": "code",
   "execution_count": 8,
   "id": "2ac4e9c7",
   "metadata": {},
   "outputs": [
    {
     "data": {
      "text/plain": [
       "[(179, 143),\n",
       " (136, 151),\n",
       " (64, 186),\n",
       " (80, 251),\n",
       " (79, 289),\n",
       " (79, 316),\n",
       " (89, 347),\n",
       " (62, 377),\n",
       " (62, 405),\n",
       " (64, 433),\n",
       " (60, 446),\n",
       " (64, 491),\n",
       " (67, 505),\n",
       " (153, 62),\n",
       " (172, 55),\n",
       " (212, 57),\n",
       " (236, 47),\n",
       " (253, 61),\n",
       " (263, 61),\n",
       " (275, 66),\n",
       " (308, 87),\n",
       " (328, 108),\n",
       " (335, 135),\n",
       " (350, 140),\n",
       " (413, 107),\n",
       " (427, 116),\n",
       " (429, 147),\n",
       " (429, 167),\n",
       " (417, 190),\n",
       " (407, 202)]"
      ]
     },
     "execution_count": 8,
     "metadata": {},
     "output_type": "execute_result"
    }
   ],
   "source": [
    "points"
   ]
  },
  {
   "cell_type": "code",
   "execution_count": null,
   "id": "c9decf32",
   "metadata": {},
   "outputs": [],
   "source": []
  }
 ],
 "metadata": {
  "kernelspec": {
   "display_name": "Python 3 (ipykernel)",
   "language": "python",
   "name": "python3"
  },
  "language_info": {
   "codemirror_mode": {
    "name": "ipython",
    "version": 3
   },
   "file_extension": ".py",
   "mimetype": "text/x-python",
   "name": "python",
   "nbconvert_exporter": "python",
   "pygments_lexer": "ipython3",
   "version": "3.9.6"
  }
 },
 "nbformat": 4,
 "nbformat_minor": 5
}
