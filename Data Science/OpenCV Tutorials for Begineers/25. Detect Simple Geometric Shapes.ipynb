{
 "cells": [
  {
   "cell_type": "code",
   "execution_count": 1,
   "id": "b4a0b365",
   "metadata": {},
   "outputs": [],
   "source": [
    "import numpy as np\n",
    "import cv2"
   ]
  },
  {
   "cell_type": "code",
   "execution_count": 2,
   "id": "c490a4b6",
   "metadata": {},
   "outputs": [],
   "source": [
    "img = cv2.imread('data/shapes.png')"
   ]
  },
  {
   "cell_type": "code",
   "execution_count": 3,
   "id": "0f312950",
   "metadata": {},
   "outputs": [],
   "source": [
    "imgGrey = cv2.cvtColor(img, cv2.COLOR_BGR2GRAY)"
   ]
  },
  {
   "cell_type": "code",
   "execution_count": 4,
   "id": "74dbe11a",
   "metadata": {},
   "outputs": [],
   "source": [
    "_, thresh = cv2.threshold(imgGrey, 125,255,cv2.THRESH_BINARY)\n",
    "contours, hierarchy = cv2.findContours(thresh,cv2.RETR_TREE,\n",
    "                                      cv2.CHAIN_APPROX_NONE)"
   ]
  },
  {
   "cell_type": "code",
   "execution_count": 5,
   "id": "c9d7419c",
   "metadata": {},
   "outputs": [
    {
     "name": "stdout",
     "output_type": "stream",
     "text": [
      "1.3282051282051281\n"
     ]
    }
   ],
   "source": [
    "for contour in contours:\n",
    "    approx = cv2.approxPolyDP(contour,0.01*cv2.arcLength(contour,True),\n",
    "                    True)\n",
    "    cv2.drawContours(img ,[approx],0,(0,0,0),5)\n",
    "    x =  approx.ravel()[0]\n",
    "    y = approx.ravel()[1]\n",
    "    if len(approx) == 3:\n",
    "        cv2.putText(img,'Triangle', (x,y),cv2.FONT_HERSHEY_COMPLEX,\n",
    "                   0.5,(0,0,0))\n",
    "    elif len(approx) == 4:\n",
    "        x,y,w,h = cv2.boundingRect(approx)\n",
    "        aspectRatio = float(w)/h\n",
    "        print(aspectRatio)\n",
    "        if aspectRatio >= 0.95 and aspectRatio <=1.05:\n",
    "            cv2.putText(img,'Square', (x,y),cv2.FONT_HERSHEY_COMPLEX,\n",
    "                   0.5,(0,0,0))\n",
    "        else:\n",
    "            cv2.putText(img,'Rectangle', (x,y),cv2.FONT_HERSHEY_COMPLEX,\n",
    "                   0.5,(0,0,0))\n",
    "            \n",
    "    elif len(approx) == 5:\n",
    "        cv2.putText(img,'Pentagon', (x,y),cv2.FONT_HERSHEY_COMPLEX,\n",
    "                   0.5,(0,0,0))\n",
    "    elif len(approx) == 6:\n",
    "        cv2.putText(img,'Hexagon', (x,y),cv2.FONT_HERSHEY_COMPLEX,\n",
    "                   0.5,(0,0,0))\n",
    "    else:\n",
    "        cv2.putText(img,'Circle', (x,y),cv2.FONT_HERSHEY_COMPLEX,\n",
    "                   0.5,(0,0,0))"
   ]
  },
  {
   "cell_type": "code",
   "execution_count": 6,
   "id": "54ea2747",
   "metadata": {},
   "outputs": [],
   "source": [
    "cv2.imshow(\"Shapes\", img)\n",
    "if cv2.waitKey(0) & 0xFF==ord('q'):\n",
    "    cv2.destroyAllWindows()"
   ]
  },
  {
   "cell_type": "code",
   "execution_count": 7,
   "id": "04a4f2a9",
   "metadata": {},
   "outputs": [
    {
     "name": "stdout",
     "output_type": "stream",
     "text": [
      "1.3282051282051281\n",
      "2.0\n",
      "1.0\n"
     ]
    }
   ],
   "source": [
    "import numpy as np\n",
    "import cv2\n",
    "\n",
    "img = cv2.imread('data/shapes.png')\n",
    "imgGrey = cv2.cvtColor(img, cv2.COLOR_BGR2GRAY)\n",
    "_, thresh = cv2.threshold(imgGrey, 240, 255, cv2.THRESH_BINARY)\n",
    "contours, _ = cv2.findContours(thresh, cv2.RETR_TREE, cv2.CHAIN_APPROX_NONE)\n",
    "\n",
    "cv2.imshow(\"img\", img)\n",
    "for contour in contours:\n",
    "    approx = cv2.approxPolyDP(contour, 0.01* cv2.arcLength(contour, True), True)\n",
    "    cv2.drawContours(img, [approx], 0, (0, 0, 0), 5)\n",
    "    x = approx.ravel()[0]\n",
    "    y = approx.ravel()[1] - 5\n",
    "    if len(approx) == 3:\n",
    "        cv2.putText(img, \"Triangle\", (x, y), cv2.FONT_HERSHEY_COMPLEX, 0.5, (0, 0, 0))\n",
    "    elif len(approx) == 4:\n",
    "        x1 ,y1, w, h = cv2.boundingRect(approx)\n",
    "        aspectRatio = float(w)/h\n",
    "        print(aspectRatio)\n",
    "        if aspectRatio >= 0.95 and aspectRatio <= 1.05:\n",
    "          cv2.putText(img, \"square\", (x, y), cv2.FONT_HERSHEY_COMPLEX, 0.5, (0, 0, 0))\n",
    "        else:\n",
    "          cv2.putText(img, \"rectangle\", (x, y), cv2.FONT_HERSHEY_COMPLEX, 0.5, (0, 0, 0))\n",
    "    elif len(approx) == 5:\n",
    "        cv2.putText(img, \"Pentagon\", (x, y), cv2.FONT_HERSHEY_COMPLEX, 0.5, (0, 0, 0))\n",
    "    elif len(approx) == 10:\n",
    "        cv2.putText(img, \"Star\", (x, y), cv2.FONT_HERSHEY_COMPLEX, 0.5, (0, 0, 0))\n",
    "    else:\n",
    "        cv2.putText(img, \"Circle\", (x, y), cv2.FONT_HERSHEY_COMPLEX, 0.5, (0, 0, 0))\n",
    "\n",
    "\n",
    "cv2.imshow(\"shapes\", img)\n",
    "cv2.waitKey(0)\n",
    "cv2.destroyAllWindows()"
   ]
  },
  {
   "cell_type": "code",
   "execution_count": null,
   "id": "212652f3",
   "metadata": {},
   "outputs": [],
   "source": []
  }
 ],
 "metadata": {
  "kernelspec": {
   "display_name": "Python 3 (ipykernel)",
   "language": "python",
   "name": "python3"
  },
  "language_info": {
   "codemirror_mode": {
    "name": "ipython",
    "version": 3
   },
   "file_extension": ".py",
   "mimetype": "text/x-python",
   "name": "python",
   "nbconvert_exporter": "python",
   "pygments_lexer": "ipython3",
   "version": "3.9.6"
  }
 },
 "nbformat": 4,
 "nbformat_minor": 5
}
