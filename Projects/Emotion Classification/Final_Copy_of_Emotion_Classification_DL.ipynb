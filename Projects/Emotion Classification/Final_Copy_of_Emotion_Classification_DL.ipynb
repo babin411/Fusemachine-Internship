{
  "nbformat": 4,
  "nbformat_minor": 0,
  "metadata": {
    "colab": {
      "name": "Final Copy of Emotion Classification DL.ipynb",
      "provenance": [],
      "collapsed_sections": [],
      "include_colab_link": true
    },
    "kernelspec": {
      "name": "python3",
      "display_name": "Python 3"
    },
    "language_info": {
      "name": "python"
    },
    "accelerator": "GPU"
  },
  "cells": [
    {
      "cell_type": "markdown",
      "metadata": {
        "id": "view-in-github",
        "colab_type": "text"
      },
      "source": [
        "<a href=\"https://colab.research.google.com/github/babin411/Fusemachine-Internship/blob/main/Projects/Emotion%20Classification/Final_Copy_of_Emotion_Classification_DL.ipynb\" target=\"_parent\"><img src=\"https://colab.research.google.com/assets/colab-badge.svg\" alt=\"Open In Colab\"/></a>"
      ]
    },
    {
      "cell_type": "code",
      "execution_count": 1,
      "metadata": {
        "id": "t-OyG_lgusVI"
      },
      "outputs": [],
      "source": [
        "import os\n",
        "import numpy as np\n",
        "import pandas as pd\n",
        "import matplotlib.pyplot as plt\n",
        "import seaborn as sns"
      ]
    },
    {
      "cell_type": "code",
      "source": [
        "from google.colab import files"
      ],
      "metadata": {
        "id": "zw3rNeVwu1CT"
      },
      "execution_count": 2,
      "outputs": []
    },
    {
      "cell_type": "code",
      "source": [
        "uploaded = files.upload()"
      ],
      "metadata": {
        "colab": {
          "resources": {
            "http://localhost:8080/nbextensions/google.colab/files.js": {
              "data": "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",
              "ok": true,
              "headers": [
                [
                  "content-type",
                  "application/javascript"
                ]
              ],
              "status": 200,
              "status_text": "OK"
            }
          },
          "base_uri": "https://localhost:8080/",
          "height": 146
        },
        "id": "M957Ce4IvYWE",
        "outputId": "d3c52e90-cc88-44da-ecdc-4f54a27db126"
      },
      "execution_count": 3,
      "outputs": [
        {
          "output_type": "display_data",
          "data": {
            "text/plain": [
              "<IPython.core.display.HTML object>"
            ],
            "text/html": [
              "\n",
              "     <input type=\"file\" id=\"files-54422692-fdef-4e44-bf58-48c194607c46\" name=\"files[]\" multiple disabled\n",
              "        style=\"border:none\" />\n",
              "     <output id=\"result-54422692-fdef-4e44-bf58-48c194607c46\">\n",
              "      Upload widget is only available when the cell has been executed in the\n",
              "      current browser session. Please rerun this cell to enable.\n",
              "      </output>\n",
              "      <script src=\"/nbextensions/google.colab/files.js\"></script> "
            ]
          },
          "metadata": {}
        },
        {
          "output_type": "stream",
          "name": "stdout",
          "text": [
            "Saving test.csv to test.csv\n",
            "Saving train.csv to train.csv\n",
            "Saving val.csv to val.csv\n"
          ]
        }
      ]
    },
    {
      "cell_type": "code",
      "source": [
        "from torchtext.legacy import data\n",
        "import torch\n",
        "import random"
      ],
      "metadata": {
        "id": "lMPoyC0yvZyB"
      },
      "execution_count": 4,
      "outputs": []
    },
    {
      "cell_type": "code",
      "source": [
        "available_device = 'cuda' if torch.cuda.is_available() else 'cpu'\n",
        "device = torch.device(available_device)\n",
        "device"
      ],
      "metadata": {
        "colab": {
          "base_uri": "https://localhost:8080/"
        },
        "id": "akdWqOZNLw--",
        "outputId": "1563ee3b-2e30-432f-db4a-1b184a46fe82"
      },
      "execution_count": 5,
      "outputs": [
        {
          "output_type": "execute_result",
          "data": {
            "text/plain": [
              "device(type='cuda')"
            ]
          },
          "metadata": {},
          "execution_count": 5
        }
      ]
    },
    {
      "cell_type": "markdown",
      "source": [
        "## Creating the dataset and iterator"
      ],
      "metadata": {
        "id": "-6PU9zcVM_5D"
      }
    },
    {
      "cell_type": "code",
      "source": [
        "import spacy"
      ],
      "metadata": {
        "id": "TIh4plUlNEvf"
      },
      "execution_count": 6,
      "outputs": []
    },
    {
      "cell_type": "code",
      "source": [
        "spacy_en = spacy.load('en_core_web_sm')"
      ],
      "metadata": {
        "id": "5URUtUijNHHw"
      },
      "execution_count": 7,
      "outputs": []
    },
    {
      "cell_type": "code",
      "source": [
        "for token in spacy_en.tokenizer('I had a horrible day.'):\n",
        "    print(token)"
      ],
      "metadata": {
        "colab": {
          "base_uri": "https://localhost:8080/"
        },
        "id": "V483t6thNqvC",
        "outputId": "6d2632ea-2921-45d1-c3c3-ce5a741e6cab"
      },
      "execution_count": 8,
      "outputs": [
        {
          "output_type": "stream",
          "name": "stdout",
          "text": [
            "I\n",
            "had\n",
            "a\n",
            "horrible\n",
            "day\n",
            ".\n"
          ]
        }
      ]
    },
    {
      "cell_type": "code",
      "source": [
        "def tokenizer(text): #creating a tokenizer function\n",
        "    '''\n",
        "        text: takes a sentence as an input\n",
        "        return: a list of token generated from text\n",
        "    '''\n",
        "    return [token.text for token in spacy_en.tokenizer(text)]"
      ],
      "metadata": {
        "id": "H_fqtdmtNKq3"
      },
      "execution_count": 9,
      "outputs": []
    },
    {
      "cell_type": "code",
      "source": [
        "tokenizer('I had a horrible day.')"
      ],
      "metadata": {
        "colab": {
          "base_uri": "https://localhost:8080/"
        },
        "id": "66rPs6ddOA_1",
        "outputId": "b1626399-9921-4be5-fb64-fadc55dd8eb2"
      },
      "execution_count": 10,
      "outputs": [
        {
          "output_type": "execute_result",
          "data": {
            "text/plain": [
              "['I', 'had', 'a', 'horrible', 'day', '.']"
            ]
          },
          "metadata": {},
          "execution_count": 10
        }
      ]
    },
    {
      "cell_type": "code",
      "source": [
        "TEXT = data.Field(tokenize='spacy',\n",
        "                  tokenizer_language='en_core_web_sm')\n",
        "\n",
        "LABEL = data.LabelField(dtype=torch.float)\n",
        "\n",
        "fields = [('TEXT', TEXT), ('LABEL', LABEL)]"
      ],
      "metadata": {
        "id": "N9Rmjf2zODKf"
      },
      "execution_count": 11,
      "outputs": []
    },
    {
      "cell_type": "code",
      "source": [
        "train_dataset = data.TabularDataset(path='train.csv', \n",
        "                                    format='csv',\n",
        "                                    fields=fields,\n",
        "                                    skip_header=True)\n",
        "print(f'Length of Train Dataset: {len(train_dataset)}')"
      ],
      "metadata": {
        "colab": {
          "base_uri": "https://localhost:8080/"
        },
        "id": "Qw3BO-89OzER",
        "outputId": "1ce6c9a1-8ed5-4d89-a6de-4fbd03e1f54f"
      },
      "execution_count": 12,
      "outputs": [
        {
          "output_type": "stream",
          "name": "stdout",
          "text": [
            "Length of Train Dataset: 16000\n"
          ]
        }
      ]
    },
    {
      "cell_type": "code",
      "source": [
        "vars(train_dataset.examples[0])"
      ],
      "metadata": {
        "colab": {
          "base_uri": "https://localhost:8080/"
        },
        "id": "nGYOS1JppQ0j",
        "outputId": "715fa28f-c26b-49bb-f4d6-9f280b4cb152"
      },
      "execution_count": 13,
      "outputs": [
        {
          "output_type": "execute_result",
          "data": {
            "text/plain": [
              "{'LABEL': 'sadness', 'TEXT': ['i', 'did', 'nt', 'feel', 'humiliated']}"
            ]
          },
          "metadata": {},
          "execution_count": 13
        }
      ]
    },
    {
      "cell_type": "code",
      "source": [
        "validation_dataset = data.TabularDataset(path='val.csv', \n",
        "                                    format='csv',\n",
        "                                    fields=fields,\n",
        "                                    skip_header=True)\n",
        "print(f'Length of Validation Dataset: {len(validation_dataset)}')"
      ],
      "metadata": {
        "colab": {
          "base_uri": "https://localhost:8080/"
        },
        "id": "fyeFoBKPPJWV",
        "outputId": "1daaa933-966b-4de4-deca-27d3ff09029b"
      },
      "execution_count": 14,
      "outputs": [
        {
          "output_type": "stream",
          "name": "stdout",
          "text": [
            "Length of Validation Dataset: 2000\n"
          ]
        }
      ]
    },
    {
      "cell_type": "code",
      "source": [
        "test_dataset = data.TabularDataset(path='test.csv', \n",
        "                                    format='csv',\n",
        "                                    fields=fields,\n",
        "                                    skip_header=True)\n",
        "print(f'Length of Test Dataset: {len(test_dataset)}')"
      ],
      "metadata": {
        "colab": {
          "base_uri": "https://localhost:8080/"
        },
        "id": "7xPEGVDvPPo6",
        "outputId": "416a6ad8-1ed1-4022-c053-a3c80be52eb2"
      },
      "execution_count": 15,
      "outputs": [
        {
          "output_type": "stream",
          "name": "stdout",
          "text": [
            "Length of Test Dataset: 2000\n"
          ]
        }
      ]
    },
    {
      "cell_type": "markdown",
      "source": [
        "Below, we will build a vocabulary using the `Training Set` for a look up table where every unique word in  the `Training Set` has a corresponding index (an integer).\n",
        "\n",
        "We do this because our deep learning model cannot operate on string, but only on numbers. "
      ],
      "metadata": {
        "id": "fJX2jWm5pZw-"
      }
    },
    {
      "cell_type": "code",
      "source": [
        "MAX_VOCAB_SIZE = 15000\n",
        "TEXT.build_vocab(train_dataset, max_size=MAX_VOCAB_SIZE)\n",
        "LABEL.build_vocab(train_dataset)\n",
        "\n",
        "print(f'Vocab Size: {len(TEXT.vocab)}')\n",
        "print(f'Label size: {len(LABEL.vocab)}')"
      ],
      "metadata": {
        "colab": {
          "base_uri": "https://localhost:8080/"
        },
        "id": "p8ZHT3OdPdkO",
        "outputId": "0e9a4313-95e1-49ad-a383-7c54688d5889"
      },
      "execution_count": 16,
      "outputs": [
        {
          "output_type": "stream",
          "name": "stdout",
          "text": [
            "Vocab Size: 15002\n",
            "Label size: 6\n"
          ]
        }
      ]
    },
    {
      "cell_type": "markdown",
      "source": [
        "**Note: We build vocabulary from the training set only as for our machine learning model we do not want it to look at the test and validation set in any way.**"
      ],
      "metadata": {
        "id": "sRQWhIYcPsPt"
      }
    },
    {
      "cell_type": "markdown",
      "source": [
        "When we feed sentences into our model, we feed a batch of them at a time, i.e more than one at a time and all sentences in the batch need to be of the same size. Thus, to ensure each sentence in the batch is the same size, any shorter than the longest within the batch are padded. \n",
        "\n",
        "For example:\n",
        "\n",
        "![image.png](data:image/png;base64,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)"
      ],
      "metadata": {
        "id": "5OjZqd9EpLuZ"
      }
    },
    {
      "cell_type": "markdown",
      "source": [
        "Here, even though we have defined the vocab size to be a maximum of 15000, but we get a  vocab size of 15002 becasue, the $<unk>$ token and the other $<pad>$ token is added to the vocabulary."
      ],
      "metadata": {
        "id": "RQN-WQsMscmp"
      }
    },
    {
      "cell_type": "markdown",
      "source": [
        "We can see what word is associated with each row by checking the `itos` (int to string) list.\n",
        "\n",
        "Below implies that row 0 is the vector associated with the word $<unk>$, row 1 for $<pad>$, row 2 for 'i', row 3 for 'feel' and so on. \n",
        "\n",
        "The token $<unk>$ are used for those words that appear in examples but not in vocabulary. For example, if the sentence was 'This film is great and I love it' but the word **\"love\"** was not in the vocabulary, then it would become \"This film is great and I $<unk>$ it.\""
      ],
      "metadata": {
        "id": "mit0VpICTBge"
      }
    },
    {
      "cell_type": "code",
      "source": [
        "TEXT.vocab.itos[:10]"
      ],
      "metadata": {
        "colab": {
          "base_uri": "https://localhost:8080/"
        },
        "id": "aLA8iTSvR1RR",
        "outputId": "cda9ec26-7107-4a40-d181-992ddc699e70"
      },
      "execution_count": 17,
      "outputs": [
        {
          "output_type": "execute_result",
          "data": {
            "text/plain": [
              "['<unk>', '<pad>', 'i', 'feel', 'and', 'to', 'the', 'a', 'that', 'feeling']"
            ]
          },
          "metadata": {},
          "execution_count": 17
        }
      ]
    },
    {
      "cell_type": "code",
      "source": [
        "LABEL.vocab.freqs"
      ],
      "metadata": {
        "colab": {
          "base_uri": "https://localhost:8080/"
        },
        "id": "8rb-YQUbS2jj",
        "outputId": "20f236d5-896c-4841-92ef-2e336164d85d"
      },
      "execution_count": 18,
      "outputs": [
        {
          "output_type": "execute_result",
          "data": {
            "text/plain": [
              "Counter({'anger': 2159,\n",
              "         'fear': 1937,\n",
              "         'joy': 5362,\n",
              "         'love': 1304,\n",
              "         'sadness': 4666,\n",
              "         'surprise': 572})"
            ]
          },
          "metadata": {},
          "execution_count": 18
        }
      ]
    },
    {
      "cell_type": "code",
      "source": [
        "top_20_common_words = TEXT.vocab.freqs.most_common(20)\n",
        "top_20_common_words"
      ],
      "metadata": {
        "colab": {
          "base_uri": "https://localhost:8080/"
        },
        "id": "Z1KfQlSKt_ig",
        "outputId": "a9f2526f-0d84-4da1-cc7d-6854e18b8455"
      },
      "execution_count": 19,
      "outputs": [
        {
          "output_type": "execute_result",
          "data": {
            "text/plain": [
              "[('i', 29007),\n",
              " ('feel', 11183),\n",
              " ('and', 9589),\n",
              " ('to', 8972),\n",
              " ('the', 8370),\n",
              " ('a', 6201),\n",
              " ('that', 5217),\n",
              " ('feeling', 5112),\n",
              " ('of', 4990),\n",
              " ('my', 4283),\n",
              " ('in', 3433),\n",
              " ('it', 3133),\n",
              " ('like', 2908),\n",
              " ('m', 2876),\n",
              " ('so', 2527),\n",
              " ('for', 2431),\n",
              " ('was', 2322),\n",
              " ('me', 2309),\n",
              " ('have', 2298),\n",
              " ('but', 2255)]"
            ]
          },
          "metadata": {},
          "execution_count": 19
        }
      ]
    },
    {
      "cell_type": "markdown",
      "source": [
        "### Creating the iterator"
      ],
      "metadata": {
        "id": "7RqBIew6o_IB"
      }
    },
    {
      "cell_type": "markdown",
      "source": [
        "The final step of preparing the data is creating the iterators. We iterate over these in the training/evaluation loop, and they return a batch of examples (indexed and converted into tensors) at each iteration. \n",
        "\n",
        "We will use a `torchtext.data.BucketIterator` which is a special type of iterator that will return a batch of examples where each example is of a similar length, minimizing the amount of padding per example.\n",
        "\n",
        "We will also want to place the tensors returned by the iterator on the GPU. PyTorch handles this using `torch.device`, we then pass this device to the iterator."
      ],
      "metadata": {
        "id": "uKhd8UzTucye"
      }
    },
    {
      "cell_type": "code",
      "source": [
        "BATCH_SIZE = 64\n",
        "\n",
        "train_iterator, val_iterator, test_iterator = data.BucketIterator.splits(\n",
        "                                              (train_dataset, validation_dataset, test_dataset),\n",
        "                                              batch_size=BATCH_SIZE,\n",
        "                                              sort_within_batch=False,          #\n",
        "                                              sort_key=lambda x: len(x.TEXT), # \n",
        "                                              device=device)"
      ],
      "metadata": {
        "id": "yKsmTRz67-Wz"
      },
      "execution_count": 20,
      "outputs": []
    },
    {
      "cell_type": "code",
      "source": [
        "print('Train')\n",
        "for batch in train_iterator:\n",
        "    print(batch.TEXT.size())\n",
        "    print(batch.LABEL.size())\n",
        "    break\n",
        "print('\\n')\n",
        "print('Validation: ')\n",
        "for batch in val_iterator:\n",
        "    print(batch.TEXT.size())\n",
        "    print(batch.LABEL.size())\n",
        "    break\n",
        "print('\\n')\n",
        "print('Test:')\n",
        "for batch in test_iterator:\n",
        "    print(batch.TEXT.size())\n",
        "    print(batch.LABEL.size())\n",
        "    break\n"
      ],
      "metadata": {
        "colab": {
          "base_uri": "https://localhost:8080/"
        },
        "id": "JVTjei3Q9TWU",
        "outputId": "9c7eef89-98d1-4017-fc65-0e38fc8ce6ea"
      },
      "execution_count": 21,
      "outputs": [
        {
          "output_type": "stream",
          "name": "stdout",
          "text": [
            "Train\n",
            "torch.Size([43, 64])\n",
            "torch.Size([64])\n",
            "\n",
            "\n",
            "Validation: \n",
            "torch.Size([5, 64])\n",
            "torch.Size([64])\n",
            "\n",
            "\n",
            "Test:\n",
            "torch.Size([5, 64])\n",
            "torch.Size([64])\n"
          ]
        }
      ]
    },
    {
      "cell_type": "markdown",
      "source": [
        "### Defining the Model"
      ],
      "metadata": {
        "id": "SDhiWpgIDcpo"
      }
    },
    {
      "cell_type": "markdown",
      "source": [
        "For building a LSTM model, we use a sub-class of `nn.Module` and the use of `super`.\n",
        "\n",
        "Within the `__init__` we define the layers for our LSTM module. Out three layers are an embedding layer, our LSTM layer and a linear layer. All layers have their parameters initialized to random values, unless explicitely specified. \n",
        "\n",
        "The embedding layer is used to transform our `sparse one-hot-vector` (sparse as most of the elements are 0) into a dense embedding vector (dense as the dimensionality is a lot smaller and all the elements are real numbers). This embedding layer is simply a single fully connected layer. As well as reducing the dimensionality of the input to the LSTM, there is the theory that words which have similar impact on the sentiment of the review are mapped closed together in this dense vector space. "
      ],
      "metadata": {
        "id": "s2DiejpNEXTt"
      }
    },
    {
      "cell_type": "code",
      "source": [
        "from torch import nn"
      ],
      "metadata": {
        "id": "G6KuXRLEF6QL"
      },
      "execution_count": 22,
      "outputs": []
    },
    {
      "cell_type": "code",
      "source": [
        "class EmotionClassificationModel(nn.Module):\n",
        "    def __init__(self,no_layers, input_dim, embedding_dim, hidden_dim, num_classes =6):\n",
        "        super(EmotionClassificationModel, self).__init__()\n",
        "        self.hidden_dim=hidden_dim\n",
        "        self.no_layers = no_layers\n",
        "        self.input_dim = input_dim\n",
        "\n",
        "        \n",
        "        # embedding andn LSTM layers\n",
        "        # embedding\n",
        "        self.embedding = nn.Embedding(input_dim, embedding_dim)\n",
        "        \n",
        "        #lstm\n",
        "        self.lstm = nn.LSTM(input_size = embedding_dim, hidden_size= self.hidden_dim,\n",
        "                            num_layers = no_layers)\n",
        "\n",
        "        \n",
        "        #dropout layer\n",
        "        self.dropout = nn.Dropout(0.3)\n",
        "\n",
        "        #linear and sigmoid layer\n",
        "        self.fc = nn.Linear(self.hidden_dim, num_classes)\n",
        "\n",
        "\n",
        "\n",
        "\n",
        "    def forward(self,x):\n",
        "        # x = [sentence length, batch size]\n",
        "\n",
        "        # embeddings and lstm_out\n",
        "        embeddings = self.embedding(x)\n",
        "        #embedded dim: [sentence length, batch_size, embedding dim]\n",
        "\n",
        "        # Set initial hidden and cell states\n",
        "        # h0 = torch.zeros((self.no_layers, BATCH_SIZE, self.hidden_dim)).to(device)\n",
        "        # c0 = torch.zeros((self.no_layers, BATCH_SIZE, self.hidden_dim)).to(device)\n",
        "        \n",
        "        # print('\\n')\n",
        "        # print(f'Size of Embedding Layer Output: {embeddings.size()}')\n",
        "\n",
        "        lstm_output, (hidden,cell) = self.lstm(embeddings)\n",
        "        \n",
        "        # lstm_output dim: [sentence length, batch size, hidden dim]\n",
        "        # hidden dim: [1, batch size, hidden dim]\n",
        "\n",
        "        # print('\\n')\n",
        "        # print(f'Size of LSTM Output: {lstm_output.size()}')\n",
        "\n",
        "        #dropout and fully connected layer\n",
        "        hidden = hidden[-1]\n",
        "        hidden = self.dropout(hidden)\n",
        "\n",
        "        \n",
        "        # # sigmoid function\n",
        "        # sig_out = self.sig(out)\n",
        "        \n",
        "        # # reshape to be batch_size first\n",
        "        # sig_out = sig_out.view(batch_size, -1)\n",
        "\n",
        "        # sig_out = sig_out[:, -1] # get last batch of labels\n",
        "\n",
        "        # output= self.fc(output[-1,:,:])\n",
        "        predictions = self.fc(hidden)\n",
        "        \n",
        "        # output = nn.Softmax(output)\n",
        "\n",
        "        # print(f'Size of FC Ouput: {output.size()}')\n",
        "\n",
        "        return predictions\n",
        "\n",
        "\n",
        "    # def init_hidden(self, batch_size=64):\n",
        "    #     '''Initializes hidden state'''\n",
        "    #     #Create two new tensors with sizes n_layers x batch_size x hidden_dim,\n",
        "    #     #Initialized to zero, for hidden state and cell state of LSTM\n",
        "    #     h0 = torch.zeros((self.no_layers, batch_size, self.hidden_dim)).to(device)\n",
        "    #     c0 = torch.zeros((self.no_layers, batch_size, self.hidden_dim)).to(device)\n",
        "\n",
        "    #     hidden = (h0,c0)\n",
        "    #     return hidden"
      ],
      "metadata": {
        "id": "mLR-ZdCrIOxV"
      },
      "execution_count": 23,
      "outputs": []
    },
    {
      "cell_type": "markdown",
      "source": [
        "### Initialize the model"
      ],
      "metadata": {
        "id": "MEUlvgz-Zs04"
      }
    },
    {
      "cell_type": "code",
      "source": [
        "NO_LAYERS  = 2\n",
        "INPUT_DIM = len(TEXT.vocab)\n",
        "EMBEDDING_DIM = 128\n",
        "HIDDEN_DIM = 256\n",
        "OUTPUT_DIM = 6\n",
        "\n",
        "model = EmotionClassificationModel(NO_LAYERS, INPUT_DIM, EMBEDDING_DIM, HIDDEN_DIM, OUTPUT_DIM)\n",
        "model.to(device)"
      ],
      "metadata": {
        "colab": {
          "base_uri": "https://localhost:8080/"
        },
        "id": "_TAOkeVTZvbp",
        "outputId": "0ac6f8bb-585d-4c89-b20b-adb1f220b698"
      },
      "execution_count": 24,
      "outputs": [
        {
          "output_type": "execute_result",
          "data": {
            "text/plain": [
              "EmotionClassificationModel(\n",
              "  (embedding): Embedding(15002, 128)\n",
              "  (lstm): LSTM(128, 256, num_layers=2)\n",
              "  (dropout): Dropout(p=0.3, inplace=False)\n",
              "  (fc): Linear(in_features=256, out_features=6, bias=True)\n",
              ")"
            ]
          },
          "metadata": {},
          "execution_count": 24
        }
      ]
    },
    {
      "cell_type": "code",
      "source": [
        "!pip install torchinfo"
      ],
      "metadata": {
        "colab": {
          "base_uri": "https://localhost:8080/"
        },
        "id": "uIF7t-iDaTMw",
        "outputId": "5a8ff094-87d5-4455-8ccc-0ff5021e5acb"
      },
      "execution_count": 25,
      "outputs": [
        {
          "output_type": "stream",
          "name": "stdout",
          "text": [
            "Collecting torchinfo\n",
            "  Downloading torchinfo-1.6.3-py3-none-any.whl (20 kB)\n",
            "Installing collected packages: torchinfo\n",
            "Successfully installed torchinfo-1.6.3\n"
          ]
        }
      ]
    },
    {
      "cell_type": "code",
      "source": [
        "from torchinfo import summary"
      ],
      "metadata": {
        "id": "EpQIbJ_AZ-Rz"
      },
      "execution_count": 26,
      "outputs": []
    },
    {
      "cell_type": "code",
      "source": [
        "summary(model)"
      ],
      "metadata": {
        "colab": {
          "base_uri": "https://localhost:8080/"
        },
        "id": "rj9cp9H1aSBG",
        "outputId": "7d2f709a-3c8c-4e61-c01a-22e370c9235b"
      },
      "execution_count": 27,
      "outputs": [
        {
          "output_type": "execute_result",
          "data": {
            "text/plain": [
              "=================================================================\n",
              "Layer (type:depth-idx)                   Param #\n",
              "=================================================================\n",
              "EmotionClassificationModel               --\n",
              "├─Embedding: 1-1                         1,920,256\n",
              "├─LSTM: 1-2                              921,600\n",
              "├─Dropout: 1-3                           --\n",
              "├─Linear: 1-4                            1,542\n",
              "=================================================================\n",
              "Total params: 2,843,398\n",
              "Trainable params: 2,843,398\n",
              "Non-trainable params: 0\n",
              "================================================================="
            ]
          },
          "metadata": {},
          "execution_count": 27
        }
      ]
    },
    {
      "cell_type": "markdown",
      "source": [
        "### Define Optimizer and Criterion"
      ],
      "metadata": {
        "id": "2T9OPEdhaYp4"
      }
    },
    {
      "cell_type": "code",
      "source": [
        "from torch.optim import Adam\n",
        "\n",
        "lr = 0.001\n",
        "optimizer = Adam(model.parameters(), lr=lr)\n",
        "\n",
        "#Below we'll define a loss function. We will use a categorical cross entorpy\n",
        "criterion = nn.CrossEntropyLoss()"
      ],
      "metadata": {
        "id": "xydDgVUVaco5"
      },
      "execution_count": 28,
      "outputs": []
    },
    {
      "cell_type": "markdown",
      "source": [
        "### Accuracy Measuring Function"
      ],
      "metadata": {
        "id": "ZRgjIW8-iPqs"
      }
    },
    {
      "cell_type": "code",
      "source": [
        "def batch_accuracy(preds, y):\n",
        "    rounded_preds = torch.round(torch.nn.functional.softmax(preds))\n",
        "    _, pred_idx = rounded_preds.max(1)\n",
        "    correct = (pred_idx==y).float() \n",
        "    acc = correct.sum() / len(y)\n",
        "    return acc"
      ],
      "metadata": {
        "id": "ubuVb2J3iOrZ"
      },
      "execution_count": 29,
      "outputs": []
    },
    {
      "cell_type": "markdown",
      "source": [
        "### Evaluating Function"
      ],
      "metadata": {
        "id": "GUfU5FUcia9h"
      }
    },
    {
      "cell_type": "code",
      "source": [
        "def evaluate(model, iterator, criterion):\n",
        "    total_loss = 0\n",
        "    total_accuracy = 0\n",
        "    model.eval()\n",
        "    with torch.no_grad():\n",
        "        for batch in iterator:\n",
        "            out = model(batch.TEXT.to(device))\n",
        "            scores = out.squeeze(1)\n",
        "\n",
        "            loss = criterion(scores, batch.LABEL.type(torch.LongTensor).to(device))\n",
        "            accuracy = batch_accuracy(scores, batch.LABEL)\n",
        "\n",
        "            total_accuracy+=accuracy.item()\n",
        "            total_loss+=loss.item()\n",
        "\n",
        "    return total_loss/len(iterator), total_accuracy/len(iterator)"
      ],
      "metadata": {
        "id": "dQoN3vIbiaPK"
      },
      "execution_count": 30,
      "outputs": []
    },
    {
      "cell_type": "markdown",
      "source": [
        "### Training Loop"
      ],
      "metadata": {
        "id": "tQNCPf0MgJxI"
      }
    },
    {
      "cell_type": "code",
      "source": [
        "len(train_iterator)"
      ],
      "metadata": {
        "colab": {
          "base_uri": "https://localhost:8080/"
        },
        "id": "zwKYf_WYgwNR",
        "outputId": "072f3762-e490-446e-c803-360388059b0e"
      },
      "execution_count": 31,
      "outputs": [
        {
          "output_type": "execute_result",
          "data": {
            "text/plain": [
              "250"
            ]
          },
          "metadata": {},
          "execution_count": 31
        }
      ]
    },
    {
      "cell_type": "code",
      "source": [
        "from tqdm import tqdm"
      ],
      "metadata": {
        "id": "E9P6EzMEg3kz"
      },
      "execution_count": 32,
      "outputs": []
    },
    {
      "cell_type": "code",
      "source": [
        "NUM_EPOCHS=15\n",
        "count = 0\n",
        "loss_list = []\n",
        "iteration_list = []\n",
        "accuracy_list = []\n",
        "\n",
        "for epoch in range(NUM_EPOCHS):\n",
        "    loop = tqdm(train_iterator,\n",
        "                total=len(train_iterator),\n",
        "                leave=True)\n",
        "    \n",
        "    model.train()\n",
        "    for batch in loop:\n",
        "        x = batch.TEXT.to(device)\n",
        "        y = batch.LABEL.type(torch.LongTensor).to(device)\n",
        "        \n",
        "        #Forward Pass\n",
        "        out = model(x)\n",
        "        loss = criterion(out, y)\n",
        "\n",
        "        # Initializing a gradient as 0 so there is no mixing of gradient among the batches\n",
        "        optimizer.zero_grad()\n",
        "\n",
        "        #Propagating the error backward\n",
        "        loss.backward()\n",
        "\n",
        "        #Optimizing the parameters\n",
        "        optimizer.step()\n",
        "\n",
        "        count+=1\n",
        "\n",
        "        train_acc = batch_accuracy(out, batch.LABEL)\n",
        "\n",
        "        #appedning to list\n",
        "        if count%100==0:\n",
        "            loss_list.append(loss.item())\n",
        "            accuracy_list.append(train_acc.item())\n",
        "            iteration_list.append(count)\n",
        "\n",
        "        # Setting loop descriptions\n",
        "        loop.set_description(f'Epoch [{epoch+1}/{NUM_EPOCHS}]')\n",
        "        loop.set_postfix(loss=loss.item(), train_acc = train_acc.item())\n",
        "        \n",
        "    # val_loss, val_acc = evaluate(model, val_iterator, criterion)\n",
        "    # loop.set_postfix(loss=loss.item(), train_acc=train_acc.item(), val_loss = val_loss, val_acc=val_acc)\n",
        "        \n",
        "print(f'Done Training')"
      ],
      "metadata": {
        "colab": {
          "base_uri": "https://localhost:8080/"
        },
        "id": "-U4DhPdRgxdJ",
        "outputId": "ba8f9e7a-54f8-4429-8712-996dfeb7909f"
      },
      "execution_count": 33,
      "outputs": [
        {
          "output_type": "stream",
          "name": "stderr",
          "text": [
            "\r  0%|          | 0/250 [00:00<?, ?it/s]/usr/local/lib/python3.7/dist-packages/ipykernel_launcher.py:2: UserWarning: Implicit dimension choice for softmax has been deprecated. Change the call to include dim=X as an argument.\n",
            "  \n",
            "Epoch [1/15]: 100%|██████████| 250/250 [00:08<00:00, 27.80it/s, loss=1.54, train_acc=0.453]\n",
            "Epoch [2/15]: 100%|██████████| 250/250 [00:11<00:00, 22.48it/s, loss=1.45, train_acc=0.438]\n",
            "Epoch [3/15]: 100%|██████████| 250/250 [00:10<00:00, 24.77it/s, loss=1.72, train_acc=0.328]\n",
            "Epoch [4/15]: 100%|██████████| 250/250 [00:08<00:00, 28.55it/s, loss=1.67, train_acc=0.281]\n",
            "Epoch [5/15]: 100%|██████████| 250/250 [00:08<00:00, 28.58it/s, loss=1.62, train_acc=0.25]\n",
            "Epoch [6/15]: 100%|██████████| 250/250 [00:08<00:00, 28.70it/s, loss=1.23, train_acc=0.234]\n",
            "Epoch [7/15]: 100%|██████████| 250/250 [00:08<00:00, 28.30it/s, loss=0.844, train_acc=0.594]\n",
            "Epoch [8/15]: 100%|██████████| 250/250 [00:08<00:00, 28.28it/s, loss=0.466, train_acc=0.703]\n",
            "Epoch [9/15]: 100%|██████████| 250/250 [00:08<00:00, 28.62it/s, loss=0.643, train_acc=0.719]\n",
            "Epoch [10/15]: 100%|██████████| 250/250 [00:08<00:00, 28.27it/s, loss=0.406, train_acc=0.75]\n",
            "Epoch [11/15]: 100%|██████████| 250/250 [00:08<00:00, 28.71it/s, loss=0.198, train_acc=0.922]\n",
            "Epoch [12/15]: 100%|██████████| 250/250 [00:08<00:00, 28.31it/s, loss=0.0792, train_acc=0.984]\n",
            "Epoch [13/15]: 100%|██████████| 250/250 [00:08<00:00, 27.92it/s, loss=0.149, train_acc=0.922]\n",
            "Epoch [14/15]: 100%|██████████| 250/250 [00:08<00:00, 28.36it/s, loss=0.0831, train_acc=0.938]\n",
            "Epoch [15/15]: 100%|██████████| 250/250 [00:09<00:00, 26.91it/s, loss=0.0162, train_acc=1]"
          ]
        },
        {
          "output_type": "stream",
          "name": "stdout",
          "text": [
            "Done Training\n"
          ]
        },
        {
          "output_type": "stream",
          "name": "stderr",
          "text": [
            "\n"
          ]
        }
      ]
    },
    {
      "cell_type": "code",
      "source": [
        "len(loss_list), len(accuracy_list), len(iteration_list)"
      ],
      "metadata": {
        "colab": {
          "base_uri": "https://localhost:8080/"
        },
        "id": "Ma0k9KAPZ15E",
        "outputId": "045578f8-4f61-400a-a906-18da3d53ac9f"
      },
      "execution_count": 34,
      "outputs": [
        {
          "output_type": "execute_result",
          "data": {
            "text/plain": [
              "(37, 37, 37)"
            ]
          },
          "metadata": {},
          "execution_count": 34
        }
      ]
    },
    {
      "cell_type": "code",
      "source": [
        "plt.plot(iteration_list, loss_list)\n",
        "plt.xlabel(\"No. of Iteration\")\n",
        "plt.ylabel(\"Loss\")\n",
        "plt.title(\"Iterations vs Loss\")\n",
        "plt.show()"
      ],
      "metadata": {
        "colab": {
          "base_uri": "https://localhost:8080/",
          "height": 295
        },
        "id": "6dc8VRPbZ9Ly",
        "outputId": "1cecddc7-ad2a-4407-ea22-a1ffb1792c9b"
      },
      "execution_count": 35,
      "outputs": [
        {
          "output_type": "display_data",
          "data": {
            "text/plain": [
              "<Figure size 432x288 with 1 Axes>"
            ],
            "image/png": "[encoded data removed]"
          },
          "metadata": {
            "needs_background": "light"
          }
        }
      ]
    },
    {
      "cell_type": "code",
      "source": [
        "plt.plot(iteration_list, accuracy_list)\n",
        "plt.xlabel(\"No. of Iteration\")\n",
        "plt.ylabel(\"Accuracy\")\n",
        "plt.title(\"Iterations vs Accuracy\")\n",
        "plt.show()"
      ],
      "metadata": {
        "colab": {
          "base_uri": "https://localhost:8080/",
          "height": 295
        },
        "id": "wXgI70BGaEnC",
        "outputId": "c521b48a-245f-4c0c-96a0-58ec7e826090"
      },
      "execution_count": 36,
      "outputs": [
        {
          "output_type": "display_data",
          "data": {
            "text/plain": [
              "<Figure size 432x288 with 1 Axes>"
            ],
            "image/png": "[encoded data removed]"
          },
          "metadata": {
            "needs_background": "light"
          }
        }
      ]
    },
    {
      "cell_type": "code",
      "source": [
        "val_loss, val_acc = evaluate(model, val_iterator, criterion)\n",
        "print(f'Validation Loss: {val_loss:.3f} | Validation Accuracy: {val_acc*100:.2f}')"
      ],
      "metadata": {
        "colab": {
          "base_uri": "https://localhost:8080/"
        },
        "id": "duiggFPEIqQg",
        "outputId": "dbf6cae6-54dc-49ab-b0cc-236f3ba5c626"
      },
      "execution_count": 37,
      "outputs": [
        {
          "output_type": "stream",
          "name": "stdout",
          "text": [
            "Validation Loss: 0.457 | Validation Accuracy: 87.01\n"
          ]
        },
        {
          "output_type": "stream",
          "name": "stderr",
          "text": [
            "/usr/local/lib/python3.7/dist-packages/ipykernel_launcher.py:2: UserWarning: Implicit dimension choice for softmax has been deprecated. Change the call to include dim=X as an argument.\n",
            "  \n"
          ]
        }
      ]
    },
    {
      "cell_type": "code",
      "source": [
        "test_loss, test_acc = evaluate(model, test_iterator, criterion)\n",
        "print(f'Test Loss: {test_loss:.3f} | Test Acc: {test_acc*100:.2f}%')"
      ],
      "metadata": {
        "colab": {
          "base_uri": "https://localhost:8080/"
        },
        "id": "p28pKTo1JSgW",
        "outputId": "16d52a8f-d08f-4dee-d67c-b97dffee1698"
      },
      "execution_count": 38,
      "outputs": [
        {
          "output_type": "stream",
          "name": "stderr",
          "text": [
            "/usr/local/lib/python3.7/dist-packages/ipykernel_launcher.py:2: UserWarning: Implicit dimension choice for softmax has been deprecated. Change the call to include dim=X as an argument.\n",
            "  \n"
          ]
        },
        {
          "output_type": "stream",
          "name": "stdout",
          "text": [
            "Test Loss: 0.510 | Test Acc: 86.23%\n"
          ]
        }
      ]
    },
    {
      "cell_type": "markdown",
      "source": [
        "### Generate Resutls\n"
      ],
      "metadata": {
        "id": "GTRGADoa6_4g"
      }
    },
    {
      "cell_type": "code",
      "source": [
        "def predict_sentiment(model, review):\n",
        "    model.eval()\n",
        "    tokens = tokenizer(review)\n",
        "    indexed = [TEXT.vocab.stoi[t] for t in tokens]\n",
        "#     length = [len(indexed)]    \n",
        "    in_tensor = torch.LongTensor(indexed).to(device)\n",
        "    in_tensor = in_tensor.unsqueeze(1)\n",
        "#     length_tensor = torch.LongTensor(le)\n",
        "    pred = torch.nn.functional.softmax(model(in_tensor),dim=1)\n",
        "    _, max_idx = pred.max(1)\n",
        "    return max_idx.item()"
      ],
      "metadata": {
        "id": "hjfHT1Q7_lyU"
      },
      "execution_count": 39,
      "outputs": []
    },
    {
      "cell_type": "code",
      "source": [
        "LABEL.vocab.itos"
      ],
      "metadata": {
        "colab": {
          "base_uri": "https://localhost:8080/"
        },
        "id": "pDD32E4uCHuD",
        "outputId": "77dd1531-9e76-45fa-95ef-1aff4fea3b12"
      },
      "execution_count": 40,
      "outputs": [
        {
          "output_type": "execute_result",
          "data": {
            "text/plain": [
              "['joy', 'sadness', 'anger', 'fear', 'love', 'surprise']"
            ]
          },
          "metadata": {},
          "execution_count": 40
        }
      ]
    },
    {
      "cell_type": "code",
      "source": [
        "result_idx = predict_sentiment(model, 'i hate NLP so much. it makes me furious. never going to study this shit again.')\n",
        "LABEL.vocab.itos[result_idx]"
      ],
      "metadata": {
        "colab": {
          "base_uri": "https://localhost:8080/",
          "height": 35
        },
        "id": "yFgMjvdv_xQw",
        "outputId": "fef089a7-69ed-424c-8a2d-4c990fa7a497"
      },
      "execution_count": 41,
      "outputs": [
        {
          "output_type": "execute_result",
          "data": {
            "text/plain": [
              "'anger'"
            ],
            "application/vnd.google.colaboratory.intrinsic+json": {
              "type": "string"
            }
          },
          "metadata": {},
          "execution_count": 41
        }
      ]
    },
    {
      "cell_type": "code",
      "source": [
        "LABEL.vocab.stoi"
      ],
      "metadata": {
        "colab": {
          "base_uri": "https://localhost:8080/"
        },
        "id": "ABPFsNHpAHQA",
        "outputId": "8b7f1b30-67d9-43b4-f4c9-c017e9d8038b"
      },
      "execution_count": 42,
      "outputs": [
        {
          "output_type": "execute_result",
          "data": {
            "text/plain": [
              "defaultdict(None,\n",
              "            {'anger': 2,\n",
              "             'fear': 3,\n",
              "             'joy': 0,\n",
              "             'love': 4,\n",
              "             'sadness': 1,\n",
              "             'surprise': 5})"
            ]
          },
          "metadata": {},
          "execution_count": 42
        }
      ]
    },
    {
      "cell_type": "code",
      "source": [
        "vars(test_dataset.examples[0])"
      ],
      "metadata": {
        "colab": {
          "base_uri": "https://localhost:8080/"
        },
        "id": "Dho1wmZTC8_J",
        "outputId": "994d9925-d468-4cf1-ed17-a2ab3a549a31"
      },
      "execution_count": 43,
      "outputs": [
        {
          "output_type": "execute_result",
          "data": {
            "text/plain": [
              "{'LABEL': 'sadness',\n",
              " 'TEXT': ['i',\n",
              "  'm',\n",
              "  'feeling',\n",
              "  'rather',\n",
              "  'rotten',\n",
              "  'so',\n",
              "  'i',\n",
              "  'm',\n",
              "  'not',\n",
              "  'very',\n",
              "  'ambitious',\n",
              "  'right',\n",
              "  'now']}"
            ]
          },
          "metadata": {},
          "execution_count": 43
        }
      ]
    },
    {
      "cell_type": "code",
      "source": [
        "result_idx = predict_sentiment(model, 'I am feeling rather rotten so i am not very ambitious right now')\n",
        "LABEL.vocab.itos[result_idx]"
      ],
      "metadata": {
        "colab": {
          "base_uri": "https://localhost:8080/",
          "height": 35
        },
        "id": "0FZPKSbUGggk",
        "outputId": "28a9dc2e-6a6a-43ab-f7de-cd1a4773f13c"
      },
      "execution_count": 44,
      "outputs": [
        {
          "output_type": "execute_result",
          "data": {
            "text/plain": [
              "'sadness'"
            ],
            "application/vnd.google.colaboratory.intrinsic+json": {
              "type": "string"
            }
          },
          "metadata": {},
          "execution_count": 44
        }
      ]
    },
    {
      "cell_type": "code",
      "source": [
        "result_idx = predict_sentiment(model, 'i will practice meditation if i feel overwhelmed and hopefully become successful in peaceful practice')\n",
        "LABEL.vocab.itos[result_idx]"
      ],
      "metadata": {
        "id": "_y1umYXTGoY_",
        "colab": {
          "base_uri": "https://localhost:8080/",
          "height": 35
        },
        "outputId": "96158173-f659-4a6f-d5f6-86d1f0192f5a"
      },
      "execution_count": 45,
      "outputs": [
        {
          "output_type": "execute_result",
          "data": {
            "text/plain": [
              "'surprise'"
            ],
            "application/vnd.google.colaboratory.intrinsic+json": {
              "type": "string"
            }
          },
          "metadata": {},
          "execution_count": 45
        }
      ]
    },
    {
      "cell_type": "code",
      "source": [
        "result_idx = predict_sentiment(model, 'i explain why i clung to a relationship with a boy who was in many ways immature and uncommitted despite the excitement i should have been feeling for getting accepted into the masters program at the university of virginia')\n",
        "LABEL.vocab.itos[result_idx]"
      ],
      "metadata": {
        "colab": {
          "base_uri": "https://localhost:8080/",
          "height": 35
        },
        "id": "umYF5xTmo3m2",
        "outputId": "c761ef1d-7edf-4c18-d661-3b12a9da2bee"
      },
      "execution_count": 46,
      "outputs": [
        {
          "output_type": "execute_result",
          "data": {
            "text/plain": [
              "'joy'"
            ],
            "application/vnd.google.colaboratory.intrinsic+json": {
              "type": "string"
            }
          },
          "metadata": {},
          "execution_count": 46
        }
      ]
    },
    {
      "cell_type": "code",
      "source": [
        "result_idx = predict_sentiment(model, 'im enjoying my solitary confinement at home i rarely feel lonely')\n",
        "LABEL.vocab.itos[result_idx]"
      ],
      "metadata": {
        "colab": {
          "base_uri": "https://localhost:8080/",
          "height": 35
        },
        "id": "AMh77bGKpI4f",
        "outputId": "892eb8c6-3f8b-4735-ca43-0b1231f847b9"
      },
      "execution_count": 47,
      "outputs": [
        {
          "output_type": "execute_result",
          "data": {
            "text/plain": [
              "'sadness'"
            ],
            "application/vnd.google.colaboratory.intrinsic+json": {
              "type": "string"
            }
          },
          "metadata": {},
          "execution_count": 47
        }
      ]
    },
    {
      "cell_type": "markdown",
      "source": [
        "### Gradio Implementation"
      ],
      "metadata": {
        "id": "ZaudlfhwpZIQ"
      }
    },
    {
      "cell_type": "code",
      "source": [
        "!pip install gradio"
      ],
      "metadata": {
        "colab": {
          "base_uri": "https://localhost:8080/"
        },
        "id": "DrTAzQanpnad",
        "outputId": "694468e6-fca6-47a1-8c7f-b31e3dd70e54"
      },
      "execution_count": 48,
      "outputs": [
        {
          "output_type": "stream",
          "name": "stdout",
          "text": [
            "Collecting gradio\n",
            "  Downloading gradio-2.8.10-py3-none-any.whl (659 kB)\n",
            "\u001b[K     |████████████████████████████████| 659 kB 4.0 MB/s \n",
            "\u001b[?25hCollecting fastapi\n",
            "  Downloading fastapi-0.75.0-py3-none-any.whl (54 kB)\n",
            "\u001b[K     |████████████████████████████████| 54 kB 2.8 MB/s \n",
            "\u001b[?25hRequirement already satisfied: numpy in /usr/local/lib/python3.7/dist-packages (from gradio) (1.21.5)\n",
            "Collecting orjson\n",
            "  Downloading orjson-3.6.7-cp37-cp37m-manylinux_2_24_x86_64.whl (255 kB)\n",
            "\u001b[K     |████████████████████████████████| 255 kB 43.4 MB/s \n",
            "\u001b[?25hRequirement already satisfied: pandas in /usr/local/lib/python3.7/dist-packages (from gradio) (1.3.5)\n",
            "Collecting paramiko\n",
            "  Downloading paramiko-2.10.2-py2.py3-none-any.whl (211 kB)\n",
            "\u001b[K     |████████████████████████████████| 211 kB 36.1 MB/s \n",
            "\u001b[?25hCollecting ffmpy\n",
            "  Downloading ffmpy-0.3.0.tar.gz (4.8 kB)\n",
            "Collecting pydub\n",
            "  Downloading pydub-0.25.1-py2.py3-none-any.whl (32 kB)\n",
            "Requirement already satisfied: requests in /usr/local/lib/python3.7/dist-packages (from gradio) (2.23.0)\n",
            "Collecting uvicorn\n",
            "  Downloading uvicorn-0.17.6-py3-none-any.whl (53 kB)\n",
            "\u001b[K     |████████████████████████████████| 53 kB 1.8 MB/s \n",
            "\u001b[?25hCollecting analytics-python\n",
            "  Downloading analytics_python-1.4.0-py2.py3-none-any.whl (15 kB)\n",
            "Collecting python-multipart\n",
            "  Downloading python-multipart-0.0.5.tar.gz (32 kB)\n",
            "Requirement already satisfied: matplotlib in /usr/local/lib/python3.7/dist-packages (from gradio) (3.2.2)\n",
            "Collecting aiohttp\n",
            "  Downloading aiohttp-3.8.1-cp37-cp37m-manylinux_2_5_x86_64.manylinux1_x86_64.manylinux_2_12_x86_64.manylinux2010_x86_64.whl (1.1 MB)\n",
            "\u001b[K     |████████████████████████████████| 1.1 MB 42.1 MB/s \n",
            "\u001b[?25hCollecting markdown-it-py[linkify,plugins]\n",
            "  Downloading markdown_it_py-2.0.1-py3-none-any.whl (84 kB)\n",
            "\u001b[K     |████████████████████████████████| 84 kB 2.1 MB/s \n",
            "\u001b[?25hRequirement already satisfied: pillow in /usr/local/lib/python3.7/dist-packages (from gradio) (7.1.2)\n",
            "Collecting pycryptodome\n",
            "  Downloading pycryptodome-3.14.1-cp35-abi3-manylinux2010_x86_64.whl (2.0 MB)\n",
            "\u001b[K     |████████████████████████████████| 2.0 MB 33.9 MB/s \n",
            "\u001b[?25hCollecting asynctest==0.13.0\n",
            "  Downloading asynctest-0.13.0-py3-none-any.whl (26 kB)\n",
            "Collecting multidict<7.0,>=4.5\n",
            "  Downloading multidict-6.0.2-cp37-cp37m-manylinux_2_17_x86_64.manylinux2014_x86_64.whl (94 kB)\n",
            "\u001b[K     |████████████████████████████████| 94 kB 2.4 MB/s \n",
            "\u001b[?25hRequirement already satisfied: charset-normalizer<3.0,>=2.0 in /usr/local/lib/python3.7/dist-packages (from aiohttp->gradio) (2.0.12)\n",
            "Collecting frozenlist>=1.1.1\n",
            "  Downloading frozenlist-1.3.0-cp37-cp37m-manylinux_2_5_x86_64.manylinux1_x86_64.manylinux_2_17_x86_64.manylinux2014_x86_64.whl (144 kB)\n",
            "\u001b[K     |████████████████████████████████| 144 kB 35.4 MB/s \n",
            "\u001b[?25hRequirement already satisfied: typing-extensions>=3.7.4 in /usr/local/lib/python3.7/dist-packages (from aiohttp->gradio) (3.10.0.2)\n",
            "Collecting aiosignal>=1.1.2\n",
            "  Downloading aiosignal-1.2.0-py3-none-any.whl (8.2 kB)\n",
            "Collecting yarl<2.0,>=1.0\n",
            "  Downloading yarl-1.7.2-cp37-cp37m-manylinux_2_5_x86_64.manylinux1_x86_64.manylinux_2_12_x86_64.manylinux2010_x86_64.whl (271 kB)\n",
            "\u001b[K     |████████████████████████████████| 271 kB 38.0 MB/s \n",
            "\u001b[?25hCollecting async-timeout<5.0,>=4.0.0a3\n",
            "  Downloading async_timeout-4.0.2-py3-none-any.whl (5.8 kB)\n",
            "Requirement already satisfied: attrs>=17.3.0 in /usr/local/lib/python3.7/dist-packages (from aiohttp->gradio) (21.4.0)\n",
            "Requirement already satisfied: idna>=2.0 in /usr/local/lib/python3.7/dist-packages (from yarl<2.0,>=1.0->aiohttp->gradio) (2.10)\n",
            "Requirement already satisfied: python-dateutil>2.1 in /usr/local/lib/python3.7/dist-packages (from analytics-python->gradio) (2.8.2)\n",
            "Requirement already satisfied: six>=1.5 in /usr/local/lib/python3.7/dist-packages (from analytics-python->gradio) (1.15.0)\n",
            "Collecting backoff==1.10.0\n",
            "  Downloading backoff-1.10.0-py2.py3-none-any.whl (31 kB)\n",
            "Collecting monotonic>=1.5\n",
            "  Downloading monotonic-1.6-py2.py3-none-any.whl (8.2 kB)\n",
            "Requirement already satisfied: urllib3!=1.25.0,!=1.25.1,<1.26,>=1.21.1 in /usr/local/lib/python3.7/dist-packages (from requests->gradio) (1.24.3)\n",
            "Requirement already satisfied: chardet<4,>=3.0.2 in /usr/local/lib/python3.7/dist-packages (from requests->gradio) (3.0.4)\n",
            "Requirement already satisfied: certifi>=2017.4.17 in /usr/local/lib/python3.7/dist-packages (from requests->gradio) (2021.10.8)\n",
            "Collecting pydantic!=1.7,!=1.7.1,!=1.7.2,!=1.7.3,!=1.8,!=1.8.1,<2.0.0,>=1.6.2\n",
            "  Downloading pydantic-1.9.0-cp37-cp37m-manylinux_2_17_x86_64.manylinux2014_x86_64.whl (10.9 MB)\n",
            "\u001b[K     |████████████████████████████████| 10.9 MB 19.8 MB/s \n",
            "\u001b[?25hCollecting starlette==0.17.1\n",
            "  Downloading starlette-0.17.1-py3-none-any.whl (58 kB)\n",
            "\u001b[K     |████████████████████████████████| 58 kB 4.9 MB/s \n",
            "\u001b[?25hCollecting anyio<4,>=3.0.0\n",
            "  Downloading anyio-3.5.0-py3-none-any.whl (79 kB)\n",
            "\u001b[K     |████████████████████████████████| 79 kB 3.9 MB/s \n",
            "\u001b[?25hCollecting sniffio>=1.1\n",
            "  Downloading sniffio-1.2.0-py3-none-any.whl (10 kB)\n",
            "Collecting mdurl~=0.1\n",
            "  Downloading mdurl-0.1.0-py3-none-any.whl (11 kB)\n",
            "Collecting mdit-py-plugins\n",
            "  Downloading mdit_py_plugins-0.3.0-py3-none-any.whl (43 kB)\n",
            "\u001b[K     |████████████████████████████████| 43 kB 1.6 MB/s \n",
            "\u001b[?25hCollecting linkify-it-py~=1.0\n",
            "  Downloading linkify_it_py-1.0.3-py3-none-any.whl (19 kB)\n",
            "Collecting uc-micro-py\n",
            "  Downloading uc_micro_py-1.0.1-py3-none-any.whl (6.2 kB)\n",
            "Requirement already satisfied: cycler>=0.10 in /usr/local/lib/python3.7/dist-packages (from matplotlib->gradio) (0.11.0)\n",
            "Requirement already satisfied: kiwisolver>=1.0.1 in /usr/local/lib/python3.7/dist-packages (from matplotlib->gradio) (1.3.2)\n",
            "Requirement already satisfied: pyparsing!=2.0.4,!=2.1.2,!=2.1.6,>=2.0.1 in /usr/local/lib/python3.7/dist-packages (from matplotlib->gradio) (3.0.7)\n",
            "Requirement already satisfied: pytz>=2017.3 in /usr/local/lib/python3.7/dist-packages (from pandas->gradio) (2018.9)\n",
            "Collecting cryptography>=2.5\n",
            "  Downloading cryptography-36.0.1-cp36-abi3-manylinux_2_24_x86_64.whl (3.6 MB)\n",
            "\u001b[K     |████████████████████████████████| 3.6 MB 18.6 MB/s \n",
            "\u001b[?25hCollecting pynacl>=1.0.1\n",
            "  Downloading PyNaCl-1.5.0-cp36-abi3-manylinux_2_17_x86_64.manylinux2014_x86_64.manylinux_2_24_x86_64.whl (856 kB)\n",
            "\u001b[K     |████████████████████████████████| 856 kB 15.5 MB/s \n",
            "\u001b[?25hCollecting bcrypt>=3.1.3\n",
            "  Downloading bcrypt-3.2.0-cp36-abi3-manylinux_2_17_x86_64.manylinux2014_x86_64.manylinux_2_24_x86_64.whl (61 kB)\n",
            "\u001b[K     |████████████████████████████████| 61 kB 430 kB/s \n",
            "\u001b[?25hRequirement already satisfied: cffi>=1.1 in /usr/local/lib/python3.7/dist-packages (from bcrypt>=3.1.3->paramiko->gradio) (1.15.0)\n",
            "Requirement already satisfied: pycparser in /usr/local/lib/python3.7/dist-packages (from cffi>=1.1->bcrypt>=3.1.3->paramiko->gradio) (2.21)\n",
            "Collecting h11>=0.8\n",
            "  Downloading h11-0.13.0-py3-none-any.whl (58 kB)\n",
            "\u001b[K     |████████████████████████████████| 58 kB 3.8 MB/s \n",
            "\u001b[?25hRequirement already satisfied: click>=7.0 in /usr/local/lib/python3.7/dist-packages (from uvicorn->gradio) (7.1.2)\n",
            "Collecting asgiref>=3.4.0\n",
            "  Downloading asgiref-3.5.0-py3-none-any.whl (22 kB)\n",
            "Building wheels for collected packages: ffmpy, python-multipart\n",
            "  Building wheel for ffmpy (setup.py) ... \u001b[?25l\u001b[?25hdone\n",
            "  Created wheel for ffmpy: filename=ffmpy-0.3.0-py3-none-any.whl size=4712 sha256=65d3e43ed95d91e3594b4b87a3c14f8c2c011e457c03382c1de9f11e362a3397\n",
            "  Stored in directory: /root/.cache/pip/wheels/13/e4/6c/e8059816e86796a597c6e6b0d4c880630f51a1fcfa0befd5e6\n",
            "  Building wheel for python-multipart (setup.py) ... \u001b[?25l\u001b[?25hdone\n",
            "  Created wheel for python-multipart: filename=python_multipart-0.0.5-py3-none-any.whl size=31678 sha256=7764cc1af4567e21e77b641a0d6a7eb8702bb724be7f25f2c3d1cf635ced654d\n",
            "  Stored in directory: /root/.cache/pip/wheels/2c/41/7c/bfd1c180534ffdcc0972f78c5758f89881602175d48a8bcd2c\n",
            "Successfully built ffmpy python-multipart\n",
            "Installing collected packages: sniffio, mdurl, uc-micro-py, multidict, markdown-it-py, frozenlist, anyio, yarl, starlette, pynacl, pydantic, monotonic, mdit-py-plugins, linkify-it-py, h11, cryptography, bcrypt, backoff, asynctest, async-timeout, asgiref, aiosignal, uvicorn, python-multipart, pydub, pycryptodome, paramiko, orjson, ffmpy, fastapi, analytics-python, aiohttp, gradio\n",
            "Successfully installed aiohttp-3.8.1 aiosignal-1.2.0 analytics-python-1.4.0 anyio-3.5.0 asgiref-3.5.0 async-timeout-4.0.2 asynctest-0.13.0 backoff-1.10.0 bcrypt-3.2.0 cryptography-36.0.1 fastapi-0.75.0 ffmpy-0.3.0 frozenlist-1.3.0 gradio-2.8.10 h11-0.13.0 linkify-it-py-1.0.3 markdown-it-py-2.0.1 mdit-py-plugins-0.3.0 mdurl-0.1.0 monotonic-1.6 multidict-6.0.2 orjson-3.6.7 paramiko-2.10.2 pycryptodome-3.14.1 pydantic-1.9.0 pydub-0.25.1 pynacl-1.5.0 python-multipart-0.0.5 sniffio-1.2.0 starlette-0.17.1 uc-micro-py-1.0.1 uvicorn-0.17.6 yarl-1.7.2\n"
          ]
        }
      ]
    },
    {
      "cell_type": "code",
      "source": [
        "import gradio as gr"
      ],
      "metadata": {
        "id": "Odto1RFcpo0F"
      },
      "execution_count": 49,
      "outputs": []
    },
    {
      "cell_type": "code",
      "source": [
        "import numpy as np"
      ],
      "metadata": {
        "id": "y5NHvshRfM2i"
      },
      "execution_count": 50,
      "outputs": []
    },
    {
      "cell_type": "code",
      "source": [
        "vars(test_dataset.examples[0])"
      ],
      "metadata": {
        "colab": {
          "base_uri": "https://localhost:8080/"
        },
        "id": "UAhqai6ujyRV",
        "outputId": "3ec63a4a-dc70-4e61-c63e-734638852788"
      },
      "execution_count": 51,
      "outputs": [
        {
          "output_type": "execute_result",
          "data": {
            "text/plain": [
              "{'LABEL': 'sadness',\n",
              " 'TEXT': ['i',\n",
              "  'm',\n",
              "  'feeling',\n",
              "  'rather',\n",
              "  'rotten',\n",
              "  'so',\n",
              "  'i',\n",
              "  'm',\n",
              "  'not',\n",
              "  'very',\n",
              "  'ambitious',\n",
              "  'right',\n",
              "  'now']}"
            ]
          },
          "metadata": {},
          "execution_count": 51
        }
      ]
    },
    {
      "cell_type": "code",
      "source": [
        "vars(test_dataset.examples[np.random.randint(0, len(test_dataset))])['TEXT']"
      ],
      "metadata": {
        "colab": {
          "base_uri": "https://localhost:8080/"
        },
        "id": "GuteGeH9lXBi",
        "outputId": "1dd64519-4fa9-4f1e-c69d-7a55ef5496a0"
      },
      "execution_count": 52,
      "outputs": [
        {
          "output_type": "execute_result",
          "data": {
            "text/plain": [
              "['i', 'really', 'do', 'feel', 'superior']"
            ]
          },
          "metadata": {},
          "execution_count": 52
        }
      ]
    },
    {
      "cell_type": "code",
      "source": [
        "def get_random_text(test_dataset):\n",
        "    random_number = np.random.randint(0, len(test_dataset))\n",
        "    sentence_token = vars(test_dataset.examples[random_number])['TEXT']\n",
        "    label = vars(test_dataset.examples[random_number])['LABEL']\n",
        "    sentence = ' '.join(sentence_token) \n",
        "    return label, sentence"
      ],
      "metadata": {
        "id": "c7e6VPW4lk2w"
      },
      "execution_count": 53,
      "outputs": []
    },
    {
      "cell_type": "code",
      "source": [
        "label, sentence = get_random_text(test_dataset)\n",
        "print(f'LABEL: {label}\\n SENTENCE: {sentence}')"
      ],
      "metadata": {
        "colab": {
          "base_uri": "https://localhost:8080/"
        },
        "id": "-MJO5oTmmDeg",
        "outputId": "37869a7c-4464-43ec-e9e5-dd28a16ead01"
      },
      "execution_count": 54,
      "outputs": [
        {
          "output_type": "stream",
          "name": "stdout",
          "text": [
            "LABEL: love\n",
            " SENTENCE: i love rides but was nt feeling too hot this day\n"
          ]
        }
      ]
    },
    {
      "cell_type": "code",
      "source": [
        "from difflib import Differ\n",
        "\n",
        "import gradio as gr\n",
        "\n",
        "\n",
        "def make_prediction(text):\n",
        "    tokens = tokenizer(text)\n",
        "    index = [TEXT.vocab.stoi[t] for t in tokens]\n",
        "    in_tensor=torch.LongTensor(index).to(device)\n",
        "    in_tensor = in_tensor.unsqueeze(1)\n",
        "    pred =torch.nn.functional.softmax(model(in_tensor), dim=1)\n",
        "    _, max_idx = pred.max(1)\n",
        "    emotion = LABEL.vocab.itos[max_idx.item()]\n",
        "    return emotion\n",
        "\n",
        "iface = gr.Interface(\n",
        "    make_prediction,\n",
        "    [\n",
        "        gr.inputs.Textbox(\n",
        "            lines=3, default='Enter your text here.'\n",
        "        ),\n",
        "    ],\n",
        "    outputs = 'text'\n",
        ")\n",
        "iface.launch()\n"
      ],
      "metadata": {
        "colab": {
          "base_uri": "https://localhost:8080/",
          "height": 647
        },
        "id": "xeQumGuStM1N",
        "outputId": "51d864be-6deb-4a76-8689-f34520678d84"
      },
      "execution_count": 55,
      "outputs": [
        {
          "output_type": "stream",
          "name": "stdout",
          "text": [
            "Colab notebook detected. To show errors in colab notebook, set `debug=True` in `launch()`\n",
            "Running on public URL: https://18629.gradio.app\n",
            "\n",
            "This share link expires in 72 hours. For free permanent hosting, check out Spaces (https://huggingface.co/spaces)\n"
          ]
        },
        {
          "output_type": "display_data",
          "data": {
            "text/plain": [
              "<IPython.lib.display.IFrame at 0x7f98795f3f50>"
            ],
            "text/html": [
              "\n",
              "        <iframe\n",
              "            width=\"900\"\n",
              "            height=\"500\"\n",
              "            src=\"https://18629.gradio.app\"\n",
              "            frameborder=\"0\"\n",
              "            allowfullscreen\n",
              "        ></iframe>\n",
              "        "
            ]
          },
          "metadata": {}
        },
        {
          "output_type": "execute_result",
          "data": {
            "text/plain": [
              "(<fastapi.applications.FastAPI at 0x7f987b4d0710>,\n",
              " 'http://127.0.0.1:7860/',\n",
              " 'https://18629.gradio.app')"
            ]
          },
          "metadata": {},
          "execution_count": 55
        }
      ]
    },
    {
      "cell_type": "code",
      "source": [
        ""
      ],
      "metadata": {
        "id": "-4FJGtRHqevq"
      },
      "execution_count": 55,
      "outputs": []
    }
  ]
}